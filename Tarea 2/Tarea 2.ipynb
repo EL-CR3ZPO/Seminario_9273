{
 "cells": [
  {
   "cell_type": "markdown",
   "id": "5119ae6f",
   "metadata": {},
   "source": [
    "# TAREA 2:\n",
    "\n",
    "\n",
    "\n",
    "1.- Hacer un modelo regresión logistica con woes con la tabla que generaron en la tarea 1.\n",
    "\n",
    "2.- Hacer un árbol de clasificación con la misma tabla que el problema 1. No olviden que tienen que hacer el ajuste de hiperparámetros.\n",
    "\n",
    "3.- Seleccionar con validación cruzada cuál es el mejor modelo de los dos problemas anteriores.\n",
    "\n",
    "4.- Obtener los puntos óptimos de decisión para el modelo seleccionado.\n",
    "\n",
    "En todos los casos obtener: Gini, KS, ROC en entrenamiento y validación.\n",
    "Fecha de entrega: Viernes 7 de enero.\n"
   ]
  },
  {
   "cell_type": "markdown",
   "id": "a75ecf8f",
   "metadata": {},
   "source": [
    "## 1.- Modelo de Regresión Logística con Woes"
   ]
  },
  {
   "cell_type": "code",
   "execution_count": 1,
   "id": "2ee1cda3",
   "metadata": {},
   "outputs": [],
   "source": [
    "# Importamos las herramientas que utilizaremos\n",
    "\n",
    "# Para la regresion logística importamos \n",
    "import pandas as pd\n",
    "from sklearn.model_selection import train_test_split \n",
    "from sklearn.linear_model import LogisticRegression\n",
    "from sklearn.metrics import roc_curve, auc\n",
    "from pylab import*\n",
    "import seaborn as sns\n",
    "\n",
    "# Para los arboles y la validación cruzada importamos \n",
    "from sklearn.impute import SimpleImputer\n",
    "from sklearn.preprocessing import OneHotEncoder\n",
    "from sklearn.compose import ColumnTransformer\n",
    "from sklearn.pipeline import Pipeline\n",
    "from sklearn.tree import DecisionTreeClassifier, export_graphviz\n",
    "from sklearn import metrics\n",
    "import numpy as np"
   ]
  },
  {
   "cell_type": "code",
   "execution_count": 2,
   "id": "56b7515f",
   "metadata": {},
   "outputs": [],
   "source": [
    "# Mandamos a llamar a la base que analizamos en la Tarea 1 esta es la que decidimos que tiene los \n",
    "# criterios necesarios y a la que se le hará la regresión. \n",
    "\n",
    "ruta = \"C:/Users/cresp/Documents/GitHub/Seminario_9273/Tarea 2/\"\n",
    "base = \"Base_clientes.csv\"\n",
    "bd = pd.read_csv(ruta+base)"
   ]
  },
  {
   "cell_type": "code",
   "execution_count": 3,
   "id": "4d7bbd48",
   "metadata": {},
   "outputs": [
    {
     "data": {
      "text/html": [
       "<div>\n",
       "<style scoped>\n",
       "    .dataframe tbody tr th:only-of-type {\n",
       "        vertical-align: middle;\n",
       "    }\n",
       "\n",
       "    .dataframe tbody tr th {\n",
       "        vertical-align: top;\n",
       "    }\n",
       "\n",
       "    .dataframe thead th {\n",
       "        text-align: right;\n",
       "    }\n",
       "</style>\n",
       "<table border=\"1\" class=\"dataframe\">\n",
       "  <thead>\n",
       "    <tr style=\"text-align: right;\">\n",
       "      <th></th>\n",
       "      <th>Unnamed: 0</th>\n",
       "      <th>num_caso</th>\n",
       "      <th>edad_credit</th>\n",
       "      <th>retrasos_max</th>\n",
       "      <th>comp_interno1</th>\n",
       "      <th>Otorgar</th>\n",
       "    </tr>\n",
       "  </thead>\n",
       "  <tbody>\n",
       "    <tr>\n",
       "      <th>0</th>\n",
       "      <td>0</td>\n",
       "      <td>1</td>\n",
       "      <td>62.0</td>\n",
       "      <td>1.0</td>\n",
       "      <td>3039.513678</td>\n",
       "      <td>1.0</td>\n",
       "    </tr>\n",
       "    <tr>\n",
       "      <th>1</th>\n",
       "      <td>1</td>\n",
       "      <td>7</td>\n",
       "      <td>29.0</td>\n",
       "      <td>6.0</td>\n",
       "      <td>1547.112462</td>\n",
       "      <td>1.0</td>\n",
       "    </tr>\n",
       "    <tr>\n",
       "      <th>2</th>\n",
       "      <td>2</td>\n",
       "      <td>8</td>\n",
       "      <td>63.0</td>\n",
       "      <td>1.0</td>\n",
       "      <td>1215.805471</td>\n",
       "      <td>1.0</td>\n",
       "    </tr>\n",
       "    <tr>\n",
       "      <th>3</th>\n",
       "      <td>3</td>\n",
       "      <td>9</td>\n",
       "      <td>15.0</td>\n",
       "      <td>0.0</td>\n",
       "      <td>0.000000</td>\n",
       "      <td>1.0</td>\n",
       "    </tr>\n",
       "    <tr>\n",
       "      <th>4</th>\n",
       "      <td>4</td>\n",
       "      <td>10</td>\n",
       "      <td>16.0</td>\n",
       "      <td>1.0</td>\n",
       "      <td>0.000000</td>\n",
       "      <td>1.0</td>\n",
       "    </tr>\n",
       "  </tbody>\n",
       "</table>\n",
       "</div>"
      ],
      "text/plain": [
       "   Unnamed: 0  num_caso  edad_credit  retrasos_max  comp_interno1  Otorgar\n",
       "0           0         1         62.0           1.0    3039.513678      1.0\n",
       "1           1         7         29.0           6.0    1547.112462      1.0\n",
       "2           2         8         63.0           1.0    1215.805471      1.0\n",
       "3           3         9         15.0           0.0       0.000000      1.0\n",
       "4           4        10         16.0           1.0       0.000000      1.0"
      ]
     },
     "execution_count": 3,
     "metadata": {},
     "output_type": "execute_result"
    }
   ],
   "source": [
    "bd.head()"
   ]
  },
  {
   "cell_type": "markdown",
   "id": "bce66ee5",
   "metadata": {},
   "source": [
    "El proposito de agregar la columna \"Otorgar\" es el de servir como variable de respuesta, necesitamos esta variable de respuesta para empezar a contruir el modelo de regresión logistica "
   ]
  },
  {
   "cell_type": "code",
   "execution_count": 4,
   "id": "c32c5616",
   "metadata": {},
   "outputs": [
    {
     "name": "stdout",
     "output_type": "stream",
     "text": [
      "<class 'pandas.core.frame.DataFrame'>\n",
      "RangeIndex: 50000 entries, 0 to 49999\n",
      "Data columns (total 6 columns):\n",
      " #   Column         Non-Null Count  Dtype  \n",
      "---  ------         --------------  -----  \n",
      " 0   Unnamed: 0     50000 non-null  int64  \n",
      " 1   num_caso       50000 non-null  int64  \n",
      " 2   edad_credit    50000 non-null  float64\n",
      " 3   retrasos_max   50000 non-null  float64\n",
      " 4   comp_interno1  50000 non-null  float64\n",
      " 5   Otorgar        50000 non-null  float64\n",
      "dtypes: float64(4), int64(2)\n",
      "memory usage: 2.3 MB\n"
     ]
    }
   ],
   "source": [
    "bd.info()"
   ]
  },
  {
   "cell_type": "code",
   "execution_count": 5,
   "id": "7658b4c3",
   "metadata": {},
   "outputs": [],
   "source": [
    "# Esta librería requiere tener instalada una version reciente de jupyter y visual studio \n",
    "from optbinning import OptimalBinning"
   ]
  },
  {
   "cell_type": "code",
   "execution_count": 6,
   "id": "6546ce9d",
   "metadata": {},
   "outputs": [],
   "source": [
    "# Los datos se dividen en train y test\n",
    "train, test = train_test_split(bd, test_size = 0.30, random_state = 100) "
   ]
  },
  {
   "cell_type": "code",
   "execution_count": 7,
   "id": "db71d531",
   "metadata": {},
   "outputs": [
    {
     "name": "stdout",
     "output_type": "stream",
     "text": [
      "<class 'pandas.core.frame.DataFrame'>\n",
      "Int64Index: 35000 entries, 48824 to 38408\n",
      "Data columns (total 6 columns):\n",
      " #   Column         Non-Null Count  Dtype  \n",
      "---  ------         --------------  -----  \n",
      " 0   Unnamed: 0     35000 non-null  int64  \n",
      " 1   num_caso       35000 non-null  int64  \n",
      " 2   edad_credit    35000 non-null  float64\n",
      " 3   retrasos_max   35000 non-null  float64\n",
      " 4   comp_interno1  35000 non-null  float64\n",
      " 5   Otorgar        35000 non-null  float64\n",
      "dtypes: float64(4), int64(2)\n",
      "memory usage: 1.9 MB\n"
     ]
    }
   ],
   "source": [
    "train.info()"
   ]
  },
  {
   "cell_type": "code",
   "execution_count": 8,
   "id": "32db10b7",
   "metadata": {},
   "outputs": [
    {
     "name": "stdout",
     "output_type": "stream",
     "text": [
      "<class 'pandas.core.frame.DataFrame'>\n",
      "Int64Index: 15000 entries, 4253 to 25776\n",
      "Data columns (total 6 columns):\n",
      " #   Column         Non-Null Count  Dtype  \n",
      "---  ------         --------------  -----  \n",
      " 0   Unnamed: 0     15000 non-null  int64  \n",
      " 1   num_caso       15000 non-null  int64  \n",
      " 2   edad_credit    15000 non-null  float64\n",
      " 3   retrasos_max   15000 non-null  float64\n",
      " 4   comp_interno1  15000 non-null  float64\n",
      " 5   Otorgar        15000 non-null  float64\n",
      "dtypes: float64(4), int64(2)\n",
      "memory usage: 820.3 KB\n"
     ]
    }
   ],
   "source": [
    "test.info()"
   ]
  },
  {
   "cell_type": "code",
   "execution_count": 9,
   "id": "7e81390d",
   "metadata": {},
   "outputs": [],
   "source": [
    "y = train.Otorgar"
   ]
  },
  {
   "cell_type": "code",
   "execution_count": 10,
   "id": "6c4ce808",
   "metadata": {},
   "outputs": [
    {
     "name": "stdout",
     "output_type": "stream",
     "text": [
      "['Unnamed: 0', 'num_caso', 'edad_credit', 'retrasos_max', 'comp_interno1', 'Otorgar']\n"
     ]
    }
   ],
   "source": [
    "columnas = list(bd.columns.values)\n",
    "print(columnas)"
   ]
  },
  {
   "cell_type": "code",
   "execution_count": 11,
   "id": "aa23ab62",
   "metadata": {},
   "outputs": [],
   "source": [
    "#columnas.remove(\"Otorgar\")"
   ]
  },
  {
   "cell_type": "code",
   "execution_count": 12,
   "id": "7891b268",
   "metadata": {},
   "outputs": [
    {
     "data": {
      "text/plain": [
       "['Unnamed: 0',\n",
       " 'num_caso',\n",
       " 'edad_credit',\n",
       " 'retrasos_max',\n",
       " 'comp_interno1',\n",
       " 'Otorgar']"
      ]
     },
     "execution_count": 12,
     "metadata": {},
     "output_type": "execute_result"
    }
   ],
   "source": [
    "columnas"
   ]
  },
  {
   "cell_type": "code",
   "execution_count": 13,
   "id": "4bdebbab",
   "metadata": {},
   "outputs": [
    {
     "data": {
      "text/html": [
       "<div>\n",
       "<style scoped>\n",
       "    .dataframe tbody tr th:only-of-type {\n",
       "        vertical-align: middle;\n",
       "    }\n",
       "\n",
       "    .dataframe tbody tr th {\n",
       "        vertical-align: top;\n",
       "    }\n",
       "\n",
       "    .dataframe thead th {\n",
       "        text-align: right;\n",
       "    }\n",
       "</style>\n",
       "<table border=\"1\" class=\"dataframe\">\n",
       "  <thead>\n",
       "    <tr style=\"text-align: right;\">\n",
       "      <th></th>\n",
       "      <th>Unnamed: 0</th>\n",
       "      <th>num_caso</th>\n",
       "      <th>edad_credit</th>\n",
       "      <th>retrasos_max</th>\n",
       "      <th>comp_interno1</th>\n",
       "      <th>Otorgar</th>\n",
       "    </tr>\n",
       "  </thead>\n",
       "  <tbody>\n",
       "    <tr>\n",
       "      <th>0</th>\n",
       "      <td>0</td>\n",
       "      <td>1</td>\n",
       "      <td>62.0</td>\n",
       "      <td>1.0</td>\n",
       "      <td>3039.513678</td>\n",
       "      <td>1.0</td>\n",
       "    </tr>\n",
       "    <tr>\n",
       "      <th>1</th>\n",
       "      <td>1</td>\n",
       "      <td>7</td>\n",
       "      <td>29.0</td>\n",
       "      <td>6.0</td>\n",
       "      <td>1547.112462</td>\n",
       "      <td>1.0</td>\n",
       "    </tr>\n",
       "    <tr>\n",
       "      <th>2</th>\n",
       "      <td>2</td>\n",
       "      <td>8</td>\n",
       "      <td>63.0</td>\n",
       "      <td>1.0</td>\n",
       "      <td>1215.805471</td>\n",
       "      <td>1.0</td>\n",
       "    </tr>\n",
       "    <tr>\n",
       "      <th>3</th>\n",
       "      <td>3</td>\n",
       "      <td>9</td>\n",
       "      <td>15.0</td>\n",
       "      <td>0.0</td>\n",
       "      <td>0.000000</td>\n",
       "      <td>1.0</td>\n",
       "    </tr>\n",
       "    <tr>\n",
       "      <th>4</th>\n",
       "      <td>4</td>\n",
       "      <td>10</td>\n",
       "      <td>16.0</td>\n",
       "      <td>1.0</td>\n",
       "      <td>0.000000</td>\n",
       "      <td>1.0</td>\n",
       "    </tr>\n",
       "  </tbody>\n",
       "</table>\n",
       "</div>"
      ],
      "text/plain": [
       "   Unnamed: 0  num_caso  edad_credit  retrasos_max  comp_interno1  Otorgar\n",
       "0           0         1         62.0           1.0    3039.513678      1.0\n",
       "1           1         7         29.0           6.0    1547.112462      1.0\n",
       "2           2         8         63.0           1.0    1215.805471      1.0\n",
       "3           3         9         15.0           0.0       0.000000      1.0\n",
       "4           4        10         16.0           1.0       0.000000      1.0"
      ]
     },
     "execution_count": 13,
     "metadata": {},
     "output_type": "execute_result"
    }
   ],
   "source": [
    "bd.head()"
   ]
  },
  {
   "cell_type": "code",
   "execution_count": 14,
   "id": "6d1609dc",
   "metadata": {},
   "outputs": [
    {
     "data": {
      "text/html": [
       "<div>\n",
       "<style scoped>\n",
       "    .dataframe tbody tr th:only-of-type {\n",
       "        vertical-align: middle;\n",
       "    }\n",
       "\n",
       "    .dataframe tbody tr th {\n",
       "        vertical-align: top;\n",
       "    }\n",
       "\n",
       "    .dataframe thead th {\n",
       "        text-align: right;\n",
       "    }\n",
       "</style>\n",
       "<table border=\"1\" class=\"dataframe\">\n",
       "  <thead>\n",
       "    <tr style=\"text-align: right;\">\n",
       "      <th></th>\n",
       "      <th>Unnamed: 0</th>\n",
       "      <th>num_caso</th>\n",
       "      <th>edad_credit</th>\n",
       "      <th>retrasos_max</th>\n",
       "      <th>comp_interno1</th>\n",
       "      <th>Otorgar</th>\n",
       "    </tr>\n",
       "  </thead>\n",
       "  <tbody>\n",
       "    <tr>\n",
       "      <th>48824</th>\n",
       "      <td>48824</td>\n",
       "      <td>97564</td>\n",
       "      <td>2.0</td>\n",
       "      <td>0.0</td>\n",
       "      <td>0.000000</td>\n",
       "      <td>1.0</td>\n",
       "    </tr>\n",
       "    <tr>\n",
       "      <th>2704</th>\n",
       "      <td>2704</td>\n",
       "      <td>5448</td>\n",
       "      <td>5.0</td>\n",
       "      <td>0.0</td>\n",
       "      <td>0.000000</td>\n",
       "      <td>1.0</td>\n",
       "    </tr>\n",
       "    <tr>\n",
       "      <th>25631</th>\n",
       "      <td>25631</td>\n",
       "      <td>50932</td>\n",
       "      <td>34.0</td>\n",
       "      <td>1.0</td>\n",
       "      <td>0.000000</td>\n",
       "      <td>1.0</td>\n",
       "    </tr>\n",
       "    <tr>\n",
       "      <th>7285</th>\n",
       "      <td>7285</td>\n",
       "      <td>14569</td>\n",
       "      <td>51.0</td>\n",
       "      <td>1.0</td>\n",
       "      <td>354.609929</td>\n",
       "      <td>1.0</td>\n",
       "    </tr>\n",
       "    <tr>\n",
       "      <th>27346</th>\n",
       "      <td>27346</td>\n",
       "      <td>54236</td>\n",
       "      <td>31.0</td>\n",
       "      <td>1.0</td>\n",
       "      <td>506.585613</td>\n",
       "      <td>1.0</td>\n",
       "    </tr>\n",
       "  </tbody>\n",
       "</table>\n",
       "</div>"
      ],
      "text/plain": [
       "       Unnamed: 0  num_caso  edad_credit  retrasos_max  comp_interno1  Otorgar\n",
       "48824       48824     97564          2.0           0.0       0.000000      1.0\n",
       "2704         2704      5448          5.0           0.0       0.000000      1.0\n",
       "25631       25631     50932         34.0           1.0       0.000000      1.0\n",
       "7285         7285     14569         51.0           1.0     354.609929      1.0\n",
       "27346       27346     54236         31.0           1.0     506.585613      1.0"
      ]
     },
     "execution_count": 14,
     "metadata": {},
     "output_type": "execute_result"
    }
   ],
   "source": [
    "train.head()"
   ]
  },
  {
   "cell_type": "code",
   "execution_count": 15,
   "id": "ff239057",
   "metadata": {},
   "outputs": [],
   "source": [
    "optb_num_caso = OptimalBinning(name=\"num_caso\", dtype=\"numerical\", solver=\"cp\")\n",
    "optb_edad_credit = OptimalBinning(name=\"edad_credit\", dtype=\"categorical\", solver=\"cp\",)\n",
    "optb_retrasos_max = OptimalBinning(name=\"retrasos_max\", dtype=\"numerical\", solver=\"cp\")\n",
    "optb_comp_interno1 = OptimalBinning(name=\"comp_interno1\", dtype=\"numerical\", solver=\"cp\")"
   ]
  },
  {
   "cell_type": "code",
   "execution_count": 16,
   "id": "0dcdc36d",
   "metadata": {},
   "outputs": [
    {
     "data": {
      "text/plain": [
       "OptimalBinning(name='comp_interno1')"
      ]
     },
     "execution_count": 16,
     "metadata": {},
     "output_type": "execute_result"
    }
   ],
   "source": [
    "optb_num_caso.fit(train[\"num_caso\"].values, y)\n",
    "optb_edad_credit.fit(train[\"edad_credit\"].values, y)\n",
    "optb_retrasos_max.fit(train[\"retrasos_max\"].values, y)\n",
    "optb_comp_interno1.fit(train[\"comp_interno1\"].values, y)"
   ]
  },
  {
   "cell_type": "markdown",
   "id": "c3dc3641",
   "metadata": {},
   "source": [
    "A continuación se muestran las cotas superiores e inferiores de cada categoría o columna en las cuales podemos apreciar los rangos de cada una. "
   ]
  },
  {
   "cell_type": "code",
   "execution_count": 17,
   "id": "f23abfa0",
   "metadata": {},
   "outputs": [
    {
     "data": {
      "text/plain": [
       "array([55386.5, 66023.5, 72151.5, 78853.5, 84238. , 89131. , 94018. ])"
      ]
     },
     "metadata": {},
     "output_type": "display_data"
    },
    {
     "data": {
      "text/plain": [
       "[array([ 0., 12., 25., 14.]),\n",
       " array([13., 17., 15., 16.]),\n",
       " array([19., 23., 20.]),\n",
       " array([22., 24., 18., 26.]),\n",
       " array([11., 10., 21.]),\n",
       " array([ 9.,  3.,  8., 40., 28.,  5.]),\n",
       " array([ 6., 47., 48., 49., 50., 51., 52., 53., 54., 57., 56., 58., 59.,\n",
       "        63., 62., 61., 46., 60., 55., 45., 32., 43.,  1.,  2.,  4.,  7.,\n",
       "        27., 29., 30., 31., 44., 64., 34., 35., 36., 37., 38., 39., 41.,\n",
       "        42., 33., 65.])]"
      ]
     },
     "metadata": {},
     "output_type": "display_data"
    },
    {
     "data": {
      "text/plain": [
       "array([0.5])"
      ]
     },
     "metadata": {},
     "output_type": "display_data"
    },
    {
     "data": {
      "text/plain": [
       "array([1265.4508667 , 1963.01922607, 2710.23303223])"
      ]
     },
     "metadata": {},
     "output_type": "display_data"
    }
   ],
   "source": [
    "display(optb_num_caso.splits)\n",
    "display(optb_edad_credit.splits)\n",
    "display(optb_retrasos_max.splits)\n",
    "display(optb_comp_interno1.splits)"
   ]
  },
  {
   "cell_type": "code",
   "execution_count": 18,
   "id": "f033d9f2",
   "metadata": {},
   "outputs": [],
   "source": [
    "num_caso_table = optb_num_caso.binning_table\n",
    "edad_credit_table = optb_edad_credit.binning_table\n",
    "retrasos_max_table = optb_retrasos_max.binning_table\n",
    "comp_interno1_table = optb_comp_interno1.binning_table"
   ]
  },
  {
   "cell_type": "markdown",
   "id": "0a782380",
   "metadata": {},
   "source": [
    "Ahora procedemos a mostrar las tablas que se crean de aplicar la construcción, estas tablas resultan de gran ayuda ya que con ellas calculamos los WoE's"
   ]
  },
  {
   "cell_type": "code",
   "execution_count": 19,
   "id": "3d62d792",
   "metadata": {},
   "outputs": [
    {
     "data": {
      "text/html": [
       "<div>\n",
       "<style scoped>\n",
       "    .dataframe tbody tr th:only-of-type {\n",
       "        vertical-align: middle;\n",
       "    }\n",
       "\n",
       "    .dataframe tbody tr th {\n",
       "        vertical-align: top;\n",
       "    }\n",
       "\n",
       "    .dataframe thead th {\n",
       "        text-align: right;\n",
       "    }\n",
       "</style>\n",
       "<table border=\"1\" class=\"dataframe\">\n",
       "  <thead>\n",
       "    <tr style=\"text-align: right;\">\n",
       "      <th></th>\n",
       "      <th>Bin</th>\n",
       "      <th>Count</th>\n",
       "      <th>Count (%)</th>\n",
       "      <th>Non-event</th>\n",
       "      <th>Event</th>\n",
       "      <th>Event rate</th>\n",
       "      <th>WoE</th>\n",
       "      <th>IV</th>\n",
       "      <th>JS</th>\n",
       "    </tr>\n",
       "  </thead>\n",
       "  <tbody>\n",
       "    <tr>\n",
       "      <th>0</th>\n",
       "      <td>(-inf, 55386.50)</td>\n",
       "      <td>19589</td>\n",
       "      <td>0.559686</td>\n",
       "      <td>287</td>\n",
       "      <td>19302</td>\n",
       "      <td>0.985349</td>\n",
       "      <td>-0.374778</td>\n",
       "      <td>0.065998</td>\n",
       "      <td>0.008202</td>\n",
       "    </tr>\n",
       "    <tr>\n",
       "      <th>1</th>\n",
       "      <td>[55386.50, 66023.50)</td>\n",
       "      <td>3744</td>\n",
       "      <td>0.106971</td>\n",
       "      <td>48</td>\n",
       "      <td>3696</td>\n",
       "      <td>0.987179</td>\n",
       "      <td>-0.510101</td>\n",
       "      <td>0.021989</td>\n",
       "      <td>0.002719</td>\n",
       "    </tr>\n",
       "    <tr>\n",
       "      <th>2</th>\n",
       "      <td>[66023.50, 72151.50)</td>\n",
       "      <td>2220</td>\n",
       "      <td>0.063429</td>\n",
       "      <td>25</td>\n",
       "      <td>2195</td>\n",
       "      <td>0.988739</td>\n",
       "      <td>-0.641358</td>\n",
       "      <td>0.019454</td>\n",
       "      <td>0.002391</td>\n",
       "    </tr>\n",
       "    <tr>\n",
       "      <th>3</th>\n",
       "      <td>[72151.50, 78853.50)</td>\n",
       "      <td>2285</td>\n",
       "      <td>0.065286</td>\n",
       "      <td>22</td>\n",
       "      <td>2263</td>\n",
       "      <td>0.990372</td>\n",
       "      <td>-0.7997</td>\n",
       "      <td>0.029082</td>\n",
       "      <td>0.003541</td>\n",
       "    </tr>\n",
       "    <tr>\n",
       "      <th>4</th>\n",
       "      <td>[78853.50, 84238.00)</td>\n",
       "      <td>1909</td>\n",
       "      <td>0.054543</td>\n",
       "      <td>6</td>\n",
       "      <td>1903</td>\n",
       "      <td>0.996857</td>\n",
       "      <td>-1.925723</td>\n",
       "      <td>0.091376</td>\n",
       "      <td>0.009931</td>\n",
       "    </tr>\n",
       "    <tr>\n",
       "      <th>5</th>\n",
       "      <td>[84238.00, 89131.00)</td>\n",
       "      <td>1750</td>\n",
       "      <td>0.050000</td>\n",
       "      <td>18</td>\n",
       "      <td>1732</td>\n",
       "      <td>0.989714</td>\n",
       "      <td>-0.732956</td>\n",
       "      <td>0.019251</td>\n",
       "      <td>0.002354</td>\n",
       "    </tr>\n",
       "    <tr>\n",
       "      <th>6</th>\n",
       "      <td>[89131.00, 94018.00)</td>\n",
       "      <td>1750</td>\n",
       "      <td>0.050000</td>\n",
       "      <td>50</td>\n",
       "      <td>1700</td>\n",
       "      <td>0.971429</td>\n",
       "      <td>0.307343</td>\n",
       "      <td>0.005487</td>\n",
       "      <td>0.000683</td>\n",
       "    </tr>\n",
       "    <tr>\n",
       "      <th>7</th>\n",
       "      <td>[94018.00, inf)</td>\n",
       "      <td>1753</td>\n",
       "      <td>0.050086</td>\n",
       "      <td>285</td>\n",
       "      <td>1468</td>\n",
       "      <td>0.837422</td>\n",
       "      <td>2.194537</td>\n",
       "      <td>0.750017</td>\n",
       "      <td>0.078554</td>\n",
       "    </tr>\n",
       "    <tr>\n",
       "      <th>8</th>\n",
       "      <td>Special</td>\n",
       "      <td>0</td>\n",
       "      <td>0.000000</td>\n",
       "      <td>0</td>\n",
       "      <td>0</td>\n",
       "      <td>0.000000</td>\n",
       "      <td>0.0</td>\n",
       "      <td>0.000000</td>\n",
       "      <td>0.000000</td>\n",
       "    </tr>\n",
       "    <tr>\n",
       "      <th>9</th>\n",
       "      <td>Missing</td>\n",
       "      <td>0</td>\n",
       "      <td>0.000000</td>\n",
       "      <td>0</td>\n",
       "      <td>0</td>\n",
       "      <td>0.000000</td>\n",
       "      <td>0.0</td>\n",
       "      <td>0.000000</td>\n",
       "      <td>0.000000</td>\n",
       "    </tr>\n",
       "    <tr>\n",
       "      <th>Totals</th>\n",
       "      <td></td>\n",
       "      <td>35000</td>\n",
       "      <td>1.000000</td>\n",
       "      <td>741</td>\n",
       "      <td>34259</td>\n",
       "      <td>0.978829</td>\n",
       "      <td></td>\n",
       "      <td>1.002654</td>\n",
       "      <td>0.108375</td>\n",
       "    </tr>\n",
       "  </tbody>\n",
       "</table>\n",
       "</div>"
      ],
      "text/plain": [
       "                         Bin  Count  Count (%)  Non-event  Event  Event rate  \\\n",
       "0           (-inf, 55386.50)  19589   0.559686        287  19302    0.985349   \n",
       "1       [55386.50, 66023.50)   3744   0.106971         48   3696    0.987179   \n",
       "2       [66023.50, 72151.50)   2220   0.063429         25   2195    0.988739   \n",
       "3       [72151.50, 78853.50)   2285   0.065286         22   2263    0.990372   \n",
       "4       [78853.50, 84238.00)   1909   0.054543          6   1903    0.996857   \n",
       "5       [84238.00, 89131.00)   1750   0.050000         18   1732    0.989714   \n",
       "6       [89131.00, 94018.00)   1750   0.050000         50   1700    0.971429   \n",
       "7            [94018.00, inf)   1753   0.050086        285   1468    0.837422   \n",
       "8                    Special      0   0.000000          0      0    0.000000   \n",
       "9                    Missing      0   0.000000          0      0    0.000000   \n",
       "Totals                        35000   1.000000        741  34259    0.978829   \n",
       "\n",
       "             WoE        IV        JS  \n",
       "0      -0.374778  0.065998  0.008202  \n",
       "1      -0.510101  0.021989  0.002719  \n",
       "2      -0.641358  0.019454  0.002391  \n",
       "3        -0.7997  0.029082  0.003541  \n",
       "4      -1.925723  0.091376  0.009931  \n",
       "5      -0.732956  0.019251  0.002354  \n",
       "6       0.307343  0.005487  0.000683  \n",
       "7       2.194537  0.750017  0.078554  \n",
       "8            0.0  0.000000  0.000000  \n",
       "9            0.0  0.000000  0.000000  \n",
       "Totals            1.002654  0.108375  "
      ]
     },
     "metadata": {},
     "output_type": "display_data"
    },
    {
     "data": {
      "text/html": [
       "<div>\n",
       "<style scoped>\n",
       "    .dataframe tbody tr th:only-of-type {\n",
       "        vertical-align: middle;\n",
       "    }\n",
       "\n",
       "    .dataframe tbody tr th {\n",
       "        vertical-align: top;\n",
       "    }\n",
       "\n",
       "    .dataframe thead th {\n",
       "        text-align: right;\n",
       "    }\n",
       "</style>\n",
       "<table border=\"1\" class=\"dataframe\">\n",
       "  <thead>\n",
       "    <tr style=\"text-align: right;\">\n",
       "      <th></th>\n",
       "      <th>Bin</th>\n",
       "      <th>Count</th>\n",
       "      <th>Count (%)</th>\n",
       "      <th>Non-event</th>\n",
       "      <th>Event</th>\n",
       "      <th>Event rate</th>\n",
       "      <th>WoE</th>\n",
       "      <th>IV</th>\n",
       "      <th>JS</th>\n",
       "    </tr>\n",
       "  </thead>\n",
       "  <tbody>\n",
       "    <tr>\n",
       "      <th>0</th>\n",
       "      <td>[0.0, 12.0, 25.0, 14.0]</td>\n",
       "      <td>2287</td>\n",
       "      <td>0.065343</td>\n",
       "      <td>484</td>\n",
       "      <td>1803</td>\n",
       "      <td>0.788369</td>\n",
       "      <td>2.518582</td>\n",
       "      <td>1.512516</td>\n",
       "      <td>0.150990</td>\n",
       "    </tr>\n",
       "    <tr>\n",
       "      <th>1</th>\n",
       "      <td>[13.0, 17.0, 15.0, 16.0]</td>\n",
       "      <td>2744</td>\n",
       "      <td>0.078400</td>\n",
       "      <td>101</td>\n",
       "      <td>2643</td>\n",
       "      <td>0.963192</td>\n",
       "      <td>0.569155</td>\n",
       "      <td>0.033668</td>\n",
       "      <td>0.004153</td>\n",
       "    </tr>\n",
       "    <tr>\n",
       "      <th>2</th>\n",
       "      <td>[19.0, 23.0, 20.0]</td>\n",
       "      <td>1895</td>\n",
       "      <td>0.054143</td>\n",
       "      <td>50</td>\n",
       "      <td>1845</td>\n",
       "      <td>0.973615</td>\n",
       "      <td>0.225492</td>\n",
       "      <td>0.003072</td>\n",
       "      <td>0.000383</td>\n",
       "    </tr>\n",
       "    <tr>\n",
       "      <th>3</th>\n",
       "      <td>[22.0, 24.0, 18.0, 26.0]</td>\n",
       "      <td>2549</td>\n",
       "      <td>0.072829</td>\n",
       "      <td>57</td>\n",
       "      <td>2492</td>\n",
       "      <td>0.977638</td>\n",
       "      <td>0.055914</td>\n",
       "      <td>0.000234</td>\n",
       "      <td>0.000029</td>\n",
       "    </tr>\n",
       "    <tr>\n",
       "      <th>4</th>\n",
       "      <td>[11.0, 10.0, 21.0]</td>\n",
       "      <td>1937</td>\n",
       "      <td>0.055343</td>\n",
       "      <td>38</td>\n",
       "      <td>1899</td>\n",
       "      <td>0.980382</td>\n",
       "      <td>-0.077793</td>\n",
       "      <td>0.000323</td>\n",
       "      <td>0.000040</td>\n",
       "    </tr>\n",
       "    <tr>\n",
       "      <th>5</th>\n",
       "      <td>[9.0, 3.0, 8.0, 40.0, 28.0, 5.0]</td>\n",
       "      <td>3637</td>\n",
       "      <td>0.103914</td>\n",
       "      <td>10</td>\n",
       "      <td>3627</td>\n",
       "      <td>0.997250</td>\n",
       "      <td>-2.059872</td>\n",
       "      <td>0.190280</td>\n",
       "      <td>0.020309</td>\n",
       "    </tr>\n",
       "    <tr>\n",
       "      <th>6</th>\n",
       "      <td>[6.0, 47.0, 48.0, 49.0, 50.0, 51.0, 52.0, 53.0...</td>\n",
       "      <td>19951</td>\n",
       "      <td>0.570029</td>\n",
       "      <td>1</td>\n",
       "      <td>19950</td>\n",
       "      <td>0.999950</td>\n",
       "      <td>-6.06728</td>\n",
       "      <td>3.524964</td>\n",
       "      <td>0.197518</td>\n",
       "    </tr>\n",
       "    <tr>\n",
       "      <th>7</th>\n",
       "      <td>Special</td>\n",
       "      <td>0</td>\n",
       "      <td>0.000000</td>\n",
       "      <td>0</td>\n",
       "      <td>0</td>\n",
       "      <td>0.000000</td>\n",
       "      <td>0.0</td>\n",
       "      <td>0.000000</td>\n",
       "      <td>0.000000</td>\n",
       "    </tr>\n",
       "    <tr>\n",
       "      <th>8</th>\n",
       "      <td>Missing</td>\n",
       "      <td>0</td>\n",
       "      <td>0.000000</td>\n",
       "      <td>0</td>\n",
       "      <td>0</td>\n",
       "      <td>0.000000</td>\n",
       "      <td>0.0</td>\n",
       "      <td>0.000000</td>\n",
       "      <td>0.000000</td>\n",
       "    </tr>\n",
       "    <tr>\n",
       "      <th>Totals</th>\n",
       "      <td></td>\n",
       "      <td>35000</td>\n",
       "      <td>1.000000</td>\n",
       "      <td>741</td>\n",
       "      <td>34259</td>\n",
       "      <td>0.978829</td>\n",
       "      <td></td>\n",
       "      <td>5.265057</td>\n",
       "      <td>0.373422</td>\n",
       "    </tr>\n",
       "  </tbody>\n",
       "</table>\n",
       "</div>"
      ],
      "text/plain": [
       "                                                      Bin  Count  Count (%)  \\\n",
       "0                                 [0.0, 12.0, 25.0, 14.0]   2287   0.065343   \n",
       "1                                [13.0, 17.0, 15.0, 16.0]   2744   0.078400   \n",
       "2                                      [19.0, 23.0, 20.0]   1895   0.054143   \n",
       "3                                [22.0, 24.0, 18.0, 26.0]   2549   0.072829   \n",
       "4                                      [11.0, 10.0, 21.0]   1937   0.055343   \n",
       "5                        [9.0, 3.0, 8.0, 40.0, 28.0, 5.0]   3637   0.103914   \n",
       "6       [6.0, 47.0, 48.0, 49.0, 50.0, 51.0, 52.0, 53.0...  19951   0.570029   \n",
       "7                                                 Special      0   0.000000   \n",
       "8                                                 Missing      0   0.000000   \n",
       "Totals                                                     35000   1.000000   \n",
       "\n",
       "        Non-event  Event  Event rate       WoE        IV        JS  \n",
       "0             484   1803    0.788369  2.518582  1.512516  0.150990  \n",
       "1             101   2643    0.963192  0.569155  0.033668  0.004153  \n",
       "2              50   1845    0.973615  0.225492  0.003072  0.000383  \n",
       "3              57   2492    0.977638  0.055914  0.000234  0.000029  \n",
       "4              38   1899    0.980382 -0.077793  0.000323  0.000040  \n",
       "5              10   3627    0.997250 -2.059872  0.190280  0.020309  \n",
       "6               1  19950    0.999950  -6.06728  3.524964  0.197518  \n",
       "7               0      0    0.000000       0.0  0.000000  0.000000  \n",
       "8               0      0    0.000000       0.0  0.000000  0.000000  \n",
       "Totals        741  34259    0.978829            5.265057  0.373422  "
      ]
     },
     "metadata": {},
     "output_type": "display_data"
    },
    {
     "data": {
      "text/html": [
       "<div>\n",
       "<style scoped>\n",
       "    .dataframe tbody tr th:only-of-type {\n",
       "        vertical-align: middle;\n",
       "    }\n",
       "\n",
       "    .dataframe tbody tr th {\n",
       "        vertical-align: top;\n",
       "    }\n",
       "\n",
       "    .dataframe thead th {\n",
       "        text-align: right;\n",
       "    }\n",
       "</style>\n",
       "<table border=\"1\" class=\"dataframe\">\n",
       "  <thead>\n",
       "    <tr style=\"text-align: right;\">\n",
       "      <th></th>\n",
       "      <th>Bin</th>\n",
       "      <th>Count</th>\n",
       "      <th>Count (%)</th>\n",
       "      <th>Non-event</th>\n",
       "      <th>Event</th>\n",
       "      <th>Event rate</th>\n",
       "      <th>WoE</th>\n",
       "      <th>IV</th>\n",
       "      <th>JS</th>\n",
       "    </tr>\n",
       "  </thead>\n",
       "  <tbody>\n",
       "    <tr>\n",
       "      <th>0</th>\n",
       "      <td>(-inf, 0.50)</td>\n",
       "      <td>7416</td>\n",
       "      <td>0.211886</td>\n",
       "      <td>404</td>\n",
       "      <td>7012</td>\n",
       "      <td>0.945523</td>\n",
       "      <td>0.979741</td>\n",
       "      <td>0.333634</td>\n",
       "      <td>0.040112</td>\n",
       "    </tr>\n",
       "    <tr>\n",
       "      <th>1</th>\n",
       "      <td>[0.50, inf)</td>\n",
       "      <td>27584</td>\n",
       "      <td>0.788114</td>\n",
       "      <td>337</td>\n",
       "      <td>27247</td>\n",
       "      <td>0.987783</td>\n",
       "      <td>-0.558912</td>\n",
       "      <td>0.190328</td>\n",
       "      <td>0.023486</td>\n",
       "    </tr>\n",
       "    <tr>\n",
       "      <th>2</th>\n",
       "      <td>Special</td>\n",
       "      <td>0</td>\n",
       "      <td>0.000000</td>\n",
       "      <td>0</td>\n",
       "      <td>0</td>\n",
       "      <td>0.000000</td>\n",
       "      <td>0.0</td>\n",
       "      <td>0.000000</td>\n",
       "      <td>0.000000</td>\n",
       "    </tr>\n",
       "    <tr>\n",
       "      <th>3</th>\n",
       "      <td>Missing</td>\n",
       "      <td>0</td>\n",
       "      <td>0.000000</td>\n",
       "      <td>0</td>\n",
       "      <td>0</td>\n",
       "      <td>0.000000</td>\n",
       "      <td>0.0</td>\n",
       "      <td>0.000000</td>\n",
       "      <td>0.000000</td>\n",
       "    </tr>\n",
       "    <tr>\n",
       "      <th>Totals</th>\n",
       "      <td></td>\n",
       "      <td>35000</td>\n",
       "      <td>1.000000</td>\n",
       "      <td>741</td>\n",
       "      <td>34259</td>\n",
       "      <td>0.978829</td>\n",
       "      <td></td>\n",
       "      <td>0.523962</td>\n",
       "      <td>0.063599</td>\n",
       "    </tr>\n",
       "  </tbody>\n",
       "</table>\n",
       "</div>"
      ],
      "text/plain": [
       "                 Bin  Count  Count (%)  Non-event  Event  Event rate  \\\n",
       "0       (-inf, 0.50)   7416   0.211886        404   7012    0.945523   \n",
       "1        [0.50, inf)  27584   0.788114        337  27247    0.987783   \n",
       "2            Special      0   0.000000          0      0    0.000000   \n",
       "3            Missing      0   0.000000          0      0    0.000000   \n",
       "Totals                35000   1.000000        741  34259    0.978829   \n",
       "\n",
       "             WoE        IV        JS  \n",
       "0       0.979741  0.333634  0.040112  \n",
       "1      -0.558912  0.190328  0.023486  \n",
       "2            0.0  0.000000  0.000000  \n",
       "3            0.0  0.000000  0.000000  \n",
       "Totals            0.523962  0.063599  "
      ]
     },
     "metadata": {},
     "output_type": "display_data"
    },
    {
     "data": {
      "text/html": [
       "<div>\n",
       "<style scoped>\n",
       "    .dataframe tbody tr th:only-of-type {\n",
       "        vertical-align: middle;\n",
       "    }\n",
       "\n",
       "    .dataframe tbody tr th {\n",
       "        vertical-align: top;\n",
       "    }\n",
       "\n",
       "    .dataframe thead th {\n",
       "        text-align: right;\n",
       "    }\n",
       "</style>\n",
       "<table border=\"1\" class=\"dataframe\">\n",
       "  <thead>\n",
       "    <tr style=\"text-align: right;\">\n",
       "      <th></th>\n",
       "      <th>Bin</th>\n",
       "      <th>Count</th>\n",
       "      <th>Count (%)</th>\n",
       "      <th>Non-event</th>\n",
       "      <th>Event</th>\n",
       "      <th>Event rate</th>\n",
       "      <th>WoE</th>\n",
       "      <th>IV</th>\n",
       "      <th>JS</th>\n",
       "    </tr>\n",
       "  </thead>\n",
       "  <tbody>\n",
       "    <tr>\n",
       "      <th>0</th>\n",
       "      <td>(-inf, 1265.45)</td>\n",
       "      <td>28109</td>\n",
       "      <td>0.803114</td>\n",
       "      <td>630</td>\n",
       "      <td>27479</td>\n",
       "      <td>0.977587</td>\n",
       "      <td>0.058246</td>\n",
       "      <td>0.002802</td>\n",
       "      <td>0.000350</td>\n",
       "    </tr>\n",
       "    <tr>\n",
       "      <th>1</th>\n",
       "      <td>[1265.45, 1963.02)</td>\n",
       "      <td>1961</td>\n",
       "      <td>0.056029</td>\n",
       "      <td>51</td>\n",
       "      <td>1910</td>\n",
       "      <td>0.973993</td>\n",
       "      <td>0.210671</td>\n",
       "      <td>0.002754</td>\n",
       "      <td>0.000344</td>\n",
       "    </tr>\n",
       "    <tr>\n",
       "      <th>2</th>\n",
       "      <td>[1963.02, 2710.23)</td>\n",
       "      <td>1776</td>\n",
       "      <td>0.050743</td>\n",
       "      <td>59</td>\n",
       "      <td>1717</td>\n",
       "      <td>0.966779</td>\n",
       "      <td>0.462908</td>\n",
       "      <td>0.013658</td>\n",
       "      <td>0.001692</td>\n",
       "    </tr>\n",
       "    <tr>\n",
       "      <th>3</th>\n",
       "      <td>[2710.23, inf)</td>\n",
       "      <td>3154</td>\n",
       "      <td>0.090114</td>\n",
       "      <td>1</td>\n",
       "      <td>3153</td>\n",
       "      <td>0.999683</td>\n",
       "      <td>-4.222406</td>\n",
       "      <td>0.382908</td>\n",
       "      <td>0.028836</td>\n",
       "    </tr>\n",
       "    <tr>\n",
       "      <th>4</th>\n",
       "      <td>Special</td>\n",
       "      <td>0</td>\n",
       "      <td>0.000000</td>\n",
       "      <td>0</td>\n",
       "      <td>0</td>\n",
       "      <td>0.000000</td>\n",
       "      <td>0.0</td>\n",
       "      <td>0.000000</td>\n",
       "      <td>0.000000</td>\n",
       "    </tr>\n",
       "    <tr>\n",
       "      <th>5</th>\n",
       "      <td>Missing</td>\n",
       "      <td>0</td>\n",
       "      <td>0.000000</td>\n",
       "      <td>0</td>\n",
       "      <td>0</td>\n",
       "      <td>0.000000</td>\n",
       "      <td>0.0</td>\n",
       "      <td>0.000000</td>\n",
       "      <td>0.000000</td>\n",
       "    </tr>\n",
       "    <tr>\n",
       "      <th>Totals</th>\n",
       "      <td></td>\n",
       "      <td>35000</td>\n",
       "      <td>1.000000</td>\n",
       "      <td>741</td>\n",
       "      <td>34259</td>\n",
       "      <td>0.978829</td>\n",
       "      <td></td>\n",
       "      <td>0.402121</td>\n",
       "      <td>0.031222</td>\n",
       "    </tr>\n",
       "  </tbody>\n",
       "</table>\n",
       "</div>"
      ],
      "text/plain": [
       "                       Bin  Count  Count (%)  Non-event  Event  Event rate  \\\n",
       "0          (-inf, 1265.45)  28109   0.803114        630  27479    0.977587   \n",
       "1       [1265.45, 1963.02)   1961   0.056029         51   1910    0.973993   \n",
       "2       [1963.02, 2710.23)   1776   0.050743         59   1717    0.966779   \n",
       "3           [2710.23, inf)   3154   0.090114          1   3153    0.999683   \n",
       "4                  Special      0   0.000000          0      0    0.000000   \n",
       "5                  Missing      0   0.000000          0      0    0.000000   \n",
       "Totals                      35000   1.000000        741  34259    0.978829   \n",
       "\n",
       "             WoE        IV        JS  \n",
       "0       0.058246  0.002802  0.000350  \n",
       "1       0.210671  0.002754  0.000344  \n",
       "2       0.462908  0.013658  0.001692  \n",
       "3      -4.222406  0.382908  0.028836  \n",
       "4            0.0  0.000000  0.000000  \n",
       "5            0.0  0.000000  0.000000  \n",
       "Totals            0.402121  0.031222  "
      ]
     },
     "metadata": {},
     "output_type": "display_data"
    }
   ],
   "source": [
    "display(num_caso_table.build())\n",
    "display(edad_credit_table.build())\n",
    "display(retrasos_max_table.build())\n",
    "display(comp_interno1_table.build())"
   ]
  },
  {
   "cell_type": "code",
   "execution_count": 20,
   "id": "709c500e",
   "metadata": {
    "scrolled": true
   },
   "outputs": [
    {
     "data": {
      "image/png": "[encoded data removed]",
      "text/plain": [
       "<Figure size 432x288 with 2 Axes>"
      ]
     },
     "metadata": {
      "needs_background": "light"
     },
     "output_type": "display_data"
    },
    {
     "data": {
      "image/png": "[encoded data removed]",
      "text/plain": [
       "<Figure size 432x288 with 2 Axes>"
      ]
     },
     "metadata": {
      "needs_background": "light"
     },
     "output_type": "display_data"
    }
   ],
   "source": [
    "num_caso_table.plot(metric=\"event_rate\")\n",
    "num_caso_table.plot(metric=\"woe\")"
   ]
  },
  {
   "cell_type": "code",
   "execution_count": 21,
   "id": "425d7cbd",
   "metadata": {
    "scrolled": true
   },
   "outputs": [
    {
     "data": {
      "image/png": "[encoded data removed]",
      "text/plain": [
       "<Figure size 432x288 with 2 Axes>"
      ]
     },
     "metadata": {
      "needs_background": "light"
     },
     "output_type": "display_data"
    },
    {
     "data": {
      "image/png": "[encoded data removed]",
      "text/plain": [
       "<Figure size 432x288 with 2 Axes>"
      ]
     },
     "metadata": {
      "needs_background": "light"
     },
     "output_type": "display_data"
    }
   ],
   "source": [
    "edad_credit_table.plot(metric=\"event_rate\")\n",
    "edad_credit_table.plot(metric=\"woe\")"
   ]
  },
  {
   "cell_type": "code",
   "execution_count": 22,
   "id": "f9407dab",
   "metadata": {
    "scrolled": true
   },
   "outputs": [
    {
     "data": {
      "image/png": "[encoded data removed]",
      "text/plain": [
       "<Figure size 432x288 with 2 Axes>"
      ]
     },
     "metadata": {
      "needs_background": "light"
     },
     "output_type": "display_data"
    },
    {
     "data": {
      "image/png": "[encoded data removed]",
      "text/plain": [
       "<Figure size 432x288 with 2 Axes>"
      ]
     },
     "metadata": {
      "needs_background": "light"
     },
     "output_type": "display_data"
    }
   ],
   "source": [
    "retrasos_max_table.plot(metric=\"event_rate\")\n",
    "retrasos_max_table.plot(metric=\"woe\")"
   ]
  },
  {
   "cell_type": "code",
   "execution_count": 23,
   "id": "335bbda8",
   "metadata": {
    "scrolled": true
   },
   "outputs": [
    {
     "data": {
      "image/png": "[encoded data removed]",
      "text/plain": [
       "<Figure size 432x288 with 2 Axes>"
      ]
     },
     "metadata": {
      "needs_background": "light"
     },
     "output_type": "display_data"
    },
    {
     "data": {
      "image/png": "[encoded data removed]",
      "text/plain": [
       "<Figure size 432x288 with 2 Axes>"
      ]
     },
     "metadata": {
      "needs_background": "light"
     },
     "output_type": "display_data"
    }
   ],
   "source": [
    "comp_interno1_table.plot(metric=\"event_rate\")\n",
    "comp_interno1_table.plot(metric=\"woe\")"
   ]
  },
  {
   "cell_type": "code",
   "execution_count": 24,
   "id": "af5aca8f",
   "metadata": {},
   "outputs": [],
   "source": [
    "#Transformamos las variables a woe\n",
    "\n",
    "train[\"woe_num_caso\"] = optb_num_caso.transform(train[\"num_caso\"], metric=\"woe\")\n",
    "train[\"woe_edad_credit\"] = optb_edad_credit.transform(train[\"edad_credit\"], metric=\"woe\")\n",
    "train[\"woe_retrasos_max\"] = optb_retrasos_max.transform(train[\"retrasos_max\"], metric=\"woe\")\n",
    "train[\"woe_comp_interno1\"] = optb_comp_interno1.transform(train[\"comp_interno1\"], metric=\"woe\")"
   ]
  },
  {
   "cell_type": "code",
   "execution_count": 25,
   "id": "a956282f",
   "metadata": {},
   "outputs": [
    {
     "data": {
      "text/html": [
       "<div>\n",
       "<style scoped>\n",
       "    .dataframe tbody tr th:only-of-type {\n",
       "        vertical-align: middle;\n",
       "    }\n",
       "\n",
       "    .dataframe tbody tr th {\n",
       "        vertical-align: top;\n",
       "    }\n",
       "\n",
       "    .dataframe thead th {\n",
       "        text-align: right;\n",
       "    }\n",
       "</style>\n",
       "<table border=\"1\" class=\"dataframe\">\n",
       "  <thead>\n",
       "    <tr style=\"text-align: right;\">\n",
       "      <th></th>\n",
       "      <th>Unnamed: 0</th>\n",
       "      <th>num_caso</th>\n",
       "      <th>edad_credit</th>\n",
       "      <th>retrasos_max</th>\n",
       "      <th>comp_interno1</th>\n",
       "      <th>Otorgar</th>\n",
       "      <th>woe_num_caso</th>\n",
       "      <th>woe_edad_credit</th>\n",
       "      <th>woe_retrasos_max</th>\n",
       "      <th>woe_comp_interno1</th>\n",
       "    </tr>\n",
       "  </thead>\n",
       "  <tbody>\n",
       "    <tr>\n",
       "      <th>48824</th>\n",
       "      <td>48824</td>\n",
       "      <td>97564</td>\n",
       "      <td>2.0</td>\n",
       "      <td>0.0</td>\n",
       "      <td>0.000000</td>\n",
       "      <td>1.0</td>\n",
       "      <td>2.194537</td>\n",
       "      <td>-6.067280</td>\n",
       "      <td>0.979741</td>\n",
       "      <td>0.058246</td>\n",
       "    </tr>\n",
       "    <tr>\n",
       "      <th>2704</th>\n",
       "      <td>2704</td>\n",
       "      <td>5448</td>\n",
       "      <td>5.0</td>\n",
       "      <td>0.0</td>\n",
       "      <td>0.000000</td>\n",
       "      <td>1.0</td>\n",
       "      <td>-0.374778</td>\n",
       "      <td>-2.059872</td>\n",
       "      <td>0.979741</td>\n",
       "      <td>0.058246</td>\n",
       "    </tr>\n",
       "    <tr>\n",
       "      <th>25631</th>\n",
       "      <td>25631</td>\n",
       "      <td>50932</td>\n",
       "      <td>34.0</td>\n",
       "      <td>1.0</td>\n",
       "      <td>0.000000</td>\n",
       "      <td>1.0</td>\n",
       "      <td>-0.374778</td>\n",
       "      <td>-6.067280</td>\n",
       "      <td>-0.558912</td>\n",
       "      <td>0.058246</td>\n",
       "    </tr>\n",
       "    <tr>\n",
       "      <th>7285</th>\n",
       "      <td>7285</td>\n",
       "      <td>14569</td>\n",
       "      <td>51.0</td>\n",
       "      <td>1.0</td>\n",
       "      <td>354.609929</td>\n",
       "      <td>1.0</td>\n",
       "      <td>-0.374778</td>\n",
       "      <td>-6.067280</td>\n",
       "      <td>-0.558912</td>\n",
       "      <td>0.058246</td>\n",
       "    </tr>\n",
       "    <tr>\n",
       "      <th>27346</th>\n",
       "      <td>27346</td>\n",
       "      <td>54236</td>\n",
       "      <td>31.0</td>\n",
       "      <td>1.0</td>\n",
       "      <td>506.585613</td>\n",
       "      <td>1.0</td>\n",
       "      <td>-0.374778</td>\n",
       "      <td>-6.067280</td>\n",
       "      <td>-0.558912</td>\n",
       "      <td>0.058246</td>\n",
       "    </tr>\n",
       "  </tbody>\n",
       "</table>\n",
       "</div>"
      ],
      "text/plain": [
       "       Unnamed: 0  num_caso  edad_credit  retrasos_max  comp_interno1  \\\n",
       "48824       48824     97564          2.0           0.0       0.000000   \n",
       "2704         2704      5448          5.0           0.0       0.000000   \n",
       "25631       25631     50932         34.0           1.0       0.000000   \n",
       "7285         7285     14569         51.0           1.0     354.609929   \n",
       "27346       27346     54236         31.0           1.0     506.585613   \n",
       "\n",
       "       Otorgar  woe_num_caso  woe_edad_credit  woe_retrasos_max  \\\n",
       "48824      1.0      2.194537        -6.067280          0.979741   \n",
       "2704       1.0     -0.374778        -2.059872          0.979741   \n",
       "25631      1.0     -0.374778        -6.067280         -0.558912   \n",
       "7285       1.0     -0.374778        -6.067280         -0.558912   \n",
       "27346      1.0     -0.374778        -6.067280         -0.558912   \n",
       "\n",
       "       woe_comp_interno1  \n",
       "48824           0.058246  \n",
       "2704            0.058246  \n",
       "25631           0.058246  \n",
       "7285            0.058246  \n",
       "27346           0.058246  "
      ]
     },
     "execution_count": 25,
     "metadata": {},
     "output_type": "execute_result"
    }
   ],
   "source": [
    "train.head()"
   ]
  },
  {
   "cell_type": "code",
   "execution_count": 26,
   "id": "b99b0ea6",
   "metadata": {},
   "outputs": [
    {
     "name": "stdout",
     "output_type": "stream",
     "text": [
      "<class 'pandas.core.frame.DataFrame'>\n",
      "Int64Index: 35000 entries, 48824 to 38408\n",
      "Data columns (total 10 columns):\n",
      " #   Column             Non-Null Count  Dtype  \n",
      "---  ------             --------------  -----  \n",
      " 0   Unnamed: 0         35000 non-null  int64  \n",
      " 1   num_caso           35000 non-null  int64  \n",
      " 2   edad_credit        35000 non-null  float64\n",
      " 3   retrasos_max       35000 non-null  float64\n",
      " 4   comp_interno1      35000 non-null  float64\n",
      " 5   Otorgar            35000 non-null  float64\n",
      " 6   woe_num_caso       35000 non-null  float64\n",
      " 7   woe_edad_credit    35000 non-null  float64\n",
      " 8   woe_retrasos_max   35000 non-null  float64\n",
      " 9   woe_comp_interno1  35000 non-null  float64\n",
      "dtypes: float64(8), int64(2)\n",
      "memory usage: 2.9 MB\n"
     ]
    }
   ],
   "source": [
    "train.info()"
   ]
  },
  {
   "cell_type": "code",
   "execution_count": 27,
   "id": "636640d6",
   "metadata": {},
   "outputs": [
    {
     "data": {
      "image/png": "[encoded data removed]",
      "text/plain": [
       "<Figure size 720x720 with 2 Axes>"
      ]
     },
     "metadata": {
      "needs_background": "light"
     },
     "output_type": "display_data"
    }
   ],
   "source": [
    "corr = train.iloc[:,6:].corr()\n",
    "\n",
    "\n",
    "xticks = list(corr.index)  \n",
    "yticks = list(corr.index)  \n",
    "fig = plt.figure(figsize=(10,10))\n",
    "ax1 = fig.add_subplot(1, 1, 1)\n",
    "\n",
    "sns.heatmap(corr,annot=True,cmap=\"rainbow\",ax=ax1,linewidths=.5,annot_kws={'size':9,'weight':'bold', 'color':'k'})\n",
    "ax1.set_xticklabels(xticks, rotation=30, fontsize=10)\n",
    "ax1.set_yticklabels(yticks, rotation=0, fontsize=10)\n",
    "plt.show()"
   ]
  },
  {
   "cell_type": "code",
   "execution_count": 28,
   "id": "567d11ef",
   "metadata": {},
   "outputs": [],
   "source": [
    "#train=train[[\"Otorgar\",\"woe_num_caso\",\"woe_edad_credit\",\"woe_retrasos_max\",\"woe_comp_interno1\"]]"
   ]
  },
  {
   "cell_type": "code",
   "execution_count": 29,
   "id": "6069c1c5",
   "metadata": {},
   "outputs": [
    {
     "data": {
      "text/html": [
       "<div>\n",
       "<style scoped>\n",
       "    .dataframe tbody tr th:only-of-type {\n",
       "        vertical-align: middle;\n",
       "    }\n",
       "\n",
       "    .dataframe tbody tr th {\n",
       "        vertical-align: top;\n",
       "    }\n",
       "\n",
       "    .dataframe thead th {\n",
       "        text-align: right;\n",
       "    }\n",
       "</style>\n",
       "<table border=\"1\" class=\"dataframe\">\n",
       "  <thead>\n",
       "    <tr style=\"text-align: right;\">\n",
       "      <th></th>\n",
       "      <th>woe_num_caso</th>\n",
       "      <th>woe_edad_credit</th>\n",
       "      <th>woe_retrasos_max</th>\n",
       "    </tr>\n",
       "  </thead>\n",
       "  <tbody>\n",
       "    <tr>\n",
       "      <th>48824</th>\n",
       "      <td>2.194537</td>\n",
       "      <td>-6.067280</td>\n",
       "      <td>0.979741</td>\n",
       "    </tr>\n",
       "    <tr>\n",
       "      <th>2704</th>\n",
       "      <td>-0.374778</td>\n",
       "      <td>-2.059872</td>\n",
       "      <td>0.979741</td>\n",
       "    </tr>\n",
       "    <tr>\n",
       "      <th>25631</th>\n",
       "      <td>-0.374778</td>\n",
       "      <td>-6.067280</td>\n",
       "      <td>-0.558912</td>\n",
       "    </tr>\n",
       "    <tr>\n",
       "      <th>7285</th>\n",
       "      <td>-0.374778</td>\n",
       "      <td>-6.067280</td>\n",
       "      <td>-0.558912</td>\n",
       "    </tr>\n",
       "    <tr>\n",
       "      <th>27346</th>\n",
       "      <td>-0.374778</td>\n",
       "      <td>-6.067280</td>\n",
       "      <td>-0.558912</td>\n",
       "    </tr>\n",
       "  </tbody>\n",
       "</table>\n",
       "</div>"
      ],
      "text/plain": [
       "       woe_num_caso  woe_edad_credit  woe_retrasos_max\n",
       "48824      2.194537        -6.067280          0.979741\n",
       "2704      -0.374778        -2.059872          0.979741\n",
       "25631     -0.374778        -6.067280         -0.558912\n",
       "7285      -0.374778        -6.067280         -0.558912\n",
       "27346     -0.374778        -6.067280         -0.558912"
      ]
     },
     "execution_count": 29,
     "metadata": {},
     "output_type": "execute_result"
    }
   ],
   "source": [
    "X_woe_train=train.iloc[:,6:9]\n",
    "y_train=train.iloc[:,5]\n",
    "X_woe_train.head()"
   ]
  },
  {
   "cell_type": "code",
   "execution_count": 30,
   "id": "d7953fcd",
   "metadata": {},
   "outputs": [
    {
     "data": {
      "image/png": "[encoded data removed]",
      "text/plain": [
       "<Figure size 720x720 with 2 Axes>"
      ]
     },
     "metadata": {
      "needs_background": "light"
     },
     "output_type": "display_data"
    }
   ],
   "source": [
    "corr = train.iloc[:,1:].corr()\n",
    "corr\n",
    "\n",
    "xticks = list(corr.index)  \n",
    "yticks = list(corr.index)  \n",
    "fig = plt.figure(figsize=(10,10))\n",
    "ax1 = fig.add_subplot(1, 1, 1)\n",
    "\n",
    "sns.heatmap(corr,annot=True,cmap=\"rainbow\",ax=ax1,linewidths=.5,annot_kws={'size':9,'weight':'bold', 'color':'k'})\n",
    "ax1.set_xticklabels(xticks, rotation=30, fontsize=10)\n",
    "ax1.set_yticklabels(yticks, rotation=0, fontsize=10)\n",
    "plt.show()"
   ]
  },
  {
   "cell_type": "markdown",
   "id": "3e0e31b7",
   "metadata": {},
   "source": [
    "Ahora se tiene que sacar el modelo logístico con las covariables y con ello podemos graficar la curva ROC para ello tenemos el método de LogisticRegression()"
   ]
  },
  {
   "cell_type": "code",
   "execution_count": 31,
   "id": "dd91202f",
   "metadata": {},
   "outputs": [],
   "source": [
    "model=LogisticRegression()\n",
    "clf=model.fit(X_woe_train,y_train)"
   ]
  },
  {
   "cell_type": "code",
   "execution_count": 32,
   "id": "43547505",
   "metadata": {},
   "outputs": [
    {
     "name": "stdout",
     "output_type": "stream",
     "text": [
      "y_pred\n",
      " [1. 1. 1. ... 1. 1. 1.]\n",
      "y_pred1\n",
      " [6.53243029 6.0764535  9.70911157 ... 9.9527668  9.70911157 3.85544286]\n"
     ]
    },
    {
     "data": {
      "image/png": "[encoded data removed]",
      "text/plain": [
       "<Figure size 432x288 with 1 Axes>"
      ]
     },
     "metadata": {
      "needs_background": "light"
     },
     "output_type": "display_data"
    }
   ],
   "source": [
    "\n",
    "y_pred=clf.predict(X_woe_train)\n",
    "y_pred1=clf.decision_function(X_woe_train)\n",
    "print('y_pred\\n',y_pred)\n",
    "print('y_pred1\\n',y_pred1)\n",
    "\n",
    "#Draw ROC curve and calculate AUC value\n",
    "fpr,tpr,threshold = roc_curve(y_train, y_pred1)\n",
    "roc_auc = auc(fpr,tpr)\n",
    "plot(fpr,tpr,color='darkorange',\n",
    "         label='ROC curve (area = %0.2f)' % roc_auc)\n",
    "plt.plot([0, 1], [0, 1], color='navy', linestyle='--')\n",
    "plt.xlim([0.0, 1.0])\n",
    "plt.ylim([0.0, 1.0])\n",
    "plt.xlabel('False Positive Rate')\n",
    "plt.ylabel('True Positive Rate')\n",
    "plt.title('ROC_curve')\n",
    "plt.legend(loc=\"lower right\")\n",
    "plt.show()"
   ]
  },
  {
   "cell_type": "code",
   "execution_count": 33,
   "id": "cebb6ee5",
   "metadata": {},
   "outputs": [
    {
     "data": {
      "text/plain": [
       "array([-1.33122519, -0.96728682,  0.15835626])"
      ]
     },
     "execution_count": 33,
     "metadata": {},
     "output_type": "execute_result"
    }
   ],
   "source": [
    "coe=model.coef_\n",
    "coe[0]"
   ]
  },
  {
   "cell_type": "code",
   "execution_count": 34,
   "id": "a0a1600f",
   "metadata": {},
   "outputs": [],
   "source": [
    "f_train=train[[\"Otorgar\",\"woe_num_caso\",\"woe_edad_credit\",\"woe_retrasos_max\",\"woe_comp_interno1\"]]\n",
    "X_woe_train=f_train.iloc[:,1:]\n",
    "y_train=f_train.iloc[:,0]\n",
    "X_woe_train.head()\n",
    "model=LogisticRegression()\n",
    "clf=model.fit(X_woe_train,y_train)"
   ]
  },
  {
   "cell_type": "code",
   "execution_count": 35,
   "id": "57725b11",
   "metadata": {},
   "outputs": [
    {
     "data": {
      "text/plain": [
       "array([-1.46902765, -1.02710383,  0.13978324, -1.24790023])"
      ]
     },
     "execution_count": 35,
     "metadata": {},
     "output_type": "execute_result"
    }
   ],
   "source": [
    "coe=model.coef_\n",
    "coe[0]\n"
   ]
  },
  {
   "cell_type": "code",
   "execution_count": 36,
   "id": "65027eda",
   "metadata": {
    "scrolled": true
   },
   "outputs": [
    {
     "data": {
      "text/plain": [
       "(array([3.1400e+02, 0.0000e+00, 0.0000e+00, 0.0000e+00, 0.0000e+00,\n",
       "        0.0000e+00, 0.0000e+00, 0.0000e+00, 0.0000e+00, 0.0000e+00,\n",
       "        0.0000e+00, 0.0000e+00, 0.0000e+00, 0.0000e+00, 0.0000e+00,\n",
       "        0.0000e+00, 0.0000e+00, 0.0000e+00, 5.5000e+01, 0.0000e+00,\n",
       "        0.0000e+00, 0.0000e+00, 0.0000e+00, 3.3000e+02, 6.1000e+02,\n",
       "        4.9000e+01, 6.4000e+01, 2.9200e+02, 1.2300e+02, 0.0000e+00,\n",
       "        6.0000e+01, 0.0000e+00, 5.7100e+02, 0.0000e+00, 0.0000e+00,\n",
       "        0.0000e+00, 4.3600e+02, 0.0000e+00, 5.6200e+02, 7.2500e+02,\n",
       "        1.9490e+03, 1.9890e+03, 1.0980e+03, 8.1200e+02, 4.4400e+02,\n",
       "        7.9000e+01, 7.3000e+01, 1.0000e+01, 1.0700e+02, 0.0000e+00,\n",
       "        3.4300e+02, 2.5200e+02, 0.0000e+00, 1.4000e+02, 0.0000e+00,\n",
       "        7.8500e+02, 1.0570e+03, 4.3300e+02, 6.3100e+02, 3.2000e+01,\n",
       "        1.3760e+03, 2.2000e+01, 0.0000e+00, 0.0000e+00, 0.0000e+00,\n",
       "        0.0000e+00, 0.0000e+00, 0.0000e+00, 0.0000e+00, 0.0000e+00,\n",
       "        1.0000e+01, 2.4000e+01, 0.0000e+00, 0.0000e+00, 0.0000e+00,\n",
       "        0.0000e+00, 3.7300e+02, 0.0000e+00, 8.7200e+02, 0.0000e+00,\n",
       "        0.0000e+00, 0.0000e+00, 0.0000e+00, 1.5753e+04, 9.1300e+02,\n",
       "        5.0200e+02, 2.9500e+02, 2.6000e+01, 3.6200e+02, 2.0000e+01,\n",
       "        0.0000e+00, 0.0000e+00, 0.0000e+00, 0.0000e+00, 0.0000e+00,\n",
       "        0.0000e+00, 0.0000e+00, 0.0000e+00, 9.0000e+00, 1.8000e+01]),\n",
       " array([-1.77256096, -1.6346611 , -1.49676125, -1.35886139, -1.22096153,\n",
       "        -1.08306168, -0.94516182, -0.80726197, -0.66936211, -0.53146225,\n",
       "        -0.3935624 , -0.25566254, -0.11776268,  0.02013717,  0.15803703,\n",
       "         0.29593688,  0.43383674,  0.5717366 ,  0.70963645,  0.84753631,\n",
       "         0.98543617,  1.12333602,  1.26123588,  1.39913574,  1.53703559,\n",
       "         1.67493545,  1.8128353 ,  1.95073516,  2.08863502,  2.22653487,\n",
       "         2.36443473,  2.50233459,  2.64023444,  2.7781343 ,  2.91603416,\n",
       "         3.05393401,  3.19183387,  3.32973372,  3.46763358,  3.60553344,\n",
       "         3.74343329,  3.88133315,  4.01923301,  4.15713286,  4.29503272,\n",
       "         4.43293257,  4.57083243,  4.70873229,  4.84663214,  4.984532  ,\n",
       "         5.12243186,  5.26033171,  5.39823157,  5.53613143,  5.67403128,\n",
       "         5.81193114,  5.94983099,  6.08773085,  6.22563071,  6.36353056,\n",
       "         6.50143042,  6.63933028,  6.77723013,  6.91512999,  7.05302985,\n",
       "         7.1909297 ,  7.32882956,  7.46672941,  7.60462927,  7.74252913,\n",
       "         7.88042898,  8.01832884,  8.1562287 ,  8.29412855,  8.43202841,\n",
       "         8.56992826,  8.70782812,  8.84572798,  8.98362783,  9.12152769,\n",
       "         9.25942755,  9.3973274 ,  9.53522726,  9.67312712,  9.81102697,\n",
       "         9.94892683, 10.08682668, 10.22472654, 10.3626264 , 10.50052625,\n",
       "        10.63842611, 10.77632597, 10.91422582, 11.05212568, 11.19002554,\n",
       "        11.32792539, 11.46582525, 11.6037251 , 11.74162496, 11.87952482,\n",
       "        12.01742467]),\n",
       " <BarContainer object of 100 artists>)"
      ]
     },
     "execution_count": 36,
     "metadata": {},
     "output_type": "execute_result"
    },
    {
     "data": {
      "image/png": "[encoded data removed]",
      "text/plain": [
       "<Figure size 432x288 with 1 Axes>"
      ]
     },
     "metadata": {
      "needs_background": "light"
     },
     "output_type": "display_data"
    }
   ],
   "source": [
    "hist(y_pred1,bins=100)"
   ]
  },
  {
   "cell_type": "code",
   "execution_count": 37,
   "id": "6ea09dbf",
   "metadata": {},
   "outputs": [],
   "source": [
    "train.to_csv(\"bd_train.csv\",index=None) "
   ]
  },
  {
   "cell_type": "code",
   "execution_count": 38,
   "id": "8822fc2d",
   "metadata": {},
   "outputs": [
    {
     "data": {
      "text/plain": [
       "-1.4690276513133549"
      ]
     },
     "execution_count": 38,
     "metadata": {},
     "output_type": "execute_result"
    }
   ],
   "source": [
    "coe[0][0]"
   ]
  },
  {
   "cell_type": "code",
   "execution_count": 39,
   "id": "b29856ba",
   "metadata": {},
   "outputs": [
    {
     "data": {
      "text/plain": [
       "-1.0271038290125951"
      ]
     },
     "execution_count": 39,
     "metadata": {},
     "output_type": "execute_result"
    }
   ],
   "source": [
    "coe[0][1]"
   ]
  },
  {
   "cell_type": "code",
   "execution_count": 40,
   "id": "59e9c4a7",
   "metadata": {},
   "outputs": [
    {
     "data": {
      "text/plain": [
       "0.1397832429322228"
      ]
     },
     "execution_count": 40,
     "metadata": {},
     "output_type": "execute_result"
    }
   ],
   "source": [
    "coe[0][2]"
   ]
  },
  {
   "cell_type": "markdown",
   "id": "f62db418",
   "metadata": {},
   "source": [
    "## Árbol de clasificación"
   ]
  },
  {
   "cell_type": "code",
   "execution_count": 41,
   "id": "41db94c4",
   "metadata": {},
   "outputs": [],
   "source": [
    "from sklearn.model_selection import (GridSearchCV, cross_val_score,\n",
    "                                                 RandomizedSearchCV,\n",
    "                                                 cross_validate,\n",
    "                                                 StratifiedKFold)"
   ]
  },
  {
   "cell_type": "markdown",
   "id": "0f09d5dd",
   "metadata": {},
   "source": [
    "Esta función se vio en calse y tiene como utilidad sacar la matriz de confusión y la curva roc "
   ]
  },
  {
   "cell_type": "code",
   "execution_count": 42,
   "id": "e118e77a",
   "metadata": {},
   "outputs": [],
   "source": [
    "def performance_evaluation_report(model, X_test, y_test, show_plot=False, labels=None, show_pr_curve=False):\n",
    "    '''\n",
    "    Function for creating a performance report of a classification model.\n",
    "    \n",
    "    Parameters\n",
    "    ----------\n",
    "    model : scikit-learn estimator\n",
    "        A fitted estimator for classification problems.\n",
    "    X_test : pd.DataFrame\n",
    "        DataFrame with features matching y_test\n",
    "    y_test : array/pd.Series\n",
    "        Target of a classification problem.\n",
    "    show_plot : bool\n",
    "        Flag whether to show the plot\n",
    "    labels : list\n",
    "        List with the class names.\n",
    "    show_pr_curve : bool\n",
    "        Flag whether to also show the PR-curve. For this to take effect, \n",
    "        show_plot must be True.\n",
    "        \n",
    "    Return\n",
    "    ------\n",
    "    stats : pd.Series\n",
    "        A series with the most important evaluation metrics\n",
    "    '''\n",
    "\n",
    "    y_pred = model.predict(X_test)\n",
    "    y_pred_prob = model.predict_proba(X_test)[:, 1]\n",
    "\n",
    "    cm = metrics.confusion_matrix(y_test, y_pred)\n",
    "    tn, fp, fn, tp = cm.ravel()\n",
    "\n",
    "    fpr, tpr, threshold = metrics.roc_curve(y_test, y_pred_prob)\n",
    "    roc_auc = metrics.auc(fpr, tpr)\n",
    "\n",
    "    precision, recall, thresholds = metrics.precision_recall_curve(\n",
    "        y_test, y_pred_prob)\n",
    "    pr_auc = metrics.auc(recall, precision)\n",
    "\n",
    "    if show_plot:\n",
    "\n",
    "        if labels is None:\n",
    "            labels = ['Negative', 'Positive']\n",
    "\n",
    "        N_SUBPLOTS = 3 if show_pr_curve else 2\n",
    "        PLOT_WIDTH = 15 if show_pr_curve else 12\n",
    "        PLOT_HEIGHT = 5 if show_pr_curve else 6\n",
    "\n",
    "        fig, ax = plt.subplots(\n",
    "            1, N_SUBPLOTS, figsize=(PLOT_WIDTH, PLOT_HEIGHT))\n",
    "        fig.suptitle('Performance Evaluation', fontsize=16)\n",
    "\n",
    "        sns.heatmap(cm, annot=True, fmt=\"d\", linewidths=.5, cmap='BuGn_r', square=True, cbar=False, ax=ax[0],\n",
    "                    annot_kws={\"ha\": 'center', \"va\": 'center'})\n",
    "        ax[0].set(xlabel='Predicted label',\n",
    "                  ylabel='Actual label', title='Confusion Matrix')\n",
    "        ax[0].xaxis.set_ticklabels(labels)\n",
    "        ax[0].yaxis.set_ticklabels(labels)\n",
    "\n",
    "        ax[1].plot(fpr, tpr, 'b-', label=f'ROC-AUC = {roc_auc:.2f}')\n",
    "        ax[1].set(xlabel='False Positive Rate',\n",
    "                  ylabel='True Positive Rate', title='ROC Curve')\n",
    "        ax[1].plot(fp/(fp+tn), tp/(tp+fn), 'ro',\n",
    "                   markersize=8, label='Decision Point')\n",
    "        ax[1].plot([0, 1], [0, 1], 'r--')\n",
    "        ax[1].legend(loc='lower right')\n",
    "\n",
    "        if show_pr_curve:\n",
    "\n",
    "            ax[2].plot(recall, precision, label=f'PR-AUC = {pr_auc:.2f}')\n",
    "            ax[2].set(xlabel='Recall', ylabel='Precision',\n",
    "                      title='Precision-Recall Curve')\n",
    "            ax[2].legend()\n",
    "\n",
    "#         print('#######################')\n",
    "#         print('Evaluation metrics ####')\n",
    "#         print('#######################')\n",
    "#         print(f'Accuracy: {metrics.accuracy_score(y_test, y_pred):.4f}')\n",
    "#         print(f'Precision: {metrics.precision_score(y_test, y_pred):.4f}')\n",
    "#         print(f'Recall (Sensitivity): {metrics.recall_score(y_test, y_pred):.4f}')\n",
    "#         print(f'Specificity: {(tn / (tn + fp)):.4f}')\n",
    "#         print(f'F1-Score: {metrics.f1_score(y_test, y_pred):.4f}')\n",
    "#         print(f\"Cohen's Kappa: {metrics.cohen_kappa_score(y_test, y_pred):.4f}\")\n",
    "\n",
    "    stats = {'accuracy': metrics.accuracy_score(y_test, y_pred),\n",
    "             'precision': metrics.precision_score(y_test, y_pred),\n",
    "             'recall': metrics.recall_score(y_test, y_pred),\n",
    "             'specificity': (tn / (tn + fp)),\n",
    "             'f1_score': metrics.f1_score(y_test, y_pred),\n",
    "             'cohens_kappa': metrics.cohen_kappa_score(y_test, y_pred),\n",
    "             'roc_auc': roc_auc,\n",
    "             'pr_auc': pr_auc}\n",
    "\n",
    "    return stats"
   ]
  },
  {
   "cell_type": "code",
   "execution_count": 43,
   "id": "50403b5e",
   "metadata": {},
   "outputs": [
    {
     "data": {
      "text/html": [
       "<div>\n",
       "<style scoped>\n",
       "    .dataframe tbody tr th:only-of-type {\n",
       "        vertical-align: middle;\n",
       "    }\n",
       "\n",
       "    .dataframe tbody tr th {\n",
       "        vertical-align: top;\n",
       "    }\n",
       "\n",
       "    .dataframe thead th {\n",
       "        text-align: right;\n",
       "    }\n",
       "</style>\n",
       "<table border=\"1\" class=\"dataframe\">\n",
       "  <thead>\n",
       "    <tr style=\"text-align: right;\">\n",
       "      <th></th>\n",
       "      <th>Unnamed: 0</th>\n",
       "      <th>num_caso</th>\n",
       "      <th>edad_credit</th>\n",
       "      <th>retrasos_max</th>\n",
       "      <th>comp_interno1</th>\n",
       "      <th>Otorgar</th>\n",
       "    </tr>\n",
       "  </thead>\n",
       "  <tbody>\n",
       "    <tr>\n",
       "      <th>0</th>\n",
       "      <td>0</td>\n",
       "      <td>1</td>\n",
       "      <td>62.0</td>\n",
       "      <td>1.0</td>\n",
       "      <td>3039.513678</td>\n",
       "      <td>1.0</td>\n",
       "    </tr>\n",
       "    <tr>\n",
       "      <th>1</th>\n",
       "      <td>1</td>\n",
       "      <td>7</td>\n",
       "      <td>29.0</td>\n",
       "      <td>6.0</td>\n",
       "      <td>1547.112462</td>\n",
       "      <td>1.0</td>\n",
       "    </tr>\n",
       "    <tr>\n",
       "      <th>2</th>\n",
       "      <td>2</td>\n",
       "      <td>8</td>\n",
       "      <td>63.0</td>\n",
       "      <td>1.0</td>\n",
       "      <td>1215.805471</td>\n",
       "      <td>1.0</td>\n",
       "    </tr>\n",
       "    <tr>\n",
       "      <th>3</th>\n",
       "      <td>3</td>\n",
       "      <td>9</td>\n",
       "      <td>15.0</td>\n",
       "      <td>0.0</td>\n",
       "      <td>0.000000</td>\n",
       "      <td>1.0</td>\n",
       "    </tr>\n",
       "    <tr>\n",
       "      <th>4</th>\n",
       "      <td>4</td>\n",
       "      <td>10</td>\n",
       "      <td>16.0</td>\n",
       "      <td>1.0</td>\n",
       "      <td>0.000000</td>\n",
       "      <td>1.0</td>\n",
       "    </tr>\n",
       "  </tbody>\n",
       "</table>\n",
       "</div>"
      ],
      "text/plain": [
       "   Unnamed: 0  num_caso  edad_credit  retrasos_max  comp_interno1  Otorgar\n",
       "0           0         1         62.0           1.0    3039.513678      1.0\n",
       "1           1         7         29.0           6.0    1547.112462      1.0\n",
       "2           2         8         63.0           1.0    1215.805471      1.0\n",
       "3           3         9         15.0           0.0       0.000000      1.0\n",
       "4           4        10         16.0           1.0       0.000000      1.0"
      ]
     },
     "execution_count": 43,
     "metadata": {},
     "output_type": "execute_result"
    }
   ],
   "source": [
    "bd.head()"
   ]
  },
  {
   "cell_type": "code",
   "execution_count": 44,
   "id": "39107c94",
   "metadata": {},
   "outputs": [
    {
     "name": "stdout",
     "output_type": "stream",
     "text": [
      "<class 'pandas.core.frame.DataFrame'>\n",
      "RangeIndex: 50000 entries, 0 to 49999\n",
      "Data columns (total 6 columns):\n",
      " #   Column         Non-Null Count  Dtype  \n",
      "---  ------         --------------  -----  \n",
      " 0   Unnamed: 0     50000 non-null  int64  \n",
      " 1   num_caso       50000 non-null  int64  \n",
      " 2   edad_credit    50000 non-null  float64\n",
      " 3   retrasos_max   50000 non-null  float64\n",
      " 4   comp_interno1  50000 non-null  float64\n",
      " 5   Otorgar        50000 non-null  float64\n",
      "dtypes: float64(4), int64(2)\n",
      "memory usage: 2.3 MB\n"
     ]
    }
   ],
   "source": [
    "bd.info()"
   ]
  },
  {
   "cell_type": "code",
   "execution_count": 45,
   "id": "6811abbd",
   "metadata": {},
   "outputs": [],
   "source": [
    "X = bd.copy()\n",
    "y = X.pop('Otorgar')"
   ]
  },
  {
   "cell_type": "code",
   "execution_count": 46,
   "id": "5c2dbfb8",
   "metadata": {},
   "outputs": [],
   "source": [
    "X_train, X_test, y_train, y_test = train_test_split(X, y,test_size=0.2,stratify=y)"
   ]
  },
  {
   "cell_type": "raw",
   "id": "d2ad74c6",
   "metadata": {},
   "source": [
    "En clase vimos que para tener lista la base a modelar con un árbol de decisión, hay que seguir una serie de pasos:\n",
    "    \n",
    "1.- Lectura y entendimiento de los datos\n",
    "2.- Dividir la base en entrenamiento y validación\n",
    "3.- Reemplazar valores missing\n",
    "4.- Reedefinir las variables categóricas\n",
    "y \n",
    "finalmente, aplicar el modelo de árboles.\n",
    "\n",
    "Esta serie de pasos, puede ser algo engorrosa. Para mitigar este proceso, se recomienda utilizar piplines.\n",
    "Al usar Pipelines, podemos aplicar secuencialmente una lista de transformaciones a los datos y luego entrenar un estimador (modelo) dado.\n",
    "\n",
    "\n",
    "https://scikit-learn.org/stable/modules/generated/sklearn.pipeline.Pipeline.html\n",
    "\n",
    "\n",
    "Lo primero que haremos, será definir cuáles son las variables numéricas (ojo, en general, no todas necesariemnte son de intervalo) y cuales son de tipo object."
   ]
  },
  {
   "cell_type": "code",
   "execution_count": 47,
   "id": "891d6f97",
   "metadata": {},
   "outputs": [],
   "source": [
    "num_features = X_train.select_dtypes(include='number').columns.to_list()"
   ]
  },
  {
   "cell_type": "code",
   "execution_count": 48,
   "id": "58f4cd14",
   "metadata": {},
   "outputs": [
    {
     "data": {
      "text/plain": [
       "['Unnamed: 0', 'num_caso', 'edad_credit', 'retrasos_max', 'comp_interno1']"
      ]
     },
     "execution_count": 48,
     "metadata": {},
     "output_type": "execute_result"
    }
   ],
   "source": [
    "num_features"
   ]
  },
  {
   "cell_type": "code",
   "execution_count": 49,
   "id": "53086f2e",
   "metadata": {},
   "outputs": [],
   "source": [
    "cat_features = X_train.select_dtypes(include='object').columns.to_list()"
   ]
  },
  {
   "cell_type": "code",
   "execution_count": 50,
   "id": "70146384",
   "metadata": {},
   "outputs": [
    {
     "data": {
      "text/plain": [
       "[]"
      ]
     },
     "execution_count": 50,
     "metadata": {},
     "output_type": "execute_result"
    }
   ],
   "source": [
    "cat_features"
   ]
  },
  {
   "cell_type": "markdown",
   "id": "8ee28624",
   "metadata": {},
   "source": [
    "Definimos, cuál será el tratamiento para los missing de las variables numéricas"
   ]
  },
  {
   "cell_type": "code",
   "execution_count": 51,
   "id": "c46626a9",
   "metadata": {},
   "outputs": [],
   "source": [
    "num_pipeline = Pipeline(steps=[('imputer', SimpleImputer(strategy='median'))])"
   ]
  },
  {
   "cell_type": "markdown",
   "id": "a7cad7f8",
   "metadata": {},
   "source": [
    "Definimos, cuál será el tratamiento paro los missings de las variables tipo object"
   ]
  },
  {
   "cell_type": "code",
   "execution_count": 52,
   "id": "0d0627a4",
   "metadata": {},
   "outputs": [],
   "source": [
    "cat_list = [list(X_train[col].dropna().unique()) for col in cat_features]"
   ]
  },
  {
   "cell_type": "code",
   "execution_count": 53,
   "id": "02905c6b",
   "metadata": {},
   "outputs": [],
   "source": [
    "cat_pipeline = Pipeline(steps=[('imputer', SimpleImputer(strategy='most_frequent')),\n",
    "                               ('onehot', OneHotEncoder(categories=cat_list, sparse=False,\n",
    "                                        handle_unknown='error', drop='first'))])"
   ]
  },
  {
   "cell_type": "markdown",
   "id": "72c3dd90",
   "metadata": {},
   "source": [
    "Definimos, finalmente la primera transformación"
   ]
  },
  {
   "cell_type": "code",
   "execution_count": 54,
   "id": "03f58d6c",
   "metadata": {},
   "outputs": [],
   "source": [
    "preprocessor = ColumnTransformer(transformers=[\n",
    "               ('numerical', num_pipeline, num_features),\n",
    "               ('categorical', cat_pipeline, cat_features)],\n",
    "               remainder='drop')\n",
    "#El remainder=drop es para eliminar la columna que no se le aplicó ninguna transformación"
   ]
  },
  {
   "cell_type": "markdown",
   "id": "f6edb26d",
   "metadata": {},
   "source": [
    "Definimos, el segurno paso, que sería aplicar el árbol de decisión"
   ]
  },
  {
   "cell_type": "code",
   "execution_count": 55,
   "id": "f232080d",
   "metadata": {},
   "outputs": [],
   "source": [
    "dec_tree = DecisionTreeClassifier(random_state=42)"
   ]
  },
  {
   "cell_type": "code",
   "execution_count": 56,
   "id": "984a95e0",
   "metadata": {},
   "outputs": [],
   "source": [
    "tree_pipeline = Pipeline(steps=[('preprocessor', preprocessor),('classifier', dec_tree)])"
   ]
  },
  {
   "cell_type": "markdown",
   "id": "79f30f3d",
   "metadata": {},
   "source": [
    "Apliquemos las transformaciones y el modelo de clasificación"
   ]
  },
  {
   "cell_type": "code",
   "execution_count": 57,
   "id": "3b36b12a",
   "metadata": {},
   "outputs": [
    {
     "data": {
      "text/plain": [
       "Pipeline(steps=[('preprocessor',\n",
       "                 ColumnTransformer(transformers=[('numerical',\n",
       "                                                  Pipeline(steps=[('imputer',\n",
       "                                                                   SimpleImputer(strategy='median'))]),\n",
       "                                                  ['Unnamed: 0', 'num_caso',\n",
       "                                                   'edad_credit',\n",
       "                                                   'retrasos_max',\n",
       "                                                   'comp_interno1']),\n",
       "                                                 ('categorical',\n",
       "                                                  Pipeline(steps=[('imputer',\n",
       "                                                                   SimpleImputer(strategy='most_frequent')),\n",
       "                                                                  ('onehot',\n",
       "                                                                   OneHotEncoder(categories=[],\n",
       "                                                                                 drop='first',\n",
       "                                                                                 sparse=False))]),\n",
       "                                                  [])])),\n",
       "                ('classifier', DecisionTreeClassifier(random_state=42))])"
      ]
     },
     "execution_count": 57,
     "metadata": {},
     "output_type": "execute_result"
    }
   ],
   "source": [
    "tree_pipeline.fit(X_train, y_train)"
   ]
  },
  {
   "cell_type": "code",
   "execution_count": 58,
   "id": "59480fe9",
   "metadata": {},
   "outputs": [
    {
     "data": {
      "image/png": "[encoded data removed]",
      "text/plain": [
       "<Figure size 864x432 with 2 Axes>"
      ]
     },
     "metadata": {
      "needs_background": "light"
     },
     "output_type": "display_data"
    }
   ],
   "source": [
    "LABELS = ['Bueno', 'Malo']\n",
    "tree_perf = performance_evaluation_report(tree_pipeline, X_test,y_test, labels=LABELS,show_plot=True)"
   ]
  },
  {
   "cell_type": "markdown",
   "id": "ce88c3b8",
   "metadata": {},
   "source": [
    "En lo anterior como se vio en clase aplicamos el tratamiento de los missings como un paso en el pipline, otras opciones que tambien se vieron son:\n",
    "\n",
    "1.- Reescalamiento o estandarización de variables, esto es porque normalmente las variables no están en la misma escala, esto puede introducir sesgo en el modelo. Por ejemplo, para los modelos de regresión o K-vecinos, se recomienda considerar este paso. En general, los métodos basados en árboles de clasificación no requieren considerar el escalamiento. En scikit - learn algunas opciones populares son: StandardScaler y MinMaxScaler.\n",
    "\n",
    "2.- Discretización de varibles continuas (esto lo hicimos en nuestra regresión logística, por qué no hicimos lo de la escala en la regresión?).\n",
    "\n",
    "3.- Transformación eliminado Outliers: Durante el análisis exploratorio de Datos (que por cierto en nuestro ejemplo no hemos realizado alguno, lo pasamos por el arco del triunfo), se pueden detectar algunas inconsistencia de los datos o simplemente, hay un dato atípico, imagínense tener en la base de ingresos a Laura, mientras en la UNAM nos pagan dos pesos, a la laura 1 millón. Este tipo de cuestiones, pueden sesgar el modelo y entonces debemos tratarlos de alguna manera, es lo que se recomienda.\n",
    "\n",
    "En lo que sigue, eliminaremos los outiliers de la base de datos para tener un modelo más robusto. Crearemos una función que detecte y modifique los valores atípicos."
   ]
  },
  {
   "cell_type": "code",
   "execution_count": 59,
   "id": "72e17f02",
   "metadata": {},
   "outputs": [],
   "source": [
    "from sklearn.base import BaseEstimator, TransformerMixin"
   ]
  },
  {
   "cell_type": "code",
   "execution_count": 60,
   "id": "1ec49320",
   "metadata": {},
   "outputs": [],
   "source": [
    "class OutlierRemover(BaseEstimator, TransformerMixin):\n",
    "    def __init__(self, n_std=3):\n",
    "        self.n_std = n_std\n",
    "    \n",
    "    def fit(self, X, y = None):\n",
    "        if np.isnan(X).any(axis=None):\n",
    "            raise ValueError('''There are missing values in the array! \n",
    "                                Please remove them.''')\n",
    "\n",
    "        mean_vec = np.mean(X, axis=0)\n",
    "        std_vec = np.std(X, axis=0)\n",
    "        \n",
    "        self.upper_band_ = mean_vec + self.n_std * std_vec\n",
    "        self.lower_band_ = mean_vec - self.n_std * std_vec\n",
    "        self.n_features_ = len(self.upper_band_)\n",
    "        \n",
    "        return self \n",
    "    \n",
    "    def transform(self, X, y = None):\n",
    "        X_copy = pd.DataFrame(X.copy())\n",
    "        \n",
    "        upper_band = np.repeat(\n",
    "            self.upper_band_.reshape(self.n_features_, -1), \n",
    "            len(X_copy), \n",
    "            axis=1).transpose()\n",
    "        lower_band = np.repeat(\n",
    "            self.lower_band_.reshape(self.n_features_, -1), \n",
    "            len(X_copy), \n",
    "            axis=1).transpose()\n",
    "        \n",
    "        X_copy[X_copy >= upper_band] = upper_band\n",
    "        X_copy[X_copy <= lower_band] = lower_band\n",
    "        \n",
    "        return X_copy.values"
   ]
  },
  {
   "cell_type": "markdown",
   "id": "a0ef1957",
   "metadata": {},
   "source": [
    "Complementamos el paso de pipline para las variables numéricas"
   ]
  },
  {
   "cell_type": "code",
   "execution_count": 61,
   "id": "63d8c87a",
   "metadata": {},
   "outputs": [],
   "source": [
    "num_pipeline = Pipeline(steps=[\n",
    "    ('imputer', SimpleImputer(strategy='median')),\n",
    "    ('outliers', OutlierRemover())])"
   ]
  },
  {
   "cell_type": "code",
   "execution_count": 62,
   "id": "b12b53af",
   "metadata": {},
   "outputs": [
    {
     "data": {
      "image/png": "[encoded data removed]",
      "text/plain": [
       "<Figure size 864x432 with 2 Axes>"
      ]
     },
     "metadata": {
      "needs_background": "light"
     },
     "output_type": "display_data"
    }
   ],
   "source": [
    "preprocessor = ColumnTransformer(transformers=[('numerical', num_pipeline, num_features),\n",
    "                                               ('categorical', cat_pipeline, cat_features)],\n",
    "                                 remainder='drop')\n",
    "\n",
    "dec_tree = DecisionTreeClassifier(random_state=42)\n",
    "\n",
    "tree_pipeline = Pipeline(steps=[('preprocessor', preprocessor),\n",
    "                                ('classifier', dec_tree)])\n",
    "\n",
    "tree_pipeline.fit(X_train, y_train)\n",
    "\n",
    "tree_perf = performance_evaluation_report(tree_pipeline, X_test, \n",
    "                                          y_test, labels=LABELS, \n",
    "                                          show_plot=True)\n",
    "\n",
    "plt.tight_layout()\n",
    "# plt.savefig('images/ch8_im18.png')\n",
    "plt.show()"
   ]
  },
  {
   "cell_type": "markdown",
   "id": "141f2bb6",
   "metadata": {},
   "source": [
    "Esta gráfica nos permite decir que nuestro modelo es preciso por como se comporta la curva, ahora utilizaremos Cross-Validation para ajustar los hiperparámetros del arbol tal y como lo hizo el profesor en alguna clase."
   ]
  },
  {
   "cell_type": "code",
   "execution_count": 63,
   "id": "885397da",
   "metadata": {},
   "outputs": [],
   "source": [
    "from sklearn.model_selection import (GridSearchCV, cross_val_score,\n",
    "                                                 RandomizedSearchCV,\n",
    "                                                 cross_validate,\n",
    "                                                 StratifiedKFold)\n"
   ]
  },
  {
   "cell_type": "code",
   "execution_count": 64,
   "id": "1a01d9ef",
   "metadata": {},
   "outputs": [],
   "source": [
    "k_fold = StratifiedKFold(5, shuffle=True, random_state=42)"
   ]
  },
  {
   "cell_type": "code",
   "execution_count": 65,
   "id": "4251e511",
   "metadata": {},
   "outputs": [
    {
     "data": {
      "text/plain": [
       "array([0.999375, 0.9995  , 0.99925 , 0.998875, 0.999   ])"
      ]
     },
     "execution_count": 65,
     "metadata": {},
     "output_type": "execute_result"
    }
   ],
   "source": [
    "cross_val_score(tree_pipeline, X_train, y_train, cv=k_fold)"
   ]
  },
  {
   "cell_type": "code",
   "execution_count": 66,
   "id": "661ba4d1",
   "metadata": {},
   "outputs": [
    {
     "data": {
      "text/plain": [
       "{'fit_time': array([0.07543254, 0.07448602, 0.06840682, 0.07265162, 0.06929612]),\n",
       " 'score_time': array([0.02143097, 0.01841927, 0.01970005, 0.01921678, 0.0191052 ]),\n",
       " 'test_accuracy': array([0.999375, 0.9995  , 0.99925 , 0.998875, 0.999   ]),\n",
       " 'test_precision': array([0.99987224, 0.99974454, 0.99948921, 0.99923391, 0.99987217]),\n",
       " 'test_recall': array([0.99948914, 0.99974454, 0.99974454, 0.99961681, 0.99910589]),\n",
       " 'test_roc_auc': array([0.9968034 , 0.99402432, 0.98817636, 0.98226455, 0.99662897])}"
      ]
     },
     "execution_count": 66,
     "metadata": {},
     "output_type": "execute_result"
    }
   ],
   "source": [
    "cross_validate(tree_pipeline, X_train, y_train, cv=k_fold,\n",
    "                           scoring=['accuracy', 'precision', 'recall','roc_auc'])"
   ]
  },
  {
   "cell_type": "code",
   "execution_count": 67,
   "id": "bbb196bd",
   "metadata": {},
   "outputs": [],
   "source": [
    "param_grid = {'classifier__criterion': ['entropy', 'gini'],\n",
    "               'classifier__max_depth': range(3, 11),\n",
    "               'classifier__min_samples_leaf': range(2, 11)}\n"
   ]
  },
  {
   "cell_type": "code",
   "execution_count": 68,
   "id": "cb4a3a3e",
   "metadata": {},
   "outputs": [
    {
     "name": "stdout",
     "output_type": "stream",
     "text": [
      "Fitting 5 folds for each of 144 candidates, totalling 720 fits\n"
     ]
    },
    {
     "data": {
      "text/plain": [
       "GridSearchCV(cv=StratifiedKFold(n_splits=5, random_state=42, shuffle=True),\n",
       "             estimator=Pipeline(steps=[('preprocessor',\n",
       "                                        ColumnTransformer(transformers=[('numerical',\n",
       "                                                                         Pipeline(steps=[('imputer',\n",
       "                                                                                          SimpleImputer(strategy='median')),\n",
       "                                                                                         ('outliers',\n",
       "                                                                                          OutlierRemover())]),\n",
       "                                                                         ['Unnamed: '\n",
       "                                                                          '0',\n",
       "                                                                          'num_caso',\n",
       "                                                                          'edad_credit',\n",
       "                                                                          'retrasos_max',\n",
       "                                                                          'comp_interno1']),\n",
       "                                                                        ('categorical',\n",
       "                                                                         Pipeline(...ter',\n",
       "                                                                                          SimpleImputer(strategy='most_frequent')),\n",
       "                                                                                         ('onehot',\n",
       "                                                                                          OneHotEncoder(categories=[],\n",
       "                                                                                                        drop='first',\n",
       "                                                                                                        sparse=False))]),\n",
       "                                                                         [])])),\n",
       "                                       ('classifier',\n",
       "                                        DecisionTreeClassifier(random_state=42))]),\n",
       "             n_jobs=-1,\n",
       "             param_grid={'classifier__criterion': ['entropy', 'gini'],\n",
       "                         'classifier__max_depth': range(3, 11),\n",
       "                         'classifier__min_samples_leaf': range(2, 11)},\n",
       "             scoring='recall', verbose=1)"
      ]
     },
     "execution_count": 68,
     "metadata": {},
     "output_type": "execute_result"
    }
   ],
   "source": [
    "classifier_gs = GridSearchCV(tree_pipeline, param_grid,scoring='recall',cv=k_fold, n_jobs=-1, verbose=1)\n",
    "classifier_gs.fit(X_train, y_train)"
   ]
  },
  {
   "cell_type": "code",
   "execution_count": 69,
   "id": "644dbf8d",
   "metadata": {},
   "outputs": [
    {
     "name": "stdout",
     "output_type": "stream",
     "text": [
      "Best parameters: {'classifier__criterion': 'gini', 'classifier__max_depth': 6, 'classifier__min_samples_leaf': 5}\n",
      "Recall (Training set): 0.9998\n",
      "Recall (Test set): 0.9997\n"
     ]
    }
   ],
   "source": [
    "print(f'Best parameters: {classifier_gs.best_params_}') \n",
    "print(f'Recall (Training set): {classifier_gs.best_score_:.4f}') \n",
    "print(f'Recall (Test set): {metrics.recall_score(y_test, classifier_gs.predict(X_test)):.4f}')"
   ]
  },
  {
   "cell_type": "code",
   "execution_count": 70,
   "id": "7509d798",
   "metadata": {},
   "outputs": [
    {
     "data": {
      "image/png": "[encoded data removed]",
      "text/plain": [
       "<Figure size 864x432 with 2 Axes>"
      ]
     },
     "metadata": {
      "needs_background": "light"
     },
     "output_type": "display_data"
    }
   ],
   "source": [
    "LABELS = ['No Default', 'Default']\n",
    "tree_gs_perf = performance_evaluation_report(classifier_gs, X_test, \n",
    "                                             y_test, labels=LABELS, \n",
    "                                             show_plot=True)\n",
    "\n",
    "plt.tight_layout()\n",
    "#plt.savefig('images/ch8_im20.png')\n",
    "plt.show()"
   ]
  },
  {
   "cell_type": "code",
   "execution_count": 71,
   "id": "e74bf452",
   "metadata": {},
   "outputs": [],
   "source": [
    "from sklearn.metrics import roc_auc_score, roc_curve, mean_squared_error, precision_recall_curve,  accuracy_score"
   ]
  },
  {
   "cell_type": "markdown",
   "id": "9bf5b81e",
   "metadata": {},
   "source": [
    "Ahora lo que se hace es comprobar manualmente si en raelidad la aproximación es la óptima "
   ]
  },
  {
   "cell_type": "code",
   "execution_count": 72,
   "id": "2b1b14ca",
   "metadata": {},
   "outputs": [
    {
     "name": "stdout",
     "output_type": "stream",
     "text": [
      "1 2 3 4 5 6 7 8 9 10 11 12 13 14 15 16 17 18 19 20 21 22 23 24 25 "
     ]
    }
   ],
   "source": [
    "train_scores, val_scores, leaves = {}, {}, {}\n",
    "for max_depth in range(1, 26):\n",
    "    print(max_depth, end=' ', flush=True)\n",
    "    reg_tree = DecisionTreeClassifier(criterion='gini',\n",
    "                                          max_depth=max_depth,\n",
    "                                          min_samples_leaf=10,\n",
    "                                          random_state=42)\n",
    "    tree_pipeline = Pipeline(steps=[('preprocessor', preprocessor),('classifier', reg_tree)])\n",
    "    train_scores[max_depth], val_scores[max_depth], leaves[max_depth] = [],[], []\n",
    "    for train_idx, test_idx in k_fold.split(X_train,y_train):\n",
    "        X_t, y_t,  = X_train.iloc[train_idx], y_train.iloc[train_idx]\n",
    "        X_te, y_te = X_train.iloc[test_idx], y_train.iloc[test_idx]\n",
    "        tree_pipeline.fit(X_t, y_t)\n",
    "        train_pred = tree_pipeline.predict_proba(X=X_t)[:, 1]\n",
    "        train_score = roc_auc_score(y_score=train_pred, y_true=y_t)\n",
    "        #print(train_score)\n",
    "        train_scores[max_depth].append(train_score)\n",
    "\n",
    "        test_pred = tree_pipeline.predict_proba(X=X_te)[:, 1]\n",
    "        val_score = roc_auc_score(y_score=test_pred, y_true=y_te)\n",
    "        val_scores[max_depth].append(val_score)  \n",
    "        #print(val_score)\n",
    "        leaves[max_depth].append(max_depth)\n",
    "        #reg_tree.fit(X=X_t, y=y_t)\n",
    "\n",
    "        \n",
    "        #train_scores[max_depth].append(train_score)\n",
    "\n",
    "        #test_pred = reg_tree.predict(X=X_test)\n",
    "        #val_score = np.sqrt(mean_squared_error(\n",
    "        #    y_pred=test_pred, y_true=y_test))\n",
    "        #val_scores[max_depth].append(val_score)\n",
    "        #leaves[max_depth].append(get_leaves_count(reg_tree))"
   ]
  },
  {
   "cell_type": "code",
   "execution_count": 73,
   "id": "60dfc206",
   "metadata": {},
   "outputs": [
    {
     "data": {
      "text/html": [
       "<div>\n",
       "<style scoped>\n",
       "    .dataframe tbody tr th:only-of-type {\n",
       "        vertical-align: middle;\n",
       "    }\n",
       "\n",
       "    .dataframe tbody tr th {\n",
       "        vertical-align: top;\n",
       "    }\n",
       "\n",
       "    .dataframe thead th {\n",
       "        text-align: right;\n",
       "    }\n",
       "</style>\n",
       "<table border=\"1\" class=\"dataframe\">\n",
       "  <thead>\n",
       "    <tr style=\"text-align: right;\">\n",
       "      <th></th>\n",
       "      <th>1</th>\n",
       "      <th>2</th>\n",
       "      <th>3</th>\n",
       "      <th>4</th>\n",
       "      <th>5</th>\n",
       "      <th>6</th>\n",
       "      <th>7</th>\n",
       "      <th>8</th>\n",
       "      <th>9</th>\n",
       "      <th>10</th>\n",
       "      <th>...</th>\n",
       "      <th>16</th>\n",
       "      <th>17</th>\n",
       "      <th>18</th>\n",
       "      <th>19</th>\n",
       "      <th>20</th>\n",
       "      <th>21</th>\n",
       "      <th>22</th>\n",
       "      <th>23</th>\n",
       "      <th>24</th>\n",
       "      <th>25</th>\n",
       "    </tr>\n",
       "  </thead>\n",
       "  <tbody>\n",
       "    <tr>\n",
       "      <th>0</th>\n",
       "      <td>0.767668</td>\n",
       "      <td>0.988720</td>\n",
       "      <td>0.997945</td>\n",
       "      <td>0.999675</td>\n",
       "      <td>0.999959</td>\n",
       "      <td>0.999981</td>\n",
       "      <td>0.999985</td>\n",
       "      <td>0.999985</td>\n",
       "      <td>0.999985</td>\n",
       "      <td>0.999985</td>\n",
       "      <td>...</td>\n",
       "      <td>0.999985</td>\n",
       "      <td>0.999985</td>\n",
       "      <td>0.999985</td>\n",
       "      <td>0.999985</td>\n",
       "      <td>0.999985</td>\n",
       "      <td>0.999985</td>\n",
       "      <td>0.999985</td>\n",
       "      <td>0.999985</td>\n",
       "      <td>0.999985</td>\n",
       "      <td>0.999985</td>\n",
       "    </tr>\n",
       "    <tr>\n",
       "      <th>1</th>\n",
       "      <td>0.774586</td>\n",
       "      <td>0.990908</td>\n",
       "      <td>0.997267</td>\n",
       "      <td>0.999024</td>\n",
       "      <td>0.999922</td>\n",
       "      <td>0.999976</td>\n",
       "      <td>0.999979</td>\n",
       "      <td>0.999979</td>\n",
       "      <td>0.999979</td>\n",
       "      <td>0.999979</td>\n",
       "      <td>...</td>\n",
       "      <td>0.999979</td>\n",
       "      <td>0.999979</td>\n",
       "      <td>0.999979</td>\n",
       "      <td>0.999979</td>\n",
       "      <td>0.999979</td>\n",
       "      <td>0.999979</td>\n",
       "      <td>0.999979</td>\n",
       "      <td>0.999979</td>\n",
       "      <td>0.999979</td>\n",
       "      <td>0.999979</td>\n",
       "    </tr>\n",
       "    <tr>\n",
       "      <th>2</th>\n",
       "      <td>0.773122</td>\n",
       "      <td>0.990930</td>\n",
       "      <td>0.997916</td>\n",
       "      <td>0.999702</td>\n",
       "      <td>0.999941</td>\n",
       "      <td>0.999979</td>\n",
       "      <td>0.999982</td>\n",
       "      <td>0.999982</td>\n",
       "      <td>0.999982</td>\n",
       "      <td>0.999982</td>\n",
       "      <td>...</td>\n",
       "      <td>0.999982</td>\n",
       "      <td>0.999982</td>\n",
       "      <td>0.999982</td>\n",
       "      <td>0.999982</td>\n",
       "      <td>0.999982</td>\n",
       "      <td>0.999982</td>\n",
       "      <td>0.999982</td>\n",
       "      <td>0.999982</td>\n",
       "      <td>0.999982</td>\n",
       "      <td>0.999982</td>\n",
       "    </tr>\n",
       "    <tr>\n",
       "      <th>3</th>\n",
       "      <td>0.766517</td>\n",
       "      <td>0.989317</td>\n",
       "      <td>0.998621</td>\n",
       "      <td>0.999698</td>\n",
       "      <td>0.999901</td>\n",
       "      <td>0.999948</td>\n",
       "      <td>0.999965</td>\n",
       "      <td>0.999975</td>\n",
       "      <td>0.999977</td>\n",
       "      <td>0.999977</td>\n",
       "      <td>...</td>\n",
       "      <td>0.999977</td>\n",
       "      <td>0.999977</td>\n",
       "      <td>0.999977</td>\n",
       "      <td>0.999977</td>\n",
       "      <td>0.999977</td>\n",
       "      <td>0.999977</td>\n",
       "      <td>0.999977</td>\n",
       "      <td>0.999977</td>\n",
       "      <td>0.999977</td>\n",
       "      <td>0.999977</td>\n",
       "    </tr>\n",
       "    <tr>\n",
       "      <th>4</th>\n",
       "      <td>0.764385</td>\n",
       "      <td>0.989323</td>\n",
       "      <td>0.997827</td>\n",
       "      <td>0.999688</td>\n",
       "      <td>0.999914</td>\n",
       "      <td>0.999960</td>\n",
       "      <td>0.999971</td>\n",
       "      <td>0.999976</td>\n",
       "      <td>0.999976</td>\n",
       "      <td>0.999976</td>\n",
       "      <td>...</td>\n",
       "      <td>0.999976</td>\n",
       "      <td>0.999976</td>\n",
       "      <td>0.999976</td>\n",
       "      <td>0.999976</td>\n",
       "      <td>0.999976</td>\n",
       "      <td>0.999976</td>\n",
       "      <td>0.999976</td>\n",
       "      <td>0.999976</td>\n",
       "      <td>0.999976</td>\n",
       "      <td>0.999976</td>\n",
       "    </tr>\n",
       "  </tbody>\n",
       "</table>\n",
       "<p>5 rows × 25 columns</p>\n",
       "</div>"
      ],
      "text/plain": [
       "         1         2         3         4         5         6         7   \\\n",
       "0  0.767668  0.988720  0.997945  0.999675  0.999959  0.999981  0.999985   \n",
       "1  0.774586  0.990908  0.997267  0.999024  0.999922  0.999976  0.999979   \n",
       "2  0.773122  0.990930  0.997916  0.999702  0.999941  0.999979  0.999982   \n",
       "3  0.766517  0.989317  0.998621  0.999698  0.999901  0.999948  0.999965   \n",
       "4  0.764385  0.989323  0.997827  0.999688  0.999914  0.999960  0.999971   \n",
       "\n",
       "         8         9         10  ...        16        17        18        19  \\\n",
       "0  0.999985  0.999985  0.999985  ...  0.999985  0.999985  0.999985  0.999985   \n",
       "1  0.999979  0.999979  0.999979  ...  0.999979  0.999979  0.999979  0.999979   \n",
       "2  0.999982  0.999982  0.999982  ...  0.999982  0.999982  0.999982  0.999982   \n",
       "3  0.999975  0.999977  0.999977  ...  0.999977  0.999977  0.999977  0.999977   \n",
       "4  0.999976  0.999976  0.999976  ...  0.999976  0.999976  0.999976  0.999976   \n",
       "\n",
       "         20        21        22        23        24        25  \n",
       "0  0.999985  0.999985  0.999985  0.999985  0.999985  0.999985  \n",
       "1  0.999979  0.999979  0.999979  0.999979  0.999979  0.999979  \n",
       "2  0.999982  0.999982  0.999982  0.999982  0.999982  0.999982  \n",
       "3  0.999977  0.999977  0.999977  0.999977  0.999977  0.999977  \n",
       "4  0.999976  0.999976  0.999976  0.999976  0.999976  0.999976  \n",
       "\n",
       "[5 rows x 25 columns]"
      ]
     },
     "execution_count": 73,
     "metadata": {},
     "output_type": "execute_result"
    }
   ],
   "source": [
    "clf_train_scores = pd.DataFrame(train_scores)\n",
    "clf_valid_scores = pd.DataFrame(val_scores)\n",
    "bd_leaves = pd.DataFrame(leaves)\n",
    "clf_train_scores"
   ]
  },
  {
   "cell_type": "code",
   "execution_count": 74,
   "id": "1dfef3d6",
   "metadata": {},
   "outputs": [
    {
     "data": {
      "text/plain": [
       "{1: [1, 1, 1, 1, 1],\n",
       " 2: [2, 2, 2, 2, 2],\n",
       " 3: [3, 3, 3, 3, 3],\n",
       " 4: [4, 4, 4, 4, 4],\n",
       " 5: [5, 5, 5, 5, 5],\n",
       " 6: [6, 6, 6, 6, 6],\n",
       " 7: [7, 7, 7, 7, 7],\n",
       " 8: [8, 8, 8, 8, 8],\n",
       " 9: [9, 9, 9, 9, 9],\n",
       " 10: [10, 10, 10, 10, 10],\n",
       " 11: [11, 11, 11, 11, 11],\n",
       " 12: [12, 12, 12, 12, 12],\n",
       " 13: [13, 13, 13, 13, 13],\n",
       " 14: [14, 14, 14, 14, 14],\n",
       " 15: [15, 15, 15, 15, 15],\n",
       " 16: [16, 16, 16, 16, 16],\n",
       " 17: [17, 17, 17, 17, 17],\n",
       " 18: [18, 18, 18, 18, 18],\n",
       " 19: [19, 19, 19, 19, 19],\n",
       " 20: [20, 20, 20, 20, 20],\n",
       " 21: [21, 21, 21, 21, 21],\n",
       " 22: [22, 22, 22, 22, 22],\n",
       " 23: [23, 23, 23, 23, 23],\n",
       " 24: [24, 24, 24, 24, 24],\n",
       " 25: [25, 25, 25, 25, 25]}"
      ]
     },
     "execution_count": 74,
     "metadata": {},
     "output_type": "execute_result"
    }
   ],
   "source": [
    "leaves"
   ]
  },
  {
   "cell_type": "code",
   "execution_count": 75,
   "id": "c30941f2",
   "metadata": {},
   "outputs": [
    {
     "data": {
      "text/html": [
       "<div>\n",
       "<style scoped>\n",
       "    .dataframe tbody tr th:only-of-type {\n",
       "        vertical-align: middle;\n",
       "    }\n",
       "\n",
       "    .dataframe tbody tr th {\n",
       "        vertical-align: top;\n",
       "    }\n",
       "\n",
       "    .dataframe thead th {\n",
       "        text-align: right;\n",
       "    }\n",
       "</style>\n",
       "<table border=\"1\" class=\"dataframe\">\n",
       "  <thead>\n",
       "    <tr style=\"text-align: right;\">\n",
       "      <th></th>\n",
       "      <th>1</th>\n",
       "      <th>2</th>\n",
       "      <th>3</th>\n",
       "      <th>4</th>\n",
       "      <th>5</th>\n",
       "      <th>6</th>\n",
       "      <th>7</th>\n",
       "      <th>8</th>\n",
       "      <th>9</th>\n",
       "      <th>10</th>\n",
       "      <th>...</th>\n",
       "      <th>16</th>\n",
       "      <th>17</th>\n",
       "      <th>18</th>\n",
       "      <th>19</th>\n",
       "      <th>20</th>\n",
       "      <th>21</th>\n",
       "      <th>22</th>\n",
       "      <th>23</th>\n",
       "      <th>24</th>\n",
       "      <th>25</th>\n",
       "    </tr>\n",
       "  </thead>\n",
       "  <tbody>\n",
       "    <tr>\n",
       "      <th>0</th>\n",
       "      <td>0.767668</td>\n",
       "      <td>0.988720</td>\n",
       "      <td>0.997945</td>\n",
       "      <td>0.999675</td>\n",
       "      <td>0.999959</td>\n",
       "      <td>0.999981</td>\n",
       "      <td>0.999985</td>\n",
       "      <td>0.999985</td>\n",
       "      <td>0.999985</td>\n",
       "      <td>0.999985</td>\n",
       "      <td>...</td>\n",
       "      <td>0.999985</td>\n",
       "      <td>0.999985</td>\n",
       "      <td>0.999985</td>\n",
       "      <td>0.999985</td>\n",
       "      <td>0.999985</td>\n",
       "      <td>0.999985</td>\n",
       "      <td>0.999985</td>\n",
       "      <td>0.999985</td>\n",
       "      <td>0.999985</td>\n",
       "      <td>0.999985</td>\n",
       "    </tr>\n",
       "    <tr>\n",
       "      <th>1</th>\n",
       "      <td>0.774586</td>\n",
       "      <td>0.990908</td>\n",
       "      <td>0.997267</td>\n",
       "      <td>0.999024</td>\n",
       "      <td>0.999922</td>\n",
       "      <td>0.999976</td>\n",
       "      <td>0.999979</td>\n",
       "      <td>0.999979</td>\n",
       "      <td>0.999979</td>\n",
       "      <td>0.999979</td>\n",
       "      <td>...</td>\n",
       "      <td>0.999979</td>\n",
       "      <td>0.999979</td>\n",
       "      <td>0.999979</td>\n",
       "      <td>0.999979</td>\n",
       "      <td>0.999979</td>\n",
       "      <td>0.999979</td>\n",
       "      <td>0.999979</td>\n",
       "      <td>0.999979</td>\n",
       "      <td>0.999979</td>\n",
       "      <td>0.999979</td>\n",
       "    </tr>\n",
       "    <tr>\n",
       "      <th>2</th>\n",
       "      <td>0.773122</td>\n",
       "      <td>0.990930</td>\n",
       "      <td>0.997916</td>\n",
       "      <td>0.999702</td>\n",
       "      <td>0.999941</td>\n",
       "      <td>0.999979</td>\n",
       "      <td>0.999982</td>\n",
       "      <td>0.999982</td>\n",
       "      <td>0.999982</td>\n",
       "      <td>0.999982</td>\n",
       "      <td>...</td>\n",
       "      <td>0.999982</td>\n",
       "      <td>0.999982</td>\n",
       "      <td>0.999982</td>\n",
       "      <td>0.999982</td>\n",
       "      <td>0.999982</td>\n",
       "      <td>0.999982</td>\n",
       "      <td>0.999982</td>\n",
       "      <td>0.999982</td>\n",
       "      <td>0.999982</td>\n",
       "      <td>0.999982</td>\n",
       "    </tr>\n",
       "    <tr>\n",
       "      <th>3</th>\n",
       "      <td>0.766517</td>\n",
       "      <td>0.989317</td>\n",
       "      <td>0.998621</td>\n",
       "      <td>0.999698</td>\n",
       "      <td>0.999901</td>\n",
       "      <td>0.999948</td>\n",
       "      <td>0.999965</td>\n",
       "      <td>0.999975</td>\n",
       "      <td>0.999977</td>\n",
       "      <td>0.999977</td>\n",
       "      <td>...</td>\n",
       "      <td>0.999977</td>\n",
       "      <td>0.999977</td>\n",
       "      <td>0.999977</td>\n",
       "      <td>0.999977</td>\n",
       "      <td>0.999977</td>\n",
       "      <td>0.999977</td>\n",
       "      <td>0.999977</td>\n",
       "      <td>0.999977</td>\n",
       "      <td>0.999977</td>\n",
       "      <td>0.999977</td>\n",
       "    </tr>\n",
       "    <tr>\n",
       "      <th>4</th>\n",
       "      <td>0.764385</td>\n",
       "      <td>0.989323</td>\n",
       "      <td>0.997827</td>\n",
       "      <td>0.999688</td>\n",
       "      <td>0.999914</td>\n",
       "      <td>0.999960</td>\n",
       "      <td>0.999971</td>\n",
       "      <td>0.999976</td>\n",
       "      <td>0.999976</td>\n",
       "      <td>0.999976</td>\n",
       "      <td>...</td>\n",
       "      <td>0.999976</td>\n",
       "      <td>0.999976</td>\n",
       "      <td>0.999976</td>\n",
       "      <td>0.999976</td>\n",
       "      <td>0.999976</td>\n",
       "      <td>0.999976</td>\n",
       "      <td>0.999976</td>\n",
       "      <td>0.999976</td>\n",
       "      <td>0.999976</td>\n",
       "      <td>0.999976</td>\n",
       "    </tr>\n",
       "  </tbody>\n",
       "</table>\n",
       "<p>5 rows × 25 columns</p>\n",
       "</div>"
      ],
      "text/plain": [
       "         1         2         3         4         5         6         7   \\\n",
       "0  0.767668  0.988720  0.997945  0.999675  0.999959  0.999981  0.999985   \n",
       "1  0.774586  0.990908  0.997267  0.999024  0.999922  0.999976  0.999979   \n",
       "2  0.773122  0.990930  0.997916  0.999702  0.999941  0.999979  0.999982   \n",
       "3  0.766517  0.989317  0.998621  0.999698  0.999901  0.999948  0.999965   \n",
       "4  0.764385  0.989323  0.997827  0.999688  0.999914  0.999960  0.999971   \n",
       "\n",
       "         8         9         10  ...        16        17        18        19  \\\n",
       "0  0.999985  0.999985  0.999985  ...  0.999985  0.999985  0.999985  0.999985   \n",
       "1  0.999979  0.999979  0.999979  ...  0.999979  0.999979  0.999979  0.999979   \n",
       "2  0.999982  0.999982  0.999982  ...  0.999982  0.999982  0.999982  0.999982   \n",
       "3  0.999975  0.999977  0.999977  ...  0.999977  0.999977  0.999977  0.999977   \n",
       "4  0.999976  0.999976  0.999976  ...  0.999976  0.999976  0.999976  0.999976   \n",
       "\n",
       "         20        21        22        23        24        25  \n",
       "0  0.999985  0.999985  0.999985  0.999985  0.999985  0.999985  \n",
       "1  0.999979  0.999979  0.999979  0.999979  0.999979  0.999979  \n",
       "2  0.999982  0.999982  0.999982  0.999982  0.999982  0.999982  \n",
       "3  0.999977  0.999977  0.999977  0.999977  0.999977  0.999977  \n",
       "4  0.999976  0.999976  0.999976  0.999976  0.999976  0.999976  \n",
       "\n",
       "[5 rows x 25 columns]"
      ]
     },
     "execution_count": 75,
     "metadata": {},
     "output_type": "execute_result"
    }
   ],
   "source": [
    "clf_train_scores"
   ]
  },
  {
   "cell_type": "code",
   "execution_count": 76,
   "id": "48a292c9",
   "metadata": {},
   "outputs": [
    {
     "data": {
      "text/html": [
       "<div>\n",
       "<style scoped>\n",
       "    .dataframe tbody tr th:only-of-type {\n",
       "        vertical-align: middle;\n",
       "    }\n",
       "\n",
       "    .dataframe tbody tr th {\n",
       "        vertical-align: top;\n",
       "    }\n",
       "\n",
       "    .dataframe thead th {\n",
       "        text-align: right;\n",
       "    }\n",
       "</style>\n",
       "<table border=\"1\" class=\"dataframe\">\n",
       "  <thead>\n",
       "    <tr style=\"text-align: right;\">\n",
       "      <th></th>\n",
       "      <th>1</th>\n",
       "      <th>2</th>\n",
       "      <th>3</th>\n",
       "      <th>4</th>\n",
       "      <th>5</th>\n",
       "      <th>6</th>\n",
       "      <th>7</th>\n",
       "      <th>8</th>\n",
       "      <th>9</th>\n",
       "      <th>10</th>\n",
       "      <th>...</th>\n",
       "      <th>16</th>\n",
       "      <th>17</th>\n",
       "      <th>18</th>\n",
       "      <th>19</th>\n",
       "      <th>20</th>\n",
       "      <th>21</th>\n",
       "      <th>22</th>\n",
       "      <th>23</th>\n",
       "      <th>24</th>\n",
       "      <th>25</th>\n",
       "    </tr>\n",
       "  </thead>\n",
       "  <tbody>\n",
       "    <tr>\n",
       "      <th>0</th>\n",
       "      <td>0.775640</td>\n",
       "      <td>0.993838</td>\n",
       "      <td>0.999294</td>\n",
       "      <td>0.999615</td>\n",
       "      <td>0.999855</td>\n",
       "      <td>0.996952</td>\n",
       "      <td>0.996971</td>\n",
       "      <td>0.996971</td>\n",
       "      <td>0.996971</td>\n",
       "      <td>0.996971</td>\n",
       "      <td>...</td>\n",
       "      <td>0.996971</td>\n",
       "      <td>0.996971</td>\n",
       "      <td>0.996971</td>\n",
       "      <td>0.996971</td>\n",
       "      <td>0.996971</td>\n",
       "      <td>0.996971</td>\n",
       "      <td>0.996971</td>\n",
       "      <td>0.996971</td>\n",
       "      <td>0.996971</td>\n",
       "      <td>0.996971</td>\n",
       "    </tr>\n",
       "    <tr>\n",
       "      <th>1</th>\n",
       "      <td>0.747963</td>\n",
       "      <td>0.985106</td>\n",
       "      <td>0.987962</td>\n",
       "      <td>0.996859</td>\n",
       "      <td>0.993941</td>\n",
       "      <td>0.994130</td>\n",
       "      <td>0.994132</td>\n",
       "      <td>0.994132</td>\n",
       "      <td>0.994132</td>\n",
       "      <td>0.994132</td>\n",
       "      <td>...</td>\n",
       "      <td>0.994132</td>\n",
       "      <td>0.994132</td>\n",
       "      <td>0.994132</td>\n",
       "      <td>0.994132</td>\n",
       "      <td>0.994132</td>\n",
       "      <td>0.994132</td>\n",
       "      <td>0.994132</td>\n",
       "      <td>0.994132</td>\n",
       "      <td>0.994132</td>\n",
       "      <td>0.994132</td>\n",
       "    </tr>\n",
       "    <tr>\n",
       "      <th>2</th>\n",
       "      <td>0.753811</td>\n",
       "      <td>0.984992</td>\n",
       "      <td>0.999402</td>\n",
       "      <td>0.999631</td>\n",
       "      <td>0.997048</td>\n",
       "      <td>0.997065</td>\n",
       "      <td>0.997060</td>\n",
       "      <td>0.997060</td>\n",
       "      <td>0.997060</td>\n",
       "      <td>0.997060</td>\n",
       "      <td>...</td>\n",
       "      <td>0.997060</td>\n",
       "      <td>0.997060</td>\n",
       "      <td>0.997060</td>\n",
       "      <td>0.997060</td>\n",
       "      <td>0.997060</td>\n",
       "      <td>0.997060</td>\n",
       "      <td>0.997060</td>\n",
       "      <td>0.997060</td>\n",
       "      <td>0.997060</td>\n",
       "      <td>0.997060</td>\n",
       "    </tr>\n",
       "    <tr>\n",
       "      <th>3</th>\n",
       "      <td>0.780191</td>\n",
       "      <td>0.993045</td>\n",
       "      <td>0.996202</td>\n",
       "      <td>0.993808</td>\n",
       "      <td>0.994061</td>\n",
       "      <td>0.994124</td>\n",
       "      <td>0.994131</td>\n",
       "      <td>0.994118</td>\n",
       "      <td>0.994120</td>\n",
       "      <td>0.994120</td>\n",
       "      <td>...</td>\n",
       "      <td>0.994120</td>\n",
       "      <td>0.994120</td>\n",
       "      <td>0.994120</td>\n",
       "      <td>0.994120</td>\n",
       "      <td>0.994120</td>\n",
       "      <td>0.994120</td>\n",
       "      <td>0.994120</td>\n",
       "      <td>0.994120</td>\n",
       "      <td>0.994120</td>\n",
       "      <td>0.994120</td>\n",
       "    </tr>\n",
       "    <tr>\n",
       "      <th>4</th>\n",
       "      <td>0.788707</td>\n",
       "      <td>0.993047</td>\n",
       "      <td>0.999393</td>\n",
       "      <td>0.999618</td>\n",
       "      <td>0.999853</td>\n",
       "      <td>0.999897</td>\n",
       "      <td>0.999914</td>\n",
       "      <td>0.999916</td>\n",
       "      <td>0.999916</td>\n",
       "      <td>0.999916</td>\n",
       "      <td>...</td>\n",
       "      <td>0.999916</td>\n",
       "      <td>0.999916</td>\n",
       "      <td>0.999916</td>\n",
       "      <td>0.999916</td>\n",
       "      <td>0.999916</td>\n",
       "      <td>0.999916</td>\n",
       "      <td>0.999916</td>\n",
       "      <td>0.999916</td>\n",
       "      <td>0.999916</td>\n",
       "      <td>0.999916</td>\n",
       "    </tr>\n",
       "  </tbody>\n",
       "</table>\n",
       "<p>5 rows × 25 columns</p>\n",
       "</div>"
      ],
      "text/plain": [
       "         1         2         3         4         5         6         7   \\\n",
       "0  0.775640  0.993838  0.999294  0.999615  0.999855  0.996952  0.996971   \n",
       "1  0.747963  0.985106  0.987962  0.996859  0.993941  0.994130  0.994132   \n",
       "2  0.753811  0.984992  0.999402  0.999631  0.997048  0.997065  0.997060   \n",
       "3  0.780191  0.993045  0.996202  0.993808  0.994061  0.994124  0.994131   \n",
       "4  0.788707  0.993047  0.999393  0.999618  0.999853  0.999897  0.999914   \n",
       "\n",
       "         8         9         10  ...        16        17        18        19  \\\n",
       "0  0.996971  0.996971  0.996971  ...  0.996971  0.996971  0.996971  0.996971   \n",
       "1  0.994132  0.994132  0.994132  ...  0.994132  0.994132  0.994132  0.994132   \n",
       "2  0.997060  0.997060  0.997060  ...  0.997060  0.997060  0.997060  0.997060   \n",
       "3  0.994118  0.994120  0.994120  ...  0.994120  0.994120  0.994120  0.994120   \n",
       "4  0.999916  0.999916  0.999916  ...  0.999916  0.999916  0.999916  0.999916   \n",
       "\n",
       "         20        21        22        23        24        25  \n",
       "0  0.996971  0.996971  0.996971  0.996971  0.996971  0.996971  \n",
       "1  0.994132  0.994132  0.994132  0.994132  0.994132  0.994132  \n",
       "2  0.997060  0.997060  0.997060  0.997060  0.997060  0.997060  \n",
       "3  0.994120  0.994120  0.994120  0.994120  0.994120  0.994120  \n",
       "4  0.999916  0.999916  0.999916  0.999916  0.999916  0.999916  \n",
       "\n",
       "[5 rows x 25 columns]"
      ]
     },
     "execution_count": 76,
     "metadata": {},
     "output_type": "execute_result"
    }
   ],
   "source": [
    "clf_valid_scores"
   ]
  },
  {
   "cell_type": "code",
   "execution_count": 77,
   "id": "b9145785",
   "metadata": {},
   "outputs": [],
   "source": [
    "roc_entrenamiento=[]\n",
    "for c in clf_train_scores.columns:\n",
    "    promedio_roc=mean(clf_train_scores[c])\n",
    "    roc_entrenamiento.append(promedio_roc)\n",
    "    \n",
    "roc_validacion=[]\n",
    "for c in clf_valid_scores.columns:\n",
    "    promedio_roc=mean(clf_valid_scores[c])\n",
    "    roc_validacion.append(promedio_roc)\n",
    "\n",
    "prof=[]\n",
    "for c in bd_leaves.columns:\n",
    "    id_=mean(bd_leaves[c])\n",
    "    prof.append(id_)"
   ]
  },
  {
   "cell_type": "code",
   "execution_count": 78,
   "id": "0d59a04d",
   "metadata": {},
   "outputs": [
    {
     "data": {
      "text/plain": [
       "[0.7692553936554669,\n",
       " 0.9898395155248133,\n",
       " 0.9979152673431667,\n",
       " 0.9995576050462962,\n",
       " 0.9999274434349597,\n",
       " 0.9999687564677995,\n",
       " 0.9999761703275405,\n",
       " 0.9999793027039656,\n",
       " 0.9999796206167968,\n",
       " 0.9999796206167968,\n",
       " 0.9999796206167968,\n",
       " 0.9999796206167968,\n",
       " 0.9999796206167968,\n",
       " 0.9999796206167968,\n",
       " 0.9999796206167968,\n",
       " 0.9999796206167968,\n",
       " 0.9999796206167968,\n",
       " 0.9999796206167968,\n",
       " 0.9999796206167968,\n",
       " 0.9999796206167968,\n",
       " 0.9999796206167968,\n",
       " 0.9999796206167968,\n",
       " 0.9999796206167968,\n",
       " 0.9999796206167968,\n",
       " 0.9999796206167968]"
      ]
     },
     "execution_count": 78,
     "metadata": {},
     "output_type": "execute_result"
    }
   ],
   "source": [
    "roc_entrenamiento"
   ]
  },
  {
   "cell_type": "code",
   "execution_count": 79,
   "id": "161d4590",
   "metadata": {},
   "outputs": [
    {
     "data": {
      "text/plain": [
       "[0.7692625977026959,\n",
       " 0.9900055654132869,\n",
       " 0.996450831586932,\n",
       " 0.9979063526757939,\n",
       " 0.9969516384019238,\n",
       " 0.9964335109755236,\n",
       " 0.9964416743338569,\n",
       " 0.9964393587565201,\n",
       " 0.9964397322367358,\n",
       " 0.9964397322367358,\n",
       " 0.9964397322367358,\n",
       " 0.9964397322367358,\n",
       " 0.9964397322367358,\n",
       " 0.9964397322367358,\n",
       " 0.9964397322367358,\n",
       " 0.9964397322367358,\n",
       " 0.9964397322367358,\n",
       " 0.9964397322367358,\n",
       " 0.9964397322367358,\n",
       " 0.9964397322367358,\n",
       " 0.9964397322367358,\n",
       " 0.9964397322367358,\n",
       " 0.9964397322367358,\n",
       " 0.9964397322367358,\n",
       " 0.9964397322367358]"
      ]
     },
     "execution_count": 79,
     "metadata": {},
     "output_type": "execute_result"
    }
   ],
   "source": [
    "roc_validacion"
   ]
  },
  {
   "cell_type": "code",
   "execution_count": 80,
   "id": "b809df7d",
   "metadata": {
    "scrolled": true
   },
   "outputs": [
    {
     "data": {
      "image/png": "[encoded data removed]",
      "text/plain": [
       "<Figure size 720x360 with 1 Axes>"
      ]
     },
     "metadata": {
      "needs_background": "light"
     },
     "output_type": "display_data"
    }
   ],
   "source": [
    "fig, ax = plt.subplots(figsize=(10,5))\n",
    "\n",
    "ax.set_title(\"Entrenamiento Validación Sesgo\",fontsize=20)\n",
    "ax.plot(prof,roc_entrenamiento,color=\"blue\",linewidth=3,label=\"Entrenamiento\")\n",
    "ax.plot(prof,roc_validacion,color=\"red\",linewidth=3,label=\"Validacion\")\n",
    "#gca().yaxis.set_major_formatter(\"{x:,.0%}\")\n",
    "#xticks(fontsize=16)\n",
    "#yticks(fontsize=16)\n",
    "#axvline(4)\n",
    "legend(fontsize=15)\n",
    "show()"
   ]
  },
  {
   "cell_type": "markdown",
   "id": "d46d021c",
   "metadata": {},
   "source": [
    "La gráfica nos dice que el modelo tiene pocas variaciones con respecto al que se programo sin utilizar metodos manuales o bien el que arroja Pyhton, entonces podemos creer en nuestro primer resultado "
   ]
  },
  {
   "cell_type": "code",
   "execution_count": 81,
   "id": "fd59cfdf",
   "metadata": {},
   "outputs": [],
   "source": [
    "clasificador=classifier_gs.best_params_['classifier__criterion']\n",
    "profundidad=classifier_gs.best_params_['classifier__max_depth']\n",
    "minimoDeHojas=classifier_gs.best_params_['classifier__min_samples_leaf']"
   ]
  },
  {
   "cell_type": "code",
   "execution_count": 82,
   "id": "8ecc1fb7",
   "metadata": {},
   "outputs": [],
   "source": [
    "reg_tree = DecisionTreeClassifier(criterion=clasificador,\n",
    "                                          max_depth=profundidad,\n",
    "                                          min_samples_leaf=minimoDeHojas,\n",
    "                                          random_state=42)\n",
    "tree_pipeline = Pipeline(steps=[('preprocessor', preprocessor),('classifier', reg_tree)])"
   ]
  },
  {
   "cell_type": "code",
   "execution_count": 83,
   "id": "fcd0a156",
   "metadata": {},
   "outputs": [
    {
     "data": {
      "image/png": "[encoded data removed]",
      "text/plain": [
       "<Figure size 864x432 with 2 Axes>"
      ]
     },
     "metadata": {
      "needs_background": "light"
     },
     "output_type": "display_data"
    }
   ],
   "source": [
    "tree_pipeline.fit(X_train, y_train)\n",
    "\n",
    "tree_perf = performance_evaluation_report(tree_pipeline, X_test, \n",
    "                                          y_test, labels=LABELS, \n",
    "                                          show_plot=True)"
   ]
  },
  {
   "cell_type": "markdown",
   "id": "21580917",
   "metadata": {},
   "source": [
    "# Cross Validation "
   ]
  },
  {
   "cell_type": "markdown",
   "id": "ea285654",
   "metadata": {},
   "source": [
    "Primero haremos el Cross-Validation en el arbol "
   ]
  },
  {
   "cell_type": "code",
   "execution_count": 84,
   "id": "f0c2a76c",
   "metadata": {},
   "outputs": [],
   "source": [
    "reg_tree = DecisionTreeClassifier(criterion=clasificador,\n",
    "                                          max_depth=profundidad,\n",
    "                                          min_samples_leaf=minimoDeHojas,\n",
    "                                          random_state=42)\n",
    "tree_pipeline = Pipeline(steps=[('preprocessor', preprocessor),('classifier', reg_tree)])"
   ]
  },
  {
   "cell_type": "code",
   "execution_count": 85,
   "id": "cd24938b",
   "metadata": {},
   "outputs": [],
   "source": [
    "k_fold_tree_1 = StratifiedKFold(50, shuffle=True, random_state=42)"
   ]
  },
  {
   "cell_type": "code",
   "execution_count": 86,
   "id": "cbdc8655",
   "metadata": {},
   "outputs": [
    {
     "data": {
      "text/plain": [
       "array([0.99875, 1.     , 1.     , 1.     , 0.9975 , 0.99875, 0.99875,\n",
       "       1.     , 1.     , 0.99875, 1.     , 1.     , 0.99625, 1.     ,\n",
       "       0.99625, 1.     , 1.     , 0.99875, 0.99875, 1.     , 0.99625,\n",
       "       1.     , 0.99875, 0.99875, 0.99875, 1.     , 1.     , 0.99625,\n",
       "       1.     , 0.9975 , 1.     , 0.9975 , 0.99875, 1.     , 1.     ,\n",
       "       0.9975 , 0.99875, 0.99875, 1.     , 1.     , 0.99875, 1.     ,\n",
       "       0.99875, 1.     , 0.99875, 1.     , 1.     , 1.     , 0.99875,\n",
       "       0.99875])"
      ]
     },
     "execution_count": 86,
     "metadata": {},
     "output_type": "execute_result"
    }
   ],
   "source": [
    "score_tree_1 = cross_val_score(tree_pipeline, X_train, y_train, cv=k_fold_tree_1)\n",
    "score_tree_1"
   ]
  },
  {
   "cell_type": "code",
   "execution_count": 87,
   "id": "2c8a7432",
   "metadata": {},
   "outputs": [
    {
     "data": {
      "text/plain": [
       "0.9990749999999999"
      ]
     },
     "execution_count": 87,
     "metadata": {},
     "output_type": "execute_result"
    }
   ],
   "source": [
    "score_tree_1.mean()"
   ]
  },
  {
   "cell_type": "code",
   "execution_count": 88,
   "id": "ab9aca2e",
   "metadata": {},
   "outputs": [],
   "source": [
    "k_fold_tree_2 = StratifiedKFold(100, shuffle=True, random_state=42)"
   ]
  },
  {
   "cell_type": "code",
   "execution_count": 89,
   "id": "e414d502",
   "metadata": {},
   "outputs": [
    {
     "data": {
      "text/plain": [
       "array([0.9975, 1.    , 1.    , 1.    , 1.    , 1.    , 1.    , 1.    ,\n",
       "       0.9975, 0.9975, 0.9975, 1.    , 1.    , 0.9975, 1.    , 1.    ,\n",
       "       1.    , 1.    , 1.    , 1.    , 0.9975, 1.    , 1.    , 1.    ,\n",
       "       0.9975, 0.9975, 0.9975, 0.9975, 1.    , 0.9975, 0.995 , 1.    ,\n",
       "       1.    , 1.    , 1.    , 0.9975, 1.    , 0.9975, 0.9975, 1.    ,\n",
       "       1.    , 0.9975, 1.    , 0.9975, 0.9975, 1.    , 1.    , 1.    ,\n",
       "       1.    , 1.    , 0.995 , 1.    , 1.    , 1.    , 1.    , 1.    ,\n",
       "       0.9975, 0.995 , 0.9975, 1.    , 1.    , 1.    , 1.    , 1.    ,\n",
       "       0.995 , 1.    , 0.9975, 1.    , 1.    , 1.    , 1.    , 0.9975,\n",
       "       0.9975, 0.9975, 1.    , 0.9975, 1.    , 1.    , 1.    , 1.    ,\n",
       "       1.    , 1.    , 0.9975, 1.    , 1.    , 0.9975, 1.    , 1.    ,\n",
       "       0.9975, 1.    , 1.    , 1.    , 1.    , 1.    , 1.    , 1.    ,\n",
       "       0.9975, 1.    , 1.    , 0.9975])"
      ]
     },
     "execution_count": 89,
     "metadata": {},
     "output_type": "execute_result"
    }
   ],
   "source": [
    "score_tree_2 = cross_val_score(tree_pipeline, X_train, y_train, cv=k_fold_tree_2)\n",
    "score_tree_2"
   ]
  },
  {
   "cell_type": "code",
   "execution_count": 90,
   "id": "0aa61368",
   "metadata": {},
   "outputs": [
    {
     "data": {
      "text/plain": [
       "0.9990750000000002"
      ]
     },
     "execution_count": 90,
     "metadata": {},
     "output_type": "execute_result"
    }
   ],
   "source": [
    "score_tree_2.mean()"
   ]
  },
  {
   "cell_type": "markdown",
   "id": "592af355",
   "metadata": {},
   "source": [
    "Con 50 y 100 K-Fold's los resultados del arbol de desición con respecto al accuracy parecen muy prometedores ahora veamos lo mismo pero con la regresión"
   ]
  },
  {
   "cell_type": "code",
   "execution_count": 91,
   "id": "47bbfc25",
   "metadata": {},
   "outputs": [],
   "source": [
    "validation_regression = LogisticRegression()"
   ]
  },
  {
   "cell_type": "code",
   "execution_count": 92,
   "id": "b56a6b26",
   "metadata": {},
   "outputs": [
    {
     "name": "stdout",
     "output_type": "stream",
     "text": [
      "<class 'pandas.core.frame.DataFrame'>\n",
      "RangeIndex: 50000 entries, 0 to 49999\n",
      "Data columns (total 5 columns):\n",
      " #   Column         Non-Null Count  Dtype  \n",
      "---  ------         --------------  -----  \n",
      " 0   Unnamed: 0     50000 non-null  int64  \n",
      " 1   num_caso       50000 non-null  int64  \n",
      " 2   edad_credit    50000 non-null  float64\n",
      " 3   retrasos_max   50000 non-null  float64\n",
      " 4   comp_interno1  50000 non-null  float64\n",
      "dtypes: float64(3), int64(2)\n",
      "memory usage: 1.9 MB\n"
     ]
    }
   ],
   "source": [
    "X.info()"
   ]
  },
  {
   "cell_type": "code",
   "execution_count": 93,
   "id": "7d399c94",
   "metadata": {},
   "outputs": [],
   "source": [
    "k_fold_reg_1 = StratifiedKFold(50, shuffle=True, random_state=42)"
   ]
  },
  {
   "cell_type": "code",
   "execution_count": 94,
   "id": "d0203fdd",
   "metadata": {},
   "outputs": [
    {
     "name": "stderr",
     "output_type": "stream",
     "text": [
      "C:\\Users\\cresp\\anaconda3\\envs\\jupyter 2.0\\lib\\site-packages\\sklearn\\linear_model\\_logistic.py:814: ConvergenceWarning: lbfgs failed to converge (status=1):\n",
      "STOP: TOTAL NO. of ITERATIONS REACHED LIMIT.\n",
      "\n",
      "Increase the number of iterations (max_iter) or scale the data as shown in:\n",
      "    https://scikit-learn.org/stable/modules/preprocessing.html\n",
      "Please also refer to the documentation for alternative solver options:\n",
      "    https://scikit-learn.org/stable/modules/linear_model.html#logistic-regression\n",
      "  n_iter_i = _check_optimize_result(\n",
      "C:\\Users\\cresp\\anaconda3\\envs\\jupyter 2.0\\lib\\site-packages\\sklearn\\linear_model\\_logistic.py:814: ConvergenceWarning: lbfgs failed to converge (status=1):\n",
      "STOP: TOTAL NO. of ITERATIONS REACHED LIMIT.\n",
      "\n",
      "Increase the number of iterations (max_iter) or scale the data as shown in:\n",
      "    https://scikit-learn.org/stable/modules/preprocessing.html\n",
      "Please also refer to the documentation for alternative solver options:\n",
      "    https://scikit-learn.org/stable/modules/linear_model.html#logistic-regression\n",
      "  n_iter_i = _check_optimize_result(\n",
      "C:\\Users\\cresp\\anaconda3\\envs\\jupyter 2.0\\lib\\site-packages\\sklearn\\linear_model\\_logistic.py:814: ConvergenceWarning: lbfgs failed to converge (status=1):\n",
      "STOP: TOTAL NO. of ITERATIONS REACHED LIMIT.\n",
      "\n",
      "Increase the number of iterations (max_iter) or scale the data as shown in:\n",
      "    https://scikit-learn.org/stable/modules/preprocessing.html\n",
      "Please also refer to the documentation for alternative solver options:\n",
      "    https://scikit-learn.org/stable/modules/linear_model.html#logistic-regression\n",
      "  n_iter_i = _check_optimize_result(\n",
      "C:\\Users\\cresp\\anaconda3\\envs\\jupyter 2.0\\lib\\site-packages\\sklearn\\linear_model\\_logistic.py:814: ConvergenceWarning: lbfgs failed to converge (status=1):\n",
      "STOP: TOTAL NO. of ITERATIONS REACHED LIMIT.\n",
      "\n",
      "Increase the number of iterations (max_iter) or scale the data as shown in:\n",
      "    https://scikit-learn.org/stable/modules/preprocessing.html\n",
      "Please also refer to the documentation for alternative solver options:\n",
      "    https://scikit-learn.org/stable/modules/linear_model.html#logistic-regression\n",
      "  n_iter_i = _check_optimize_result(\n",
      "C:\\Users\\cresp\\anaconda3\\envs\\jupyter 2.0\\lib\\site-packages\\sklearn\\linear_model\\_logistic.py:814: ConvergenceWarning: lbfgs failed to converge (status=1):\n",
      "STOP: TOTAL NO. of ITERATIONS REACHED LIMIT.\n",
      "\n",
      "Increase the number of iterations (max_iter) or scale the data as shown in:\n",
      "    https://scikit-learn.org/stable/modules/preprocessing.html\n",
      "Please also refer to the documentation for alternative solver options:\n",
      "    https://scikit-learn.org/stable/modules/linear_model.html#logistic-regression\n",
      "  n_iter_i = _check_optimize_result(\n",
      "C:\\Users\\cresp\\anaconda3\\envs\\jupyter 2.0\\lib\\site-packages\\sklearn\\linear_model\\_logistic.py:814: ConvergenceWarning: lbfgs failed to converge (status=1):\n",
      "STOP: TOTAL NO. of ITERATIONS REACHED LIMIT.\n",
      "\n",
      "Increase the number of iterations (max_iter) or scale the data as shown in:\n",
      "    https://scikit-learn.org/stable/modules/preprocessing.html\n",
      "Please also refer to the documentation for alternative solver options:\n",
      "    https://scikit-learn.org/stable/modules/linear_model.html#logistic-regression\n",
      "  n_iter_i = _check_optimize_result(\n",
      "C:\\Users\\cresp\\anaconda3\\envs\\jupyter 2.0\\lib\\site-packages\\sklearn\\linear_model\\_logistic.py:814: ConvergenceWarning: lbfgs failed to converge (status=1):\n",
      "STOP: TOTAL NO. of ITERATIONS REACHED LIMIT.\n",
      "\n",
      "Increase the number of iterations (max_iter) or scale the data as shown in:\n",
      "    https://scikit-learn.org/stable/modules/preprocessing.html\n",
      "Please also refer to the documentation for alternative solver options:\n",
      "    https://scikit-learn.org/stable/modules/linear_model.html#logistic-regression\n",
      "  n_iter_i = _check_optimize_result(\n",
      "C:\\Users\\cresp\\anaconda3\\envs\\jupyter 2.0\\lib\\site-packages\\sklearn\\linear_model\\_logistic.py:814: ConvergenceWarning: lbfgs failed to converge (status=1):\n",
      "STOP: TOTAL NO. of ITERATIONS REACHED LIMIT.\n",
      "\n",
      "Increase the number of iterations (max_iter) or scale the data as shown in:\n",
      "    https://scikit-learn.org/stable/modules/preprocessing.html\n",
      "Please also refer to the documentation for alternative solver options:\n",
      "    https://scikit-learn.org/stable/modules/linear_model.html#logistic-regression\n",
      "  n_iter_i = _check_optimize_result(\n",
      "C:\\Users\\cresp\\anaconda3\\envs\\jupyter 2.0\\lib\\site-packages\\sklearn\\linear_model\\_logistic.py:814: ConvergenceWarning: lbfgs failed to converge (status=1):\n",
      "STOP: TOTAL NO. of ITERATIONS REACHED LIMIT.\n",
      "\n",
      "Increase the number of iterations (max_iter) or scale the data as shown in:\n",
      "    https://scikit-learn.org/stable/modules/preprocessing.html\n",
      "Please also refer to the documentation for alternative solver options:\n",
      "    https://scikit-learn.org/stable/modules/linear_model.html#logistic-regression\n",
      "  n_iter_i = _check_optimize_result(\n",
      "C:\\Users\\cresp\\anaconda3\\envs\\jupyter 2.0\\lib\\site-packages\\sklearn\\linear_model\\_logistic.py:814: ConvergenceWarning: lbfgs failed to converge (status=1):\n",
      "STOP: TOTAL NO. of ITERATIONS REACHED LIMIT.\n",
      "\n",
      "Increase the number of iterations (max_iter) or scale the data as shown in:\n",
      "    https://scikit-learn.org/stable/modules/preprocessing.html\n",
      "Please also refer to the documentation for alternative solver options:\n",
      "    https://scikit-learn.org/stable/modules/linear_model.html#logistic-regression\n",
      "  n_iter_i = _check_optimize_result(\n",
      "C:\\Users\\cresp\\anaconda3\\envs\\jupyter 2.0\\lib\\site-packages\\sklearn\\linear_model\\_logistic.py:814: ConvergenceWarning: lbfgs failed to converge (status=1):\n",
      "STOP: TOTAL NO. of ITERATIONS REACHED LIMIT.\n",
      "\n",
      "Increase the number of iterations (max_iter) or scale the data as shown in:\n",
      "    https://scikit-learn.org/stable/modules/preprocessing.html\n",
      "Please also refer to the documentation for alternative solver options:\n",
      "    https://scikit-learn.org/stable/modules/linear_model.html#logistic-regression\n",
      "  n_iter_i = _check_optimize_result(\n",
      "C:\\Users\\cresp\\anaconda3\\envs\\jupyter 2.0\\lib\\site-packages\\sklearn\\linear_model\\_logistic.py:814: ConvergenceWarning: lbfgs failed to converge (status=1):\n",
      "STOP: TOTAL NO. of ITERATIONS REACHED LIMIT.\n",
      "\n",
      "Increase the number of iterations (max_iter) or scale the data as shown in:\n",
      "    https://scikit-learn.org/stable/modules/preprocessing.html\n",
      "Please also refer to the documentation for alternative solver options:\n",
      "    https://scikit-learn.org/stable/modules/linear_model.html#logistic-regression\n",
      "  n_iter_i = _check_optimize_result(\n",
      "C:\\Users\\cresp\\anaconda3\\envs\\jupyter 2.0\\lib\\site-packages\\sklearn\\linear_model\\_logistic.py:814: ConvergenceWarning: lbfgs failed to converge (status=1):\n",
      "STOP: TOTAL NO. of ITERATIONS REACHED LIMIT.\n",
      "\n",
      "Increase the number of iterations (max_iter) or scale the data as shown in:\n",
      "    https://scikit-learn.org/stable/modules/preprocessing.html\n",
      "Please also refer to the documentation for alternative solver options:\n",
      "    https://scikit-learn.org/stable/modules/linear_model.html#logistic-regression\n",
      "  n_iter_i = _check_optimize_result(\n",
      "C:\\Users\\cresp\\anaconda3\\envs\\jupyter 2.0\\lib\\site-packages\\sklearn\\linear_model\\_logistic.py:814: ConvergenceWarning: lbfgs failed to converge (status=1):\n",
      "STOP: TOTAL NO. of ITERATIONS REACHED LIMIT.\n",
      "\n",
      "Increase the number of iterations (max_iter) or scale the data as shown in:\n",
      "    https://scikit-learn.org/stable/modules/preprocessing.html\n",
      "Please also refer to the documentation for alternative solver options:\n",
      "    https://scikit-learn.org/stable/modules/linear_model.html#logistic-regression\n",
      "  n_iter_i = _check_optimize_result(\n",
      "C:\\Users\\cresp\\anaconda3\\envs\\jupyter 2.0\\lib\\site-packages\\sklearn\\linear_model\\_logistic.py:814: ConvergenceWarning: lbfgs failed to converge (status=1):\n",
      "STOP: TOTAL NO. of ITERATIONS REACHED LIMIT.\n",
      "\n",
      "Increase the number of iterations (max_iter) or scale the data as shown in:\n",
      "    https://scikit-learn.org/stable/modules/preprocessing.html\n",
      "Please also refer to the documentation for alternative solver options:\n",
      "    https://scikit-learn.org/stable/modules/linear_model.html#logistic-regression\n",
      "  n_iter_i = _check_optimize_result(\n",
      "C:\\Users\\cresp\\anaconda3\\envs\\jupyter 2.0\\lib\\site-packages\\sklearn\\linear_model\\_logistic.py:814: ConvergenceWarning: lbfgs failed to converge (status=1):\n",
      "STOP: TOTAL NO. of ITERATIONS REACHED LIMIT.\n",
      "\n",
      "Increase the number of iterations (max_iter) or scale the data as shown in:\n",
      "    https://scikit-learn.org/stable/modules/preprocessing.html\n",
      "Please also refer to the documentation for alternative solver options:\n",
      "    https://scikit-learn.org/stable/modules/linear_model.html#logistic-regression\n",
      "  n_iter_i = _check_optimize_result(\n"
     ]
    },
    {
     "name": "stderr",
     "output_type": "stream",
     "text": [
      "C:\\Users\\cresp\\anaconda3\\envs\\jupyter 2.0\\lib\\site-packages\\sklearn\\linear_model\\_logistic.py:814: ConvergenceWarning: lbfgs failed to converge (status=1):\n",
      "STOP: TOTAL NO. of ITERATIONS REACHED LIMIT.\n",
      "\n",
      "Increase the number of iterations (max_iter) or scale the data as shown in:\n",
      "    https://scikit-learn.org/stable/modules/preprocessing.html\n",
      "Please also refer to the documentation for alternative solver options:\n",
      "    https://scikit-learn.org/stable/modules/linear_model.html#logistic-regression\n",
      "  n_iter_i = _check_optimize_result(\n",
      "C:\\Users\\cresp\\anaconda3\\envs\\jupyter 2.0\\lib\\site-packages\\sklearn\\linear_model\\_logistic.py:814: ConvergenceWarning: lbfgs failed to converge (status=1):\n",
      "STOP: TOTAL NO. of ITERATIONS REACHED LIMIT.\n",
      "\n",
      "Increase the number of iterations (max_iter) or scale the data as shown in:\n",
      "    https://scikit-learn.org/stable/modules/preprocessing.html\n",
      "Please also refer to the documentation for alternative solver options:\n",
      "    https://scikit-learn.org/stable/modules/linear_model.html#logistic-regression\n",
      "  n_iter_i = _check_optimize_result(\n",
      "C:\\Users\\cresp\\anaconda3\\envs\\jupyter 2.0\\lib\\site-packages\\sklearn\\linear_model\\_logistic.py:814: ConvergenceWarning: lbfgs failed to converge (status=1):\n",
      "STOP: TOTAL NO. of ITERATIONS REACHED LIMIT.\n",
      "\n",
      "Increase the number of iterations (max_iter) or scale the data as shown in:\n",
      "    https://scikit-learn.org/stable/modules/preprocessing.html\n",
      "Please also refer to the documentation for alternative solver options:\n",
      "    https://scikit-learn.org/stable/modules/linear_model.html#logistic-regression\n",
      "  n_iter_i = _check_optimize_result(\n",
      "C:\\Users\\cresp\\anaconda3\\envs\\jupyter 2.0\\lib\\site-packages\\sklearn\\linear_model\\_logistic.py:814: ConvergenceWarning: lbfgs failed to converge (status=1):\n",
      "STOP: TOTAL NO. of ITERATIONS REACHED LIMIT.\n",
      "\n",
      "Increase the number of iterations (max_iter) or scale the data as shown in:\n",
      "    https://scikit-learn.org/stable/modules/preprocessing.html\n",
      "Please also refer to the documentation for alternative solver options:\n",
      "    https://scikit-learn.org/stable/modules/linear_model.html#logistic-regression\n",
      "  n_iter_i = _check_optimize_result(\n",
      "C:\\Users\\cresp\\anaconda3\\envs\\jupyter 2.0\\lib\\site-packages\\sklearn\\linear_model\\_logistic.py:814: ConvergenceWarning: lbfgs failed to converge (status=1):\n",
      "STOP: TOTAL NO. of ITERATIONS REACHED LIMIT.\n",
      "\n",
      "Increase the number of iterations (max_iter) or scale the data as shown in:\n",
      "    https://scikit-learn.org/stable/modules/preprocessing.html\n",
      "Please also refer to the documentation for alternative solver options:\n",
      "    https://scikit-learn.org/stable/modules/linear_model.html#logistic-regression\n",
      "  n_iter_i = _check_optimize_result(\n",
      "C:\\Users\\cresp\\anaconda3\\envs\\jupyter 2.0\\lib\\site-packages\\sklearn\\linear_model\\_logistic.py:814: ConvergenceWarning: lbfgs failed to converge (status=1):\n",
      "STOP: TOTAL NO. of ITERATIONS REACHED LIMIT.\n",
      "\n",
      "Increase the number of iterations (max_iter) or scale the data as shown in:\n",
      "    https://scikit-learn.org/stable/modules/preprocessing.html\n",
      "Please also refer to the documentation for alternative solver options:\n",
      "    https://scikit-learn.org/stable/modules/linear_model.html#logistic-regression\n",
      "  n_iter_i = _check_optimize_result(\n",
      "C:\\Users\\cresp\\anaconda3\\envs\\jupyter 2.0\\lib\\site-packages\\sklearn\\linear_model\\_logistic.py:814: ConvergenceWarning: lbfgs failed to converge (status=1):\n",
      "STOP: TOTAL NO. of ITERATIONS REACHED LIMIT.\n",
      "\n",
      "Increase the number of iterations (max_iter) or scale the data as shown in:\n",
      "    https://scikit-learn.org/stable/modules/preprocessing.html\n",
      "Please also refer to the documentation for alternative solver options:\n",
      "    https://scikit-learn.org/stable/modules/linear_model.html#logistic-regression\n",
      "  n_iter_i = _check_optimize_result(\n",
      "C:\\Users\\cresp\\anaconda3\\envs\\jupyter 2.0\\lib\\site-packages\\sklearn\\linear_model\\_logistic.py:814: ConvergenceWarning: lbfgs failed to converge (status=1):\n",
      "STOP: TOTAL NO. of ITERATIONS REACHED LIMIT.\n",
      "\n",
      "Increase the number of iterations (max_iter) or scale the data as shown in:\n",
      "    https://scikit-learn.org/stable/modules/preprocessing.html\n",
      "Please also refer to the documentation for alternative solver options:\n",
      "    https://scikit-learn.org/stable/modules/linear_model.html#logistic-regression\n",
      "  n_iter_i = _check_optimize_result(\n",
      "C:\\Users\\cresp\\anaconda3\\envs\\jupyter 2.0\\lib\\site-packages\\sklearn\\linear_model\\_logistic.py:814: ConvergenceWarning: lbfgs failed to converge (status=1):\n",
      "STOP: TOTAL NO. of ITERATIONS REACHED LIMIT.\n",
      "\n",
      "Increase the number of iterations (max_iter) or scale the data as shown in:\n",
      "    https://scikit-learn.org/stable/modules/preprocessing.html\n",
      "Please also refer to the documentation for alternative solver options:\n",
      "    https://scikit-learn.org/stable/modules/linear_model.html#logistic-regression\n",
      "  n_iter_i = _check_optimize_result(\n",
      "C:\\Users\\cresp\\anaconda3\\envs\\jupyter 2.0\\lib\\site-packages\\sklearn\\linear_model\\_logistic.py:814: ConvergenceWarning: lbfgs failed to converge (status=1):\n",
      "STOP: TOTAL NO. of ITERATIONS REACHED LIMIT.\n",
      "\n",
      "Increase the number of iterations (max_iter) or scale the data as shown in:\n",
      "    https://scikit-learn.org/stable/modules/preprocessing.html\n",
      "Please also refer to the documentation for alternative solver options:\n",
      "    https://scikit-learn.org/stable/modules/linear_model.html#logistic-regression\n",
      "  n_iter_i = _check_optimize_result(\n",
      "C:\\Users\\cresp\\anaconda3\\envs\\jupyter 2.0\\lib\\site-packages\\sklearn\\linear_model\\_logistic.py:814: ConvergenceWarning: lbfgs failed to converge (status=1):\n",
      "STOP: TOTAL NO. of ITERATIONS REACHED LIMIT.\n",
      "\n",
      "Increase the number of iterations (max_iter) or scale the data as shown in:\n",
      "    https://scikit-learn.org/stable/modules/preprocessing.html\n",
      "Please also refer to the documentation for alternative solver options:\n",
      "    https://scikit-learn.org/stable/modules/linear_model.html#logistic-regression\n",
      "  n_iter_i = _check_optimize_result(\n",
      "C:\\Users\\cresp\\anaconda3\\envs\\jupyter 2.0\\lib\\site-packages\\sklearn\\linear_model\\_logistic.py:814: ConvergenceWarning: lbfgs failed to converge (status=1):\n",
      "STOP: TOTAL NO. of ITERATIONS REACHED LIMIT.\n",
      "\n",
      "Increase the number of iterations (max_iter) or scale the data as shown in:\n",
      "    https://scikit-learn.org/stable/modules/preprocessing.html\n",
      "Please also refer to the documentation for alternative solver options:\n",
      "    https://scikit-learn.org/stable/modules/linear_model.html#logistic-regression\n",
      "  n_iter_i = _check_optimize_result(\n",
      "C:\\Users\\cresp\\anaconda3\\envs\\jupyter 2.0\\lib\\site-packages\\sklearn\\linear_model\\_logistic.py:814: ConvergenceWarning: lbfgs failed to converge (status=1):\n",
      "STOP: TOTAL NO. of ITERATIONS REACHED LIMIT.\n",
      "\n",
      "Increase the number of iterations (max_iter) or scale the data as shown in:\n",
      "    https://scikit-learn.org/stable/modules/preprocessing.html\n",
      "Please also refer to the documentation for alternative solver options:\n",
      "    https://scikit-learn.org/stable/modules/linear_model.html#logistic-regression\n",
      "  n_iter_i = _check_optimize_result(\n"
     ]
    },
    {
     "data": {
      "text/plain": [
       "array([0.995  , 0.9975 , 0.995  , 0.99375, 0.99625, 0.99875, 0.99625,\n",
       "       0.99875, 0.995  , 0.995  , 0.995  , 0.9975 , 0.99625, 0.99625,\n",
       "       0.995  , 0.995  , 0.99875, 0.995  , 0.99875, 0.99625, 0.9975 ,\n",
       "       0.9975 , 0.99875, 0.99875, 0.9975 , 0.99375, 0.99375, 0.99625,\n",
       "       0.9975 , 0.99625, 0.99875, 0.99625, 0.9925 , 0.9975 , 0.99875,\n",
       "       0.99875, 0.995  , 0.99625, 0.99875, 0.99625, 0.9975 , 0.995  ,\n",
       "       0.99375, 0.99625, 0.99625, 0.985  , 0.99625, 0.995  , 0.995  ,\n",
       "       0.99375])"
      ]
     },
     "execution_count": 94,
     "metadata": {},
     "output_type": "execute_result"
    }
   ],
   "source": [
    "score_reg_1 = cross_val_score(validation_regression, X_train, y_train, cv=k_fold_reg_1)\n",
    "score_reg_1"
   ]
  },
  {
   "cell_type": "code",
   "execution_count": 95,
   "id": "7cf68e56",
   "metadata": {},
   "outputs": [
    {
     "data": {
      "text/plain": [
       "0.9960999999999999"
      ]
     },
     "execution_count": 95,
     "metadata": {},
     "output_type": "execute_result"
    }
   ],
   "source": [
    "score_reg_1.mean()"
   ]
  },
  {
   "cell_type": "code",
   "execution_count": 96,
   "id": "9a259bdb",
   "metadata": {},
   "outputs": [],
   "source": [
    "k_fold_reg_2 = StratifiedKFold(100, shuffle=True, random_state=42)"
   ]
  },
  {
   "cell_type": "code",
   "execution_count": 97,
   "id": "cc3a7c54",
   "metadata": {},
   "outputs": [
    {
     "name": "stderr",
     "output_type": "stream",
     "text": [
      "C:\\Users\\cresp\\anaconda3\\envs\\jupyter 2.0\\lib\\site-packages\\sklearn\\linear_model\\_logistic.py:814: ConvergenceWarning: lbfgs failed to converge (status=1):\n",
      "STOP: TOTAL NO. of ITERATIONS REACHED LIMIT.\n",
      "\n",
      "Increase the number of iterations (max_iter) or scale the data as shown in:\n",
      "    https://scikit-learn.org/stable/modules/preprocessing.html\n",
      "Please also refer to the documentation for alternative solver options:\n",
      "    https://scikit-learn.org/stable/modules/linear_model.html#logistic-regression\n",
      "  n_iter_i = _check_optimize_result(\n",
      "C:\\Users\\cresp\\anaconda3\\envs\\jupyter 2.0\\lib\\site-packages\\sklearn\\linear_model\\_logistic.py:814: ConvergenceWarning: lbfgs failed to converge (status=1):\n",
      "STOP: TOTAL NO. of ITERATIONS REACHED LIMIT.\n",
      "\n",
      "Increase the number of iterations (max_iter) or scale the data as shown in:\n",
      "    https://scikit-learn.org/stable/modules/preprocessing.html\n",
      "Please also refer to the documentation for alternative solver options:\n",
      "    https://scikit-learn.org/stable/modules/linear_model.html#logistic-regression\n",
      "  n_iter_i = _check_optimize_result(\n",
      "C:\\Users\\cresp\\anaconda3\\envs\\jupyter 2.0\\lib\\site-packages\\sklearn\\linear_model\\_logistic.py:814: ConvergenceWarning: lbfgs failed to converge (status=1):\n",
      "STOP: TOTAL NO. of ITERATIONS REACHED LIMIT.\n",
      "\n",
      "Increase the number of iterations (max_iter) or scale the data as shown in:\n",
      "    https://scikit-learn.org/stable/modules/preprocessing.html\n",
      "Please also refer to the documentation for alternative solver options:\n",
      "    https://scikit-learn.org/stable/modules/linear_model.html#logistic-regression\n",
      "  n_iter_i = _check_optimize_result(\n",
      "C:\\Users\\cresp\\anaconda3\\envs\\jupyter 2.0\\lib\\site-packages\\sklearn\\linear_model\\_logistic.py:814: ConvergenceWarning: lbfgs failed to converge (status=1):\n",
      "STOP: TOTAL NO. of ITERATIONS REACHED LIMIT.\n",
      "\n",
      "Increase the number of iterations (max_iter) or scale the data as shown in:\n",
      "    https://scikit-learn.org/stable/modules/preprocessing.html\n",
      "Please also refer to the documentation for alternative solver options:\n",
      "    https://scikit-learn.org/stable/modules/linear_model.html#logistic-regression\n",
      "  n_iter_i = _check_optimize_result(\n",
      "C:\\Users\\cresp\\anaconda3\\envs\\jupyter 2.0\\lib\\site-packages\\sklearn\\linear_model\\_logistic.py:814: ConvergenceWarning: lbfgs failed to converge (status=1):\n",
      "STOP: TOTAL NO. of ITERATIONS REACHED LIMIT.\n",
      "\n",
      "Increase the number of iterations (max_iter) or scale the data as shown in:\n",
      "    https://scikit-learn.org/stable/modules/preprocessing.html\n",
      "Please also refer to the documentation for alternative solver options:\n",
      "    https://scikit-learn.org/stable/modules/linear_model.html#logistic-regression\n",
      "  n_iter_i = _check_optimize_result(\n",
      "C:\\Users\\cresp\\anaconda3\\envs\\jupyter 2.0\\lib\\site-packages\\sklearn\\linear_model\\_logistic.py:814: ConvergenceWarning: lbfgs failed to converge (status=1):\n",
      "STOP: TOTAL NO. of ITERATIONS REACHED LIMIT.\n",
      "\n",
      "Increase the number of iterations (max_iter) or scale the data as shown in:\n",
      "    https://scikit-learn.org/stable/modules/preprocessing.html\n",
      "Please also refer to the documentation for alternative solver options:\n",
      "    https://scikit-learn.org/stable/modules/linear_model.html#logistic-regression\n",
      "  n_iter_i = _check_optimize_result(\n",
      "C:\\Users\\cresp\\anaconda3\\envs\\jupyter 2.0\\lib\\site-packages\\sklearn\\linear_model\\_logistic.py:814: ConvergenceWarning: lbfgs failed to converge (status=1):\n",
      "STOP: TOTAL NO. of ITERATIONS REACHED LIMIT.\n",
      "\n",
      "Increase the number of iterations (max_iter) or scale the data as shown in:\n",
      "    https://scikit-learn.org/stable/modules/preprocessing.html\n",
      "Please also refer to the documentation for alternative solver options:\n",
      "    https://scikit-learn.org/stable/modules/linear_model.html#logistic-regression\n",
      "  n_iter_i = _check_optimize_result(\n",
      "C:\\Users\\cresp\\anaconda3\\envs\\jupyter 2.0\\lib\\site-packages\\sklearn\\linear_model\\_logistic.py:814: ConvergenceWarning: lbfgs failed to converge (status=1):\n",
      "STOP: TOTAL NO. of ITERATIONS REACHED LIMIT.\n",
      "\n",
      "Increase the number of iterations (max_iter) or scale the data as shown in:\n",
      "    https://scikit-learn.org/stable/modules/preprocessing.html\n",
      "Please also refer to the documentation for alternative solver options:\n",
      "    https://scikit-learn.org/stable/modules/linear_model.html#logistic-regression\n",
      "  n_iter_i = _check_optimize_result(\n",
      "C:\\Users\\cresp\\anaconda3\\envs\\jupyter 2.0\\lib\\site-packages\\sklearn\\linear_model\\_logistic.py:814: ConvergenceWarning: lbfgs failed to converge (status=1):\n",
      "STOP: TOTAL NO. of ITERATIONS REACHED LIMIT.\n",
      "\n",
      "Increase the number of iterations (max_iter) or scale the data as shown in:\n",
      "    https://scikit-learn.org/stable/modules/preprocessing.html\n",
      "Please also refer to the documentation for alternative solver options:\n",
      "    https://scikit-learn.org/stable/modules/linear_model.html#logistic-regression\n",
      "  n_iter_i = _check_optimize_result(\n",
      "C:\\Users\\cresp\\anaconda3\\envs\\jupyter 2.0\\lib\\site-packages\\sklearn\\linear_model\\_logistic.py:814: ConvergenceWarning: lbfgs failed to converge (status=1):\n",
      "STOP: TOTAL NO. of ITERATIONS REACHED LIMIT.\n",
      "\n",
      "Increase the number of iterations (max_iter) or scale the data as shown in:\n",
      "    https://scikit-learn.org/stable/modules/preprocessing.html\n",
      "Please also refer to the documentation for alternative solver options:\n",
      "    https://scikit-learn.org/stable/modules/linear_model.html#logistic-regression\n",
      "  n_iter_i = _check_optimize_result(\n",
      "C:\\Users\\cresp\\anaconda3\\envs\\jupyter 2.0\\lib\\site-packages\\sklearn\\linear_model\\_logistic.py:814: ConvergenceWarning: lbfgs failed to converge (status=1):\n",
      "STOP: TOTAL NO. of ITERATIONS REACHED LIMIT.\n",
      "\n",
      "Increase the number of iterations (max_iter) or scale the data as shown in:\n",
      "    https://scikit-learn.org/stable/modules/preprocessing.html\n",
      "Please also refer to the documentation for alternative solver options:\n",
      "    https://scikit-learn.org/stable/modules/linear_model.html#logistic-regression\n",
      "  n_iter_i = _check_optimize_result(\n",
      "C:\\Users\\cresp\\anaconda3\\envs\\jupyter 2.0\\lib\\site-packages\\sklearn\\linear_model\\_logistic.py:814: ConvergenceWarning: lbfgs failed to converge (status=1):\n",
      "STOP: TOTAL NO. of ITERATIONS REACHED LIMIT.\n",
      "\n",
      "Increase the number of iterations (max_iter) or scale the data as shown in:\n",
      "    https://scikit-learn.org/stable/modules/preprocessing.html\n",
      "Please also refer to the documentation for alternative solver options:\n",
      "    https://scikit-learn.org/stable/modules/linear_model.html#logistic-regression\n",
      "  n_iter_i = _check_optimize_result(\n",
      "C:\\Users\\cresp\\anaconda3\\envs\\jupyter 2.0\\lib\\site-packages\\sklearn\\linear_model\\_logistic.py:814: ConvergenceWarning: lbfgs failed to converge (status=1):\n",
      "STOP: TOTAL NO. of ITERATIONS REACHED LIMIT.\n",
      "\n",
      "Increase the number of iterations (max_iter) or scale the data as shown in:\n",
      "    https://scikit-learn.org/stable/modules/preprocessing.html\n",
      "Please also refer to the documentation for alternative solver options:\n",
      "    https://scikit-learn.org/stable/modules/linear_model.html#logistic-regression\n",
      "  n_iter_i = _check_optimize_result(\n",
      "C:\\Users\\cresp\\anaconda3\\envs\\jupyter 2.0\\lib\\site-packages\\sklearn\\linear_model\\_logistic.py:814: ConvergenceWarning: lbfgs failed to converge (status=1):\n",
      "STOP: TOTAL NO. of ITERATIONS REACHED LIMIT.\n",
      "\n",
      "Increase the number of iterations (max_iter) or scale the data as shown in:\n",
      "    https://scikit-learn.org/stable/modules/preprocessing.html\n",
      "Please also refer to the documentation for alternative solver options:\n",
      "    https://scikit-learn.org/stable/modules/linear_model.html#logistic-regression\n",
      "  n_iter_i = _check_optimize_result(\n",
      "C:\\Users\\cresp\\anaconda3\\envs\\jupyter 2.0\\lib\\site-packages\\sklearn\\linear_model\\_logistic.py:814: ConvergenceWarning: lbfgs failed to converge (status=1):\n",
      "STOP: TOTAL NO. of ITERATIONS REACHED LIMIT.\n",
      "\n",
      "Increase the number of iterations (max_iter) or scale the data as shown in:\n",
      "    https://scikit-learn.org/stable/modules/preprocessing.html\n",
      "Please also refer to the documentation for alternative solver options:\n",
      "    https://scikit-learn.org/stable/modules/linear_model.html#logistic-regression\n",
      "  n_iter_i = _check_optimize_result(\n",
      "C:\\Users\\cresp\\anaconda3\\envs\\jupyter 2.0\\lib\\site-packages\\sklearn\\linear_model\\_logistic.py:814: ConvergenceWarning: lbfgs failed to converge (status=1):\n",
      "STOP: TOTAL NO. of ITERATIONS REACHED LIMIT.\n",
      "\n",
      "Increase the number of iterations (max_iter) or scale the data as shown in:\n",
      "    https://scikit-learn.org/stable/modules/preprocessing.html\n",
      "Please also refer to the documentation for alternative solver options:\n",
      "    https://scikit-learn.org/stable/modules/linear_model.html#logistic-regression\n",
      "  n_iter_i = _check_optimize_result(\n"
     ]
    },
    {
     "name": "stderr",
     "output_type": "stream",
     "text": [
      "C:\\Users\\cresp\\anaconda3\\envs\\jupyter 2.0\\lib\\site-packages\\sklearn\\linear_model\\_logistic.py:814: ConvergenceWarning: lbfgs failed to converge (status=1):\n",
      "STOP: TOTAL NO. of ITERATIONS REACHED LIMIT.\n",
      "\n",
      "Increase the number of iterations (max_iter) or scale the data as shown in:\n",
      "    https://scikit-learn.org/stable/modules/preprocessing.html\n",
      "Please also refer to the documentation for alternative solver options:\n",
      "    https://scikit-learn.org/stable/modules/linear_model.html#logistic-regression\n",
      "  n_iter_i = _check_optimize_result(\n",
      "C:\\Users\\cresp\\anaconda3\\envs\\jupyter 2.0\\lib\\site-packages\\sklearn\\linear_model\\_logistic.py:814: ConvergenceWarning: lbfgs failed to converge (status=1):\n",
      "STOP: TOTAL NO. of ITERATIONS REACHED LIMIT.\n",
      "\n",
      "Increase the number of iterations (max_iter) or scale the data as shown in:\n",
      "    https://scikit-learn.org/stable/modules/preprocessing.html\n",
      "Please also refer to the documentation for alternative solver options:\n",
      "    https://scikit-learn.org/stable/modules/linear_model.html#logistic-regression\n",
      "  n_iter_i = _check_optimize_result(\n",
      "C:\\Users\\cresp\\anaconda3\\envs\\jupyter 2.0\\lib\\site-packages\\sklearn\\linear_model\\_logistic.py:814: ConvergenceWarning: lbfgs failed to converge (status=1):\n",
      "STOP: TOTAL NO. of ITERATIONS REACHED LIMIT.\n",
      "\n",
      "Increase the number of iterations (max_iter) or scale the data as shown in:\n",
      "    https://scikit-learn.org/stable/modules/preprocessing.html\n",
      "Please also refer to the documentation for alternative solver options:\n",
      "    https://scikit-learn.org/stable/modules/linear_model.html#logistic-regression\n",
      "  n_iter_i = _check_optimize_result(\n",
      "C:\\Users\\cresp\\anaconda3\\envs\\jupyter 2.0\\lib\\site-packages\\sklearn\\linear_model\\_logistic.py:814: ConvergenceWarning: lbfgs failed to converge (status=1):\n",
      "STOP: TOTAL NO. of ITERATIONS REACHED LIMIT.\n",
      "\n",
      "Increase the number of iterations (max_iter) or scale the data as shown in:\n",
      "    https://scikit-learn.org/stable/modules/preprocessing.html\n",
      "Please also refer to the documentation for alternative solver options:\n",
      "    https://scikit-learn.org/stable/modules/linear_model.html#logistic-regression\n",
      "  n_iter_i = _check_optimize_result(\n",
      "C:\\Users\\cresp\\anaconda3\\envs\\jupyter 2.0\\lib\\site-packages\\sklearn\\linear_model\\_logistic.py:814: ConvergenceWarning: lbfgs failed to converge (status=1):\n",
      "STOP: TOTAL NO. of ITERATIONS REACHED LIMIT.\n",
      "\n",
      "Increase the number of iterations (max_iter) or scale the data as shown in:\n",
      "    https://scikit-learn.org/stable/modules/preprocessing.html\n",
      "Please also refer to the documentation for alternative solver options:\n",
      "    https://scikit-learn.org/stable/modules/linear_model.html#logistic-regression\n",
      "  n_iter_i = _check_optimize_result(\n",
      "C:\\Users\\cresp\\anaconda3\\envs\\jupyter 2.0\\lib\\site-packages\\sklearn\\linear_model\\_logistic.py:814: ConvergenceWarning: lbfgs failed to converge (status=1):\n",
      "STOP: TOTAL NO. of ITERATIONS REACHED LIMIT.\n",
      "\n",
      "Increase the number of iterations (max_iter) or scale the data as shown in:\n",
      "    https://scikit-learn.org/stable/modules/preprocessing.html\n",
      "Please also refer to the documentation for alternative solver options:\n",
      "    https://scikit-learn.org/stable/modules/linear_model.html#logistic-regression\n",
      "  n_iter_i = _check_optimize_result(\n",
      "C:\\Users\\cresp\\anaconda3\\envs\\jupyter 2.0\\lib\\site-packages\\sklearn\\linear_model\\_logistic.py:814: ConvergenceWarning: lbfgs failed to converge (status=1):\n",
      "STOP: TOTAL NO. of ITERATIONS REACHED LIMIT.\n",
      "\n",
      "Increase the number of iterations (max_iter) or scale the data as shown in:\n",
      "    https://scikit-learn.org/stable/modules/preprocessing.html\n",
      "Please also refer to the documentation for alternative solver options:\n",
      "    https://scikit-learn.org/stable/modules/linear_model.html#logistic-regression\n",
      "  n_iter_i = _check_optimize_result(\n",
      "C:\\Users\\cresp\\anaconda3\\envs\\jupyter 2.0\\lib\\site-packages\\sklearn\\linear_model\\_logistic.py:814: ConvergenceWarning: lbfgs failed to converge (status=1):\n",
      "STOP: TOTAL NO. of ITERATIONS REACHED LIMIT.\n",
      "\n",
      "Increase the number of iterations (max_iter) or scale the data as shown in:\n",
      "    https://scikit-learn.org/stable/modules/preprocessing.html\n",
      "Please also refer to the documentation for alternative solver options:\n",
      "    https://scikit-learn.org/stable/modules/linear_model.html#logistic-regression\n",
      "  n_iter_i = _check_optimize_result(\n",
      "C:\\Users\\cresp\\anaconda3\\envs\\jupyter 2.0\\lib\\site-packages\\sklearn\\linear_model\\_logistic.py:814: ConvergenceWarning: lbfgs failed to converge (status=1):\n",
      "STOP: TOTAL NO. of ITERATIONS REACHED LIMIT.\n",
      "\n",
      "Increase the number of iterations (max_iter) or scale the data as shown in:\n",
      "    https://scikit-learn.org/stable/modules/preprocessing.html\n",
      "Please also refer to the documentation for alternative solver options:\n",
      "    https://scikit-learn.org/stable/modules/linear_model.html#logistic-regression\n",
      "  n_iter_i = _check_optimize_result(\n",
      "C:\\Users\\cresp\\anaconda3\\envs\\jupyter 2.0\\lib\\site-packages\\sklearn\\linear_model\\_logistic.py:814: ConvergenceWarning: lbfgs failed to converge (status=1):\n",
      "STOP: TOTAL NO. of ITERATIONS REACHED LIMIT.\n",
      "\n",
      "Increase the number of iterations (max_iter) or scale the data as shown in:\n",
      "    https://scikit-learn.org/stable/modules/preprocessing.html\n",
      "Please also refer to the documentation for alternative solver options:\n",
      "    https://scikit-learn.org/stable/modules/linear_model.html#logistic-regression\n",
      "  n_iter_i = _check_optimize_result(\n",
      "C:\\Users\\cresp\\anaconda3\\envs\\jupyter 2.0\\lib\\site-packages\\sklearn\\linear_model\\_logistic.py:814: ConvergenceWarning: lbfgs failed to converge (status=1):\n",
      "STOP: TOTAL NO. of ITERATIONS REACHED LIMIT.\n",
      "\n",
      "Increase the number of iterations (max_iter) or scale the data as shown in:\n",
      "    https://scikit-learn.org/stable/modules/preprocessing.html\n",
      "Please also refer to the documentation for alternative solver options:\n",
      "    https://scikit-learn.org/stable/modules/linear_model.html#logistic-regression\n",
      "  n_iter_i = _check_optimize_result(\n",
      "C:\\Users\\cresp\\anaconda3\\envs\\jupyter 2.0\\lib\\site-packages\\sklearn\\linear_model\\_logistic.py:814: ConvergenceWarning: lbfgs failed to converge (status=1):\n",
      "STOP: TOTAL NO. of ITERATIONS REACHED LIMIT.\n",
      "\n",
      "Increase the number of iterations (max_iter) or scale the data as shown in:\n",
      "    https://scikit-learn.org/stable/modules/preprocessing.html\n",
      "Please also refer to the documentation for alternative solver options:\n",
      "    https://scikit-learn.org/stable/modules/linear_model.html#logistic-regression\n",
      "  n_iter_i = _check_optimize_result(\n",
      "C:\\Users\\cresp\\anaconda3\\envs\\jupyter 2.0\\lib\\site-packages\\sklearn\\linear_model\\_logistic.py:814: ConvergenceWarning: lbfgs failed to converge (status=1):\n",
      "STOP: TOTAL NO. of ITERATIONS REACHED LIMIT.\n",
      "\n",
      "Increase the number of iterations (max_iter) or scale the data as shown in:\n",
      "    https://scikit-learn.org/stable/modules/preprocessing.html\n",
      "Please also refer to the documentation for alternative solver options:\n",
      "    https://scikit-learn.org/stable/modules/linear_model.html#logistic-regression\n",
      "  n_iter_i = _check_optimize_result(\n",
      "C:\\Users\\cresp\\anaconda3\\envs\\jupyter 2.0\\lib\\site-packages\\sklearn\\linear_model\\_logistic.py:814: ConvergenceWarning: lbfgs failed to converge (status=1):\n",
      "STOP: TOTAL NO. of ITERATIONS REACHED LIMIT.\n",
      "\n",
      "Increase the number of iterations (max_iter) or scale the data as shown in:\n",
      "    https://scikit-learn.org/stable/modules/preprocessing.html\n",
      "Please also refer to the documentation for alternative solver options:\n",
      "    https://scikit-learn.org/stable/modules/linear_model.html#logistic-regression\n",
      "  n_iter_i = _check_optimize_result(\n",
      "C:\\Users\\cresp\\anaconda3\\envs\\jupyter 2.0\\lib\\site-packages\\sklearn\\linear_model\\_logistic.py:814: ConvergenceWarning: lbfgs failed to converge (status=1):\n",
      "STOP: TOTAL NO. of ITERATIONS REACHED LIMIT.\n",
      "\n",
      "Increase the number of iterations (max_iter) or scale the data as shown in:\n",
      "    https://scikit-learn.org/stable/modules/preprocessing.html\n",
      "Please also refer to the documentation for alternative solver options:\n",
      "    https://scikit-learn.org/stable/modules/linear_model.html#logistic-regression\n",
      "  n_iter_i = _check_optimize_result(\n",
      "C:\\Users\\cresp\\anaconda3\\envs\\jupyter 2.0\\lib\\site-packages\\sklearn\\linear_model\\_logistic.py:814: ConvergenceWarning: lbfgs failed to converge (status=1):\n",
      "STOP: TOTAL NO. of ITERATIONS REACHED LIMIT.\n",
      "\n",
      "Increase the number of iterations (max_iter) or scale the data as shown in:\n",
      "    https://scikit-learn.org/stable/modules/preprocessing.html\n",
      "Please also refer to the documentation for alternative solver options:\n",
      "    https://scikit-learn.org/stable/modules/linear_model.html#logistic-regression\n",
      "  n_iter_i = _check_optimize_result(\n"
     ]
    },
    {
     "name": "stderr",
     "output_type": "stream",
     "text": [
      "C:\\Users\\cresp\\anaconda3\\envs\\jupyter 2.0\\lib\\site-packages\\sklearn\\linear_model\\_logistic.py:814: ConvergenceWarning: lbfgs failed to converge (status=1):\n",
      "STOP: TOTAL NO. of ITERATIONS REACHED LIMIT.\n",
      "\n",
      "Increase the number of iterations (max_iter) or scale the data as shown in:\n",
      "    https://scikit-learn.org/stable/modules/preprocessing.html\n",
      "Please also refer to the documentation for alternative solver options:\n",
      "    https://scikit-learn.org/stable/modules/linear_model.html#logistic-regression\n",
      "  n_iter_i = _check_optimize_result(\n",
      "C:\\Users\\cresp\\anaconda3\\envs\\jupyter 2.0\\lib\\site-packages\\sklearn\\linear_model\\_logistic.py:814: ConvergenceWarning: lbfgs failed to converge (status=1):\n",
      "STOP: TOTAL NO. of ITERATIONS REACHED LIMIT.\n",
      "\n",
      "Increase the number of iterations (max_iter) or scale the data as shown in:\n",
      "    https://scikit-learn.org/stable/modules/preprocessing.html\n",
      "Please also refer to the documentation for alternative solver options:\n",
      "    https://scikit-learn.org/stable/modules/linear_model.html#logistic-regression\n",
      "  n_iter_i = _check_optimize_result(\n",
      "C:\\Users\\cresp\\anaconda3\\envs\\jupyter 2.0\\lib\\site-packages\\sklearn\\linear_model\\_logistic.py:814: ConvergenceWarning: lbfgs failed to converge (status=1):\n",
      "STOP: TOTAL NO. of ITERATIONS REACHED LIMIT.\n",
      "\n",
      "Increase the number of iterations (max_iter) or scale the data as shown in:\n",
      "    https://scikit-learn.org/stable/modules/preprocessing.html\n",
      "Please also refer to the documentation for alternative solver options:\n",
      "    https://scikit-learn.org/stable/modules/linear_model.html#logistic-regression\n",
      "  n_iter_i = _check_optimize_result(\n",
      "C:\\Users\\cresp\\anaconda3\\envs\\jupyter 2.0\\lib\\site-packages\\sklearn\\linear_model\\_logistic.py:814: ConvergenceWarning: lbfgs failed to converge (status=1):\n",
      "STOP: TOTAL NO. of ITERATIONS REACHED LIMIT.\n",
      "\n",
      "Increase the number of iterations (max_iter) or scale the data as shown in:\n",
      "    https://scikit-learn.org/stable/modules/preprocessing.html\n",
      "Please also refer to the documentation for alternative solver options:\n",
      "    https://scikit-learn.org/stable/modules/linear_model.html#logistic-regression\n",
      "  n_iter_i = _check_optimize_result(\n",
      "C:\\Users\\cresp\\anaconda3\\envs\\jupyter 2.0\\lib\\site-packages\\sklearn\\linear_model\\_logistic.py:814: ConvergenceWarning: lbfgs failed to converge (status=1):\n",
      "STOP: TOTAL NO. of ITERATIONS REACHED LIMIT.\n",
      "\n",
      "Increase the number of iterations (max_iter) or scale the data as shown in:\n",
      "    https://scikit-learn.org/stable/modules/preprocessing.html\n",
      "Please also refer to the documentation for alternative solver options:\n",
      "    https://scikit-learn.org/stable/modules/linear_model.html#logistic-regression\n",
      "  n_iter_i = _check_optimize_result(\n",
      "C:\\Users\\cresp\\anaconda3\\envs\\jupyter 2.0\\lib\\site-packages\\sklearn\\linear_model\\_logistic.py:814: ConvergenceWarning: lbfgs failed to converge (status=1):\n",
      "STOP: TOTAL NO. of ITERATIONS REACHED LIMIT.\n",
      "\n",
      "Increase the number of iterations (max_iter) or scale the data as shown in:\n",
      "    https://scikit-learn.org/stable/modules/preprocessing.html\n",
      "Please also refer to the documentation for alternative solver options:\n",
      "    https://scikit-learn.org/stable/modules/linear_model.html#logistic-regression\n",
      "  n_iter_i = _check_optimize_result(\n",
      "C:\\Users\\cresp\\anaconda3\\envs\\jupyter 2.0\\lib\\site-packages\\sklearn\\linear_model\\_logistic.py:814: ConvergenceWarning: lbfgs failed to converge (status=1):\n",
      "STOP: TOTAL NO. of ITERATIONS REACHED LIMIT.\n",
      "\n",
      "Increase the number of iterations (max_iter) or scale the data as shown in:\n",
      "    https://scikit-learn.org/stable/modules/preprocessing.html\n",
      "Please also refer to the documentation for alternative solver options:\n",
      "    https://scikit-learn.org/stable/modules/linear_model.html#logistic-regression\n",
      "  n_iter_i = _check_optimize_result(\n",
      "C:\\Users\\cresp\\anaconda3\\envs\\jupyter 2.0\\lib\\site-packages\\sklearn\\linear_model\\_logistic.py:814: ConvergenceWarning: lbfgs failed to converge (status=1):\n",
      "STOP: TOTAL NO. of ITERATIONS REACHED LIMIT.\n",
      "\n",
      "Increase the number of iterations (max_iter) or scale the data as shown in:\n",
      "    https://scikit-learn.org/stable/modules/preprocessing.html\n",
      "Please also refer to the documentation for alternative solver options:\n",
      "    https://scikit-learn.org/stable/modules/linear_model.html#logistic-regression\n",
      "  n_iter_i = _check_optimize_result(\n",
      "C:\\Users\\cresp\\anaconda3\\envs\\jupyter 2.0\\lib\\site-packages\\sklearn\\linear_model\\_logistic.py:814: ConvergenceWarning: lbfgs failed to converge (status=1):\n",
      "STOP: TOTAL NO. of ITERATIONS REACHED LIMIT.\n",
      "\n",
      "Increase the number of iterations (max_iter) or scale the data as shown in:\n",
      "    https://scikit-learn.org/stable/modules/preprocessing.html\n",
      "Please also refer to the documentation for alternative solver options:\n",
      "    https://scikit-learn.org/stable/modules/linear_model.html#logistic-regression\n",
      "  n_iter_i = _check_optimize_result(\n",
      "C:\\Users\\cresp\\anaconda3\\envs\\jupyter 2.0\\lib\\site-packages\\sklearn\\linear_model\\_logistic.py:814: ConvergenceWarning: lbfgs failed to converge (status=1):\n",
      "STOP: TOTAL NO. of ITERATIONS REACHED LIMIT.\n",
      "\n",
      "Increase the number of iterations (max_iter) or scale the data as shown in:\n",
      "    https://scikit-learn.org/stable/modules/preprocessing.html\n",
      "Please also refer to the documentation for alternative solver options:\n",
      "    https://scikit-learn.org/stable/modules/linear_model.html#logistic-regression\n",
      "  n_iter_i = _check_optimize_result(\n",
      "C:\\Users\\cresp\\anaconda3\\envs\\jupyter 2.0\\lib\\site-packages\\sklearn\\linear_model\\_logistic.py:814: ConvergenceWarning: lbfgs failed to converge (status=1):\n",
      "STOP: TOTAL NO. of ITERATIONS REACHED LIMIT.\n",
      "\n",
      "Increase the number of iterations (max_iter) or scale the data as shown in:\n",
      "    https://scikit-learn.org/stable/modules/preprocessing.html\n",
      "Please also refer to the documentation for alternative solver options:\n",
      "    https://scikit-learn.org/stable/modules/linear_model.html#logistic-regression\n",
      "  n_iter_i = _check_optimize_result(\n",
      "C:\\Users\\cresp\\anaconda3\\envs\\jupyter 2.0\\lib\\site-packages\\sklearn\\linear_model\\_logistic.py:814: ConvergenceWarning: lbfgs failed to converge (status=1):\n",
      "STOP: TOTAL NO. of ITERATIONS REACHED LIMIT.\n",
      "\n",
      "Increase the number of iterations (max_iter) or scale the data as shown in:\n",
      "    https://scikit-learn.org/stable/modules/preprocessing.html\n",
      "Please also refer to the documentation for alternative solver options:\n",
      "    https://scikit-learn.org/stable/modules/linear_model.html#logistic-regression\n",
      "  n_iter_i = _check_optimize_result(\n",
      "C:\\Users\\cresp\\anaconda3\\envs\\jupyter 2.0\\lib\\site-packages\\sklearn\\linear_model\\_logistic.py:814: ConvergenceWarning: lbfgs failed to converge (status=1):\n",
      "STOP: TOTAL NO. of ITERATIONS REACHED LIMIT.\n",
      "\n",
      "Increase the number of iterations (max_iter) or scale the data as shown in:\n",
      "    https://scikit-learn.org/stable/modules/preprocessing.html\n",
      "Please also refer to the documentation for alternative solver options:\n",
      "    https://scikit-learn.org/stable/modules/linear_model.html#logistic-regression\n",
      "  n_iter_i = _check_optimize_result(\n",
      "C:\\Users\\cresp\\anaconda3\\envs\\jupyter 2.0\\lib\\site-packages\\sklearn\\linear_model\\_logistic.py:814: ConvergenceWarning: lbfgs failed to converge (status=1):\n",
      "STOP: TOTAL NO. of ITERATIONS REACHED LIMIT.\n",
      "\n",
      "Increase the number of iterations (max_iter) or scale the data as shown in:\n",
      "    https://scikit-learn.org/stable/modules/preprocessing.html\n",
      "Please also refer to the documentation for alternative solver options:\n",
      "    https://scikit-learn.org/stable/modules/linear_model.html#logistic-regression\n",
      "  n_iter_i = _check_optimize_result(\n",
      "C:\\Users\\cresp\\anaconda3\\envs\\jupyter 2.0\\lib\\site-packages\\sklearn\\linear_model\\_logistic.py:814: ConvergenceWarning: lbfgs failed to converge (status=1):\n",
      "STOP: TOTAL NO. of ITERATIONS REACHED LIMIT.\n",
      "\n",
      "Increase the number of iterations (max_iter) or scale the data as shown in:\n",
      "    https://scikit-learn.org/stable/modules/preprocessing.html\n",
      "Please also refer to the documentation for alternative solver options:\n",
      "    https://scikit-learn.org/stable/modules/linear_model.html#logistic-regression\n",
      "  n_iter_i = _check_optimize_result(\n"
     ]
    },
    {
     "data": {
      "text/plain": [
       "array([0.995 , 0.995 , 0.9975, 0.9975, 0.9975, 0.9925, 0.9975, 0.995 ,\n",
       "       0.9975, 0.995 , 1.    , 0.9975, 0.995 , 0.9975, 0.995 , 0.9975,\n",
       "       0.9975, 0.9975, 0.9925, 0.9975, 0.995 , 0.9975, 0.995 , 1.    ,\n",
       "       0.9975, 0.9975, 0.995 , 1.    , 0.9975, 0.9925, 0.9975, 0.995 ,\n",
       "       0.995 , 0.9975, 0.9975, 0.9975, 0.9975, 0.9925, 0.9975, 0.9975,\n",
       "       0.9975, 0.995 , 1.    , 1.    , 1.    , 0.9975, 0.9975, 0.9975,\n",
       "       0.9975, 0.9975, 0.9975, 0.995 , 0.995 , 0.995 , 0.99  , 0.9975,\n",
       "       0.99  , 0.995 , 0.9925, 1.    , 0.9975, 0.9975, 0.9925, 1.    ,\n",
       "       0.9975, 0.99  , 0.995 , 0.9975, 0.9975, 1.    , 1.    , 0.9975,\n",
       "       0.995 , 0.9975, 0.995 , 0.9975, 0.995 , 1.    , 1.    , 0.995 ,\n",
       "       0.995 , 0.9975, 0.995 , 0.995 , 0.9975, 0.99  , 0.99  , 1.    ,\n",
       "       0.9925, 1.    , 0.9975, 0.9975, 1.    , 0.9925, 0.9925, 0.9975,\n",
       "       0.99  , 1.    , 0.9975, 0.9975])"
      ]
     },
     "execution_count": 97,
     "metadata": {},
     "output_type": "execute_result"
    }
   ],
   "source": [
    "score_reg_2 = cross_val_score(validation_regression, X_train, y_train, cv=k_fold_reg_2)\n",
    "score_reg_2"
   ]
  },
  {
   "cell_type": "code",
   "execution_count": 98,
   "id": "7b07f079",
   "metadata": {},
   "outputs": [
    {
     "data": {
      "text/plain": [
       "0.9964"
      ]
     },
     "execution_count": 98,
     "metadata": {},
     "output_type": "execute_result"
    }
   ],
   "source": [
    "score_reg_2.mean()"
   ]
  },
  {
   "cell_type": "markdown",
   "id": "07e99b1b",
   "metadata": {},
   "source": [
    "Los dos modelos como se pude apreciar son bastante buenos pero en cuanto a puntaje el modelo del Árbol de Desición gana, ya que para 50 y 100 folds este supera en ambos a la Regresión Logística. Por lo que elegimos al Árbol de Disicón como el mejor modelo de ambos."
   ]
  },
  {
   "cell_type": "markdown",
   "id": "1ccce2b7",
   "metadata": {},
   "source": [
    "# Puntos óptimos de desición para el modelo "
   ]
  },
  {
   "cell_type": "markdown",
   "id": "4832726c",
   "metadata": {},
   "source": [
    "Para enontrar los puntos óptimos se busco una función que nos hace esto\n",
    "\n",
    "https://stackoverflow.com/questions/28719067/roc-curve-and-cut-off-point-python\n",
    "\n",
    "pero básicamente resume los métodos se sklearn y stats model "
   ]
  },
  {
   "cell_type": "code",
   "execution_count": 99,
   "id": "81565308",
   "metadata": {},
   "outputs": [],
   "source": [
    "def Find_Optimal_Cutoff(target, predicted):\n",
    "    \"\"\" Find the optimal probability cutoff point for a classification model related to event rate\n",
    "    Parameters\n",
    "    ----------\n",
    "    target : Matrix with dependent or target data, where rows are observations\n",
    "\n",
    "    predicted : Matrix with predicted data, where rows are observations\n",
    "\n",
    "    Returns\n",
    "    -------     \n",
    "    list type, with optimal cutoff value\n",
    "        \n",
    "    \"\"\"\n",
    "    fpr, tpr, threshold = roc_curve(target, predicted)\n",
    "    i = np.arange(len(tpr)) \n",
    "    roc = pd.DataFrame({'tf' : pd.Series(tpr-(1-fpr), index=i), 'threshold' : pd.Series(threshold, index=i)})\n",
    "    roc_t = roc.iloc[(roc.tf-0).abs().argsort()[:1]]\n",
    "\n",
    "    return list(roc_t['threshold']) "
   ]
  },
  {
   "cell_type": "code",
   "execution_count": 104,
   "id": "210b223a",
   "metadata": {},
   "outputs": [
    {
     "name": "stderr",
     "output_type": "stream",
     "text": [
      "C:\\Users\\cresp\\anaconda3\\envs\\jupyter 2.0\\lib\\site-packages\\sklearn\\base.py:443: UserWarning: X has feature names, but DecisionTreeClassifier was fitted without feature names\n",
      "  warnings.warn(\n"
     ]
    },
    {
     "data": {
      "text/plain": [
       "1.0"
      ]
     },
     "execution_count": 104,
     "metadata": {},
     "output_type": "execute_result"
    }
   ],
   "source": [
    "y_predict = dec_tree.predict(X_train)\n",
    "\n",
    "fpr, tpr, threshold = metrics.roc_curve(y_train, y_predict)\n",
    "\n",
    "optimal_idx = np.argmax(tpr - fpr)\n",
    "optimal_threshold = threshold[optimal_idx]\n",
    "\n",
    "optimal_threshold"
   ]
  },
  {
   "cell_type": "code",
   "execution_count": 105,
   "id": "fcbef175",
   "metadata": {},
   "outputs": [
    {
     "data": {
      "text/plain": [
       "[1.0]"
      ]
     },
     "execution_count": 105,
     "metadata": {},
     "output_type": "execute_result"
    }
   ],
   "source": [
    "optimal_value = Find_Optimal_Cutoff(y_train, y_predict) \n",
    "optimal_value"
   ]
  },
  {
   "cell_type": "code",
   "execution_count": null,
   "id": "42940da9",
   "metadata": {},
   "outputs": [],
   "source": []
  }
 ],
 "metadata": {
  "kernelspec": {
   "display_name": "Python 3 (ipykernel)",
   "language": "python",
   "name": "python3"
  },
  "language_info": {
   "codemirror_mode": {
    "name": "ipython",
    "version": 3
   },
   "file_extension": ".py",
   "mimetype": "text/x-python",
   "name": "python",
   "nbconvert_exporter": "python",
   "pygments_lexer": "ipython3",
   "version": "3.9.7"
  }
 },
 "nbformat": 4,
 "nbformat_minor": 5
}
