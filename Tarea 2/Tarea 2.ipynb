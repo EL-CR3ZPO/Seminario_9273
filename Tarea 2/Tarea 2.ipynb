{
 "cells": [
  {
   "cell_type": "markdown",
   "id": "5119ae6f",
   "metadata": {},
   "source": [
    "# TAREA 2:\n",
    "\n",
    "1.- Hacer un modelo regresión logistica con woes con la tabla que generaron en la tarea 1.\n",
    "\n",
    "2.- Hacer un árbol de clasificación con la misma tabla que el problema 1. No olviden que tienen que hacer el ajuste de hiperparámetros.\n",
    "\n",
    "3.- Seleccionar con validación cruzada cuál es el mejor modelo de los dos problemas anteriores.\n",
    "\n",
    "4.- Obtener los puntos óptimos de decisión para el modelo seleccionado.\n",
    "\n",
    "En todos los casos obtener: Gini, KS, ROC en entrenamiento y validación.\n",
    "Fecha de entrega: Viernes 7 de enero.\n"
   ]
  },
  {
   "cell_type": "markdown",
   "id": "a75ecf8f",
   "metadata": {},
   "source": [
    "## 1.- Modelo de Regresión Logística con Woes"
   ]
  },
  {
   "cell_type": "code",
   "execution_count": 1,
   "id": "2ee1cda3",
   "metadata": {},
   "outputs": [],
   "source": [
    "# Importamos las herramientas que utilizaremos\n",
    "\n",
    "import pandas as pd\n",
    "from sklearn.model_selection import train_test_split \n",
    "from sklearn.linear_model import LogisticRegression\n",
    "from sklearn.metrics import roc_curve, auc\n",
    "from pylab import*\n",
    "import seaborn as sns"
   ]
  },
  {
   "cell_type": "code",
   "execution_count": 2,
   "id": "97f8f16f",
   "metadata": {},
   "outputs": [],
   "source": [
    "import pandas as pd\n",
    "from sklearn.model_selection import train_test_split\n",
    "from sklearn.impute import SimpleImputer\n",
    "from sklearn.preprocessing import OneHotEncoder\n",
    "from sklearn.compose import ColumnTransformer\n",
    "from sklearn.pipeline import Pipeline\n",
    "from sklearn.tree import DecisionTreeClassifier, export_graphviz\n",
    "from sklearn import metrics\n",
    "from pylab import*\n",
    "import seaborn as sns\n",
    "import numpy as np\n",
    "from sklearn.linear_model import LogisticRegression\n",
    "from sklearn.metrics import roc_curve, auc\n",
    "import sqldf\n",
    "import scipy.stats\n",
    "from scipy.special import gamma\n",
    "from scipy.stats import beta\n",
    "from scipy.stats import spearmanr\n",
    "import matplotlib.pyplot as plt"
   ]
  },
  {
   "cell_type": "code",
   "execution_count": 2,
   "id": "56b7515f",
   "metadata": {},
   "outputs": [],
   "source": [
    "# Mandamos a llamar a la base que analizamos en la Tarea 1 esta es la que decidimos que tiene los \n",
    "# criterios necesarios y a la que se le hará la regresión. \n",
    "\n",
    "ruta = \"C:/Users/cresp/Documents/GitHub/Seminario_9273/Tarea 2/\"\n",
    "base = \"Base_Final.csv\"\n",
    "bd = pd.read_csv(ruta+base)"
   ]
  },
  {
   "cell_type": "code",
   "execution_count": 3,
   "id": "4d7bbd48",
   "metadata": {},
   "outputs": [
    {
     "data": {
      "text/html": [
       "<div>\n",
       "<style scoped>\n",
       "    .dataframe tbody tr th:only-of-type {\n",
       "        vertical-align: middle;\n",
       "    }\n",
       "\n",
       "    .dataframe tbody tr th {\n",
       "        vertical-align: top;\n",
       "    }\n",
       "\n",
       "    .dataframe thead th {\n",
       "        text-align: right;\n",
       "    }\n",
       "</style>\n",
       "<table border=\"1\" class=\"dataframe\">\n",
       "  <thead>\n",
       "    <tr style=\"text-align: right;\">\n",
       "      <th></th>\n",
       "      <th>Unnamed: 0</th>\n",
       "      <th>index</th>\n",
       "      <th>num_caso</th>\n",
       "      <th>edad_credit</th>\n",
       "      <th>retrasos_max</th>\n",
       "      <th>comp_interno1</th>\n",
       "    </tr>\n",
       "  </thead>\n",
       "  <tbody>\n",
       "    <tr>\n",
       "      <th>0</th>\n",
       "      <td>0</td>\n",
       "      <td>0</td>\n",
       "      <td>1</td>\n",
       "      <td>62.0</td>\n",
       "      <td>1.0</td>\n",
       "      <td>3039.513678</td>\n",
       "    </tr>\n",
       "    <tr>\n",
       "      <th>1</th>\n",
       "      <td>1</td>\n",
       "      <td>1</td>\n",
       "      <td>7</td>\n",
       "      <td>29.0</td>\n",
       "      <td>6.0</td>\n",
       "      <td>1547.112462</td>\n",
       "    </tr>\n",
       "    <tr>\n",
       "      <th>2</th>\n",
       "      <td>2</td>\n",
       "      <td>2</td>\n",
       "      <td>8</td>\n",
       "      <td>63.0</td>\n",
       "      <td>1.0</td>\n",
       "      <td>1215.805471</td>\n",
       "    </tr>\n",
       "    <tr>\n",
       "      <th>3</th>\n",
       "      <td>3</td>\n",
       "      <td>3</td>\n",
       "      <td>9</td>\n",
       "      <td>15.0</td>\n",
       "      <td>0.0</td>\n",
       "      <td>0.000000</td>\n",
       "    </tr>\n",
       "    <tr>\n",
       "      <th>4</th>\n",
       "      <td>4</td>\n",
       "      <td>4</td>\n",
       "      <td>10</td>\n",
       "      <td>16.0</td>\n",
       "      <td>1.0</td>\n",
       "      <td>0.000000</td>\n",
       "    </tr>\n",
       "  </tbody>\n",
       "</table>\n",
       "</div>"
      ],
      "text/plain": [
       "   Unnamed: 0  index  num_caso  edad_credit  retrasos_max  comp_interno1\n",
       "0           0      0         1         62.0           1.0    3039.513678\n",
       "1           1      1         7         29.0           6.0    1547.112462\n",
       "2           2      2         8         63.0           1.0    1215.805471\n",
       "3           3      3         9         15.0           0.0       0.000000\n",
       "4           4      4        10         16.0           1.0       0.000000"
      ]
     },
     "execution_count": 3,
     "metadata": {},
     "output_type": "execute_result"
    }
   ],
   "source": [
    "bd.head()"
   ]
  },
  {
   "cell_type": "code",
   "execution_count": 4,
   "id": "c32c5616",
   "metadata": {},
   "outputs": [
    {
     "name": "stdout",
     "output_type": "stream",
     "text": [
      "<class 'pandas.core.frame.DataFrame'>\n",
      "RangeIndex: 48932 entries, 0 to 48931\n",
      "Data columns (total 6 columns):\n",
      " #   Column         Non-Null Count  Dtype  \n",
      "---  ------         --------------  -----  \n",
      " 0   Unnamed: 0     48932 non-null  int64  \n",
      " 1   index          48932 non-null  int64  \n",
      " 2   num_caso       48932 non-null  int64  \n",
      " 3   edad_credit    48932 non-null  float64\n",
      " 4   retrasos_max   48932 non-null  float64\n",
      " 5   comp_interno1  48932 non-null  float64\n",
      "dtypes: float64(3), int64(3)\n",
      "memory usage: 2.2 MB\n"
     ]
    }
   ],
   "source": [
    "bd.info()"
   ]
  },
  {
   "cell_type": "code",
   "execution_count": 5,
   "id": "1a9f7f99",
   "metadata": {},
   "outputs": [],
   "source": [
    "#Hacemos validación y test\n",
    "# X = bd.iloc[:,0:4].values\n",
    "# y = bd.iloc[:, 5].values"
   ]
  },
  {
   "cell_type": "code",
   "execution_count": 6,
   "id": "d8ae16c8",
   "metadata": {},
   "outputs": [],
   "source": [
    "# y"
   ]
  },
  {
   "cell_type": "code",
   "execution_count": 25,
   "id": "48c07f79",
   "metadata": {},
   "outputs": [
    {
     "name": "stdout",
     "output_type": "stream",
     "text": [
      "Collecting optbinning\n",
      "  Using cached optbinning-0.13.0-py3-none-any.whl (218 kB)\n",
      "Collecting dill\n",
      "  Using cached dill-0.3.4-py2.py3-none-any.whl (86 kB)\n",
      "Collecting tdigest\n",
      "  Using cached tdigest-0.5.2.2-py3-none-any.whl (9.4 kB)\n",
      "Requirement already satisfied: scikit-learn>=0.22.0 in c:\\users\\cresp\\anaconda3\\lib\\site-packages (from optbinning) (0.24.1)\n",
      "Requirement already satisfied: pandas in c:\\users\\cresp\\anaconda3\\lib\\site-packages (from optbinning) (1.2.4)\n",
      "Collecting pympler\n",
      "  Using cached Pympler-1.0.1-py3-none-any.whl (164 kB)\n",
      "Requirement already satisfied: matplotlib in c:\\users\\cresp\\anaconda3\\lib\\site-packages (from optbinning) (3.3.4)\n",
      "Requirement already satisfied: numpy>=1.16.1 in c:\\users\\cresp\\anaconda3\\lib\\site-packages (from optbinning) (1.20.1)\n",
      "Collecting ortools>=7.2\n",
      "  Using cached ortools-9.2.9972-cp38-cp38-win_amd64.whl (53.3 MB)\n",
      "Collecting ropwr>=0.2.0\n",
      "  Using cached ropwr-0.2.0-py3-none-any.whl (14 kB)\n",
      "Requirement already satisfied: scipy>=1.6.0 in c:\\users\\cresp\\anaconda3\\lib\\site-packages (from optbinning) (1.6.2)\n",
      "Collecting protobuf>=3.19.1\n",
      "  Using cached protobuf-3.19.1-cp38-cp38-win_amd64.whl (895 kB)\n",
      "Collecting absl-py>=0.13\n",
      "  Using cached absl_py-1.0.0-py3-none-any.whl (126 kB)\n",
      "Requirement already satisfied: six in c:\\users\\cresp\\anaconda3\\lib\\site-packages (from absl-py>=0.13->ortools>=7.2->optbinning) (1.15.0)\n",
      "Collecting cvxpy>=1.0\n",
      "  Using cached cvxpy-1.1.17-cp38-cp38-win_amd64.whl (852 kB)\n",
      "Collecting osqp>=0.4.1\n",
      "  Using cached osqp-0.6.2.post0-cp38-cp38-win_amd64.whl (162 kB)\n",
      "Collecting ecos>=2\n",
      "  Using cached ecos-2.0.8-cp38-cp38-win_amd64.whl (73 kB)\n",
      "Collecting scs>=1.1.6\n",
      "  Using cached scs-3.0.0.tar.gz (27.5 MB)\n",
      "  Installing build dependencies: started\n",
      "  Installing build dependencies: finished with status 'done'\n",
      "  Getting requirements to build wheel: started\n",
      "  Getting requirements to build wheel: finished with status 'done'\n",
      "    Preparing wheel metadata: started\n",
      "    Preparing wheel metadata: finished with status 'done'\n",
      "Collecting qdldl\n",
      "  Using cached qdldl-0.1.5.post0-cp38-cp38-win_amd64.whl (74 kB)\n",
      "Requirement already satisfied: joblib>=0.11 in c:\\users\\cresp\\anaconda3\\lib\\site-packages (from scikit-learn>=0.22.0->optbinning) (1.0.1)\n",
      "Requirement already satisfied: threadpoolctl>=2.0.0 in c:\\users\\cresp\\anaconda3\\lib\\site-packages (from scikit-learn>=0.22.0->optbinning) (2.1.0)\n",
      "Requirement already satisfied: python-dateutil>=2.1 in c:\\users\\cresp\\anaconda3\\lib\\site-packages (from matplotlib->optbinning) (2.8.1)\n",
      "Requirement already satisfied: cycler>=0.10 in c:\\users\\cresp\\anaconda3\\lib\\site-packages (from matplotlib->optbinning) (0.10.0)\n",
      "Requirement already satisfied: pillow>=6.2.0 in c:\\users\\cresp\\anaconda3\\lib\\site-packages (from matplotlib->optbinning) (8.2.0)\n",
      "Requirement already satisfied: pyparsing!=2.0.4,!=2.1.2,!=2.1.6,>=2.0.3 in c:\\users\\cresp\\anaconda3\\lib\\site-packages (from matplotlib->optbinning) (2.4.7)\n",
      "Requirement already satisfied: kiwisolver>=1.0.1 in c:\\users\\cresp\\anaconda3\\lib\\site-packages (from matplotlib->optbinning) (1.3.1)\n",
      "Requirement already satisfied: pytz>=2017.3 in c:\\users\\cresp\\anaconda3\\lib\\site-packages (from pandas->optbinning) (2021.1)\n",
      "Collecting accumulation-tree\n",
      "  Using cached accumulation_tree-0.6.2.tar.gz (12 kB)Note: you may need to restart the kernel to use updated packages.\n"
     ]
    },
    {
     "name": "stderr",
     "output_type": "stream",
     "text": [
      "  ERROR: Command errored out with exit status 1:\n",
      "   command: 'C:\\Users\\cresp\\anaconda3\\python.exe' 'C:\\Users\\cresp\\anaconda3\\lib\\site-packages\\pip\\_vendor\\pep517\\_in_process.py' build_wheel 'C:\\Users\\cresp\\AppData\\Local\\Temp\\tmpj5h57oq3'\n",
      "       cwd: C:\\Users\\cresp\\AppData\\Local\\Temp\\pip-install-_09mronj\\scs_116d278f5c21458aaadacaef26a2ad28\n",
      "  Complete output (82 lines):\n",
      "  Namespace(blas64=False, extraverbose=False, float32=False, gpu=False, gpu_atrans=True, int32=False, scs=False)\n",
      "  running bdist_wheel\n",
      "  running build\n",
      "  running build_py\n",
      "  creating build\n",
      "  creating build\\lib.win-amd64-3.8\n",
      "  creating build\\lib.win-amd64-3.8\\scs\n",
      "  copying src\\__init__.py -> build\\lib.win-amd64-3.8\\scs\n",
      "  running build_ext\n",
      "  blas_mkl_info:\n",
      "    NOT AVAILABLE\n",
      "  blis_info:\n",
      "    NOT AVAILABLE\n",
      "  openblas_info:\n",
      "      library_dirs = ['C:\\\\projects\\\\numpy-wheels\\\\numpy\\\\build\\\\openblas']\n",
      "      libraries = ['openblas']\n",
      "      language = f77\n",
      "      define_macros = [('HAVE_CBLAS', None)]\n",
      "  blas_opt_info:\n",
      "      library_dirs = ['C:\\\\projects\\\\numpy-wheels\\\\numpy\\\\build\\\\openblas']\n",
      "      libraries = ['openblas']\n",
      "      language = f77\n",
      "      define_macros = [('HAVE_CBLAS', None)]\n",
      "  lapack_mkl_info:\n",
      "    NOT AVAILABLE\n",
      "  openblas_lapack_info:\n",
      "      library_dirs = ['C:\\\\projects\\\\numpy-wheels\\\\numpy\\\\build\\\\openblas']\n",
      "      libraries = ['openblas']\n",
      "      language = f77\n",
      "      define_macros = [('HAVE_CBLAS', None)]\n",
      "  lapack_opt_info:\n",
      "      library_dirs = ['C:\\\\projects\\\\numpy-wheels\\\\numpy\\\\build\\\\openblas']\n",
      "      libraries = ['openblas']\n",
      "      language = f77\n",
      "      define_macros = [('HAVE_CBLAS', None)]\n",
      "  Could not locate executable g77\n",
      "  Could not locate executable f77\n",
      "  Could not locate executable ifort\n",
      "  Could not locate executable ifl\n",
      "  Could not locate executable f90\n",
      "  Could not locate executable DF\n",
      "  Could not locate executable efl\n",
      "  Could not locate executable gfortran\n",
      "  Could not locate executable f95\n",
      "  Could not locate executable g95\n",
      "  Could not locate executable efort\n",
      "  Could not locate executable efc\n",
      "  Could not locate executable flang\n",
      "  don't know how to compile Fortran code on platform 'nt'\n",
      "  C:\\Users\\cresp\\AppData\\Local\\Temp\\pip-build-env-8jxu0eod\\overlay\\Lib\\site-packages\\numpy\\distutils\\system_info.py:690: UserWarning:\n",
      "      Optimized (vendor) Blas libraries are not found.\n",
      "      Falls back to netlib Blas library which has worse performance.\n",
      "      A better performance should be easily gained by switching\n",
      "      Blas library.\n",
      "    self.calc_info()\n",
      "  C:\\Users\\cresp\\AppData\\Local\\Temp\\pip-build-env-8jxu0eod\\overlay\\Lib\\site-packages\\numpy\\distutils\\system_info.py:690: UserWarning:\n",
      "      Blas (http://www.netlib.org/blas/) libraries not found.\n",
      "      Directories to search for the libraries can be specified in the\n",
      "      numpy/distutils/site.cfg file (section [blas]) or by setting\n",
      "      the BLAS environment variable.\n",
      "    self.calc_info()\n",
      "  C:\\Users\\cresp\\AppData\\Local\\Temp\\pip-build-env-8jxu0eod\\overlay\\Lib\\site-packages\\numpy\\distutils\\system_info.py:690: UserWarning:\n",
      "      Blas (http://www.netlib.org/blas/) sources not found.\n",
      "      Directories to search for the sources can be specified in the\n",
      "      numpy/distutils/site.cfg file (section [blas_src]) or by setting\n",
      "      the BLAS_SRC environment variable.\n",
      "    self.calc_info()\n",
      "  C:\\Users\\cresp\\AppData\\Local\\Temp\\pip-build-env-8jxu0eod\\overlay\\Lib\\site-packages\\numpy\\distutils\\system_info.py:1712: UserWarning:\n",
      "      Lapack (http://www.netlib.org/lapack/) libraries not found.\n",
      "      Directories to search for the libraries can be specified in the\n",
      "      numpy/distutils/site.cfg file (section [lapack]) or by setting\n",
      "      the LAPACK environment variable.\n",
      "    if getattr(self, '_calc_info_{}'.format(lapack))():\n",
      "  C:\\Users\\cresp\\AppData\\Local\\Temp\\pip-build-env-8jxu0eod\\overlay\\Lib\\site-packages\\numpy\\distutils\\system_info.py:1712: UserWarning:\n",
      "      Lapack (http://www.netlib.org/lapack/) sources not found.\n",
      "      Directories to search for the sources can be specified in the\n",
      "      numpy/distutils/site.cfg file (section [lapack_src]) or by setting\n",
      "      the LAPACK_SRC environment variable.\n",
      "    if getattr(self, '_calc_info_{}'.format(lapack))():\n",
      "  {}\n",
      "  {}\n",
      "  error: Microsoft Visual C++ 14.0 or greater is required. Get it with \"Microsoft C++ Build Tools\": https://visualstudio.microsoft.com/visual-cpp-build-tools/\n",
      "  ----------------------------------------\n",
      "  ERROR: Failed building wheel for scs\n",
      "  ERROR: Command errored out with exit status 1:\n",
      "   command: 'C:\\Users\\cresp\\anaconda3\\python.exe' -u -c 'import sys, setuptools, tokenize; sys.argv[0] = '\"'\"'C:\\\\Users\\\\cresp\\\\AppData\\\\Local\\\\Temp\\\\pip-install-_09mronj\\\\accumulation-tree_d15524cf098943a6a0e62633604ee68a\\\\setup.py'\"'\"'; __file__='\"'\"'C:\\\\Users\\\\cresp\\\\AppData\\\\Local\\\\Temp\\\\pip-install-_09mronj\\\\accumulation-tree_d15524cf098943a6a0e62633604ee68a\\\\setup.py'\"'\"';f=getattr(tokenize, '\"'\"'open'\"'\"', open)(__file__);code=f.read().replace('\"'\"'\\r\\n'\"'\"', '\"'\"'\\n'\"'\"');f.close();exec(compile(code, __file__, '\"'\"'exec'\"'\"'))' bdist_wheel -d 'C:\\Users\\cresp\\AppData\\Local\\Temp\\pip-wheel-z4bpym2h'\n",
      "       cwd: C:\\Users\\cresp\\AppData\\Local\\Temp\\pip-install-_09mronj\\accumulation-tree_d15524cf098943a6a0e62633604ee68a\\\n",
      "  Complete output (15 lines):\n",
      "  running bdist_wheel\n",
      "  running build\n",
      "  running build_py\n",
      "  creating build\n",
      "  creating build\\lib.win-amd64-3.8\n",
      "  creating build\\lib.win-amd64-3.8\\accumulation_tree\n",
      "  copying accumulation_tree\\abctree.py -> build\\lib.win-amd64-3.8\\accumulation_tree\n",
      "  copying accumulation_tree\\treeslice.py -> build\\lib.win-amd64-3.8\\accumulation_tree\n",
      "  copying accumulation_tree\\__init__.py -> build\\lib.win-amd64-3.8\\accumulation_tree\n",
      "  running build_ext\n",
      "  cythoning accumulation_tree/accumulation_tree.pyx to accumulation_tree\\accumulation_tree.c\n",
      "  C:\\Users\\cresp\\anaconda3\\lib\\site-packages\\Cython\\Compiler\\Main.py:369: FutureWarning: Cython directive 'language_level' not set, using 2 for now (Py2). This will change in a later release! File: C:\\Users\\cresp\\AppData\\Local\\Temp\\pip-install-_09mronj\\accumulation-tree_d15524cf098943a6a0e62633604ee68a\\accumulation_tree\\accumulation_tree.pyx\n",
      "    tree = Parsing.p_module(s, pxd, full_module_name)\n",
      "  building 'accumulation_tree.accumulation_tree' extension\n",
      "  error: Microsoft Visual C++ 14.0 or greater is required. Get it with \"Microsoft C++ Build Tools\": https://visualstudio.microsoft.com/visual-cpp-build-tools/\n",
      "  ----------------------------------------\n",
      "  ERROR: Failed building wheel for accumulation-tree\n",
      "ERROR: Could not build wheels for scs which use PEP 517 and cannot be installed directly\n"
     ]
    },
    {
     "name": "stdout",
     "output_type": "stream",
     "text": [
      "\n",
      "Collecting pyudorandom\n",
      "  Using cached pyudorandom-1.0.0-py3-none-any.whl\n",
      "Building wheels for collected packages: scs, accumulation-tree\n",
      "  Building wheel for scs (PEP 517): started\n",
      "  Building wheel for scs (PEP 517): finished with status 'error'\n",
      "  Building wheel for accumulation-tree (setup.py): started\n",
      "  Building wheel for accumulation-tree (setup.py): finished with status 'error'\n",
      "  Running setup.py clean for accumulation-tree\n",
      "Failed to build scs accumulation-tree\n"
     ]
    }
   ],
   "source": [
    "pip install optbinning"
   ]
  },
  {
   "cell_type": "code",
   "execution_count": 7,
   "id": "e6b62a3b",
   "metadata": {},
   "outputs": [
    {
     "name": "stdout",
     "output_type": "stream",
     "text": [
      "Collecting https://github.com/jkbr/httpie/tarball/master\n",
      "Note: you may need to restart the kernel to use updated packages.\n"
     ]
    },
    {
     "name": "stderr",
     "output_type": "stream",
     "text": [
      "  ERROR: Cannot unpack file C:\\Users\\cresp\\AppData\\Local\\Temp\\pip-unpack-0ho98gh0\\optbinning.git (downloaded from C:\\Users\\cresp\\AppData\\Local\\Temp\\pip-req-build-2qo_bwbs, content-type: text/html; charset=utf-8); cannot detect archive format\n",
      "ERROR: Cannot determine archive format of C:\\Users\\cresp\\AppData\\Local\\Temp\\pip-req-build-2qo_bwbs\n"
     ]
    },
    {
     "name": "stdout",
     "output_type": "stream",
     "text": [
      "  Using cached https://github.com/jkbr/httpie/tarball/master\n",
      "Collecting https://github.com/guillermo-navas-palencia/optbinning.git\n",
      "  Downloading https://github.com/guillermo-navas-palencia/optbinning.git\n"
     ]
    }
   ],
   "source": [
    "pip install --upgrade https://github.com/jkbr/httpie/tarball/master https://github.com/guillermo-navas-palencia/optbinning.git"
   ]
  },
  {
   "cell_type": "code",
   "execution_count": 8,
   "id": "7658b4c3",
   "metadata": {},
   "outputs": [
    {
     "ename": "ModuleNotFoundError",
     "evalue": "No module named 'optbinning'",
     "output_type": "error",
     "traceback": [
      "\u001b[1;31m---------------------------------------------------------------------------\u001b[0m",
      "\u001b[1;31mModuleNotFoundError\u001b[0m                       Traceback (most recent call last)",
      "\u001b[1;32m<ipython-input-8-2e4e57d85ba3>\u001b[0m in \u001b[0;36m<module>\u001b[1;34m\u001b[0m\n\u001b[1;32m----> 1\u001b[1;33m \u001b[1;32mfrom\u001b[0m \u001b[0moptbinning\u001b[0m \u001b[1;32mimport\u001b[0m \u001b[0mOptimalBinning\u001b[0m\u001b[1;33m\u001b[0m\u001b[1;33m\u001b[0m\u001b[0m\n\u001b[0m",
      "\u001b[1;31mModuleNotFoundError\u001b[0m: No module named 'optbinning'"
     ]
    }
   ],
   "source": [
    "from optbinning import OptimalBinning"
   ]
  },
  {
   "cell_type": "code",
   "execution_count": 27,
   "id": "6546ce9d",
   "metadata": {},
   "outputs": [],
   "source": [
    "train, test = train_test_split(bd, test_size = 0.30, random_state = 100) "
   ]
  },
  {
   "cell_type": "code",
   "execution_count": 28,
   "id": "db71d531",
   "metadata": {},
   "outputs": [
    {
     "name": "stdout",
     "output_type": "stream",
     "text": [
      "<class 'pandas.core.frame.DataFrame'>\n",
      "Int64Index: 34252 entries, 8006 to 38408\n",
      "Data columns (total 6 columns):\n",
      " #   Column         Non-Null Count  Dtype  \n",
      "---  ------         --------------  -----  \n",
      " 0   Unnamed: 0     34252 non-null  int64  \n",
      " 1   index          34252 non-null  int64  \n",
      " 2   num_caso       34252 non-null  int64  \n",
      " 3   edad_credit    34252 non-null  float64\n",
      " 4   retrasos_max   34252 non-null  float64\n",
      " 5   comp_interno1  34252 non-null  float64\n",
      "dtypes: float64(3), int64(3)\n",
      "memory usage: 1.8 MB\n"
     ]
    }
   ],
   "source": [
    "train.info()"
   ]
  },
  {
   "cell_type": "code",
   "execution_count": 29,
   "id": "32db10b7",
   "metadata": {},
   "outputs": [
    {
     "name": "stdout",
     "output_type": "stream",
     "text": [
      "<class 'pandas.core.frame.DataFrame'>\n",
      "Int64Index: 14680 entries, 47579 to 30452\n",
      "Data columns (total 6 columns):\n",
      " #   Column         Non-Null Count  Dtype  \n",
      "---  ------         --------------  -----  \n",
      " 0   Unnamed: 0     14680 non-null  int64  \n",
      " 1   index          14680 non-null  int64  \n",
      " 2   num_caso       14680 non-null  int64  \n",
      " 3   edad_credit    14680 non-null  float64\n",
      " 4   retrasos_max   14680 non-null  float64\n",
      " 5   comp_interno1  14680 non-null  float64\n",
      "dtypes: float64(3), int64(3)\n",
      "memory usage: 802.8 KB\n"
     ]
    }
   ],
   "source": [
    "test.info()"
   ]
  },
  {
   "cell_type": "code",
   "execution_count": 30,
   "id": "7e81390d",
   "metadata": {},
   "outputs": [],
   "source": [
    "y = train.comp_interno1"
   ]
  },
  {
   "cell_type": "code",
   "execution_count": 31,
   "id": "6c4ce808",
   "metadata": {},
   "outputs": [
    {
     "name": "stdout",
     "output_type": "stream",
     "text": [
      "['Unnamed: 0', 'index', 'num_caso', 'edad_credit', 'retrasos_max', 'comp_interno1']\n"
     ]
    }
   ],
   "source": [
    "columnas = list(bd.columns.values)\n",
    "print(columnas)"
   ]
  },
  {
   "cell_type": "code",
   "execution_count": 32,
   "id": "d41e1e93",
   "metadata": {},
   "outputs": [
    {
     "ename": "NameError",
     "evalue": "name 'OptimalBinning' is not defined",
     "output_type": "error",
     "traceback": [
      "\u001b[1;31m---------------------------------------------------------------------------\u001b[0m",
      "\u001b[1;31mNameError\u001b[0m                                 Traceback (most recent call last)",
      "\u001b[1;32m<ipython-input-32-5793061fda87>\u001b[0m in \u001b[0;36m<module>\u001b[1;34m\u001b[0m\n\u001b[1;32m----> 1\u001b[1;33m \u001b[0moptb_num_caso\u001b[0m \u001b[1;33m=\u001b[0m \u001b[0mOptimalBinning\u001b[0m\u001b[1;33m(\u001b[0m\u001b[0mname\u001b[0m\u001b[1;33m=\u001b[0m\u001b[1;34m\"num_caso\"\u001b[0m\u001b[1;33m,\u001b[0m \u001b[0mdtype\u001b[0m\u001b[1;33m=\u001b[0m\u001b[1;34m\"numerical\"\u001b[0m\u001b[1;33m,\u001b[0m \u001b[0msolver\u001b[0m\u001b[1;33m=\u001b[0m\u001b[1;34m\"cp\"\u001b[0m\u001b[1;33m)\u001b[0m\u001b[1;33m\u001b[0m\u001b[1;33m\u001b[0m\u001b[0m\n\u001b[0m\u001b[0;32m      2\u001b[0m \u001b[0moptb_edad_credit\u001b[0m \u001b[1;33m=\u001b[0m \u001b[0mOptimalBinning\u001b[0m\u001b[1;33m(\u001b[0m\u001b[0mname\u001b[0m\u001b[1;33m=\u001b[0m\u001b[1;34m\"edad_credit\"\u001b[0m\u001b[1;33m,\u001b[0m \u001b[0mdtype\u001b[0m\u001b[1;33m=\u001b[0m\u001b[1;34m\"categorical\"\u001b[0m\u001b[1;33m,\u001b[0m \u001b[0msolver\u001b[0m\u001b[1;33m=\u001b[0m\u001b[1;34m\"cp\"\u001b[0m\u001b[1;33m,\u001b[0m\u001b[1;33m)\u001b[0m\u001b[1;33m\u001b[0m\u001b[1;33m\u001b[0m\u001b[0m\n\u001b[0;32m      3\u001b[0m \u001b[0moptb_retrasos_max\u001b[0m \u001b[1;33m=\u001b[0m \u001b[0mOptimalBinning\u001b[0m\u001b[1;33m(\u001b[0m\u001b[0mname\u001b[0m\u001b[1;33m=\u001b[0m\u001b[1;34m\"retrasos_max\"\u001b[0m\u001b[1;33m,\u001b[0m \u001b[0mdtype\u001b[0m\u001b[1;33m=\u001b[0m\u001b[1;34m\"numerical\"\u001b[0m\u001b[1;33m,\u001b[0m \u001b[0msolver\u001b[0m\u001b[1;33m=\u001b[0m\u001b[1;34m\"cp\"\u001b[0m\u001b[1;33m)\u001b[0m\u001b[1;33m\u001b[0m\u001b[1;33m\u001b[0m\u001b[0m\n\u001b[0;32m      4\u001b[0m \u001b[0moptb_comp_interno1\u001b[0m \u001b[1;33m=\u001b[0m \u001b[0mOptimalBinning\u001b[0m\u001b[1;33m(\u001b[0m\u001b[0mname\u001b[0m\u001b[1;33m=\u001b[0m\u001b[1;34m\"comp_interno1\"\u001b[0m\u001b[1;33m,\u001b[0m \u001b[0mdtype\u001b[0m\u001b[1;33m=\u001b[0m\u001b[1;34m\"numerical\"\u001b[0m\u001b[1;33m,\u001b[0m \u001b[0msolver\u001b[0m\u001b[1;33m=\u001b[0m\u001b[1;34m\"cp\"\u001b[0m\u001b[1;33m)\u001b[0m\u001b[1;33m\u001b[0m\u001b[1;33m\u001b[0m\u001b[0m\n",
      "\u001b[1;31mNameError\u001b[0m: name 'OptimalBinning' is not defined"
     ]
    }
   ],
   "source": [
    "optb_num_caso = OptimalBinning(name=\"num_caso\", dtype=\"numerical\", solver=\"cp\")\n",
    "optb_edad_credit = OptimalBinning(name=\"edad_credit\", dtype=\"categorical\", solver=\"cp\",)\n",
    "optb_retrasos_max = OptimalBinning(name=\"retrasos_max\", dtype=\"numerical\", solver=\"cp\")\n",
    "optb_comp_interno1 = OptimalBinning(name=\"comp_interno1\", dtype=\"numerical\", solver=\"cp\")"
   ]
  },
  {
   "cell_type": "code",
   "execution_count": 33,
   "id": "bf5dcc60",
   "metadata": {},
   "outputs": [
    {
     "ename": "NameError",
     "evalue": "name 'optb_num_caso' is not defined",
     "output_type": "error",
     "traceback": [
      "\u001b[1;31m---------------------------------------------------------------------------\u001b[0m",
      "\u001b[1;31mNameError\u001b[0m                                 Traceback (most recent call last)",
      "\u001b[1;32m<ipython-input-33-ad562fe6464a>\u001b[0m in \u001b[0;36m<module>\u001b[1;34m\u001b[0m\n\u001b[1;32m----> 1\u001b[1;33m \u001b[0moptb_num_caso\u001b[0m\u001b[1;33m.\u001b[0m\u001b[0mfit\u001b[0m\u001b[1;33m(\u001b[0m\u001b[0mtrain\u001b[0m\u001b[1;33m[\u001b[0m\u001b[1;34m\"num_caso\"\u001b[0m\u001b[1;33m]\u001b[0m\u001b[1;33m.\u001b[0m\u001b[0mvalues\u001b[0m\u001b[1;33m,\u001b[0m \u001b[0my\u001b[0m\u001b[1;33m)\u001b[0m\u001b[1;33m\u001b[0m\u001b[1;33m\u001b[0m\u001b[0m\n\u001b[0m\u001b[0;32m      2\u001b[0m \u001b[0moptb_edad_credit\u001b[0m\u001b[1;33m.\u001b[0m\u001b[0mfit\u001b[0m\u001b[1;33m(\u001b[0m\u001b[0mtrain\u001b[0m\u001b[1;33m[\u001b[0m\u001b[1;34m\"edad_credit\"\u001b[0m\u001b[1;33m]\u001b[0m\u001b[1;33m.\u001b[0m\u001b[0mvalues\u001b[0m\u001b[1;33m,\u001b[0m \u001b[0my\u001b[0m\u001b[1;33m)\u001b[0m\u001b[1;33m\u001b[0m\u001b[1;33m\u001b[0m\u001b[0m\n\u001b[0;32m      3\u001b[0m \u001b[0moptb_retrasos_max\u001b[0m\u001b[1;33m.\u001b[0m\u001b[0mfit\u001b[0m\u001b[1;33m(\u001b[0m\u001b[0mtrain\u001b[0m\u001b[1;33m[\u001b[0m\u001b[1;34m\"retrasos_max\"\u001b[0m\u001b[1;33m]\u001b[0m\u001b[1;33m.\u001b[0m\u001b[0mvalues\u001b[0m\u001b[1;33m,\u001b[0m \u001b[0my\u001b[0m\u001b[1;33m)\u001b[0m\u001b[1;33m\u001b[0m\u001b[1;33m\u001b[0m\u001b[0m\n\u001b[0;32m      4\u001b[0m \u001b[0moptb_comp_interno1\u001b[0m\u001b[1;33m.\u001b[0m\u001b[0mfit\u001b[0m\u001b[1;33m(\u001b[0m\u001b[0mtrain\u001b[0m\u001b[1;33m[\u001b[0m\u001b[1;34m\"comp_interno1\"\u001b[0m\u001b[1;33m]\u001b[0m\u001b[1;33m.\u001b[0m\u001b[0mvalues\u001b[0m\u001b[1;33m,\u001b[0m \u001b[0my\u001b[0m\u001b[1;33m)\u001b[0m\u001b[1;33m\u001b[0m\u001b[1;33m\u001b[0m\u001b[0m\n",
      "\u001b[1;31mNameError\u001b[0m: name 'optb_num_caso' is not defined"
     ]
    }
   ],
   "source": [
    "optb_num_caso.fit(train[\"num_caso\"].values, y)\n",
    "optb_edad_credit.fit(train[\"edad_credit\"].values, y)\n",
    "optb_retrasos_max.fit(train[\"retrasos_max\"].values, y)\n",
    "optb_comp_interno1.fit(train[\"comp_interno1\"].values, y)\n"
   ]
  },
  {
   "cell_type": "code",
   "execution_count": null,
   "id": "c6dda138",
   "metadata": {},
   "outputs": [],
   "source": []
  }
 ],
 "metadata": {
  "kernelspec": {
   "display_name": "Python 3",
   "language": "python",
   "name": "python3"
  },
  "language_info": {
   "codemirror_mode": {
    "name": "ipython",
    "version": 3
   },
   "file_extension": ".py",
   "mimetype": "text/x-python",
   "name": "python",
   "nbconvert_exporter": "python",
   "pygments_lexer": "ipython3",
   "version": "3.8.8"
  }
 },
 "nbformat": 4,
 "nbformat_minor": 5
}
