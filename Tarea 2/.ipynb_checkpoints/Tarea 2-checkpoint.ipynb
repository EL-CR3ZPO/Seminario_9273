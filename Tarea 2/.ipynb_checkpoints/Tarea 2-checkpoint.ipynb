{
 "cells": [
  {
   "cell_type": "markdown",
   "id": "66f0e386",
   "metadata": {},
   "source": [
    "# TAREA 2:\n",
    "\n",
    "1.- Hacer un modelo regresión logistica con woes con la tabla que generaron en la tarea 1. \\n\n",
    "\n",
    "2.- Hacer un árbol de clasificación con la misma tabla que el problema 1. No olviden que tienen que hacer el ajuste de hiperparámetros.\n",
    "\n",
    "3.- Seleccionar con validación cruzada cuál es el mejor modelo de los dos problemas anteriores.\n",
    "\n",
    "4.- Obtener los puntos óptimos de decisión para el modelo seleccionado.\n",
    "\n",
    "En todos los casos obtener: Gini, KS, ROC en entrenamiento y validación.\n",
    "Fecha de entrega: Viernes 7 de enero.\n"
   ]
  },
  {
   "cell_type": "code",
   "execution_count": null,
   "id": "f2b18587",
   "metadata": {},
   "outputs": [],
   "source": []
  }
 ],
 "metadata": {
  "kernelspec": {
   "display_name": "Python 3",
   "language": "python",
   "name": "python3"
  },
  "language_info": {
   "codemirror_mode": {
    "name": "ipython",
    "version": 3
   },
   "file_extension": ".py",
   "mimetype": "text/x-python",
   "name": "python",
   "nbconvert_exporter": "python",
   "pygments_lexer": "ipython3",
   "version": "3.8.8"
  }
 },
 "nbformat": 4,
 "nbformat_minor": 5
}
