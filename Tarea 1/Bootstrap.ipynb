{
 "cells": [
  {
   "cell_type": "code",
   "execution_count": 1,
   "metadata": {},
   "outputs": [],
   "source": [
    "from pylab import*\n",
    "import numpy as np\n",
    "import scipy.stats \n",
    "from scipy.special import gamma\n",
    "import seaborn as sns\n",
    "from scipy.stats import beta"
   ]
  },
  {
   "cell_type": "markdown",
   "metadata": {},
   "source": [
    "Para generar una muestra bootstrap se necesita ejecutar el siguiente algoritmo.\n",
    "Para generar una muestra booststrap $X_{1}^{*},\\ldots,X_{n}^{*}$.\n",
    "\n",
    "1.-Dar  ${\\bf{x}}=\\{x_{1},\\ldots, x_{n}\\}$.\n",
    "\n",
    "2.- Para $j=1,\\ldots, n$. Generar $k_{j}\\sim U\\{1,\\ldots,n\\}$ y definir $X_{j}^{*}=x_{k_{j}}$.\n",
    "\n",
    "Entonces, hacemos el paso 1."
   ]
  },
  {
   "cell_type": "code",
   "execution_count": 2,
   "metadata": {},
   "outputs": [],
   "source": [
    "x=np.array([6,3,2,4,6,6,6,5,3,6,2,2,6,2,3,1,5,1,\n",
    "   6,6,4,1,5,3,6,6,4,1,4,2,5,6,6,5,5,3,\n",
    "   6,2,6,6,1,4,1,5,6,1,6,3,3,2,2,2,5,2,\n",
    "   2,4,1,4,5,6,6,6,2,2,4,6,1,2,2,2,5,1,\n",
    "   5,3,5,4,2,1,4,6,6,5,6,4,6,4,3,6,4,1,\n",
    "   4,5,4,4,2,3,2,1,4,6])"
   ]
  },
  {
   "cell_type": "code",
   "execution_count": 3,
   "metadata": {},
   "outputs": [
    {
     "data": {
      "text/plain": [
       "3.81"
      ]
     },
     "execution_count": 3,
     "metadata": {},
     "output_type": "execute_result"
    }
   ],
   "source": [
    "mean(x)"
   ]
  },
  {
   "cell_type": "code",
   "execution_count": 4,
   "metadata": {},
   "outputs": [
    {
     "data": {
      "text/plain": [
       "array([6, 3, 2, 4, 6, 6, 6, 5, 3, 6, 2, 2, 6, 2, 3, 1, 5, 1, 6, 6, 4, 1,\n",
       "       5, 3, 6, 6, 4, 1, 4, 2, 5, 6, 6, 5, 5, 3, 6, 2, 6, 6, 1, 4, 1, 5,\n",
       "       6, 1, 6, 3, 3, 2, 2, 2, 5, 2, 2, 4, 1, 4, 5, 6, 6, 6, 2, 2, 4, 6,\n",
       "       1, 2, 2, 2, 5, 1, 5, 3, 5, 4, 2, 1, 4, 6, 6, 5, 6, 4, 6, 4, 3, 6,\n",
       "       4, 1, 4, 5, 4, 4, 2, 3, 2, 1, 4, 6])"
      ]
     },
     "execution_count": 4,
     "metadata": {},
     "output_type": "execute_result"
    }
   ],
   "source": [
    "x"
   ]
  },
  {
   "cell_type": "markdown",
   "metadata": {},
   "source": [
    "Luego, ejecutamos el paso 2.\n",
    "Para hacer un remuestreo con reemplazo en python, se ocupa de la siguiente función."
   ]
  },
  {
   "cell_type": "code",
   "execution_count": 5,
   "metadata": {},
   "outputs": [],
   "source": [
    "x_1=np.random.choice(x,len(x),replace=True)"
   ]
  },
  {
   "cell_type": "markdown",
   "metadata": {},
   "source": [
    "Y el resultado es"
   ]
  },
  {
   "cell_type": "code",
   "execution_count": 6,
   "metadata": {},
   "outputs": [
    {
     "data": {
      "text/plain": [
       "array([4, 6, 6, 5, 2, 4, 6, 6, 6, 5, 4, 6, 4, 6, 4, 6, 5, 2, 6, 6, 4, 1,\n",
       "       4, 4, 5, 6, 2, 6, 2, 6, 5, 5, 1, 1, 4, 5, 1, 6, 5, 6, 6, 5, 5, 4,\n",
       "       5, 1, 6, 6, 4, 4, 3, 2, 5, 3, 3, 6, 5, 3, 4, 4, 4, 3, 1, 6, 6, 6,\n",
       "       2, 6, 3, 1, 6, 1, 5, 5, 3, 3, 3, 2, 2, 1, 3, 6, 5, 4, 2, 2, 1, 5,\n",
       "       2, 4, 2, 6, 4, 1, 2, 6, 6, 2, 6, 4])"
      ]
     },
     "execution_count": 6,
     "metadata": {},
     "output_type": "execute_result"
    }
   ],
   "source": [
    "x_1"
   ]
  },
  {
   "cell_type": "code",
   "execution_count": 7,
   "metadata": {},
   "outputs": [],
   "source": [
    "x=np.array([1,2,3,4,5,6,7,8])"
   ]
  },
  {
   "cell_type": "code",
   "execution_count": 8,
   "metadata": {},
   "outputs": [],
   "source": [
    "k=3200\n",
    "x=np.array([6,3,2,4,6,6,6,5,3,6,2,2,6,2,3,1,5,1,\n",
    "   6,6,4,1,5,3,6,6,4,1,4,2,5,6,6,5,5,3,\n",
    "   6,2,6,6,1,4,1,5,6,1,6,3,3,2,2,2,5,2,\n",
    "   2,4,1,4,5,6,6,6,2,2,4,6,1,2,2,2,5,1,\n",
    "   5,3,5,4,2,1,4,6,6,5,6,4,6,4,3,6,4,1,\n",
    "   4,5,4,4,2,3,2,1,4,6])\n",
    "m=np.zeros(k)\n",
    "for j in range(k):\n",
    "    m[j]=mean(np.random.choice(x,len(x),replace=True),)"
   ]
  },
  {
   "cell_type": "code",
   "execution_count": 9,
   "metadata": {},
   "outputs": [
    {
     "data": {
      "image/png": "[encoded data removed]",
      "text/plain": [
       "<Figure size 576x360 with 1 Axes>"
      ]
     },
     "metadata": {
      "needs_background": "light"
     },
     "output_type": "display_data"
    }
   ],
   "source": [
    "fig, ax=subplots(figsize=(8,5))\n",
    "hist(m,density=True,bins=20,edgecolor=\"w\",color=\"cadetblue\",alpha=0.9)\n",
    "ax.xaxis.set_tick_params(labelsize=18,labelcolor=\"black\")\n",
    "ax.yaxis.set_tick_params(labelsize=18,labelcolor=\"black\")\n",
    "axvline(mean(x),linestyle=\"--\",color=\"black\",linewidth=2.5,alpha=0.6,\n",
    "        label=\"3.81\")\n",
    "legend()\n",
    "#savefig(\"promedio_b.pdf\")\n",
    "show()"
   ]
  }
 ],
 "metadata": {
  "kernelspec": {
   "display_name": "Python 3",
   "language": "python",
   "name": "python3"
  },
  "language_info": {
   "codemirror_mode": {
    "name": "ipython",
    "version": 3
   },
   "file_extension": ".py",
   "mimetype": "text/x-python",
   "name": "python",
   "nbconvert_exporter": "python",
   "pygments_lexer": "ipython3",
   "version": "3.8.8"
  }
 },
 "nbformat": 4,
 "nbformat_minor": 2
}
