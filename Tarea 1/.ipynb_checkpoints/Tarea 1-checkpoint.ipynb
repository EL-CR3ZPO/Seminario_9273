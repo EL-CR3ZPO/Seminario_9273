{
 "cells": [
  {
   "cell_type": "raw",
   "metadata": {},
   "source": [
    "Problema1:\n",
    "El objetivo de las bases es que realicemos un modelo de clasificación para poder contestar la siguiente pregunta:\n",
    "\n",
    "      ¿Damos un crédito bancario o no?\n",
    "\n",
    "Para empezar con la exploración de la base, tendrán que generar un análisis descriptivo de la información que les compartiré:\n",
    " 1.- Los campos _id_ que son los identificadores de la información.\n",
    " 2.- base_ini_interna\n",
    " 3.- base_ini_parte1\n",
    " 4.- base_ini_externa\n",
    " 5.- bases de comportamiento\n",
    " 6.- base_inversión, es una variable simulada de una gamma, es\n",
    " 7.- Cuando una variable es categórica, está implícito en el nombre de la base. No tenemos un diccionario, simplemente que son categóricas.\n",
    " 8.- El resto entonces son continuas. Es decir, los nombre estám enmascarados, ni siquiera yo sé qué significan.\n",
    " \n",
    "\n",
    "¿Cómo hago los cruces? Exploren la información.\n",
    "¿Qué análisis puedo realizar? Exploren ustedes, apóyense de los comportamientos de los ids.\n",
    "Pero... ¿Las preguntas son abiertas? Así es, quiero que exploren. Hay bases que vienen en csv y otras en txt. Vean como tratarlas.\n",
    "\n",
    "El resto de las tarea, son las preguntas que les dejé el dìa miércoles. Les coparto los programas que utilizamos.\n",
    "Pero resumo un poco:\n",
    "\n",
    "\n",
    "Problema 2:\n",
    "De la base data_schools sacar obtener el error estándar con Bootstrap de las variables de la base. \n",
    "Recordemos que tienen que simular N Muestras Boostrap con tamño n. Luego, el otro ejercicio es que lo hagan con n-1.\n",
    "\n",
    "Problema 3: Calcular el eror estándar de las betas del modelo lineal, les expliqué la idea de este problema."
   ]
  },
  {
   "cell_type": "markdown",
   "metadata": {},
   "source": [
    "Importamos las herramientas necesarias para la lectura y manipulacion de datos"
   ]
  },
  {
   "cell_type": "code",
   "execution_count": 99,
   "metadata": {},
   "outputs": [],
   "source": [
    "#Importar pandas. El método \"import\" permite a las funciones y métodos de pandas ser llamados mediante la variable pd\n",
    "import pandas as pd\n",
    "import numpy as np\n",
    "import datacompy\n",
    "import sqldf"
   ]
  },
  {
   "cell_type": "markdown",
   "metadata": {},
   "source": [
    "Vamos a leer los datos separados por txt y csv"
   ]
  },
  {
   "cell_type": "code",
   "execution_count": 100,
   "metadata": {
    "scrolled": true
   },
   "outputs": [],
   "source": [
    "#Utilizar pandas para procesar datos\n",
    "ruta=\"C:/Users/cresp/Documents/GitHub/Seminario_9273/Tarea 1/\"\n",
    "bd1 = \"base_ini_interna.csv\"\n",
    "bd2 = \"base_ini_parte1.csv\"\n",
    "bd5 = \"base_comportamiento_3.csv\"\n",
    "\n",
    "base_ini_interna = pd.read_csv(ruta+bd1)\n",
    "\n",
    "base_ini_parte1 = pd.read_csv(ruta+bd2)\n",
    "\n",
    "base_comportamiento_3 = pd.read_csv(ruta+bd5)\n"
   ]
  },
  {
   "cell_type": "code",
   "execution_count": 101,
   "metadata": {},
   "outputs": [],
   "source": [
    "#Utilizar pandas para procesar datos\n",
    "ruta=\"C:/Users/cresp/Documents/GitHub/Seminario_9273/Tarea 1/\"\n",
    "bd3 = \"base_ini_externa.txt\"\n",
    "bd4 = \"base_comportamiento_2.txt\"\n",
    "bd6 = \"base_inversion.txt\"\n",
    "bd7 = \"bd_inicio_parte1.txt\"\n",
    "\n",
    "#Tenemos que tener una diferenciacion para poder leer las columnas en un txt\n",
    "base_ini_externa = pd.read_csv(bd3, sep = \" \")\n",
    "#base_ini_externa.columns = [\"_id_\", \"comp_externo1\", \"comp_externo2\", \"comp_externo3\", \"comp_externo4\"]\n",
    "\n",
    "base_comportamiento_2 = pd.read_csv(bd4, sep = \" \")\n",
    "#base_comportamiento_2.columns = [\"num_caso\", \"mes_informacion\", \"Tiempo_aparicion\"]\n",
    "\n",
    "base_inversion = pd.read_csv(bd6, sep = \" \")\n",
    "#base_inversion.columns = [\"_id2_\", \"inversion\"]\n",
    "\n",
    "bd_inicio_parte1 = pd.read_csv(bd7,  sep = \" \")\n",
    "#bd_inicio_parte1.columns = [\"_id_\", \"comp_interno4\"]"
   ]
  },
  {
   "cell_type": "code",
   "execution_count": 86,
   "metadata": {},
   "outputs": [
    {
     "name": "stdout",
     "output_type": "stream",
     "text": [
      "<class 'pandas.core.frame.DataFrame'>\n",
      "RangeIndex: 50000 entries, 0 to 49999\n",
      "Data columns (total 9 columns):\n",
      " #   Column         Non-Null Count  Dtype  \n",
      "---  ------         --------------  -----  \n",
      " 0   _id_           50000 non-null  int64  \n",
      " 1   fecha_inicio   50000 non-null  object \n",
      " 2   comp_interno1  50000 non-null  float64\n",
      " 3   comp_interno2  50000 non-null  object \n",
      " 4   comp_interno3  50000 non-null  float64\n",
      " 5   comp_interno4  50000 non-null  float64\n",
      " 6   categoria1     50000 non-null  float64\n",
      " 7   categoria2     50000 non-null  float64\n",
      " 8   categoria3     50000 non-null  float64\n",
      "dtypes: float64(6), int64(1), object(2)\n",
      "memory usage: 3.4+ MB\n"
     ]
    }
   ],
   "source": [
    "base_ini_interna.info()"
   ]
  },
  {
   "cell_type": "code",
   "execution_count": 54,
   "metadata": {},
   "outputs": [
    {
     "name": "stdout",
     "output_type": "stream",
     "text": [
      "<class 'pandas.core.frame.DataFrame'>\n",
      "RangeIndex: 50000 entries, 0 to 49999\n",
      "Data columns (total 3 columns):\n",
      " #   Column       Non-Null Count  Dtype  \n",
      "---  ------       --------------  -----  \n",
      " 0   _id_         50000 non-null  int64  \n",
      " 1   _id2_        50000 non-null  int64  \n",
      " 2   comp_mixto1  50000 non-null  float64\n",
      "dtypes: float64(1), int64(2)\n",
      "memory usage: 1.1 MB\n"
     ]
    }
   ],
   "source": [
    "base_ini_parte1.info()"
   ]
  },
  {
   "cell_type": "code",
   "execution_count": 55,
   "metadata": {},
   "outputs": [
    {
     "name": "stdout",
     "output_type": "stream",
     "text": [
      "<class 'pandas.core.frame.DataFrame'>\n",
      "RangeIndex: 50000 entries, 0 to 49999\n",
      "Data columns (total 5 columns):\n",
      " #   Column         Non-Null Count  Dtype  \n",
      "---  ------         --------------  -----  \n",
      " 0   _id_           50000 non-null  int64  \n",
      " 1   comp_externo1  47831 non-null  float64\n",
      " 2   comp_externo2  44410 non-null  float64\n",
      " 3   comp_externo3  49994 non-null  float64\n",
      " 4   comp_externo4  50000 non-null  float64\n",
      "dtypes: float64(4), int64(1)\n",
      "memory usage: 1.9 MB\n"
     ]
    }
   ],
   "source": [
    "base_ini_externa.info()"
   ]
  },
  {
   "cell_type": "code",
   "execution_count": 56,
   "metadata": {},
   "outputs": [
    {
     "name": "stdout",
     "output_type": "stream",
     "text": [
      "<class 'pandas.core.frame.DataFrame'>\n",
      "RangeIndex: 1455536 entries, 0 to 1455535\n",
      "Data columns (total 3 columns):\n",
      " #   Column            Non-Null Count    Dtype  \n",
      "---  ------            --------------    -----  \n",
      " 0   num_caso          1455536 non-null  int64  \n",
      " 1   mes_informacion   1455536 non-null  object \n",
      " 2   Tiempo_aparicion  1455536 non-null  float64\n",
      "dtypes: float64(1), int64(1), object(1)\n",
      "memory usage: 33.3+ MB\n"
     ]
    }
   ],
   "source": [
    "base_comportamiento_2.info()"
   ]
  },
  {
   "cell_type": "code",
   "execution_count": 57,
   "metadata": {},
   "outputs": [
    {
     "name": "stdout",
     "output_type": "stream",
     "text": [
      "<class 'pandas.core.frame.DataFrame'>\n",
      "RangeIndex: 1455536 entries, 0 to 1455535\n",
      "Data columns (total 3 columns):\n",
      " #   Column            Non-Null Count    Dtype  \n",
      "---  ------            --------------    -----  \n",
      " 0   num_caso          1455536 non-null  int64  \n",
      " 1   mes_informacion   1455536 non-null  object \n",
      " 2   comportamiento_j  1455536 non-null  float64\n",
      "dtypes: float64(1), int64(1), object(1)\n",
      "memory usage: 33.3+ MB\n"
     ]
    }
   ],
   "source": [
    "base_comportamiento_3.info()"
   ]
  },
  {
   "cell_type": "code",
   "execution_count": 58,
   "metadata": {},
   "outputs": [
    {
     "name": "stdout",
     "output_type": "stream",
     "text": [
      "<class 'pandas.core.frame.DataFrame'>\n",
      "RangeIndex: 17536 entries, 0 to 17535\n",
      "Data columns (total 2 columns):\n",
      " #   Column     Non-Null Count  Dtype  \n",
      "---  ------     --------------  -----  \n",
      " 0   _id2_      17536 non-null  int64  \n",
      " 1   inversion  17536 non-null  float64\n",
      "dtypes: float64(1), int64(1)\n",
      "memory usage: 274.1 KB\n"
     ]
    }
   ],
   "source": [
    "base_inversion.info()"
   ]
  },
  {
   "cell_type": "code",
   "execution_count": 59,
   "metadata": {},
   "outputs": [
    {
     "name": "stdout",
     "output_type": "stream",
     "text": [
      "<class 'pandas.core.frame.DataFrame'>\n",
      "RangeIndex: 50000 entries, 0 to 49999\n",
      "Data columns (total 2 columns):\n",
      " #   Column         Non-Null Count  Dtype  \n",
      "---  ------         --------------  -----  \n",
      " 0   _id_           50000 non-null  int64  \n",
      " 1   comp_interno4  50000 non-null  float64\n",
      "dtypes: float64(1), int64(1)\n",
      "memory usage: 781.4 KB\n"
     ]
    }
   ],
   "source": [
    "bd_inicio_parte1.info()"
   ]
  },
  {
   "cell_type": "code",
   "execution_count": 87,
   "metadata": {
    "scrolled": false
   },
   "outputs": [
    {
     "data": {
      "text/plain": [
       "False"
      ]
     },
     "execution_count": 87,
     "metadata": {},
     "output_type": "execute_result"
    }
   ],
   "source": [
    "#Tenemos que verificar si las bases comparten columnas que nos puedan ayudar a juntarlas \n",
    "base_comportamiento_3.equals(base_comportamiento_2)"
   ]
  },
  {
   "cell_type": "code",
   "execution_count": 88,
   "metadata": {},
   "outputs": [
    {
     "data": {
      "text/plain": [
       "False"
      ]
     },
     "execution_count": 88,
     "metadata": {},
     "output_type": "execute_result"
    }
   ],
   "source": [
    "set(base_comportamiento_2.columns) == set(base_comportamiento_3.columns)"
   ]
  },
  {
   "cell_type": "markdown",
   "metadata": {},
   "source": [
    "Las bases de comportamiento 2 y 3 no son iguales pero comparten 2 columnas en comun podemos hacer un merge"
   ]
  },
  {
   "cell_type": "code",
   "execution_count": 102,
   "metadata": {},
   "outputs": [],
   "source": [
    "base_comportamiento_final = base_comportamiento_3[[\"num_caso\", \"comportamiento_j\"]]"
   ]
  },
  {
   "cell_type": "code",
   "execution_count": 103,
   "metadata": {},
   "outputs": [
    {
     "data": {
      "text/html": [
       "<div>\n",
       "<style scoped>\n",
       "    .dataframe tbody tr th:only-of-type {\n",
       "        vertical-align: middle;\n",
       "    }\n",
       "\n",
       "    .dataframe tbody tr th {\n",
       "        vertical-align: top;\n",
       "    }\n",
       "\n",
       "    .dataframe thead th {\n",
       "        text-align: right;\n",
       "    }\n",
       "</style>\n",
       "<table border=\"1\" class=\"dataframe\">\n",
       "  <thead>\n",
       "    <tr style=\"text-align: right;\">\n",
       "      <th></th>\n",
       "      <th>num_caso</th>\n",
       "      <th>mes_informacion</th>\n",
       "      <th>Tiempo_aparicion</th>\n",
       "      <th>comportamiento_j</th>\n",
       "    </tr>\n",
       "  </thead>\n",
       "  <tbody>\n",
       "    <tr>\n",
       "      <th>0</th>\n",
       "      <td>1</td>\n",
       "      <td>2016-04-01 00:00:00</td>\n",
       "      <td>0.0</td>\n",
       "      <td>0.0</td>\n",
       "    </tr>\n",
       "    <tr>\n",
       "      <th>1</th>\n",
       "      <td>1</td>\n",
       "      <td>2016-05-01 00:00:00</td>\n",
       "      <td>1.0</td>\n",
       "      <td>0.0</td>\n",
       "    </tr>\n",
       "    <tr>\n",
       "      <th>2</th>\n",
       "      <td>1</td>\n",
       "      <td>2016-06-01 00:00:00</td>\n",
       "      <td>2.0</td>\n",
       "      <td>0.0</td>\n",
       "    </tr>\n",
       "    <tr>\n",
       "      <th>3</th>\n",
       "      <td>1</td>\n",
       "      <td>2016-07-01 00:00:00</td>\n",
       "      <td>3.0</td>\n",
       "      <td>0.0</td>\n",
       "    </tr>\n",
       "    <tr>\n",
       "      <th>4</th>\n",
       "      <td>1</td>\n",
       "      <td>2016-08-01 00:00:00</td>\n",
       "      <td>4.0</td>\n",
       "      <td>0.0</td>\n",
       "    </tr>\n",
       "    <tr>\n",
       "      <th>...</th>\n",
       "      <td>...</td>\n",
       "      <td>...</td>\n",
       "      <td>...</td>\n",
       "      <td>...</td>\n",
       "    </tr>\n",
       "    <tr>\n",
       "      <th>58565815</th>\n",
       "      <td>98992</td>\n",
       "      <td>2021-05-01 00:00:00</td>\n",
       "      <td>1.0</td>\n",
       "      <td>0.0</td>\n",
       "    </tr>\n",
       "    <tr>\n",
       "      <th>58565816</th>\n",
       "      <td>98997</td>\n",
       "      <td>2021-04-01 00:00:00</td>\n",
       "      <td>0.0</td>\n",
       "      <td>0.0</td>\n",
       "    </tr>\n",
       "    <tr>\n",
       "      <th>58565817</th>\n",
       "      <td>98997</td>\n",
       "      <td>2021-05-01 00:00:00</td>\n",
       "      <td>1.0</td>\n",
       "      <td>0.0</td>\n",
       "    </tr>\n",
       "    <tr>\n",
       "      <th>58565818</th>\n",
       "      <td>98997</td>\n",
       "      <td>2021-04-01 00:00:00</td>\n",
       "      <td>0.0</td>\n",
       "      <td>0.0</td>\n",
       "    </tr>\n",
       "    <tr>\n",
       "      <th>58565819</th>\n",
       "      <td>98997</td>\n",
       "      <td>2021-05-01 00:00:00</td>\n",
       "      <td>1.0</td>\n",
       "      <td>0.0</td>\n",
       "    </tr>\n",
       "  </tbody>\n",
       "</table>\n",
       "<p>58565820 rows × 4 columns</p>\n",
       "</div>"
      ],
      "text/plain": [
       "          num_caso      mes_informacion  Tiempo_aparicion  comportamiento_j\n",
       "0                1  2016-04-01 00:00:00               0.0               0.0\n",
       "1                1  2016-05-01 00:00:00               1.0               0.0\n",
       "2                1  2016-06-01 00:00:00               2.0               0.0\n",
       "3                1  2016-07-01 00:00:00               3.0               0.0\n",
       "4                1  2016-08-01 00:00:00               4.0               0.0\n",
       "...            ...                  ...               ...               ...\n",
       "58565815     98992  2021-05-01 00:00:00               1.0               0.0\n",
       "58565816     98997  2021-04-01 00:00:00               0.0               0.0\n",
       "58565817     98997  2021-05-01 00:00:00               1.0               0.0\n",
       "58565818     98997  2021-04-01 00:00:00               0.0               0.0\n",
       "58565819     98997  2021-05-01 00:00:00               1.0               0.0\n",
       "\n",
       "[58565820 rows x 4 columns]"
      ]
     },
     "execution_count": 103,
     "metadata": {},
     "output_type": "execute_result"
    }
   ],
   "source": [
    "base_comportamiento_final = pd.merge(base_comportamiento_2, base_comportamiento_final, how = \"right\", on = [\"num_caso\"])\n",
    "base_comportamiento_final"
   ]
  },
  {
   "cell_type": "code",
   "execution_count": null,
   "metadata": {},
   "outputs": [],
   "source": [
    "bases_ini_externo_interno = base "
   ]
  }
 ],
 "metadata": {
  "kernelspec": {
   "display_name": "Python 3",
   "language": "python",
   "name": "python3"
  },
  "language_info": {
   "codemirror_mode": {
    "name": "ipython",
    "version": 3
   },
   "file_extension": ".py",
   "mimetype": "text/x-python",
   "name": "python",
   "nbconvert_exporter": "python",
   "pygments_lexer": "ipython3",
   "version": "3.8.8"
  }
 },
 "nbformat": 4,
 "nbformat_minor": 4
}
