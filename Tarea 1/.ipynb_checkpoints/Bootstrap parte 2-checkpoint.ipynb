{
 "cells": [
  {
   "cell_type": "code",
   "execution_count": 2,
   "metadata": {},
   "outputs": [],
   "source": [
    "from pylab import*\n",
    "import numpy as np\n",
    "import scipy.stats \n",
    "from scipy.special import gamma\n",
    "import seaborn as sns\n",
    "from scipy.stats import beta\n",
    "from scipy.stats import spearmanr\n",
    "import pandas as pd\n",
    "import random #este se agrego"
   ]
  },
  {
   "cell_type": "code",
   "execution_count": 3,
   "metadata": {},
   "outputs": [
    {
     "data": {
      "text/html": [
       "<div>\n",
       "<style scoped>\n",
       "    .dataframe tbody tr th:only-of-type {\n",
       "        vertical-align: middle;\n",
       "    }\n",
       "\n",
       "    .dataframe tbody tr th {\n",
       "        vertical-align: top;\n",
       "    }\n",
       "\n",
       "    .dataframe thead th {\n",
       "        text-align: right;\n",
       "    }\n",
       "</style>\n",
       "<table border=\"1\" class=\"dataframe\">\n",
       "  <thead>\n",
       "    <tr style=\"text-align: right;\">\n",
       "      <th></th>\n",
       "      <th>escuela</th>\n",
       "      <th>LSAT</th>\n",
       "      <th>GPA</th>\n",
       "    </tr>\n",
       "  </thead>\n",
       "  <tbody>\n",
       "    <tr>\n",
       "      <th>0</th>\n",
       "      <td>1</td>\n",
       "      <td>622</td>\n",
       "      <td>3.23</td>\n",
       "    </tr>\n",
       "    <tr>\n",
       "      <th>1</th>\n",
       "      <td>2</td>\n",
       "      <td>542</td>\n",
       "      <td>2.83</td>\n",
       "    </tr>\n",
       "    <tr>\n",
       "      <th>2</th>\n",
       "      <td>3</td>\n",
       "      <td>579</td>\n",
       "      <td>3.24</td>\n",
       "    </tr>\n",
       "    <tr>\n",
       "      <th>3</th>\n",
       "      <td>4</td>\n",
       "      <td>653</td>\n",
       "      <td>3.12</td>\n",
       "    </tr>\n",
       "    <tr>\n",
       "      <th>4</th>\n",
       "      <td>5</td>\n",
       "      <td>606</td>\n",
       "      <td>3.09</td>\n",
       "    </tr>\n",
       "    <tr>\n",
       "      <th>...</th>\n",
       "      <td>...</td>\n",
       "      <td>...</td>\n",
       "      <td>...</td>\n",
       "    </tr>\n",
       "    <tr>\n",
       "      <th>77</th>\n",
       "      <td>78</td>\n",
       "      <td>590</td>\n",
       "      <td>3.15</td>\n",
       "    </tr>\n",
       "    <tr>\n",
       "      <th>78</th>\n",
       "      <td>79</td>\n",
       "      <td>558</td>\n",
       "      <td>2.81</td>\n",
       "    </tr>\n",
       "    <tr>\n",
       "      <th>79</th>\n",
       "      <td>80</td>\n",
       "      <td>611</td>\n",
       "      <td>3.16</td>\n",
       "    </tr>\n",
       "    <tr>\n",
       "      <th>80</th>\n",
       "      <td>81</td>\n",
       "      <td>564</td>\n",
       "      <td>3.02</td>\n",
       "    </tr>\n",
       "    <tr>\n",
       "      <th>81</th>\n",
       "      <td>82</td>\n",
       "      <td>575</td>\n",
       "      <td>2.74</td>\n",
       "    </tr>\n",
       "  </tbody>\n",
       "</table>\n",
       "<p>82 rows × 3 columns</p>\n",
       "</div>"
      ],
      "text/plain": [
       "    escuela  LSAT   GPA\n",
       "0         1   622  3.23\n",
       "1         2   542  2.83\n",
       "2         3   579  3.24\n",
       "3         4   653  3.12\n",
       "4         5   606  3.09\n",
       "..      ...   ...   ...\n",
       "77       78   590  3.15\n",
       "78       79   558  2.81\n",
       "79       80   611  3.16\n",
       "80       81   564  3.02\n",
       "81       82   575  2.74\n",
       "\n",
       "[82 rows x 3 columns]"
      ]
     },
     "execution_count": 3,
     "metadata": {},
     "output_type": "execute_result"
    }
   ],
   "source": [
    "ruta=\"C:/Users/cresp/Documents/GitHub/Seminario_9273/Tarea 1/\"\n",
    "bd=\"data_schools.xlsx\"\n",
    "bd_escuelas=pd.read_excel(ruta+bd)\n",
    "bd_escuelas"
   ]
  },
  {
   "cell_type": "code",
   "execution_count": 3,
   "metadata": {},
   "outputs": [
    {
     "data": {
      "text/html": [
       "<div>\n",
       "<style scoped>\n",
       "    .dataframe tbody tr th:only-of-type {\n",
       "        vertical-align: middle;\n",
       "    }\n",
       "\n",
       "    .dataframe tbody tr th {\n",
       "        vertical-align: top;\n",
       "    }\n",
       "\n",
       "    .dataframe thead th {\n",
       "        text-align: right;\n",
       "    }\n",
       "</style>\n",
       "<table border=\"1\" class=\"dataframe\">\n",
       "  <thead>\n",
       "    <tr style=\"text-align: right;\">\n",
       "      <th></th>\n",
       "      <th>escuela</th>\n",
       "      <th>f_seleccion</th>\n",
       "    </tr>\n",
       "  </thead>\n",
       "  <tbody>\n",
       "    <tr>\n",
       "      <th>37</th>\n",
       "      <td>38</td>\n",
       "      <td>1</td>\n",
       "    </tr>\n",
       "    <tr>\n",
       "      <th>51</th>\n",
       "      <td>52</td>\n",
       "      <td>1</td>\n",
       "    </tr>\n",
       "    <tr>\n",
       "      <th>75</th>\n",
       "      <td>76</td>\n",
       "      <td>1</td>\n",
       "    </tr>\n",
       "    <tr>\n",
       "      <th>5</th>\n",
       "      <td>6</td>\n",
       "      <td>1</td>\n",
       "    </tr>\n",
       "    <tr>\n",
       "      <th>73</th>\n",
       "      <td>74</td>\n",
       "      <td>1</td>\n",
       "    </tr>\n",
       "    <tr>\n",
       "      <th>21</th>\n",
       "      <td>22</td>\n",
       "      <td>1</td>\n",
       "    </tr>\n",
       "    <tr>\n",
       "      <th>57</th>\n",
       "      <td>58</td>\n",
       "      <td>1</td>\n",
       "    </tr>\n",
       "    <tr>\n",
       "      <th>10</th>\n",
       "      <td>11</td>\n",
       "      <td>1</td>\n",
       "    </tr>\n",
       "    <tr>\n",
       "      <th>35</th>\n",
       "      <td>36</td>\n",
       "      <td>1</td>\n",
       "    </tr>\n",
       "    <tr>\n",
       "      <th>39</th>\n",
       "      <td>40</td>\n",
       "      <td>1</td>\n",
       "    </tr>\n",
       "    <tr>\n",
       "      <th>47</th>\n",
       "      <td>48</td>\n",
       "      <td>1</td>\n",
       "    </tr>\n",
       "    <tr>\n",
       "      <th>68</th>\n",
       "      <td>69</td>\n",
       "      <td>1</td>\n",
       "    </tr>\n",
       "    <tr>\n",
       "      <th>61</th>\n",
       "      <td>62</td>\n",
       "      <td>1</td>\n",
       "    </tr>\n",
       "    <tr>\n",
       "      <th>76</th>\n",
       "      <td>77</td>\n",
       "      <td>1</td>\n",
       "    </tr>\n",
       "    <tr>\n",
       "      <th>36</th>\n",
       "      <td>37</td>\n",
       "      <td>1</td>\n",
       "    </tr>\n",
       "  </tbody>\n",
       "</table>\n",
       "</div>"
      ],
      "text/plain": [
       "    escuela  f_seleccion\n",
       "37       38            1\n",
       "51       52            1\n",
       "75       76            1\n",
       "5         6            1\n",
       "73       74            1\n",
       "21       22            1\n",
       "57       58            1\n",
       "10       11            1\n",
       "35       36            1\n",
       "39       40            1\n",
       "47       48            1\n",
       "68       69            1\n",
       "61       62            1\n",
       "76       77            1\n",
       "36       37            1"
      ]
     },
     "execution_count": 3,
     "metadata": {},
     "output_type": "execute_result"
    }
   ],
   "source": [
    "#Seleccionamos aleatoriamente 15 escuelas\n",
    "escuelas_random=bd_escuelas.sample(n=15,random_state=9998)[[\"escuela\"]]\n",
    "escuelas_random[\"f_seleccion\"]=1\n",
    "escuelas_random"
   ]
  },
  {
   "cell_type": "code",
   "execution_count": 4,
   "metadata": {},
   "outputs": [
    {
     "data": {
      "text/html": [
       "<div>\n",
       "<style scoped>\n",
       "    .dataframe tbody tr th:only-of-type {\n",
       "        vertical-align: middle;\n",
       "    }\n",
       "\n",
       "    .dataframe tbody tr th {\n",
       "        vertical-align: top;\n",
       "    }\n",
       "\n",
       "    .dataframe thead th {\n",
       "        text-align: right;\n",
       "    }\n",
       "</style>\n",
       "<table border=\"1\" class=\"dataframe\">\n",
       "  <thead>\n",
       "    <tr style=\"text-align: right;\">\n",
       "      <th></th>\n",
       "      <th>escuela</th>\n",
       "      <th>LSAT</th>\n",
       "      <th>GPA</th>\n",
       "      <th>f_seleccion</th>\n",
       "    </tr>\n",
       "  </thead>\n",
       "  <tbody>\n",
       "    <tr>\n",
       "      <th>0</th>\n",
       "      <td>1</td>\n",
       "      <td>622</td>\n",
       "      <td>3.23</td>\n",
       "      <td>0</td>\n",
       "    </tr>\n",
       "    <tr>\n",
       "      <th>1</th>\n",
       "      <td>2</td>\n",
       "      <td>542</td>\n",
       "      <td>2.83</td>\n",
       "      <td>0</td>\n",
       "    </tr>\n",
       "    <tr>\n",
       "      <th>2</th>\n",
       "      <td>3</td>\n",
       "      <td>579</td>\n",
       "      <td>3.24</td>\n",
       "      <td>0</td>\n",
       "    </tr>\n",
       "    <tr>\n",
       "      <th>3</th>\n",
       "      <td>4</td>\n",
       "      <td>653</td>\n",
       "      <td>3.12</td>\n",
       "      <td>0</td>\n",
       "    </tr>\n",
       "    <tr>\n",
       "      <th>4</th>\n",
       "      <td>5</td>\n",
       "      <td>606</td>\n",
       "      <td>3.09</td>\n",
       "      <td>0</td>\n",
       "    </tr>\n",
       "    <tr>\n",
       "      <th>...</th>\n",
       "      <td>...</td>\n",
       "      <td>...</td>\n",
       "      <td>...</td>\n",
       "      <td>...</td>\n",
       "    </tr>\n",
       "    <tr>\n",
       "      <th>77</th>\n",
       "      <td>78</td>\n",
       "      <td>590</td>\n",
       "      <td>3.15</td>\n",
       "      <td>0</td>\n",
       "    </tr>\n",
       "    <tr>\n",
       "      <th>78</th>\n",
       "      <td>79</td>\n",
       "      <td>558</td>\n",
       "      <td>2.81</td>\n",
       "      <td>0</td>\n",
       "    </tr>\n",
       "    <tr>\n",
       "      <th>79</th>\n",
       "      <td>80</td>\n",
       "      <td>611</td>\n",
       "      <td>3.16</td>\n",
       "      <td>0</td>\n",
       "    </tr>\n",
       "    <tr>\n",
       "      <th>80</th>\n",
       "      <td>81</td>\n",
       "      <td>564</td>\n",
       "      <td>3.02</td>\n",
       "      <td>0</td>\n",
       "    </tr>\n",
       "    <tr>\n",
       "      <th>81</th>\n",
       "      <td>82</td>\n",
       "      <td>575</td>\n",
       "      <td>2.74</td>\n",
       "      <td>0</td>\n",
       "    </tr>\n",
       "  </tbody>\n",
       "</table>\n",
       "<p>82 rows × 4 columns</p>\n",
       "</div>"
      ],
      "text/plain": [
       "    escuela  LSAT   GPA  f_seleccion\n",
       "0         1   622  3.23            0\n",
       "1         2   542  2.83            0\n",
       "2         3   579  3.24            0\n",
       "3         4   653  3.12            0\n",
       "4         5   606  3.09            0\n",
       "..      ...   ...   ...          ...\n",
       "77       78   590  3.15            0\n",
       "78       79   558  2.81            0\n",
       "79       80   611  3.16            0\n",
       "80       81   564  3.02            0\n",
       "81       82   575  2.74            0\n",
       "\n",
       "[82 rows x 4 columns]"
      ]
     },
     "execution_count": 4,
     "metadata": {},
     "output_type": "execute_result"
    }
   ],
   "source": [
    "bd_escuelas=pd.merge(bd_escuelas, escuelas_random, how=\"left\", on=[\"escuela\"])\n",
    "bd_escuelas[\"f_seleccion\"]=bd_escuelas[\"f_seleccion\"].fillna(0)\n",
    "bd_escuelas[\"f_seleccion\"]=bd_escuelas[\"f_seleccion\"].astype(int)\n",
    "bd_escuelas"
   ]
  },
  {
   "cell_type": "code",
   "execution_count": 5,
   "metadata": {},
   "outputs": [
    {
     "data": {
      "image/png": "[encoded data removed]",
      "text/plain": [
       "<Figure size 648x432 with 1 Axes>"
      ]
     },
     "metadata": {
      "needs_background": "light"
     },
     "output_type": "display_data"
    }
   ],
   "source": [
    "fig, ax = plt.subplots(figsize=(9,6))\n",
    "plot(bd_escuelas[bd_escuelas[\"f_seleccion\"]==0].LSAT, \n",
    "         bd_escuelas[bd_escuelas[\"f_seleccion\"]==0].GPA, 'o', color='blue',markerfacecolor='white')\n",
    "plot(bd_escuelas[bd_escuelas[\"f_seleccion\"]==1].LSAT, \n",
    "         bd_escuelas[bd_escuelas[\"f_seleccion\"]==1].GPA, 'o', color='green')\n",
    "\n",
    "xlabel(\"LSAT\",size=14)\n",
    "ylabel(\"GPA\",size=14)\n",
    "xticks(fontsize=16)\n",
    "yticks(fontsize=16)\n",
    "show()"
   ]
  },
  {
   "cell_type": "code",
   "execution_count": 6,
   "metadata": {},
   "outputs": [
    {
     "name": "stdout",
     "output_type": "stream",
     "text": [
      "Spearmans correlation: 0.659\n"
     ]
    }
   ],
   "source": [
    "corr, _ = spearmanr(bd_escuelas[bd_escuelas[\"f_seleccion\"]==1].LSAT, bd_escuelas[bd_escuelas[\"f_seleccion\"]==1].GPA)\n",
    "print('Spearmans correlation: %.3f' % corr)"
   ]
  },
  {
   "cell_type": "code",
   "execution_count": 7,
   "metadata": {},
   "outputs": [
    {
     "name": "stdout",
     "output_type": "stream",
     "text": [
      "Spearmans correlation: 0.753\n"
     ]
    }
   ],
   "source": [
    "corr, _ = spearmanr(bd_escuelas.LSAT, bd_escuelas.GPA)\n",
    "print('Spearmans correlation: %.3f' % corr)"
   ]
  },
  {
   "cell_type": "code",
   "execution_count": 8,
   "metadata": {},
   "outputs": [],
   "source": [
    "#De tarea, obtener el error estandar de la correlacion y mostrar para que N la precisión \n",
    "# con respecto a la correlación de la muestra total\n",
    "#Grafique los histogramas de las correlaciones\n",
    "#Grafique el  histograma pero sobre una muestra bostrap considerando la muestra completa"
   ]
  },
  {
   "cell_type": "markdown",
   "metadata": {},
   "source": [
    "# Problema 2:\n",
    "\n",
    "De la base data_schools sacar obtener el error estándar con Bootstrap de las variables de la base. \n",
    "Recordemos que tienen que simular N Muestras Boostrap con tamño n. Luego, el otro ejercicio es que lo hagan con n-1."
   ]
  },
  {
   "cell_type": "markdown",
   "metadata": {},
   "source": [
    "Se veran 2 enfoques como dijo el profesor, el que consideramos mas eficiente y que ejecuta lo que queremos es el Enfoque 2 ya que sentimos que ese el proposito mas acercado del libro y del profesor "
   ]
  },
  {
   "cell_type": "markdown",
   "metadata": {},
   "source": [
    "## Enfoque 1"
   ]
  },
  {
   "cell_type": "code",
   "execution_count": 9,
   "metadata": {},
   "outputs": [
    {
     "data": {
      "text/html": [
       "<div>\n",
       "<style scoped>\n",
       "    .dataframe tbody tr th:only-of-type {\n",
       "        vertical-align: middle;\n",
       "    }\n",
       "\n",
       "    .dataframe tbody tr th {\n",
       "        vertical-align: top;\n",
       "    }\n",
       "\n",
       "    .dataframe thead th {\n",
       "        text-align: right;\n",
       "    }\n",
       "</style>\n",
       "<table border=\"1\" class=\"dataframe\">\n",
       "  <thead>\n",
       "    <tr style=\"text-align: right;\">\n",
       "      <th></th>\n",
       "      <th>escuela</th>\n",
       "      <th>LSAT</th>\n",
       "      <th>GPA</th>\n",
       "      <th>f_seleccion</th>\n",
       "    </tr>\n",
       "  </thead>\n",
       "  <tbody>\n",
       "    <tr>\n",
       "      <th>escuela</th>\n",
       "      <td>1.000000</td>\n",
       "      <td>-0.055274</td>\n",
       "      <td>-0.096763</td>\n",
       "      <td>0.135526</td>\n",
       "    </tr>\n",
       "    <tr>\n",
       "      <th>LSAT</th>\n",
       "      <td>-0.055274</td>\n",
       "      <td>1.000000</td>\n",
       "      <td>0.759998</td>\n",
       "      <td>-0.110035</td>\n",
       "    </tr>\n",
       "    <tr>\n",
       "      <th>GPA</th>\n",
       "      <td>-0.096763</td>\n",
       "      <td>0.759998</td>\n",
       "      <td>1.000000</td>\n",
       "      <td>0.088550</td>\n",
       "    </tr>\n",
       "    <tr>\n",
       "      <th>f_seleccion</th>\n",
       "      <td>0.135526</td>\n",
       "      <td>-0.110035</td>\n",
       "      <td>0.088550</td>\n",
       "      <td>1.000000</td>\n",
       "    </tr>\n",
       "  </tbody>\n",
       "</table>\n",
       "</div>"
      ],
      "text/plain": [
       "              escuela      LSAT       GPA  f_seleccion\n",
       "escuela      1.000000 -0.055274 -0.096763     0.135526\n",
       "LSAT        -0.055274  1.000000  0.759998    -0.110035\n",
       "GPA         -0.096763  0.759998  1.000000     0.088550\n",
       "f_seleccion  0.135526 -0.110035  0.088550     1.000000"
      ]
     },
     "execution_count": 9,
     "metadata": {},
     "output_type": "execute_result"
    }
   ],
   "source": [
    "bd_escuelas.corr(method ='pearson')"
   ]
  },
  {
   "cell_type": "code",
   "execution_count": 10,
   "metadata": {
    "scrolled": true
   },
   "outputs": [
    {
     "data": {
      "text/html": [
       "<div>\n",
       "<style scoped>\n",
       "    .dataframe tbody tr th:only-of-type {\n",
       "        vertical-align: middle;\n",
       "    }\n",
       "\n",
       "    .dataframe tbody tr th {\n",
       "        vertical-align: top;\n",
       "    }\n",
       "\n",
       "    .dataframe thead th {\n",
       "        text-align: right;\n",
       "    }\n",
       "</style>\n",
       "<table border=\"1\" class=\"dataframe\">\n",
       "  <thead>\n",
       "    <tr style=\"text-align: right;\">\n",
       "      <th></th>\n",
       "      <th>escuela</th>\n",
       "      <th>LSAT</th>\n",
       "      <th>GPA</th>\n",
       "      <th>f_seleccion</th>\n",
       "    </tr>\n",
       "  </thead>\n",
       "  <tbody>\n",
       "    <tr>\n",
       "      <th>escuela</th>\n",
       "      <td>1.000000</td>\n",
       "      <td>-0.094290</td>\n",
       "      <td>-0.102027</td>\n",
       "      <td>0.136511</td>\n",
       "    </tr>\n",
       "    <tr>\n",
       "      <th>LSAT</th>\n",
       "      <td>-0.094290</td>\n",
       "      <td>1.000000</td>\n",
       "      <td>0.752662</td>\n",
       "      <td>-0.117672</td>\n",
       "    </tr>\n",
       "    <tr>\n",
       "      <th>GPA</th>\n",
       "      <td>-0.102027</td>\n",
       "      <td>0.752662</td>\n",
       "      <td>1.000000</td>\n",
       "      <td>0.086482</td>\n",
       "    </tr>\n",
       "    <tr>\n",
       "      <th>f_seleccion</th>\n",
       "      <td>0.136511</td>\n",
       "      <td>-0.117672</td>\n",
       "      <td>0.086482</td>\n",
       "      <td>1.000000</td>\n",
       "    </tr>\n",
       "  </tbody>\n",
       "</table>\n",
       "</div>"
      ],
      "text/plain": [
       "              escuela      LSAT       GPA  f_seleccion\n",
       "escuela      1.000000 -0.094290 -0.102027     0.136511\n",
       "LSAT        -0.094290  1.000000  0.752662    -0.117672\n",
       "GPA         -0.102027  0.752662  1.000000     0.086482\n",
       "f_seleccion  0.136511 -0.117672  0.086482     1.000000"
      ]
     },
     "execution_count": 10,
     "metadata": {},
     "output_type": "execute_result"
    }
   ],
   "source": [
    "bd_escuelas.corr(method ='spearman')"
   ]
  },
  {
   "cell_type": "code",
   "execution_count": 11,
   "metadata": {},
   "outputs": [
    {
     "data": {
      "text/plain": [
       "597.5487804878048"
      ]
     },
     "execution_count": 11,
     "metadata": {},
     "output_type": "execute_result"
    }
   ],
   "source": [
    "mean(bd_escuelas['LSAT'])"
   ]
  },
  {
   "cell_type": "code",
   "execution_count": 12,
   "metadata": {
    "scrolled": true
   },
   "outputs": [
    {
     "data": {
      "text/plain": [
       "3.1348780487804877"
      ]
     },
     "execution_count": 12,
     "metadata": {},
     "output_type": "execute_result"
    }
   ],
   "source": [
    "mean(bd_escuelas['GPA'])"
   ]
  },
  {
   "cell_type": "markdown",
   "metadata": {},
   "source": [
    "Si solamente calculamos Bootstrap sobre una única muestra entonces no nos estaria dando mucha información ya que solo nos estamos moviendo sobre una muestra, una prueba de ello es el codigo aquí abajo mencionado donde todas las muestras son las mismas, es por ello que trabajar sobre una misma muestra y duplicarla resulta invonveniente para lo que queremos"
   ]
  },
  {
   "cell_type": "code",
   "execution_count": 13,
   "metadata": {},
   "outputs": [
    {
     "name": "stdout",
     "output_type": "stream",
     "text": [
      "589.0\n"
     ]
    }
   ],
   "source": [
    "media_muestral = []\n",
    "\n",
    "for i in range (200):\n",
    "    y = bd_escuelas.loc[bd_escuelas['f_seleccion'] == 1, 'LSAT']\n",
    "    promedio = np.mean(y)\n",
    "    media_muestral.append(promedio)\n",
    "    \n",
    "print(np.mean(media_muestral))"
   ]
  },
  {
   "cell_type": "code",
   "execution_count": 14,
   "metadata": {},
   "outputs": [
    {
     "name": "stdout",
     "output_type": "stream",
     "text": [
      "Spearmans correlation: 0.753\n",
      "Spearmans correlation: 0.753\n",
      "Spearmans correlation: 0.753\n",
      "Spearmans correlation: 0.753\n",
      "Spearmans correlation: 0.753\n",
      "Spearmans correlation: 0.753\n",
      "Spearmans correlation: 0.753\n",
      "Spearmans correlation: 0.753\n",
      "Spearmans correlation: 0.753\n",
      "Spearmans correlation: 0.753\n",
      "Spearmans correlation: 0.753\n",
      "Spearmans correlation: 0.753\n",
      "Spearmans correlation: 0.753\n",
      "Spearmans correlation: 0.753\n",
      "Spearmans correlation: 0.753\n",
      "Spearmans correlation: 0.753\n",
      "Spearmans correlation: 0.753\n",
      "Spearmans correlation: 0.753\n",
      "Spearmans correlation: 0.753\n",
      "Spearmans correlation: 0.753\n",
      "Spearmans correlation: 0.753\n",
      "Spearmans correlation: 0.753\n",
      "Spearmans correlation: 0.753\n",
      "Spearmans correlation: 0.753\n",
      "Spearmans correlation: 0.753\n",
      "Spearmans correlation: 0.753\n",
      "Spearmans correlation: 0.753\n",
      "Spearmans correlation: 0.753\n",
      "Spearmans correlation: 0.753\n",
      "Spearmans correlation: 0.753\n",
      "Spearmans correlation: 0.753\n",
      "Spearmans correlation: 0.753\n",
      "Spearmans correlation: 0.753\n",
      "Spearmans correlation: 0.753\n",
      "Spearmans correlation: 0.753\n",
      "Spearmans correlation: 0.753\n",
      "Spearmans correlation: 0.753\n",
      "Spearmans correlation: 0.753\n",
      "Spearmans correlation: 0.753\n",
      "Spearmans correlation: 0.753\n",
      "Spearmans correlation: 0.753\n",
      "Spearmans correlation: 0.753\n",
      "Spearmans correlation: 0.753\n",
      "Spearmans correlation: 0.753\n",
      "Spearmans correlation: 0.753\n",
      "Spearmans correlation: 0.753\n",
      "Spearmans correlation: 0.753\n",
      "Spearmans correlation: 0.753\n",
      "Spearmans correlation: 0.753\n",
      "Spearmans correlation: 0.753\n",
      "Spearmans correlation: 0.753\n",
      "Spearmans correlation: 0.753\n",
      "Spearmans correlation: 0.753\n",
      "Spearmans correlation: 0.753\n",
      "Spearmans correlation: 0.753\n",
      "Spearmans correlation: 0.753\n",
      "Spearmans correlation: 0.753\n",
      "Spearmans correlation: 0.753\n",
      "Spearmans correlation: 0.753\n",
      "Spearmans correlation: 0.753\n",
      "Spearmans correlation: 0.753\n",
      "Spearmans correlation: 0.753\n",
      "Spearmans correlation: 0.753\n",
      "Spearmans correlation: 0.753\n",
      "Spearmans correlation: 0.753\n",
      "Spearmans correlation: 0.753\n",
      "Spearmans correlation: 0.753\n",
      "Spearmans correlation: 0.753\n",
      "Spearmans correlation: 0.753\n",
      "Spearmans correlation: 0.753\n",
      "Spearmans correlation: 0.753\n",
      "Spearmans correlation: 0.753\n",
      "Spearmans correlation: 0.753\n",
      "Spearmans correlation: 0.753\n",
      "Spearmans correlation: 0.753\n",
      "Spearmans correlation: 0.753\n",
      "Spearmans correlation: 0.753\n",
      "Spearmans correlation: 0.753\n",
      "Spearmans correlation: 0.753\n",
      "Spearmans correlation: 0.753\n",
      "Spearmans correlation: 0.753\n",
      "Spearmans correlation: 0.753\n",
      "Spearmans correlation: 0.753\n",
      "Spearmans correlation: 0.753\n",
      "Spearmans correlation: 0.753\n",
      "Spearmans correlation: 0.753\n",
      "Spearmans correlation: 0.753\n",
      "Spearmans correlation: 0.753\n",
      "Spearmans correlation: 0.753\n",
      "Spearmans correlation: 0.753\n",
      "Spearmans correlation: 0.753\n",
      "Spearmans correlation: 0.753\n",
      "Spearmans correlation: 0.753\n",
      "Spearmans correlation: 0.753\n",
      "Spearmans correlation: 0.753\n",
      "Spearmans correlation: 0.753\n",
      "Spearmans correlation: 0.753\n",
      "Spearmans correlation: 0.753\n",
      "Spearmans correlation: 0.753\n",
      "Spearmans correlation: 0.753\n",
      "Spearmans correlation: 0.753\n",
      "Spearmans correlation: 0.753\n",
      "Spearmans correlation: 0.753\n",
      "Spearmans correlation: 0.753\n",
      "Spearmans correlation: 0.753\n",
      "Spearmans correlation: 0.753\n",
      "Spearmans correlation: 0.753\n",
      "Spearmans correlation: 0.753\n",
      "Spearmans correlation: 0.753\n",
      "Spearmans correlation: 0.753\n",
      "Spearmans correlation: 0.753\n",
      "Spearmans correlation: 0.753\n",
      "Spearmans correlation: 0.753\n",
      "Spearmans correlation: 0.753\n",
      "Spearmans correlation: 0.753\n",
      "Spearmans correlation: 0.753\n",
      "Spearmans correlation: 0.753\n",
      "Spearmans correlation: 0.753\n",
      "Spearmans correlation: 0.753\n",
      "Spearmans correlation: 0.753\n",
      "Spearmans correlation: 0.753\n",
      "Spearmans correlation: 0.753\n",
      "Spearmans correlation: 0.753\n",
      "Spearmans correlation: 0.753\n",
      "Spearmans correlation: 0.753\n",
      "Spearmans correlation: 0.753\n",
      "Spearmans correlation: 0.753\n",
      "Spearmans correlation: 0.753\n",
      "Spearmans correlation: 0.753\n",
      "Spearmans correlation: 0.753\n",
      "Spearmans correlation: 0.753\n",
      "Spearmans correlation: 0.753\n",
      "Spearmans correlation: 0.753\n",
      "Spearmans correlation: 0.753\n",
      "Spearmans correlation: 0.753\n",
      "Spearmans correlation: 0.753\n",
      "Spearmans correlation: 0.753\n",
      "Spearmans correlation: 0.753\n",
      "Spearmans correlation: 0.753\n",
      "Spearmans correlation: 0.753\n",
      "Spearmans correlation: 0.753\n",
      "Spearmans correlation: 0.753\n",
      "Spearmans correlation: 0.753\n",
      "Spearmans correlation: 0.753\n",
      "Spearmans correlation: 0.753\n",
      "Spearmans correlation: 0.753\n",
      "Spearmans correlation: 0.753\n",
      "Spearmans correlation: 0.753\n",
      "Spearmans correlation: 0.753\n",
      "Spearmans correlation: 0.753\n",
      "Spearmans correlation: 0.753\n",
      "Spearmans correlation: 0.753\n",
      "Spearmans correlation: 0.753\n",
      "Spearmans correlation: 0.753\n",
      "Spearmans correlation: 0.753\n",
      "Spearmans correlation: 0.753\n",
      "Spearmans correlation: 0.753\n",
      "Spearmans correlation: 0.753\n",
      "Spearmans correlation: 0.753\n",
      "Spearmans correlation: 0.753\n",
      "Spearmans correlation: 0.753\n",
      "Spearmans correlation: 0.753\n",
      "Spearmans correlation: 0.753\n",
      "Spearmans correlation: 0.753\n",
      "Spearmans correlation: 0.753\n",
      "Spearmans correlation: 0.753\n",
      "Spearmans correlation: 0.753\n",
      "Spearmans correlation: 0.753\n",
      "Spearmans correlation: 0.753\n",
      "Spearmans correlation: 0.753\n",
      "Spearmans correlation: 0.753\n",
      "Spearmans correlation: 0.753\n",
      "Spearmans correlation: 0.753\n",
      "Spearmans correlation: 0.753\n",
      "Spearmans correlation: 0.753\n",
      "Spearmans correlation: 0.753\n",
      "Spearmans correlation: 0.753\n",
      "Spearmans correlation: 0.753\n",
      "Spearmans correlation: 0.753\n",
      "Spearmans correlation: 0.753\n",
      "Spearmans correlation: 0.753\n",
      "Spearmans correlation: 0.753\n",
      "Spearmans correlation: 0.753\n",
      "Spearmans correlation: 0.753\n",
      "Spearmans correlation: 0.753\n",
      "Spearmans correlation: 0.753\n",
      "Spearmans correlation: 0.753\n",
      "Spearmans correlation: 0.753\n",
      "Spearmans correlation: 0.753\n",
      "Spearmans correlation: 0.753\n",
      "Spearmans correlation: 0.753\n",
      "Spearmans correlation: 0.753\n",
      "Spearmans correlation: 0.753\n",
      "Spearmans correlation: 0.753\n",
      "Spearmans correlation: 0.753\n",
      "Spearmans correlation: 0.753\n",
      "Spearmans correlation: 0.753\n",
      "Spearmans correlation: 0.753\n",
      "Spearmans correlation: 0.753\n",
      "Spearmans correlation: 0.753\n"
     ]
    }
   ],
   "source": [
    "for i in range(200):\n",
    "    corr, _ = spearmanr(bd_escuelas.LSAT, bd_escuelas.GPA)\n",
    "    print(\"Spearmans correlation: %.3f\" % corr)"
   ]
  },
  {
   "cell_type": "code",
   "execution_count": 16,
   "metadata": {},
   "outputs": [
    {
     "data": {
      "image/png": "[encoded data removed]",
      "text/plain": [
       "<Figure size 576x360 with 1 Axes>"
      ]
     },
     "metadata": {
      "needs_background": "light"
     },
     "output_type": "display_data"
    }
   ],
   "source": [
    "Histogrma_de_correlaciones_primero = []\n",
    "\n",
    "for i in range(200):\n",
    "    corr, _ = spearmanr(bd_escuelas.LSAT, bd_escuelas.GPA)\n",
    "    Histogrma_de_correlaciones_primero.append(corr)\n",
    "    \n",
    "fig, ax=subplots(figsize=(8,5))\n",
    "hist(Histogrma_de_correlaciones_primero,density=True,bins=20,edgecolor=\"w\",color=\"cadetblue\",alpha=0.9)\n",
    "ax.xaxis.set_tick_params(labelsize=18,labelcolor=\"black\")\n",
    "ax.yaxis.set_tick_params(labelsize=18,labelcolor=\"black\")\n",
    "axvline(mean(Histogrma_de_correlaciones_primero),linestyle=\"--\",color=\"black\",linewidth=2.5,alpha=0.6,\n",
    "        label=\"3.81\")\n",
    "legend()\n",
    "show()"
   ]
  },
  {
   "cell_type": "markdown",
   "metadata": {},
   "source": [
    "Todas las correlaciones son las mismas ya que al estar sobre los mismos 15 datos no  se llegan a tener muchas correlaciones sino una sola "
   ]
  },
  {
   "cell_type": "markdown",
   "metadata": {},
   "source": [
    "Ahora vamos a dar un remuestreo del remuestreo es decir de las 15 muestras bootstrap que extraimos de la base de las escuelas aplicaremos una muestra bootstrap para saber que tan eficiente es hacer el remuestreo tomando 15 datos. "
   ]
  },
  {
   "cell_type": "code",
   "execution_count": 17,
   "metadata": {
    "scrolled": true
   },
   "outputs": [
    {
     "data": {
      "text/plain": [
       "array([595, 637, 576, 535, 565, 576, 606, 576, 576, 631, 615, 572, 580,\n",
       "       535, 580, 615], dtype=int64)"
      ]
     },
     "execution_count": 17,
     "metadata": {},
     "output_type": "execute_result"
    }
   ],
   "source": [
    "#Los 15 datos que tenemos en la f_seleccion los fijamos y hacemos el remuestreo con reemplazo\n",
    "Remuestreo_15_fijos = np.random.choice(y,len(y),replace=True)\n",
    "Remuestreo_15_fijos"
   ]
  },
  {
   "cell_type": "code",
   "execution_count": 18,
   "metadata": {},
   "outputs": [
    {
     "data": {
      "text/plain": [
       "585.625"
      ]
     },
     "execution_count": 18,
     "metadata": {},
     "output_type": "execute_result"
    }
   ],
   "source": [
    "mean(Remuestreo_15_fijos)"
   ]
  },
  {
   "cell_type": "code",
   "execution_count": 19,
   "metadata": {
    "scrolled": true
   },
   "outputs": [
    {
     "data": {
      "image/png": "[encoded data removed]",
      "text/plain": [
       "<Figure size 576x360 with 1 Axes>"
      ]
     },
     "metadata": {
      "needs_background": "light"
     },
     "output_type": "display_data"
    }
   ],
   "source": [
    "k=4000\n",
    "m=np.zeros(k)\n",
    "for j in range(k):\n",
    "    m[j]=mean(np.random.choice(Remuestreo_15_fijos,len(Remuestreo_15_fijos),replace=True),)\n",
    "fig, ax=subplots(figsize=(8,5))\n",
    "\n",
    "hist(m,density=True,bins=20,edgecolor=\"w\",color=\"cadetblue\",alpha=0.9)\n",
    "ax.xaxis.set_tick_params(labelsize=18,labelcolor=\"black\")\n",
    "ax.yaxis.set_tick_params(labelsize=18,labelcolor=\"black\")\n",
    "axvline(mean(Remuestreo_15_fijos),linestyle=\"--\",color=\"black\",linewidth=2.5,alpha=0.6,\n",
    "        label=\"3.81\")\n",
    "legend()\n",
    "show()"
   ]
  },
  {
   "cell_type": "markdown",
   "metadata": {},
   "source": [
    "Podemos ver que pasa con otras N\n"
   ]
  },
  {
   "cell_type": "code",
   "execution_count": 20,
   "metadata": {},
   "outputs": [
    {
     "data": {
      "image/png": "[encoded data removed]",
      "text/plain": [
       "<Figure size 576x360 with 1 Axes>"
      ]
     },
     "metadata": {
      "needs_background": "light"
     },
     "output_type": "display_data"
    }
   ],
   "source": [
    "k=200\n",
    "m=np.zeros(k)\n",
    "for j in range(k):\n",
    "    m[j]=mean(np.random.choice(Remuestreo_15_fijos,len(Remuestreo_15_fijos),replace=True),)\n",
    "\n",
    "fig, ax=subplots(figsize=(8,5))\n",
    "hist(m,density=True,bins=20,edgecolor=\"w\",color=\"cadetblue\",alpha=0.9)\n",
    "ax.xaxis.set_tick_params(labelsize=18,labelcolor=\"black\")\n",
    "ax.yaxis.set_tick_params(labelsize=18,labelcolor=\"black\")\n",
    "axvline(mean(Remuestreo_15_fijos),linestyle=\"--\",color=\"black\",linewidth=2.5,alpha=0.6,\n",
    "        label=\"3.81\")\n",
    "legend()\n",
    "show()"
   ]
  },
  {
   "cell_type": "code",
   "execution_count": 21,
   "metadata": {},
   "outputs": [
    {
     "data": {
      "image/png": "[encoded data removed]",
      "text/plain": [
       "<Figure size 576x360 with 1 Axes>"
      ]
     },
     "metadata": {
      "needs_background": "light"
     },
     "output_type": "display_data"
    }
   ],
   "source": [
    "k=1000\n",
    "m=np.zeros(k)\n",
    "for j in range(k):\n",
    "    m[j]=mean(np.random.choice(Remuestreo_15_fijos,len(Remuestreo_15_fijos),replace=True),)\n",
    "\n",
    "fig, ax=subplots(figsize=(8,5))\n",
    "hist(m,density=True,bins=20,edgecolor=\"w\",color=\"cadetblue\",alpha=0.9)\n",
    "ax.xaxis.set_tick_params(labelsize=18,labelcolor=\"black\")\n",
    "ax.yaxis.set_tick_params(labelsize=18,labelcolor=\"black\")\n",
    "axvline(mean(Remuestreo_15_fijos),linestyle=\"--\",color=\"black\",linewidth=2.5,alpha=0.6,\n",
    "        label=\"3.81\")\n",
    "legend()\n",
    "show()"
   ]
  },
  {
   "cell_type": "code",
   "execution_count": 22,
   "metadata": {},
   "outputs": [
    {
     "data": {
      "image/png": "[encoded data removed]",
      "text/plain": [
       "<Figure size 576x360 with 1 Axes>"
      ]
     },
     "metadata": {
      "needs_background": "light"
     },
     "output_type": "display_data"
    }
   ],
   "source": [
    "k=2000\n",
    "m=np.zeros(k)\n",
    "for j in range(k):\n",
    "    m[j]=mean(np.random.choice(Remuestreo_15_fijos,len(Remuestreo_15_fijos),replace=True),)\n",
    "\n",
    "fig, ax=subplots(figsize=(8,5))\n",
    "hist(m,density=True,bins=20,edgecolor=\"w\",color=\"cadetblue\",alpha=0.9)\n",
    "ax.xaxis.set_tick_params(labelsize=18,labelcolor=\"black\")\n",
    "ax.yaxis.set_tick_params(labelsize=18,labelcolor=\"black\")\n",
    "axvline(mean(Remuestreo_15_fijos),linestyle=\"--\",color=\"black\",linewidth=2.5,alpha=0.6,\n",
    "        label=\"3.81\")\n",
    "legend()\n",
    "show()"
   ]
  },
  {
   "cell_type": "markdown",
   "metadata": {},
   "source": [
    "Mientras mas grande hacemos la k la cual es el número de muestas bootstrap podemos apreciar un comportamiento casi normal, lo que nos dice que mientras mas hacemos el experimento sobre las mismas 15 muestras seguiremos un comportamiento normal, pero ¿Que es lo que pasa con la correlación?"
   ]
  },
  {
   "cell_type": "markdown",
   "metadata": {},
   "source": [
    "## Enfoque 2"
   ]
  },
  {
   "cell_type": "markdown",
   "metadata": {},
   "source": [
    "Ahora generaremos aleatoriamente N muestras bootstrap diferentes con remplazo donde podamos apreciar diferentes medias y construir un histograma "
   ]
  },
  {
   "cell_type": "code",
   "execution_count": 26,
   "metadata": {
    "scrolled": false
   },
   "outputs": [
    {
     "data": {
      "text/html": [
       "<div>\n",
       "<style scoped>\n",
       "    .dataframe tbody tr th:only-of-type {\n",
       "        vertical-align: middle;\n",
       "    }\n",
       "\n",
       "    .dataframe tbody tr th {\n",
       "        vertical-align: top;\n",
       "    }\n",
       "\n",
       "    .dataframe thead th {\n",
       "        text-align: right;\n",
       "    }\n",
       "</style>\n",
       "<table border=\"1\" class=\"dataframe\">\n",
       "  <thead>\n",
       "    <tr style=\"text-align: right;\">\n",
       "      <th></th>\n",
       "      <th>escuela</th>\n",
       "      <th>LSAT</th>\n",
       "      <th>GPA</th>\n",
       "      <th>f_seleccion_n0</th>\n",
       "      <th>f_seleccion_n1</th>\n",
       "      <th>f_seleccion_n2</th>\n",
       "      <th>f_seleccion_n3</th>\n",
       "      <th>f_seleccion_n4</th>\n",
       "      <th>f_seleccion_n5</th>\n",
       "      <th>f_seleccion_n6</th>\n",
       "      <th>...</th>\n",
       "      <th>f_seleccion_n40</th>\n",
       "      <th>f_seleccion_n41</th>\n",
       "      <th>f_seleccion_n42</th>\n",
       "      <th>f_seleccion_n43</th>\n",
       "      <th>f_seleccion_n44</th>\n",
       "      <th>f_seleccion_n45</th>\n",
       "      <th>f_seleccion_n46</th>\n",
       "      <th>f_seleccion_n47</th>\n",
       "      <th>f_seleccion_n48</th>\n",
       "      <th>f_seleccion_n49</th>\n",
       "    </tr>\n",
       "  </thead>\n",
       "  <tbody>\n",
       "    <tr>\n",
       "      <th>0</th>\n",
       "      <td>1</td>\n",
       "      <td>622</td>\n",
       "      <td>3.23</td>\n",
       "      <td>0.0</td>\n",
       "      <td>0.0</td>\n",
       "      <td>2.0</td>\n",
       "      <td>0.0</td>\n",
       "      <td>0.0</td>\n",
       "      <td>0.0</td>\n",
       "      <td>2.0</td>\n",
       "      <td>...</td>\n",
       "      <td>0.0</td>\n",
       "      <td>2.0</td>\n",
       "      <td>2.0</td>\n",
       "      <td>0.0</td>\n",
       "      <td>0.0</td>\n",
       "      <td>0.0</td>\n",
       "      <td>0.0</td>\n",
       "      <td>0.0</td>\n",
       "      <td>0.0</td>\n",
       "      <td>2.0</td>\n",
       "    </tr>\n",
       "    <tr>\n",
       "      <th>1</th>\n",
       "      <td>2</td>\n",
       "      <td>542</td>\n",
       "      <td>2.83</td>\n",
       "      <td>0.0</td>\n",
       "      <td>0.0</td>\n",
       "      <td>0.0</td>\n",
       "      <td>0.0</td>\n",
       "      <td>0.0</td>\n",
       "      <td>0.0</td>\n",
       "      <td>0.0</td>\n",
       "      <td>...</td>\n",
       "      <td>0.0</td>\n",
       "      <td>0.0</td>\n",
       "      <td>0.0</td>\n",
       "      <td>2.0</td>\n",
       "      <td>0.0</td>\n",
       "      <td>2.0</td>\n",
       "      <td>0.0</td>\n",
       "      <td>0.0</td>\n",
       "      <td>0.0</td>\n",
       "      <td>2.0</td>\n",
       "    </tr>\n",
       "    <tr>\n",
       "      <th>2</th>\n",
       "      <td>3</td>\n",
       "      <td>579</td>\n",
       "      <td>3.24</td>\n",
       "      <td>2.0</td>\n",
       "      <td>0.0</td>\n",
       "      <td>0.0</td>\n",
       "      <td>0.0</td>\n",
       "      <td>0.0</td>\n",
       "      <td>0.0</td>\n",
       "      <td>0.0</td>\n",
       "      <td>...</td>\n",
       "      <td>0.0</td>\n",
       "      <td>2.0</td>\n",
       "      <td>0.0</td>\n",
       "      <td>2.0</td>\n",
       "      <td>0.0</td>\n",
       "      <td>2.0</td>\n",
       "      <td>0.0</td>\n",
       "      <td>0.0</td>\n",
       "      <td>0.0</td>\n",
       "      <td>0.0</td>\n",
       "    </tr>\n",
       "    <tr>\n",
       "      <th>3</th>\n",
       "      <td>4</td>\n",
       "      <td>653</td>\n",
       "      <td>3.12</td>\n",
       "      <td>0.0</td>\n",
       "      <td>0.0</td>\n",
       "      <td>0.0</td>\n",
       "      <td>0.0</td>\n",
       "      <td>0.0</td>\n",
       "      <td>0.0</td>\n",
       "      <td>0.0</td>\n",
       "      <td>...</td>\n",
       "      <td>0.0</td>\n",
       "      <td>0.0</td>\n",
       "      <td>0.0</td>\n",
       "      <td>0.0</td>\n",
       "      <td>0.0</td>\n",
       "      <td>0.0</td>\n",
       "      <td>0.0</td>\n",
       "      <td>0.0</td>\n",
       "      <td>0.0</td>\n",
       "      <td>0.0</td>\n",
       "    </tr>\n",
       "    <tr>\n",
       "      <th>4</th>\n",
       "      <td>5</td>\n",
       "      <td>606</td>\n",
       "      <td>3.09</td>\n",
       "      <td>0.0</td>\n",
       "      <td>0.0</td>\n",
       "      <td>0.0</td>\n",
       "      <td>0.0</td>\n",
       "      <td>0.0</td>\n",
       "      <td>0.0</td>\n",
       "      <td>0.0</td>\n",
       "      <td>...</td>\n",
       "      <td>0.0</td>\n",
       "      <td>0.0</td>\n",
       "      <td>2.0</td>\n",
       "      <td>0.0</td>\n",
       "      <td>0.0</td>\n",
       "      <td>0.0</td>\n",
       "      <td>0.0</td>\n",
       "      <td>0.0</td>\n",
       "      <td>2.0</td>\n",
       "      <td>0.0</td>\n",
       "    </tr>\n",
       "    <tr>\n",
       "      <th>...</th>\n",
       "      <td>...</td>\n",
       "      <td>...</td>\n",
       "      <td>...</td>\n",
       "      <td>...</td>\n",
       "      <td>...</td>\n",
       "      <td>...</td>\n",
       "      <td>...</td>\n",
       "      <td>...</td>\n",
       "      <td>...</td>\n",
       "      <td>...</td>\n",
       "      <td>...</td>\n",
       "      <td>...</td>\n",
       "      <td>...</td>\n",
       "      <td>...</td>\n",
       "      <td>...</td>\n",
       "      <td>...</td>\n",
       "      <td>...</td>\n",
       "      <td>...</td>\n",
       "      <td>...</td>\n",
       "      <td>...</td>\n",
       "      <td>...</td>\n",
       "    </tr>\n",
       "    <tr>\n",
       "      <th>77</th>\n",
       "      <td>78</td>\n",
       "      <td>590</td>\n",
       "      <td>3.15</td>\n",
       "      <td>2.0</td>\n",
       "      <td>2.0</td>\n",
       "      <td>0.0</td>\n",
       "      <td>0.0</td>\n",
       "      <td>0.0</td>\n",
       "      <td>2.0</td>\n",
       "      <td>0.0</td>\n",
       "      <td>...</td>\n",
       "      <td>2.0</td>\n",
       "      <td>2.0</td>\n",
       "      <td>0.0</td>\n",
       "      <td>0.0</td>\n",
       "      <td>0.0</td>\n",
       "      <td>2.0</td>\n",
       "      <td>2.0</td>\n",
       "      <td>2.0</td>\n",
       "      <td>0.0</td>\n",
       "      <td>0.0</td>\n",
       "    </tr>\n",
       "    <tr>\n",
       "      <th>78</th>\n",
       "      <td>79</td>\n",
       "      <td>558</td>\n",
       "      <td>2.81</td>\n",
       "      <td>0.0</td>\n",
       "      <td>0.0</td>\n",
       "      <td>0.0</td>\n",
       "      <td>0.0</td>\n",
       "      <td>2.0</td>\n",
       "      <td>0.0</td>\n",
       "      <td>0.0</td>\n",
       "      <td>...</td>\n",
       "      <td>2.0</td>\n",
       "      <td>0.0</td>\n",
       "      <td>0.0</td>\n",
       "      <td>0.0</td>\n",
       "      <td>0.0</td>\n",
       "      <td>0.0</td>\n",
       "      <td>0.0</td>\n",
       "      <td>0.0</td>\n",
       "      <td>0.0</td>\n",
       "      <td>0.0</td>\n",
       "    </tr>\n",
       "    <tr>\n",
       "      <th>79</th>\n",
       "      <td>80</td>\n",
       "      <td>611</td>\n",
       "      <td>3.16</td>\n",
       "      <td>2.0</td>\n",
       "      <td>0.0</td>\n",
       "      <td>0.0</td>\n",
       "      <td>0.0</td>\n",
       "      <td>2.0</td>\n",
       "      <td>0.0</td>\n",
       "      <td>0.0</td>\n",
       "      <td>...</td>\n",
       "      <td>0.0</td>\n",
       "      <td>0.0</td>\n",
       "      <td>0.0</td>\n",
       "      <td>2.0</td>\n",
       "      <td>0.0</td>\n",
       "      <td>0.0</td>\n",
       "      <td>0.0</td>\n",
       "      <td>0.0</td>\n",
       "      <td>0.0</td>\n",
       "      <td>0.0</td>\n",
       "    </tr>\n",
       "    <tr>\n",
       "      <th>80</th>\n",
       "      <td>81</td>\n",
       "      <td>564</td>\n",
       "      <td>3.02</td>\n",
       "      <td>0.0</td>\n",
       "      <td>0.0</td>\n",
       "      <td>0.0</td>\n",
       "      <td>0.0</td>\n",
       "      <td>0.0</td>\n",
       "      <td>0.0</td>\n",
       "      <td>0.0</td>\n",
       "      <td>...</td>\n",
       "      <td>0.0</td>\n",
       "      <td>0.0</td>\n",
       "      <td>0.0</td>\n",
       "      <td>0.0</td>\n",
       "      <td>2.0</td>\n",
       "      <td>0.0</td>\n",
       "      <td>0.0</td>\n",
       "      <td>0.0</td>\n",
       "      <td>0.0</td>\n",
       "      <td>0.0</td>\n",
       "    </tr>\n",
       "    <tr>\n",
       "      <th>81</th>\n",
       "      <td>82</td>\n",
       "      <td>575</td>\n",
       "      <td>2.74</td>\n",
       "      <td>0.0</td>\n",
       "      <td>2.0</td>\n",
       "      <td>2.0</td>\n",
       "      <td>0.0</td>\n",
       "      <td>0.0</td>\n",
       "      <td>0.0</td>\n",
       "      <td>0.0</td>\n",
       "      <td>...</td>\n",
       "      <td>0.0</td>\n",
       "      <td>0.0</td>\n",
       "      <td>0.0</td>\n",
       "      <td>0.0</td>\n",
       "      <td>2.0</td>\n",
       "      <td>0.0</td>\n",
       "      <td>0.0</td>\n",
       "      <td>0.0</td>\n",
       "      <td>0.0</td>\n",
       "      <td>2.0</td>\n",
       "    </tr>\n",
       "  </tbody>\n",
       "</table>\n",
       "<p>82 rows × 53 columns</p>\n",
       "</div>"
      ],
      "text/plain": [
       "    escuela  LSAT   GPA  f_seleccion_n0  f_seleccion_n1  f_seleccion_n2  \\\n",
       "0         1   622  3.23             0.0             0.0             2.0   \n",
       "1         2   542  2.83             0.0             0.0             0.0   \n",
       "2         3   579  3.24             2.0             0.0             0.0   \n",
       "3         4   653  3.12             0.0             0.0             0.0   \n",
       "4         5   606  3.09             0.0             0.0             0.0   \n",
       "..      ...   ...   ...             ...             ...             ...   \n",
       "77       78   590  3.15             2.0             2.0             0.0   \n",
       "78       79   558  2.81             0.0             0.0             0.0   \n",
       "79       80   611  3.16             2.0             0.0             0.0   \n",
       "80       81   564  3.02             0.0             0.0             0.0   \n",
       "81       82   575  2.74             0.0             2.0             2.0   \n",
       "\n",
       "    f_seleccion_n3  f_seleccion_n4  f_seleccion_n5  f_seleccion_n6  ...  \\\n",
       "0              0.0             0.0             0.0             2.0  ...   \n",
       "1              0.0             0.0             0.0             0.0  ...   \n",
       "2              0.0             0.0             0.0             0.0  ...   \n",
       "3              0.0             0.0             0.0             0.0  ...   \n",
       "4              0.0             0.0             0.0             0.0  ...   \n",
       "..             ...             ...             ...             ...  ...   \n",
       "77             0.0             0.0             2.0             0.0  ...   \n",
       "78             0.0             2.0             0.0             0.0  ...   \n",
       "79             0.0             2.0             0.0             0.0  ...   \n",
       "80             0.0             0.0             0.0             0.0  ...   \n",
       "81             0.0             0.0             0.0             0.0  ...   \n",
       "\n",
       "    f_seleccion_n40  f_seleccion_n41  f_seleccion_n42  f_seleccion_n43  \\\n",
       "0               0.0              2.0              2.0              0.0   \n",
       "1               0.0              0.0              0.0              2.0   \n",
       "2               0.0              2.0              0.0              2.0   \n",
       "3               0.0              0.0              0.0              0.0   \n",
       "4               0.0              0.0              2.0              0.0   \n",
       "..              ...              ...              ...              ...   \n",
       "77              2.0              2.0              0.0              0.0   \n",
       "78              2.0              0.0              0.0              0.0   \n",
       "79              0.0              0.0              0.0              2.0   \n",
       "80              0.0              0.0              0.0              0.0   \n",
       "81              0.0              0.0              0.0              0.0   \n",
       "\n",
       "    f_seleccion_n44  f_seleccion_n45  f_seleccion_n46  f_seleccion_n47  \\\n",
       "0               0.0              0.0              0.0              0.0   \n",
       "1               0.0              2.0              0.0              0.0   \n",
       "2               0.0              2.0              0.0              0.0   \n",
       "3               0.0              0.0              0.0              0.0   \n",
       "4               0.0              0.0              0.0              0.0   \n",
       "..              ...              ...              ...              ...   \n",
       "77              0.0              2.0              2.0              2.0   \n",
       "78              0.0              0.0              0.0              0.0   \n",
       "79              0.0              0.0              0.0              0.0   \n",
       "80              2.0              0.0              0.0              0.0   \n",
       "81              2.0              0.0              0.0              0.0   \n",
       "\n",
       "    f_seleccion_n48  f_seleccion_n49  \n",
       "0               0.0              2.0  \n",
       "1               0.0              2.0  \n",
       "2               0.0              0.0  \n",
       "3               0.0              0.0  \n",
       "4               2.0              0.0  \n",
       "..              ...              ...  \n",
       "77              0.0              0.0  \n",
       "78              0.0              0.0  \n",
       "79              0.0              0.0  \n",
       "80              0.0              0.0  \n",
       "81              0.0              2.0  \n",
       "\n",
       "[82 rows x 53 columns]"
      ]
     },
     "execution_count": 26,
     "metadata": {},
     "output_type": "execute_result"
    }
   ],
   "source": [
    "# Ahora vamos a repetir el proceso de seleccionar\n",
    "# pero ahora desde la población de 82 seleccionaremos 15 al azar consecutivamente \n",
    "\n",
    "k = 50 # el num de veces que se repite el experimento\n",
    "       # es pequeño porque para valores grandes tarda mucho en compilar\n",
    "    \n",
    "for i in range(k):\n",
    "    escuelas_random_2 = bd_escuelas.sample(n=15,random_state = i)[[\"escuela\"]]\n",
    "    escuelas_random_2[\"f_seleccion_n\" + str(i)] = 2\n",
    "    bd_escuelas = pd.merge(bd_escuelas, escuelas_random_2, how=\"left\", on=[\"escuela\"])\n",
    "    \n",
    "bd_escuelas = bd_escuelas.fillna(0)\n",
    "bd_escuelas\n",
    "\n",
    "# Las columnas tienen un 2 para hacer una diferencia de la primera muestra que se tomo las anteriores \n",
    "# tenian 1 "
   ]
  },
  {
   "cell_type": "code",
   "execution_count": 43,
   "metadata": {
    "scrolled": true
   },
   "outputs": [
    {
     "name": "stdout",
     "output_type": "stream",
     "text": [
      "Spearmans correlation: 0.583\n",
      "Spearmans correlation: 0.735\n",
      "Spearmans correlation: 0.928\n",
      "Spearmans correlation: 0.743\n",
      "Spearmans correlation: 0.799\n",
      "Spearmans correlation: 0.747\n",
      "Spearmans correlation: 0.749\n",
      "Spearmans correlation: 0.847\n",
      "Spearmans correlation: 0.795\n",
      "Spearmans correlation: 0.668\n",
      "Spearmans correlation: 0.811\n",
      "Spearmans correlation: 0.693\n",
      "Spearmans correlation: 0.874\n",
      "Spearmans correlation: 0.811\n",
      "Spearmans correlation: 0.785\n",
      "Spearmans correlation: 0.756\n",
      "Spearmans correlation: 0.714\n",
      "Spearmans correlation: 0.603\n",
      "Spearmans correlation: 0.605\n",
      "Spearmans correlation: 0.818\n",
      "Spearmans correlation: 0.637\n",
      "Spearmans correlation: 0.646\n",
      "Spearmans correlation: 0.694\n",
      "Spearmans correlation: 0.714\n",
      "Spearmans correlation: 0.824\n",
      "Spearmans correlation: 0.710\n",
      "Spearmans correlation: 0.817\n",
      "Spearmans correlation: 0.598\n",
      "Spearmans correlation: 0.870\n",
      "Spearmans correlation: 0.699\n",
      "Spearmans correlation: 0.594\n",
      "Spearmans correlation: 0.915\n",
      "Spearmans correlation: 0.926\n",
      "Spearmans correlation: 0.572\n",
      "Spearmans correlation: 0.816\n",
      "Spearmans correlation: 0.784\n",
      "Spearmans correlation: 0.809\n",
      "Spearmans correlation: 0.510\n",
      "Spearmans correlation: 0.894\n",
      "Spearmans correlation: 0.835\n",
      "Spearmans correlation: 0.821\n",
      "Spearmans correlation: 0.799\n",
      "Spearmans correlation: 0.702\n",
      "Spearmans correlation: 0.688\n",
      "Spearmans correlation: 0.853\n",
      "Spearmans correlation: 0.655\n",
      "Spearmans correlation: 0.843\n",
      "Spearmans correlation: 0.743\n",
      "Spearmans correlation: 0.579\n",
      "Spearmans correlation: 0.698\n"
     ]
    }
   ],
   "source": [
    "#Sacamos la correlacion de las muestras\n",
    "for i in range(k):\n",
    "    corr, _ = spearmanr(bd_escuelas[bd_escuelas[\"f_seleccion_n\" + str(i)]==2].LSAT,bd_escuelas[bd_escuelas[\"f_seleccion_n\" + str(i)]==2].GPA)\n",
    "    print(\"Spearmans correlation: %.3f\" % corr)"
   ]
  },
  {
   "cell_type": "code",
   "execution_count": 44,
   "metadata": {
    "scrolled": true
   },
   "outputs": [
    {
     "data": {
      "image/png": "[encoded data removed]",
      "text/plain": [
       "<Figure size 576x360 with 1 Axes>"
      ]
     },
     "metadata": {
      "needs_background": "light"
     },
     "output_type": "display_data"
    }
   ],
   "source": [
    "Histogrma_de_correlaciones = []\n",
    "\n",
    "for i in range(k):\n",
    "    corr, _ = spearmanr(bd_escuelas[bd_escuelas[\"f_seleccion_n\" + str(i)]==2].LSAT,bd_escuelas[bd_escuelas[\"f_seleccion_n\" + str(i)]==2].GPA)\n",
    "    Histogrma_de_correlaciones.append(corr)\n",
    "    \n",
    "fig, ax=subplots(figsize=(8,5))\n",
    "hist(Histogrma_de_correlaciones,density=True,bins=20,edgecolor=\"w\",color=\"cadetblue\",alpha=0.9)\n",
    "ax.xaxis.set_tick_params(labelsize=18,labelcolor=\"black\")\n",
    "ax.yaxis.set_tick_params(labelsize=18,labelcolor=\"black\")\n",
    "axvline(mean(Histogrma_de_correlaciones),linestyle=\"--\",color=\"black\",linewidth=2.5,alpha=0.6,\n",
    "        label=\"3.81\")\n",
    "legend()\n",
    "show()"
   ]
  },
  {
   "cell_type": "markdown",
   "metadata": {},
   "source": [
    "Si repetimos el experimento pero ahora para una población de N-1 tenemos:\n"
   ]
  },
  {
   "cell_type": "code",
   "execution_count": 38,
   "metadata": {},
   "outputs": [
    {
     "data": {
      "text/html": [
       "<div>\n",
       "<style scoped>\n",
       "    .dataframe tbody tr th:only-of-type {\n",
       "        vertical-align: middle;\n",
       "    }\n",
       "\n",
       "    .dataframe tbody tr th {\n",
       "        vertical-align: top;\n",
       "    }\n",
       "\n",
       "    .dataframe thead th {\n",
       "        text-align: right;\n",
       "    }\n",
       "</style>\n",
       "<table border=\"1\" class=\"dataframe\">\n",
       "  <thead>\n",
       "    <tr style=\"text-align: right;\">\n",
       "      <th></th>\n",
       "      <th>escuela</th>\n",
       "      <th>LSAT</th>\n",
       "      <th>GPA</th>\n",
       "      <th>f_seleccion_n0</th>\n",
       "      <th>f_seleccion_n1</th>\n",
       "      <th>f_seleccion_n2</th>\n",
       "      <th>f_seleccion_n3</th>\n",
       "      <th>f_seleccion_n4</th>\n",
       "      <th>f_seleccion_n5</th>\n",
       "      <th>f_seleccion_n6</th>\n",
       "      <th>...</th>\n",
       "      <th>f_seleccion_n40</th>\n",
       "      <th>f_seleccion_n41</th>\n",
       "      <th>f_seleccion_n42</th>\n",
       "      <th>f_seleccion_n43</th>\n",
       "      <th>f_seleccion_n44</th>\n",
       "      <th>f_seleccion_n45</th>\n",
       "      <th>f_seleccion_n46</th>\n",
       "      <th>f_seleccion_n47</th>\n",
       "      <th>f_seleccion_n48</th>\n",
       "      <th>f_seleccion_n49</th>\n",
       "    </tr>\n",
       "  </thead>\n",
       "  <tbody>\n",
       "    <tr>\n",
       "      <th>0</th>\n",
       "      <td>1</td>\n",
       "      <td>622</td>\n",
       "      <td>3.23</td>\n",
       "      <td>0.0</td>\n",
       "      <td>0.0</td>\n",
       "      <td>3.0</td>\n",
       "      <td>0.0</td>\n",
       "      <td>0.0</td>\n",
       "      <td>0.0</td>\n",
       "      <td>3.0</td>\n",
       "      <td>...</td>\n",
       "      <td>0.0</td>\n",
       "      <td>3.0</td>\n",
       "      <td>3.0</td>\n",
       "      <td>0.0</td>\n",
       "      <td>0.0</td>\n",
       "      <td>0.0</td>\n",
       "      <td>0.0</td>\n",
       "      <td>0.0</td>\n",
       "      <td>0.0</td>\n",
       "      <td>3.0</td>\n",
       "    </tr>\n",
       "    <tr>\n",
       "      <th>1</th>\n",
       "      <td>2</td>\n",
       "      <td>542</td>\n",
       "      <td>2.83</td>\n",
       "      <td>0.0</td>\n",
       "      <td>0.0</td>\n",
       "      <td>0.0</td>\n",
       "      <td>0.0</td>\n",
       "      <td>0.0</td>\n",
       "      <td>0.0</td>\n",
       "      <td>0.0</td>\n",
       "      <td>...</td>\n",
       "      <td>0.0</td>\n",
       "      <td>0.0</td>\n",
       "      <td>0.0</td>\n",
       "      <td>3.0</td>\n",
       "      <td>0.0</td>\n",
       "      <td>3.0</td>\n",
       "      <td>0.0</td>\n",
       "      <td>0.0</td>\n",
       "      <td>0.0</td>\n",
       "      <td>0.0</td>\n",
       "    </tr>\n",
       "    <tr>\n",
       "      <th>2</th>\n",
       "      <td>3</td>\n",
       "      <td>579</td>\n",
       "      <td>3.24</td>\n",
       "      <td>3.0</td>\n",
       "      <td>0.0</td>\n",
       "      <td>0.0</td>\n",
       "      <td>0.0</td>\n",
       "      <td>0.0</td>\n",
       "      <td>0.0</td>\n",
       "      <td>0.0</td>\n",
       "      <td>...</td>\n",
       "      <td>0.0</td>\n",
       "      <td>3.0</td>\n",
       "      <td>0.0</td>\n",
       "      <td>3.0</td>\n",
       "      <td>0.0</td>\n",
       "      <td>3.0</td>\n",
       "      <td>0.0</td>\n",
       "      <td>0.0</td>\n",
       "      <td>0.0</td>\n",
       "      <td>0.0</td>\n",
       "    </tr>\n",
       "    <tr>\n",
       "      <th>3</th>\n",
       "      <td>4</td>\n",
       "      <td>653</td>\n",
       "      <td>3.12</td>\n",
       "      <td>0.0</td>\n",
       "      <td>0.0</td>\n",
       "      <td>0.0</td>\n",
       "      <td>0.0</td>\n",
       "      <td>0.0</td>\n",
       "      <td>0.0</td>\n",
       "      <td>0.0</td>\n",
       "      <td>...</td>\n",
       "      <td>0.0</td>\n",
       "      <td>0.0</td>\n",
       "      <td>0.0</td>\n",
       "      <td>0.0</td>\n",
       "      <td>0.0</td>\n",
       "      <td>0.0</td>\n",
       "      <td>0.0</td>\n",
       "      <td>0.0</td>\n",
       "      <td>0.0</td>\n",
       "      <td>0.0</td>\n",
       "    </tr>\n",
       "    <tr>\n",
       "      <th>4</th>\n",
       "      <td>5</td>\n",
       "      <td>606</td>\n",
       "      <td>3.09</td>\n",
       "      <td>0.0</td>\n",
       "      <td>0.0</td>\n",
       "      <td>0.0</td>\n",
       "      <td>0.0</td>\n",
       "      <td>0.0</td>\n",
       "      <td>0.0</td>\n",
       "      <td>0.0</td>\n",
       "      <td>...</td>\n",
       "      <td>0.0</td>\n",
       "      <td>0.0</td>\n",
       "      <td>3.0</td>\n",
       "      <td>0.0</td>\n",
       "      <td>0.0</td>\n",
       "      <td>0.0</td>\n",
       "      <td>0.0</td>\n",
       "      <td>0.0</td>\n",
       "      <td>3.0</td>\n",
       "      <td>0.0</td>\n",
       "    </tr>\n",
       "    <tr>\n",
       "      <th>...</th>\n",
       "      <td>...</td>\n",
       "      <td>...</td>\n",
       "      <td>...</td>\n",
       "      <td>...</td>\n",
       "      <td>...</td>\n",
       "      <td>...</td>\n",
       "      <td>...</td>\n",
       "      <td>...</td>\n",
       "      <td>...</td>\n",
       "      <td>...</td>\n",
       "      <td>...</td>\n",
       "      <td>...</td>\n",
       "      <td>...</td>\n",
       "      <td>...</td>\n",
       "      <td>...</td>\n",
       "      <td>...</td>\n",
       "      <td>...</td>\n",
       "      <td>...</td>\n",
       "      <td>...</td>\n",
       "      <td>...</td>\n",
       "      <td>...</td>\n",
       "    </tr>\n",
       "    <tr>\n",
       "      <th>77</th>\n",
       "      <td>78</td>\n",
       "      <td>590</td>\n",
       "      <td>3.15</td>\n",
       "      <td>3.0</td>\n",
       "      <td>3.0</td>\n",
       "      <td>0.0</td>\n",
       "      <td>0.0</td>\n",
       "      <td>0.0</td>\n",
       "      <td>0.0</td>\n",
       "      <td>0.0</td>\n",
       "      <td>...</td>\n",
       "      <td>3.0</td>\n",
       "      <td>3.0</td>\n",
       "      <td>0.0</td>\n",
       "      <td>0.0</td>\n",
       "      <td>0.0</td>\n",
       "      <td>3.0</td>\n",
       "      <td>3.0</td>\n",
       "      <td>3.0</td>\n",
       "      <td>0.0</td>\n",
       "      <td>0.0</td>\n",
       "    </tr>\n",
       "    <tr>\n",
       "      <th>78</th>\n",
       "      <td>79</td>\n",
       "      <td>558</td>\n",
       "      <td>2.81</td>\n",
       "      <td>0.0</td>\n",
       "      <td>0.0</td>\n",
       "      <td>0.0</td>\n",
       "      <td>0.0</td>\n",
       "      <td>3.0</td>\n",
       "      <td>0.0</td>\n",
       "      <td>0.0</td>\n",
       "      <td>...</td>\n",
       "      <td>3.0</td>\n",
       "      <td>0.0</td>\n",
       "      <td>0.0</td>\n",
       "      <td>0.0</td>\n",
       "      <td>0.0</td>\n",
       "      <td>0.0</td>\n",
       "      <td>0.0</td>\n",
       "      <td>0.0</td>\n",
       "      <td>0.0</td>\n",
       "      <td>0.0</td>\n",
       "    </tr>\n",
       "    <tr>\n",
       "      <th>79</th>\n",
       "      <td>80</td>\n",
       "      <td>611</td>\n",
       "      <td>3.16</td>\n",
       "      <td>3.0</td>\n",
       "      <td>0.0</td>\n",
       "      <td>0.0</td>\n",
       "      <td>0.0</td>\n",
       "      <td>3.0</td>\n",
       "      <td>0.0</td>\n",
       "      <td>0.0</td>\n",
       "      <td>...</td>\n",
       "      <td>0.0</td>\n",
       "      <td>0.0</td>\n",
       "      <td>0.0</td>\n",
       "      <td>3.0</td>\n",
       "      <td>0.0</td>\n",
       "      <td>0.0</td>\n",
       "      <td>0.0</td>\n",
       "      <td>0.0</td>\n",
       "      <td>0.0</td>\n",
       "      <td>0.0</td>\n",
       "    </tr>\n",
       "    <tr>\n",
       "      <th>80</th>\n",
       "      <td>81</td>\n",
       "      <td>564</td>\n",
       "      <td>3.02</td>\n",
       "      <td>0.0</td>\n",
       "      <td>0.0</td>\n",
       "      <td>0.0</td>\n",
       "      <td>0.0</td>\n",
       "      <td>0.0</td>\n",
       "      <td>0.0</td>\n",
       "      <td>0.0</td>\n",
       "      <td>...</td>\n",
       "      <td>0.0</td>\n",
       "      <td>0.0</td>\n",
       "      <td>0.0</td>\n",
       "      <td>0.0</td>\n",
       "      <td>3.0</td>\n",
       "      <td>0.0</td>\n",
       "      <td>0.0</td>\n",
       "      <td>0.0</td>\n",
       "      <td>0.0</td>\n",
       "      <td>0.0</td>\n",
       "    </tr>\n",
       "    <tr>\n",
       "      <th>81</th>\n",
       "      <td>82</td>\n",
       "      <td>575</td>\n",
       "      <td>2.74</td>\n",
       "      <td>0.0</td>\n",
       "      <td>3.0</td>\n",
       "      <td>3.0</td>\n",
       "      <td>0.0</td>\n",
       "      <td>0.0</td>\n",
       "      <td>0.0</td>\n",
       "      <td>0.0</td>\n",
       "      <td>...</td>\n",
       "      <td>0.0</td>\n",
       "      <td>0.0</td>\n",
       "      <td>0.0</td>\n",
       "      <td>0.0</td>\n",
       "      <td>3.0</td>\n",
       "      <td>0.0</td>\n",
       "      <td>0.0</td>\n",
       "      <td>0.0</td>\n",
       "      <td>0.0</td>\n",
       "      <td>3.0</td>\n",
       "    </tr>\n",
       "  </tbody>\n",
       "</table>\n",
       "<p>82 rows × 53 columns</p>\n",
       "</div>"
      ],
      "text/plain": [
       "    escuela  LSAT   GPA  f_seleccion_n0  f_seleccion_n1  f_seleccion_n2  \\\n",
       "0         1   622  3.23             0.0             0.0             3.0   \n",
       "1         2   542  2.83             0.0             0.0             0.0   \n",
       "2         3   579  3.24             3.0             0.0             0.0   \n",
       "3         4   653  3.12             0.0             0.0             0.0   \n",
       "4         5   606  3.09             0.0             0.0             0.0   \n",
       "..      ...   ...   ...             ...             ...             ...   \n",
       "77       78   590  3.15             3.0             3.0             0.0   \n",
       "78       79   558  2.81             0.0             0.0             0.0   \n",
       "79       80   611  3.16             3.0             0.0             0.0   \n",
       "80       81   564  3.02             0.0             0.0             0.0   \n",
       "81       82   575  2.74             0.0             3.0             3.0   \n",
       "\n",
       "    f_seleccion_n3  f_seleccion_n4  f_seleccion_n5  f_seleccion_n6  ...  \\\n",
       "0              0.0             0.0             0.0             3.0  ...   \n",
       "1              0.0             0.0             0.0             0.0  ...   \n",
       "2              0.0             0.0             0.0             0.0  ...   \n",
       "3              0.0             0.0             0.0             0.0  ...   \n",
       "4              0.0             0.0             0.0             0.0  ...   \n",
       "..             ...             ...             ...             ...  ...   \n",
       "77             0.0             0.0             0.0             0.0  ...   \n",
       "78             0.0             3.0             0.0             0.0  ...   \n",
       "79             0.0             3.0             0.0             0.0  ...   \n",
       "80             0.0             0.0             0.0             0.0  ...   \n",
       "81             0.0             0.0             0.0             0.0  ...   \n",
       "\n",
       "    f_seleccion_n40  f_seleccion_n41  f_seleccion_n42  f_seleccion_n43  \\\n",
       "0               0.0              3.0              3.0              0.0   \n",
       "1               0.0              0.0              0.0              3.0   \n",
       "2               0.0              3.0              0.0              3.0   \n",
       "3               0.0              0.0              0.0              0.0   \n",
       "4               0.0              0.0              3.0              0.0   \n",
       "..              ...              ...              ...              ...   \n",
       "77              3.0              3.0              0.0              0.0   \n",
       "78              3.0              0.0              0.0              0.0   \n",
       "79              0.0              0.0              0.0              3.0   \n",
       "80              0.0              0.0              0.0              0.0   \n",
       "81              0.0              0.0              0.0              0.0   \n",
       "\n",
       "    f_seleccion_n44  f_seleccion_n45  f_seleccion_n46  f_seleccion_n47  \\\n",
       "0               0.0              0.0              0.0              0.0   \n",
       "1               0.0              3.0              0.0              0.0   \n",
       "2               0.0              3.0              0.0              0.0   \n",
       "3               0.0              0.0              0.0              0.0   \n",
       "4               0.0              0.0              0.0              0.0   \n",
       "..              ...              ...              ...              ...   \n",
       "77              0.0              3.0              3.0              3.0   \n",
       "78              0.0              0.0              0.0              0.0   \n",
       "79              0.0              0.0              0.0              0.0   \n",
       "80              3.0              0.0              0.0              0.0   \n",
       "81              3.0              0.0              0.0              0.0   \n",
       "\n",
       "    f_seleccion_n48  f_seleccion_n49  \n",
       "0               0.0              3.0  \n",
       "1               0.0              0.0  \n",
       "2               0.0              0.0  \n",
       "3               0.0              0.0  \n",
       "4               3.0              0.0  \n",
       "..              ...              ...  \n",
       "77              0.0              0.0  \n",
       "78              0.0              0.0  \n",
       "79              0.0              0.0  \n",
       "80              0.0              0.0  \n",
       "81              0.0              3.0  \n",
       "\n",
       "[82 rows x 53 columns]"
      ]
     },
     "execution_count": 38,
     "metadata": {},
     "output_type": "execute_result"
    }
   ],
   "source": [
    "# Ahora vamos a repetir el proceso de seleccionar\n",
    "# pero ahora desde la población de 82 seleccionaremos 14 al azar consecutivamente \n",
    "\n",
    "k = 50\n",
    "for i in range(k):\n",
    "    escuelas_random_2 = bd_escuelas.sample(n=14,random_state = i)[[\"escuela\"]]\n",
    "    escuelas_random_2[\"f_seleccion_n\" + str(i)] = 3\n",
    "    bd_escuelas = pd.merge(bd_escuelas, escuelas_random_2, how=\"left\", on=[\"escuela\"])\n",
    "    \n",
    "bd_escuelas = bd_escuelas.fillna(0)\n",
    "bd_escuelas\n",
    "\n",
    "# Las columnas tienen un 3 para hacer una diferencia de la segunda muestra que se tomo las anteriores \n",
    "# tenian 1 y 2"
   ]
  },
  {
   "cell_type": "code",
   "execution_count": 39,
   "metadata": {
    "scrolled": true
   },
   "outputs": [
    {
     "data": {
      "image/png": "[encoded data removed]",
      "text/plain": [
       "<Figure size 576x360 with 1 Axes>"
      ]
     },
     "metadata": {
      "needs_background": "light"
     },
     "output_type": "display_data"
    }
   ],
   "source": [
    "Histogrma_de_correlaciones_2 = []\n",
    "\n",
    "for i in range(k):\n",
    "    corr, _ = spearmanr(bd_escuelas[bd_escuelas[\"f_seleccion_n\" + str(i)]==3].LSAT,bd_escuelas[bd_escuelas[\"f_seleccion_n\" + str(i)]==3].GPA)\n",
    "    Histogrma_de_correlaciones_2.append(corr)\n",
    "    \n",
    "fig, ax=subplots(figsize=(8,5))\n",
    "hist(Histogrma_de_correlaciones_2,density=True,bins=20,edgecolor=\"w\",color=\"cadetblue\",alpha=0.9)\n",
    "ax.xaxis.set_tick_params(labelsize=18,labelcolor=\"black\")\n",
    "ax.yaxis.set_tick_params(labelsize=18,labelcolor=\"black\")\n",
    "axvline(mean(Histogrma_de_correlaciones_2),linestyle=\"--\",color=\"black\",linewidth=2.5,alpha=0.6,\n",
    "        label=\"3.81\")\n",
    "legend()\n",
    "show()"
   ]
  },
  {
   "cell_type": "markdown",
   "metadata": {},
   "source": [
    "Podemos ver que la frecuencia de aparicion de los datos alegados de 0.8 ha aumentado desde que repetimos el experimetno para N-1\n"
   ]
  },
  {
   "cell_type": "markdown",
   "metadata": {},
   "source": [
    "## Error estándar con Bootstrap"
   ]
  },
  {
   "cell_type": "markdown",
   "metadata": {},
   "source": [
    "Ahora de la base data_schools obtendremos el error estándar con Bootstrap de las variables de la base. "
   ]
  },
  {
   "cell_type": "code",
   "execution_count": 27,
   "metadata": {},
   "outputs": [
    {
     "data": {
      "text/html": [
       "<div>\n",
       "<style scoped>\n",
       "    .dataframe tbody tr th:only-of-type {\n",
       "        vertical-align: middle;\n",
       "    }\n",
       "\n",
       "    .dataframe tbody tr th {\n",
       "        vertical-align: top;\n",
       "    }\n",
       "\n",
       "    .dataframe thead th {\n",
       "        text-align: right;\n",
       "    }\n",
       "</style>\n",
       "<table border=\"1\" class=\"dataframe\">\n",
       "  <thead>\n",
       "    <tr style=\"text-align: right;\">\n",
       "      <th></th>\n",
       "      <th>escuela</th>\n",
       "      <th>LSAT</th>\n",
       "      <th>GPA</th>\n",
       "      <th>f_seleccion_n0</th>\n",
       "      <th>f_seleccion_n1</th>\n",
       "      <th>f_seleccion_n2</th>\n",
       "      <th>f_seleccion_n3</th>\n",
       "      <th>f_seleccion_n4</th>\n",
       "      <th>f_seleccion_n5</th>\n",
       "      <th>f_seleccion_n6</th>\n",
       "      <th>...</th>\n",
       "      <th>f_seleccion_n40</th>\n",
       "      <th>f_seleccion_n41</th>\n",
       "      <th>f_seleccion_n42</th>\n",
       "      <th>f_seleccion_n43</th>\n",
       "      <th>f_seleccion_n44</th>\n",
       "      <th>f_seleccion_n45</th>\n",
       "      <th>f_seleccion_n46</th>\n",
       "      <th>f_seleccion_n47</th>\n",
       "      <th>f_seleccion_n48</th>\n",
       "      <th>f_seleccion_n49</th>\n",
       "    </tr>\n",
       "  </thead>\n",
       "  <tbody>\n",
       "    <tr>\n",
       "      <th>0</th>\n",
       "      <td>1</td>\n",
       "      <td>622</td>\n",
       "      <td>3.23</td>\n",
       "      <td>0.0</td>\n",
       "      <td>0.0</td>\n",
       "      <td>2.0</td>\n",
       "      <td>0.0</td>\n",
       "      <td>0.0</td>\n",
       "      <td>0.0</td>\n",
       "      <td>2.0</td>\n",
       "      <td>...</td>\n",
       "      <td>0.0</td>\n",
       "      <td>2.0</td>\n",
       "      <td>2.0</td>\n",
       "      <td>0.0</td>\n",
       "      <td>0.0</td>\n",
       "      <td>0.0</td>\n",
       "      <td>0.0</td>\n",
       "      <td>0.0</td>\n",
       "      <td>0.0</td>\n",
       "      <td>2.0</td>\n",
       "    </tr>\n",
       "    <tr>\n",
       "      <th>1</th>\n",
       "      <td>2</td>\n",
       "      <td>542</td>\n",
       "      <td>2.83</td>\n",
       "      <td>0.0</td>\n",
       "      <td>0.0</td>\n",
       "      <td>0.0</td>\n",
       "      <td>0.0</td>\n",
       "      <td>0.0</td>\n",
       "      <td>0.0</td>\n",
       "      <td>0.0</td>\n",
       "      <td>...</td>\n",
       "      <td>0.0</td>\n",
       "      <td>0.0</td>\n",
       "      <td>0.0</td>\n",
       "      <td>2.0</td>\n",
       "      <td>0.0</td>\n",
       "      <td>2.0</td>\n",
       "      <td>0.0</td>\n",
       "      <td>0.0</td>\n",
       "      <td>0.0</td>\n",
       "      <td>2.0</td>\n",
       "    </tr>\n",
       "    <tr>\n",
       "      <th>2</th>\n",
       "      <td>3</td>\n",
       "      <td>579</td>\n",
       "      <td>3.24</td>\n",
       "      <td>2.0</td>\n",
       "      <td>0.0</td>\n",
       "      <td>0.0</td>\n",
       "      <td>0.0</td>\n",
       "      <td>0.0</td>\n",
       "      <td>0.0</td>\n",
       "      <td>0.0</td>\n",
       "      <td>...</td>\n",
       "      <td>0.0</td>\n",
       "      <td>2.0</td>\n",
       "      <td>0.0</td>\n",
       "      <td>2.0</td>\n",
       "      <td>0.0</td>\n",
       "      <td>2.0</td>\n",
       "      <td>0.0</td>\n",
       "      <td>0.0</td>\n",
       "      <td>0.0</td>\n",
       "      <td>0.0</td>\n",
       "    </tr>\n",
       "    <tr>\n",
       "      <th>3</th>\n",
       "      <td>4</td>\n",
       "      <td>653</td>\n",
       "      <td>3.12</td>\n",
       "      <td>0.0</td>\n",
       "      <td>0.0</td>\n",
       "      <td>0.0</td>\n",
       "      <td>0.0</td>\n",
       "      <td>0.0</td>\n",
       "      <td>0.0</td>\n",
       "      <td>0.0</td>\n",
       "      <td>...</td>\n",
       "      <td>0.0</td>\n",
       "      <td>0.0</td>\n",
       "      <td>0.0</td>\n",
       "      <td>0.0</td>\n",
       "      <td>0.0</td>\n",
       "      <td>0.0</td>\n",
       "      <td>0.0</td>\n",
       "      <td>0.0</td>\n",
       "      <td>0.0</td>\n",
       "      <td>0.0</td>\n",
       "    </tr>\n",
       "    <tr>\n",
       "      <th>4</th>\n",
       "      <td>5</td>\n",
       "      <td>606</td>\n",
       "      <td>3.09</td>\n",
       "      <td>0.0</td>\n",
       "      <td>0.0</td>\n",
       "      <td>0.0</td>\n",
       "      <td>0.0</td>\n",
       "      <td>0.0</td>\n",
       "      <td>0.0</td>\n",
       "      <td>0.0</td>\n",
       "      <td>...</td>\n",
       "      <td>0.0</td>\n",
       "      <td>0.0</td>\n",
       "      <td>2.0</td>\n",
       "      <td>0.0</td>\n",
       "      <td>0.0</td>\n",
       "      <td>0.0</td>\n",
       "      <td>0.0</td>\n",
       "      <td>0.0</td>\n",
       "      <td>2.0</td>\n",
       "      <td>0.0</td>\n",
       "    </tr>\n",
       "    <tr>\n",
       "      <th>...</th>\n",
       "      <td>...</td>\n",
       "      <td>...</td>\n",
       "      <td>...</td>\n",
       "      <td>...</td>\n",
       "      <td>...</td>\n",
       "      <td>...</td>\n",
       "      <td>...</td>\n",
       "      <td>...</td>\n",
       "      <td>...</td>\n",
       "      <td>...</td>\n",
       "      <td>...</td>\n",
       "      <td>...</td>\n",
       "      <td>...</td>\n",
       "      <td>...</td>\n",
       "      <td>...</td>\n",
       "      <td>...</td>\n",
       "      <td>...</td>\n",
       "      <td>...</td>\n",
       "      <td>...</td>\n",
       "      <td>...</td>\n",
       "      <td>...</td>\n",
       "    </tr>\n",
       "    <tr>\n",
       "      <th>77</th>\n",
       "      <td>78</td>\n",
       "      <td>590</td>\n",
       "      <td>3.15</td>\n",
       "      <td>2.0</td>\n",
       "      <td>2.0</td>\n",
       "      <td>0.0</td>\n",
       "      <td>0.0</td>\n",
       "      <td>0.0</td>\n",
       "      <td>2.0</td>\n",
       "      <td>0.0</td>\n",
       "      <td>...</td>\n",
       "      <td>2.0</td>\n",
       "      <td>2.0</td>\n",
       "      <td>0.0</td>\n",
       "      <td>0.0</td>\n",
       "      <td>0.0</td>\n",
       "      <td>2.0</td>\n",
       "      <td>2.0</td>\n",
       "      <td>2.0</td>\n",
       "      <td>0.0</td>\n",
       "      <td>0.0</td>\n",
       "    </tr>\n",
       "    <tr>\n",
       "      <th>78</th>\n",
       "      <td>79</td>\n",
       "      <td>558</td>\n",
       "      <td>2.81</td>\n",
       "      <td>0.0</td>\n",
       "      <td>0.0</td>\n",
       "      <td>0.0</td>\n",
       "      <td>0.0</td>\n",
       "      <td>2.0</td>\n",
       "      <td>0.0</td>\n",
       "      <td>0.0</td>\n",
       "      <td>...</td>\n",
       "      <td>2.0</td>\n",
       "      <td>0.0</td>\n",
       "      <td>0.0</td>\n",
       "      <td>0.0</td>\n",
       "      <td>0.0</td>\n",
       "      <td>0.0</td>\n",
       "      <td>0.0</td>\n",
       "      <td>0.0</td>\n",
       "      <td>0.0</td>\n",
       "      <td>0.0</td>\n",
       "    </tr>\n",
       "    <tr>\n",
       "      <th>79</th>\n",
       "      <td>80</td>\n",
       "      <td>611</td>\n",
       "      <td>3.16</td>\n",
       "      <td>2.0</td>\n",
       "      <td>0.0</td>\n",
       "      <td>0.0</td>\n",
       "      <td>0.0</td>\n",
       "      <td>2.0</td>\n",
       "      <td>0.0</td>\n",
       "      <td>0.0</td>\n",
       "      <td>...</td>\n",
       "      <td>0.0</td>\n",
       "      <td>0.0</td>\n",
       "      <td>0.0</td>\n",
       "      <td>2.0</td>\n",
       "      <td>0.0</td>\n",
       "      <td>0.0</td>\n",
       "      <td>0.0</td>\n",
       "      <td>0.0</td>\n",
       "      <td>0.0</td>\n",
       "      <td>0.0</td>\n",
       "    </tr>\n",
       "    <tr>\n",
       "      <th>80</th>\n",
       "      <td>81</td>\n",
       "      <td>564</td>\n",
       "      <td>3.02</td>\n",
       "      <td>0.0</td>\n",
       "      <td>0.0</td>\n",
       "      <td>0.0</td>\n",
       "      <td>0.0</td>\n",
       "      <td>0.0</td>\n",
       "      <td>0.0</td>\n",
       "      <td>0.0</td>\n",
       "      <td>...</td>\n",
       "      <td>0.0</td>\n",
       "      <td>0.0</td>\n",
       "      <td>0.0</td>\n",
       "      <td>0.0</td>\n",
       "      <td>2.0</td>\n",
       "      <td>0.0</td>\n",
       "      <td>0.0</td>\n",
       "      <td>0.0</td>\n",
       "      <td>0.0</td>\n",
       "      <td>0.0</td>\n",
       "    </tr>\n",
       "    <tr>\n",
       "      <th>81</th>\n",
       "      <td>82</td>\n",
       "      <td>575</td>\n",
       "      <td>2.74</td>\n",
       "      <td>0.0</td>\n",
       "      <td>2.0</td>\n",
       "      <td>2.0</td>\n",
       "      <td>0.0</td>\n",
       "      <td>0.0</td>\n",
       "      <td>0.0</td>\n",
       "      <td>0.0</td>\n",
       "      <td>...</td>\n",
       "      <td>0.0</td>\n",
       "      <td>0.0</td>\n",
       "      <td>0.0</td>\n",
       "      <td>0.0</td>\n",
       "      <td>2.0</td>\n",
       "      <td>0.0</td>\n",
       "      <td>0.0</td>\n",
       "      <td>0.0</td>\n",
       "      <td>0.0</td>\n",
       "      <td>2.0</td>\n",
       "    </tr>\n",
       "  </tbody>\n",
       "</table>\n",
       "<p>82 rows × 53 columns</p>\n",
       "</div>"
      ],
      "text/plain": [
       "    escuela  LSAT   GPA  f_seleccion_n0  f_seleccion_n1  f_seleccion_n2  \\\n",
       "0         1   622  3.23             0.0             0.0             2.0   \n",
       "1         2   542  2.83             0.0             0.0             0.0   \n",
       "2         3   579  3.24             2.0             0.0             0.0   \n",
       "3         4   653  3.12             0.0             0.0             0.0   \n",
       "4         5   606  3.09             0.0             0.0             0.0   \n",
       "..      ...   ...   ...             ...             ...             ...   \n",
       "77       78   590  3.15             2.0             2.0             0.0   \n",
       "78       79   558  2.81             0.0             0.0             0.0   \n",
       "79       80   611  3.16             2.0             0.0             0.0   \n",
       "80       81   564  3.02             0.0             0.0             0.0   \n",
       "81       82   575  2.74             0.0             2.0             2.0   \n",
       "\n",
       "    f_seleccion_n3  f_seleccion_n4  f_seleccion_n5  f_seleccion_n6  ...  \\\n",
       "0              0.0             0.0             0.0             2.0  ...   \n",
       "1              0.0             0.0             0.0             0.0  ...   \n",
       "2              0.0             0.0             0.0             0.0  ...   \n",
       "3              0.0             0.0             0.0             0.0  ...   \n",
       "4              0.0             0.0             0.0             0.0  ...   \n",
       "..             ...             ...             ...             ...  ...   \n",
       "77             0.0             0.0             2.0             0.0  ...   \n",
       "78             0.0             2.0             0.0             0.0  ...   \n",
       "79             0.0             2.0             0.0             0.0  ...   \n",
       "80             0.0             0.0             0.0             0.0  ...   \n",
       "81             0.0             0.0             0.0             0.0  ...   \n",
       "\n",
       "    f_seleccion_n40  f_seleccion_n41  f_seleccion_n42  f_seleccion_n43  \\\n",
       "0               0.0              2.0              2.0              0.0   \n",
       "1               0.0              0.0              0.0              2.0   \n",
       "2               0.0              2.0              0.0              2.0   \n",
       "3               0.0              0.0              0.0              0.0   \n",
       "4               0.0              0.0              2.0              0.0   \n",
       "..              ...              ...              ...              ...   \n",
       "77              2.0              2.0              0.0              0.0   \n",
       "78              2.0              0.0              0.0              0.0   \n",
       "79              0.0              0.0              0.0              2.0   \n",
       "80              0.0              0.0              0.0              0.0   \n",
       "81              0.0              0.0              0.0              0.0   \n",
       "\n",
       "    f_seleccion_n44  f_seleccion_n45  f_seleccion_n46  f_seleccion_n47  \\\n",
       "0               0.0              0.0              0.0              0.0   \n",
       "1               0.0              2.0              0.0              0.0   \n",
       "2               0.0              2.0              0.0              0.0   \n",
       "3               0.0              0.0              0.0              0.0   \n",
       "4               0.0              0.0              0.0              0.0   \n",
       "..              ...              ...              ...              ...   \n",
       "77              0.0              2.0              2.0              2.0   \n",
       "78              0.0              0.0              0.0              0.0   \n",
       "79              0.0              0.0              0.0              0.0   \n",
       "80              2.0              0.0              0.0              0.0   \n",
       "81              2.0              0.0              0.0              0.0   \n",
       "\n",
       "    f_seleccion_n48  f_seleccion_n49  \n",
       "0               0.0              2.0  \n",
       "1               0.0              2.0  \n",
       "2               0.0              0.0  \n",
       "3               0.0              0.0  \n",
       "4               2.0              0.0  \n",
       "..              ...              ...  \n",
       "77              0.0              0.0  \n",
       "78              0.0              0.0  \n",
       "79              0.0              0.0  \n",
       "80              0.0              0.0  \n",
       "81              0.0              2.0  \n",
       "\n",
       "[82 rows x 53 columns]"
      ]
     },
     "execution_count": 27,
     "metadata": {},
     "output_type": "execute_result"
    }
   ],
   "source": [
    "bd_escuelas"
   ]
  },
  {
   "cell_type": "code",
   "execution_count": 28,
   "metadata": {},
   "outputs": [],
   "source": [
    "# Para la variable LSAT\n",
    "# De la población obtenemos la media y el error estandar \n",
    "\n",
    "media_poblacional_LSAT = np.mean(bd_escuelas['LSAT'])\n",
    "error_estandar_poblacional_LSAT = np.std(bd_escuelas['LSAT'])\n",
    "\n",
    "# De una muestra obtenemos la media de la muestra y el error estandar de la muestra \n",
    "media_muestral = np.mean(bd_escuelas.loc[bd_escuelas['f_seleccion_n0'] == 2, 'LSAT' ])\n",
    "error_estandar_muestral = np.std(bd_escuelas.loc[bd_escuelas['f_seleccion_n0'] == 2, 'LSAT' ])"
   ]
  },
  {
   "cell_type": "code",
   "execution_count": 29,
   "metadata": {},
   "outputs": [
    {
     "data": {
      "text/plain": [
       "597.5487804878048"
      ]
     },
     "execution_count": 29,
     "metadata": {},
     "output_type": "execute_result"
    }
   ],
   "source": [
    "media_poblacional_LSAT"
   ]
  },
  {
   "cell_type": "code",
   "execution_count": 30,
   "metadata": {},
   "outputs": [
    {
     "data": {
      "text/plain": [
       "38.25273860402562"
      ]
     },
     "execution_count": 30,
     "metadata": {},
     "output_type": "execute_result"
    }
   ],
   "source": [
    "error_estandar_poblacional_LSAT"
   ]
  },
  {
   "cell_type": "code",
   "execution_count": 31,
   "metadata": {},
   "outputs": [
    {
     "data": {
      "text/plain": [
       "array([599.047, 596.396, 599.604, ..., 598.357, 599.5  , 598.064])"
      ]
     },
     "execution_count": 31,
     "metadata": {},
     "output_type": "execute_result"
    }
   ],
   "source": [
    "bootstrap_medias = []\n",
    "\n",
    "# Ojo que aqui si podemos simular demasiadas muestras boostrap\n",
    "b = 1\n",
    "for b in range (10000):\n",
    "    bootstrap_muestra = np.random.choice(bd_escuelas['LSAT'], replace = True, size = 1000)\n",
    "    bootstrap_media = np.mean(bootstrap_muestra)\n",
    "    bootstrap_medias.append(bootstrap_media)\n",
    "    \n",
    "bootstrap_medias_np = np.array(bootstrap_medias)\n",
    "bootstrap_medias_np\n",
    "    "
   ]
  },
  {
   "cell_type": "code",
   "execution_count": 32,
   "metadata": {},
   "outputs": [
    {
     "data": {
      "text/plain": [
       "array([595.169975, 599.884025])"
      ]
     },
     "execution_count": 32,
     "metadata": {},
     "output_type": "execute_result"
    }
   ],
   "source": [
    "bootstrap_medias = np.mean(bootstrap_medias_np) # las medias bootstrap\n",
    "bootstrap_medias_np\n",
    "\n",
    "np.mean(bd_escuelas['LSAT'])# Llamamos a la media poblacional orignal\n",
    "\n",
    "boot_std_LSAT = np.std(bootstrap_medias_np) # Error estandar Bootstrap para la variable LSAT\n",
    "boot_std_LSAT\n",
    "\n",
    "np.percentile(bootstrap_medias_np, [2.5,97.5]) # 95% Intervalos de confianza "
   ]
  },
  {
   "cell_type": "code",
   "execution_count": 33,
   "metadata": {},
   "outputs": [
    {
     "data": {
      "text/plain": [
       "597.5442360999999"
      ]
     },
     "execution_count": 33,
     "metadata": {},
     "output_type": "execute_result"
    }
   ],
   "source": [
    "np.mean(bootstrap_medias_np) # Se acerca bastante a la media poblacional"
   ]
  },
  {
   "cell_type": "code",
   "execution_count": 34,
   "metadata": {},
   "outputs": [
    {
     "data": {
      "text/plain": [
       "1.2078489497270717"
      ]
     },
     "execution_count": 34,
     "metadata": {},
     "output_type": "execute_result"
    }
   ],
   "source": [
    "boot_std_LSAT #sin embargo no podemos decir lo mismo del error estandar el cual si se aleja bastante "
   ]
  },
  {
   "cell_type": "code",
   "execution_count": 35,
   "metadata": {},
   "outputs": [
    {
     "data": {
      "text/plain": [
       "array([595.169975, 599.884025])"
      ]
     },
     "execution_count": 35,
     "metadata": {},
     "output_type": "execute_result"
    }
   ],
   "source": [
    "np.percentile(bootstrap_medias_np, [2.5,97.5]) # 95% Intervalos de confianza "
   ]
  },
  {
   "cell_type": "code",
   "execution_count": 36,
   "metadata": {
    "scrolled": true
   },
   "outputs": [
    {
     "data": {
      "image/png": "[encoded data removed]",
      "text/plain": [
       "<Figure size 576x360 with 1 Axes>"
      ]
     },
     "metadata": {
      "needs_background": "light"
     },
     "output_type": "display_data"
    }
   ],
   "source": [
    "#plt.hist(bootstrap_medias_np, alpha = 1)\n",
    "#plt.axvline(np.percentile(bootstrap_medias_np,2.5),color = 'red',linewidth=2)\n",
    "#plt.axvline(np.percentile(bootstrap_medias_np,97.5),color = 'red',linewidth=2)\n",
    "fig, ax=subplots(figsize=(8,5))\n",
    "hist(bootstrap_medias_np,density=True,bins=20,edgecolor=\"w\",color=\"cadetblue\",alpha=0.9)\n",
    "ax.xaxis.set_tick_params(labelsize=18,labelcolor=\"black\")\n",
    "ax.yaxis.set_tick_params(labelsize=18,labelcolor=\"black\")\n",
    "axvline(mean(bootstrap_medias_np),linestyle=\"--\",color=\"black\",linewidth=2.5,alpha=0.6,\n",
    "        label=\"3.81\")\n",
    "legend()\n",
    "show()"
   ]
  },
  {
   "cell_type": "code",
   "execution_count": 38,
   "metadata": {},
   "outputs": [],
   "source": [
    "# Ahora repetimos el mismo proceso para la variable GPA\n",
    "\n",
    "# Para la variable GPA\n",
    "# De la población obtenemos la media y el error estandar \n",
    "media_poblacional_GPA = np.mean(bd_escuelas['GPA'])\n",
    "error_estandar_poblacional_GPA = np.std(bd_escuelas['GPA'])\n",
    "\n",
    "# De una muestra obtenemos la media de la muestra y el error estandar de la muestra \n",
    "media_muestral = np.mean(bd_escuelas.loc[bd_escuelas['f_seleccion_n0'] == 2, 'GPA' ])\n",
    "error_estandar_muestral = np.std(bd_escuelas.loc[bd_escuelas['f_seleccion_n0'] == 2, 'GPA' ])"
   ]
  },
  {
   "cell_type": "code",
   "execution_count": 39,
   "metadata": {},
   "outputs": [
    {
     "data": {
      "text/plain": [
       "array([3.12358, 3.13855, 3.14241, ..., 3.14147, 3.13568, 3.13801])"
      ]
     },
     "execution_count": 39,
     "metadata": {},
     "output_type": "execute_result"
    }
   ],
   "source": [
    "bootstrap_medias_2 = []\n",
    "\n",
    "# Ojo que aqui si podemos simular demasiadas muestras boostrap\n",
    "b = 1\n",
    "for b in range (10000):\n",
    "    bootstrap_muestra = np.random.choice(bd_escuelas['GPA'], replace = True, size = 1000)\n",
    "    bootstrap_media = np.mean(bootstrap_muestra)\n",
    "    bootstrap_medias_2.append(bootstrap_media)\n",
    "    \n",
    "bootstrap_medias_np_2 = np.array(bootstrap_medias_2)\n",
    "bootstrap_medias_np_2"
   ]
  },
  {
   "cell_type": "code",
   "execution_count": 40,
   "metadata": {},
   "outputs": [
    {
     "data": {
      "text/plain": [
       "array([3.12312   , 3.14669025])"
      ]
     },
     "execution_count": 40,
     "metadata": {},
     "output_type": "execute_result"
    }
   ],
   "source": [
    "bootstrap_medias_2 = np.mean(bootstrap_medias_np_2) # las medias bootstrap\n",
    "bootstrap_medias_np_2\n",
    "\n",
    "np.mean(bd_escuelas['GPA'])# Llamamos a la media poblacional orignal\n",
    "\n",
    "boot_std_GPA = np.std(bootstrap_medias_np_2) # Error estandar Bootstrap para la varaible GPA\n",
    "boot_std_GPA\n",
    "\n",
    "np.percentile(bootstrap_medias_np_2, [2.5,97.5]) # 95% Intervalos de confianza "
   ]
  },
  {
   "cell_type": "code",
   "execution_count": 41,
   "metadata": {
    "scrolled": true
   },
   "outputs": [
    {
     "data": {
      "image/png": "[encoded data removed]",
      "text/plain": [
       "<Figure size 576x360 with 1 Axes>"
      ]
     },
     "metadata": {
      "needs_background": "light"
     },
     "output_type": "display_data"
    }
   ],
   "source": [
    "#plt.hist(bootstrap_medias_np_2, alpha = 1)\n",
    "#plt.axvline(np.percentile(bootstrap_medias_np_2,2.5),color = 'red',linewidth=2)\n",
    "#plt.axvline(np.percentile(bootstrap_medias_np_2,97.5),color = 'red',linewidth=2)\n",
    "\n",
    "fig, ax=subplots(figsize=(8,5))\n",
    "hist(bootstrap_medias_np_2,density=True,bins=20,edgecolor=\"w\",color=\"cadetblue\",alpha=0.9)\n",
    "ax.xaxis.set_tick_params(labelsize=18,labelcolor=\"black\")\n",
    "ax.yaxis.set_tick_params(labelsize=18,labelcolor=\"black\")\n",
    "axvline(mean(bootstrap_medias_np_2),linestyle=\"--\",color=\"black\",linewidth=2.5,alpha=0.6,\n",
    "        label=\"3.81\")\n",
    "legend()\n",
    "show()"
   ]
  },
  {
   "cell_type": "code",
   "execution_count": 42,
   "metadata": {},
   "outputs": [
    {
     "data": {
      "text/plain": [
       "3.1348780487804877"
      ]
     },
     "execution_count": 42,
     "metadata": {},
     "output_type": "execute_result"
    }
   ],
   "source": [
    "media_poblacional_GPA"
   ]
  },
  {
   "cell_type": "code",
   "execution_count": 43,
   "metadata": {},
   "outputs": [
    {
     "data": {
      "text/plain": [
       "0.18833833011714504"
      ]
     },
     "execution_count": 43,
     "metadata": {},
     "output_type": "execute_result"
    }
   ],
   "source": [
    "error_estandar_poblacional_GPA"
   ]
  },
  {
   "cell_type": "code",
   "execution_count": 44,
   "metadata": {},
   "outputs": [
    {
     "data": {
      "text/plain": [
       "3.134882275"
      ]
     },
     "execution_count": 44,
     "metadata": {},
     "output_type": "execute_result"
    }
   ],
   "source": [
    "np.mean(bootstrap_medias_np_2) # Se acerca bastante a la media poblacional nuevamente "
   ]
  },
  {
   "cell_type": "code",
   "execution_count": 45,
   "metadata": {},
   "outputs": [
    {
     "data": {
      "text/plain": [
       "0.005981194035840587"
      ]
     },
     "execution_count": 45,
     "metadata": {},
     "output_type": "execute_result"
    }
   ],
   "source": [
    "boot_std_GPA # nuevamente el error estandar si se desvia del original por bastante "
   ]
  },
  {
   "cell_type": "markdown",
   "metadata": {},
   "source": [
    "## Análisis \n",
    "\n",
    "Despues de ejecutar las pruebas boostrap se vio reflejada una media parecida en ambas variables, la media se acerca mucho a la orignal el ambas variables, sin embargo el error estandar en ambas variables difiere un tanto significativo con respecto al error estandar de las dos poblaciones (LSAT, GPA) "
   ]
  },
  {
   "cell_type": "markdown",
   "metadata": {},
   "source": [
    "# Problema 3: \n",
    "\n",
    "Calcular el error estándar de las betas del modelo lineal, les expliqué la idea de este problema."
   ]
  },
  {
   "cell_type": "code",
   "execution_count": 5,
   "metadata": {},
   "outputs": [
    {
     "data": {
      "text/html": [
       "<div>\n",
       "<style scoped>\n",
       "    .dataframe tbody tr th:only-of-type {\n",
       "        vertical-align: middle;\n",
       "    }\n",
       "\n",
       "    .dataframe tbody tr th {\n",
       "        vertical-align: top;\n",
       "    }\n",
       "\n",
       "    .dataframe thead th {\n",
       "        text-align: right;\n",
       "    }\n",
       "</style>\n",
       "<table border=\"1\" class=\"dataframe\">\n",
       "  <thead>\n",
       "    <tr style=\"text-align: right;\">\n",
       "      <th></th>\n",
       "      <th>lote</th>\n",
       "      <th>horas</th>\n",
       "      <th>monto</th>\n",
       "    </tr>\n",
       "  </thead>\n",
       "  <tbody>\n",
       "    <tr>\n",
       "      <th>0</th>\n",
       "      <td>A</td>\n",
       "      <td>99</td>\n",
       "      <td>25.8</td>\n",
       "    </tr>\n",
       "    <tr>\n",
       "      <th>1</th>\n",
       "      <td>A</td>\n",
       "      <td>152</td>\n",
       "      <td>20.5</td>\n",
       "    </tr>\n",
       "    <tr>\n",
       "      <th>2</th>\n",
       "      <td>A</td>\n",
       "      <td>293</td>\n",
       "      <td>14.3</td>\n",
       "    </tr>\n",
       "    <tr>\n",
       "      <th>3</th>\n",
       "      <td>A</td>\n",
       "      <td>155</td>\n",
       "      <td>23.2</td>\n",
       "    </tr>\n",
       "    <tr>\n",
       "      <th>4</th>\n",
       "      <td>A</td>\n",
       "      <td>196</td>\n",
       "      <td>20.6</td>\n",
       "    </tr>\n",
       "    <tr>\n",
       "      <th>5</th>\n",
       "      <td>A</td>\n",
       "      <td>53</td>\n",
       "      <td>31.1</td>\n",
       "    </tr>\n",
       "    <tr>\n",
       "      <th>6</th>\n",
       "      <td>A</td>\n",
       "      <td>184</td>\n",
       "      <td>20.9</td>\n",
       "    </tr>\n",
       "    <tr>\n",
       "      <th>7</th>\n",
       "      <td>A</td>\n",
       "      <td>171</td>\n",
       "      <td>20.9</td>\n",
       "    </tr>\n",
       "    <tr>\n",
       "      <th>8</th>\n",
       "      <td>A</td>\n",
       "      <td>52</td>\n",
       "      <td>30.4</td>\n",
       "    </tr>\n",
       "    <tr>\n",
       "      <th>9</th>\n",
       "      <td>B</td>\n",
       "      <td>376</td>\n",
       "      <td>16.3</td>\n",
       "    </tr>\n",
       "    <tr>\n",
       "      <th>10</th>\n",
       "      <td>B</td>\n",
       "      <td>385</td>\n",
       "      <td>11.6</td>\n",
       "    </tr>\n",
       "    <tr>\n",
       "      <th>11</th>\n",
       "      <td>B</td>\n",
       "      <td>402</td>\n",
       "      <td>11.8</td>\n",
       "    </tr>\n",
       "    <tr>\n",
       "      <th>12</th>\n",
       "      <td>B</td>\n",
       "      <td>29</td>\n",
       "      <td>32.5</td>\n",
       "    </tr>\n",
       "    <tr>\n",
       "      <th>13</th>\n",
       "      <td>B</td>\n",
       "      <td>76</td>\n",
       "      <td>32.0</td>\n",
       "    </tr>\n",
       "    <tr>\n",
       "      <th>14</th>\n",
       "      <td>B</td>\n",
       "      <td>296</td>\n",
       "      <td>18.0</td>\n",
       "    </tr>\n",
       "    <tr>\n",
       "      <th>15</th>\n",
       "      <td>B</td>\n",
       "      <td>151</td>\n",
       "      <td>24.1</td>\n",
       "    </tr>\n",
       "    <tr>\n",
       "      <th>16</th>\n",
       "      <td>B</td>\n",
       "      <td>177</td>\n",
       "      <td>26.5</td>\n",
       "    </tr>\n",
       "    <tr>\n",
       "      <th>17</th>\n",
       "      <td>B</td>\n",
       "      <td>209</td>\n",
       "      <td>25.8</td>\n",
       "    </tr>\n",
       "    <tr>\n",
       "      <th>18</th>\n",
       "      <td>C</td>\n",
       "      <td>119</td>\n",
       "      <td>28.8</td>\n",
       "    </tr>\n",
       "    <tr>\n",
       "      <th>19</th>\n",
       "      <td>C</td>\n",
       "      <td>188</td>\n",
       "      <td>22.0</td>\n",
       "    </tr>\n",
       "    <tr>\n",
       "      <th>20</th>\n",
       "      <td>C</td>\n",
       "      <td>115</td>\n",
       "      <td>29.7</td>\n",
       "    </tr>\n",
       "    <tr>\n",
       "      <th>21</th>\n",
       "      <td>C</td>\n",
       "      <td>88</td>\n",
       "      <td>28.9</td>\n",
       "    </tr>\n",
       "    <tr>\n",
       "      <th>22</th>\n",
       "      <td>C</td>\n",
       "      <td>58</td>\n",
       "      <td>32.8</td>\n",
       "    </tr>\n",
       "    <tr>\n",
       "      <th>23</th>\n",
       "      <td>C</td>\n",
       "      <td>49</td>\n",
       "      <td>32.5</td>\n",
       "    </tr>\n",
       "    <tr>\n",
       "      <th>24</th>\n",
       "      <td>C</td>\n",
       "      <td>150</td>\n",
       "      <td>25.4</td>\n",
       "    </tr>\n",
       "    <tr>\n",
       "      <th>25</th>\n",
       "      <td>C</td>\n",
       "      <td>107</td>\n",
       "      <td>31.7</td>\n",
       "    </tr>\n",
       "    <tr>\n",
       "      <th>26</th>\n",
       "      <td>C</td>\n",
       "      <td>125</td>\n",
       "      <td>28.5</td>\n",
       "    </tr>\n",
       "  </tbody>\n",
       "</table>\n",
       "</div>"
      ],
      "text/plain": [
       "   lote  horas  monto\n",
       "0     A     99   25.8\n",
       "1     A    152   20.5\n",
       "2     A    293   14.3\n",
       "3     A    155   23.2\n",
       "4     A    196   20.6\n",
       "5     A     53   31.1\n",
       "6     A    184   20.9\n",
       "7     A    171   20.9\n",
       "8     A     52   30.4\n",
       "9     B    376   16.3\n",
       "10    B    385   11.6\n",
       "11    B    402   11.8\n",
       "12    B     29   32.5\n",
       "13    B     76   32.0\n",
       "14    B    296   18.0\n",
       "15    B    151   24.1\n",
       "16    B    177   26.5\n",
       "17    B    209   25.8\n",
       "18    C    119   28.8\n",
       "19    C    188   22.0\n",
       "20    C    115   29.7\n",
       "21    C     88   28.9\n",
       "22    C     58   32.8\n",
       "23    C     49   32.5\n",
       "24    C    150   25.4\n",
       "25    C    107   31.7\n",
       "26    C    125   28.5"
      ]
     },
     "execution_count": 5,
     "metadata": {},
     "output_type": "execute_result"
    }
   ],
   "source": [
    "bd = \"lineal_horm.xlsx\"\n",
    "bd_horm=pd.read_excel(ruta+bd)\n",
    "bd_horm"
   ]
  },
  {
   "cell_type": "code",
   "execution_count": 6,
   "metadata": {},
   "outputs": [],
   "source": [
    "from sklearn import linear_model"
   ]
  },
  {
   "cell_type": "code",
   "execution_count": 7,
   "metadata": {},
   "outputs": [],
   "source": [
    "reg = linear_model.LinearRegression()"
   ]
  },
  {
   "cell_type": "code",
   "execution_count": 8,
   "metadata": {},
   "outputs": [],
   "source": [
    "X = bd_horm[[\"horas\"]]\n",
    "y = bd_horm[[\"monto\"]]"
   ]
  },
  {
   "cell_type": "code",
   "execution_count": 9,
   "metadata": {},
   "outputs": [
    {
     "data": {
      "text/plain": [
       "LinearRegression()"
      ]
     },
     "execution_count": 9,
     "metadata": {},
     "output_type": "execute_result"
    }
   ],
   "source": [
    "reg.fit(X, y)"
   ]
  },
  {
   "cell_type": "code",
   "execution_count": 10,
   "metadata": {},
   "outputs": [
    {
     "data": {
      "text/plain": [
       "array([[-0.0574463]])"
      ]
     },
     "execution_count": 10,
     "metadata": {},
     "output_type": "execute_result"
    }
   ],
   "source": [
    "reg.coef_"
   ]
  },
  {
   "cell_type": "code",
   "execution_count": 11,
   "metadata": {},
   "outputs": [
    {
     "data": {
      "text/plain": [
       "array([34.16752817])"
      ]
     },
     "execution_count": 11,
     "metadata": {},
     "output_type": "execute_result"
    }
   ],
   "source": [
    "reg.intercept_"
   ]
  },
  {
   "cell_type": "code",
   "execution_count": 12,
   "metadata": {},
   "outputs": [
    {
     "data": {
      "text/plain": [
       "array([[28.4803446 ],\n",
       "       [25.43569077],\n",
       "       [17.33576266],\n",
       "       [25.26335188],\n",
       "       [22.90805363],\n",
       "       [31.12287434],\n",
       "       [23.59740921],\n",
       "       [24.3442111 ],\n",
       "       [31.18032064],\n",
       "       [12.56771986],\n",
       "       [12.05070318],\n",
       "       [11.0741161 ],\n",
       "       [32.50158551],\n",
       "       [29.80160947],\n",
       "       [17.16342376],\n",
       "       [25.49313707],\n",
       "       [23.9995333 ],\n",
       "       [22.16125175],\n",
       "       [27.33141863],\n",
       "       [23.36762402],\n",
       "       [27.56120382],\n",
       "       [29.11225389],\n",
       "       [30.83564285],\n",
       "       [31.35265954],\n",
       "       [25.55058337],\n",
       "       [28.02077421],\n",
       "       [26.98674084]])"
      ]
     },
     "execution_count": 12,
     "metadata": {},
     "output_type": "execute_result"
    }
   ],
   "source": [
    "Y_pred = reg.predict(X) \n",
    "Y_pred"
   ]
  },
  {
   "cell_type": "code",
   "execution_count": 13,
   "metadata": {},
   "outputs": [
    {
     "data": {
      "text/plain": [
       "array([28.4803446 , 25.43569077, 17.33576266, 25.26335188, 22.90805363,\n",
       "       31.12287434, 23.59740921, 24.3442111 , 31.18032064, 12.56771986,\n",
       "       12.05070318, 11.0741161 , 32.50158551, 29.80160947, 17.16342376,\n",
       "       25.49313707, 23.9995333 , 22.16125175, 27.33141863, 23.36762402,\n",
       "       27.56120382, 29.11225389, 30.83564285, 31.35265954, 25.55058337,\n",
       "       28.02077421, 26.98674084])"
      ]
     },
     "execution_count": 13,
     "metadata": {},
     "output_type": "execute_result"
    }
   ],
   "source": [
    "y_estim=Y_pred.reshape(-1)\n",
    "y_estim"
   ]
  },
  {
   "cell_type": "code",
   "execution_count": 14,
   "metadata": {},
   "outputs": [
    {
     "data": {
      "text/plain": [
       "array([ 99, 152, 293, 155, 196,  53, 184, 171,  52, 376, 385, 402,  29,\n",
       "        76, 296, 151, 177, 209, 119, 188, 115,  88,  58,  49, 150, 107,\n",
       "       125], dtype=int64)"
      ]
     },
     "execution_count": 14,
     "metadata": {},
     "output_type": "execute_result"
    }
   ],
   "source": [
    "x=X.to_numpy().reshape(-1)\n",
    "x"
   ]
  },
  {
   "cell_type": "code",
   "execution_count": 15,
   "metadata": {},
   "outputs": [
    {
     "data": {
      "text/plain": [
       "array([25.8, 20.5, 14.3, 23.2, 20.6, 31.1, 20.9, 20.9, 30.4, 16.3, 11.6,\n",
       "       11.8, 32.5, 32. , 18. , 24.1, 26.5, 25.8, 28.8, 22. , 29.7, 28.9,\n",
       "       32.8, 32.5, 25.4, 31.7, 28.5])"
      ]
     },
     "execution_count": 15,
     "metadata": {},
     "output_type": "execute_result"
    }
   ],
   "source": [
    "y_real=y.to_numpy()\n",
    "y_real=y_real.reshape(-1)\n",
    "y_real\n",
    "n=len(y_real)\n",
    "y_real"
   ]
  },
  {
   "cell_type": "code",
   "execution_count": 16,
   "metadata": {},
   "outputs": [
    {
     "data": {
      "text/plain": [
       "array([-2.68034460e+00, -4.93569077e+00, -3.03576266e+00, -2.06335188e+00,\n",
       "       -2.30805363e+00, -2.28743430e-02, -2.69740921e+00, -3.44421110e+00,\n",
       "       -7.80320642e-01,  3.73228014e+00, -4.50703175e-01,  7.25883902e-01,\n",
       "       -1.58551177e-03,  2.19839053e+00,  8.36576241e-01, -1.39313707e+00,\n",
       "        2.50046670e+00,  3.63874825e+00,  1.46858137e+00, -1.36762402e+00,\n",
       "        2.13879618e+00, -2.12253889e-01,  1.96435715e+00,  1.14734046e+00,\n",
       "       -1.50583369e-01,  3.67922579e+00,  1.51325916e+00])"
      ]
     },
     "execution_count": 16,
     "metadata": {},
     "output_type": "execute_result"
    }
   ],
   "source": [
    "residual=y_real-y_estim\n",
    "residual"
   ]
  },
  {
   "cell_type": "markdown",
   "metadata": {},
   "source": [
    "Podemos obtener el error estándar del estimador de la siguiente manera\n",
    "$$\n",
    "\\begin{equation}\n",
    "\\hat{se}_{\\beta}=\\sqrt{\\frac{\\sum_{i} \\epsilon_{i}^{2}}{(n-2)\\sum_{i}(x-\\bar{x})^{2}}}\n",
    "\\end{equation}\n",
    "$$"
   ]
  },
  {
   "cell_type": "code",
   "execution_count": 17,
   "metadata": {},
   "outputs": [
    {
     "data": {
      "text/plain": [
       "0.004295652626358282"
      ]
     },
     "execution_count": 17,
     "metadata": {},
     "output_type": "execute_result"
    }
   ],
   "source": [
    "den=sum((x-np.mean(x))**2)\n",
    "num=sum(residual**2)/(n)\n",
    "err_reg=np.sqrt(num/den)\n",
    "err_reg"
   ]
  },
  {
   "cell_type": "code",
   "execution_count": 18,
   "metadata": {},
   "outputs": [
    {
     "data": {
      "text/plain": [
       "0.0044641731603115384"
      ]
     },
     "execution_count": 18,
     "metadata": {},
     "output_type": "execute_result"
    }
   ],
   "source": [
    "den=sum((x-np.mean(x))**2)\n",
    "num=sum(residual**2)/(n-2)\n",
    "err=np.sqrt(num/den)\n",
    "err"
   ]
  },
  {
   "cell_type": "code",
   "execution_count": 19,
   "metadata": {
    "scrolled": false
   },
   "outputs": [
    {
     "data": {
      "image/png": "[encoded data removed]",
      "text/plain": [
       "<Figure size 648x432 with 1 Axes>"
      ]
     },
     "metadata": {
      "needs_background": "light"
     },
     "output_type": "display_data"
    }
   ],
   "source": [
    "fig, ax = plt.subplots(figsize=(9,6))\n",
    "plt.scatter(X, y,s=30)\n",
    "plt.plot(X, Y_pred, color='red')\n",
    "xlabel(\"Horas\",size=14)\n",
    "ylabel(\"Monto\",size=14)\n",
    "xticks(fontsize=16)\n",
    "yticks(fontsize=16)\n",
    "show()"
   ]
  },
  {
   "cell_type": "code",
   "execution_count": 20,
   "metadata": {},
   "outputs": [],
   "source": [
    "#Calculemos el error estandar de las estimaciones de los parámetros haciendo bootstrap sobre los residuales"
   ]
  },
  {
   "cell_type": "code",
   "execution_count": 21,
   "metadata": {},
   "outputs": [
    {
     "data": {
      "text/html": [
       "<div>\n",
       "<style scoped>\n",
       "    .dataframe tbody tr th:only-of-type {\n",
       "        vertical-align: middle;\n",
       "    }\n",
       "\n",
       "    .dataframe tbody tr th {\n",
       "        vertical-align: top;\n",
       "    }\n",
       "\n",
       "    .dataframe thead th {\n",
       "        text-align: right;\n",
       "    }\n",
       "</style>\n",
       "<table border=\"1\" class=\"dataframe\">\n",
       "  <thead>\n",
       "    <tr style=\"text-align: right;\">\n",
       "      <th></th>\n",
       "      <th>residual</th>\n",
       "      <th>x</th>\n",
       "    </tr>\n",
       "  </thead>\n",
       "  <tbody>\n",
       "    <tr>\n",
       "      <th>0</th>\n",
       "      <td>-2.680345</td>\n",
       "      <td>99</td>\n",
       "    </tr>\n",
       "    <tr>\n",
       "      <th>1</th>\n",
       "      <td>-4.935691</td>\n",
       "      <td>152</td>\n",
       "    </tr>\n",
       "    <tr>\n",
       "      <th>2</th>\n",
       "      <td>-3.035763</td>\n",
       "      <td>293</td>\n",
       "    </tr>\n",
       "    <tr>\n",
       "      <th>3</th>\n",
       "      <td>-2.063352</td>\n",
       "      <td>155</td>\n",
       "    </tr>\n",
       "    <tr>\n",
       "      <th>4</th>\n",
       "      <td>-2.308054</td>\n",
       "      <td>196</td>\n",
       "    </tr>\n",
       "    <tr>\n",
       "      <th>5</th>\n",
       "      <td>-0.022874</td>\n",
       "      <td>53</td>\n",
       "    </tr>\n",
       "    <tr>\n",
       "      <th>6</th>\n",
       "      <td>-2.697409</td>\n",
       "      <td>184</td>\n",
       "    </tr>\n",
       "    <tr>\n",
       "      <th>7</th>\n",
       "      <td>-3.444211</td>\n",
       "      <td>171</td>\n",
       "    </tr>\n",
       "    <tr>\n",
       "      <th>8</th>\n",
       "      <td>-0.780321</td>\n",
       "      <td>52</td>\n",
       "    </tr>\n",
       "    <tr>\n",
       "      <th>9</th>\n",
       "      <td>3.732280</td>\n",
       "      <td>376</td>\n",
       "    </tr>\n",
       "    <tr>\n",
       "      <th>10</th>\n",
       "      <td>-0.450703</td>\n",
       "      <td>385</td>\n",
       "    </tr>\n",
       "    <tr>\n",
       "      <th>11</th>\n",
       "      <td>0.725884</td>\n",
       "      <td>402</td>\n",
       "    </tr>\n",
       "    <tr>\n",
       "      <th>12</th>\n",
       "      <td>-0.001586</td>\n",
       "      <td>29</td>\n",
       "    </tr>\n",
       "    <tr>\n",
       "      <th>13</th>\n",
       "      <td>2.198391</td>\n",
       "      <td>76</td>\n",
       "    </tr>\n",
       "    <tr>\n",
       "      <th>14</th>\n",
       "      <td>0.836576</td>\n",
       "      <td>296</td>\n",
       "    </tr>\n",
       "    <tr>\n",
       "      <th>15</th>\n",
       "      <td>-1.393137</td>\n",
       "      <td>151</td>\n",
       "    </tr>\n",
       "    <tr>\n",
       "      <th>16</th>\n",
       "      <td>2.500467</td>\n",
       "      <td>177</td>\n",
       "    </tr>\n",
       "    <tr>\n",
       "      <th>17</th>\n",
       "      <td>3.638748</td>\n",
       "      <td>209</td>\n",
       "    </tr>\n",
       "    <tr>\n",
       "      <th>18</th>\n",
       "      <td>1.468581</td>\n",
       "      <td>119</td>\n",
       "    </tr>\n",
       "    <tr>\n",
       "      <th>19</th>\n",
       "      <td>-1.367624</td>\n",
       "      <td>188</td>\n",
       "    </tr>\n",
       "    <tr>\n",
       "      <th>20</th>\n",
       "      <td>2.138796</td>\n",
       "      <td>115</td>\n",
       "    </tr>\n",
       "    <tr>\n",
       "      <th>21</th>\n",
       "      <td>-0.212254</td>\n",
       "      <td>88</td>\n",
       "    </tr>\n",
       "    <tr>\n",
       "      <th>22</th>\n",
       "      <td>1.964357</td>\n",
       "      <td>58</td>\n",
       "    </tr>\n",
       "    <tr>\n",
       "      <th>23</th>\n",
       "      <td>1.147340</td>\n",
       "      <td>49</td>\n",
       "    </tr>\n",
       "    <tr>\n",
       "      <th>24</th>\n",
       "      <td>-0.150583</td>\n",
       "      <td>150</td>\n",
       "    </tr>\n",
       "    <tr>\n",
       "      <th>25</th>\n",
       "      <td>3.679226</td>\n",
       "      <td>107</td>\n",
       "    </tr>\n",
       "    <tr>\n",
       "      <th>26</th>\n",
       "      <td>1.513259</td>\n",
       "      <td>125</td>\n",
       "    </tr>\n",
       "  </tbody>\n",
       "</table>\n",
       "</div>"
      ],
      "text/plain": [
       "    residual    x\n",
       "0  -2.680345   99\n",
       "1  -4.935691  152\n",
       "2  -3.035763  293\n",
       "3  -2.063352  155\n",
       "4  -2.308054  196\n",
       "5  -0.022874   53\n",
       "6  -2.697409  184\n",
       "7  -3.444211  171\n",
       "8  -0.780321   52\n",
       "9   3.732280  376\n",
       "10 -0.450703  385\n",
       "11  0.725884  402\n",
       "12 -0.001586   29\n",
       "13  2.198391   76\n",
       "14  0.836576  296\n",
       "15 -1.393137  151\n",
       "16  2.500467  177\n",
       "17  3.638748  209\n",
       "18  1.468581  119\n",
       "19 -1.367624  188\n",
       "20  2.138796  115\n",
       "21 -0.212254   88\n",
       "22  1.964357   58\n",
       "23  1.147340   49\n",
       "24 -0.150583  150\n",
       "25  3.679226  107\n",
       "26  1.513259  125"
      ]
     },
     "execution_count": 21,
     "metadata": {},
     "output_type": "execute_result"
    }
   ],
   "source": [
    "df = pd.DataFrame(residual,\n",
    "                 columns=['residual'])\n",
    "df[\"x\"]=x\n",
    "df"
   ]
  },
  {
   "cell_type": "code",
   "execution_count": 22,
   "metadata": {},
   "outputs": [
    {
     "data": {
      "text/html": [
       "<div>\n",
       "<style scoped>\n",
       "    .dataframe tbody tr th:only-of-type {\n",
       "        vertical-align: middle;\n",
       "    }\n",
       "\n",
       "    .dataframe tbody tr th {\n",
       "        vertical-align: top;\n",
       "    }\n",
       "\n",
       "    .dataframe thead th {\n",
       "        text-align: right;\n",
       "    }\n",
       "</style>\n",
       "<table border=\"1\" class=\"dataframe\">\n",
       "  <thead>\n",
       "    <tr style=\"text-align: right;\">\n",
       "      <th></th>\n",
       "      <th>residual</th>\n",
       "      <th>x</th>\n",
       "    </tr>\n",
       "  </thead>\n",
       "  <tbody>\n",
       "    <tr>\n",
       "      <th>0</th>\n",
       "      <td>-0.450703</td>\n",
       "      <td>385</td>\n",
       "    </tr>\n",
       "    <tr>\n",
       "      <th>1</th>\n",
       "      <td>-0.212254</td>\n",
       "      <td>88</td>\n",
       "    </tr>\n",
       "    <tr>\n",
       "      <th>2</th>\n",
       "      <td>0.836576</td>\n",
       "      <td>296</td>\n",
       "    </tr>\n",
       "    <tr>\n",
       "      <th>3</th>\n",
       "      <td>-2.308054</td>\n",
       "      <td>196</td>\n",
       "    </tr>\n",
       "    <tr>\n",
       "      <th>4</th>\n",
       "      <td>-2.308054</td>\n",
       "      <td>196</td>\n",
       "    </tr>\n",
       "    <tr>\n",
       "      <th>5</th>\n",
       "      <td>-2.680345</td>\n",
       "      <td>99</td>\n",
       "    </tr>\n",
       "    <tr>\n",
       "      <th>6</th>\n",
       "      <td>-3.035763</td>\n",
       "      <td>293</td>\n",
       "    </tr>\n",
       "    <tr>\n",
       "      <th>7</th>\n",
       "      <td>-3.444211</td>\n",
       "      <td>171</td>\n",
       "    </tr>\n",
       "    <tr>\n",
       "      <th>8</th>\n",
       "      <td>-3.444211</td>\n",
       "      <td>171</td>\n",
       "    </tr>\n",
       "    <tr>\n",
       "      <th>9</th>\n",
       "      <td>-3.444211</td>\n",
       "      <td>171</td>\n",
       "    </tr>\n",
       "    <tr>\n",
       "      <th>10</th>\n",
       "      <td>-3.444211</td>\n",
       "      <td>171</td>\n",
       "    </tr>\n",
       "    <tr>\n",
       "      <th>11</th>\n",
       "      <td>-0.150583</td>\n",
       "      <td>150</td>\n",
       "    </tr>\n",
       "    <tr>\n",
       "      <th>12</th>\n",
       "      <td>3.638748</td>\n",
       "      <td>209</td>\n",
       "    </tr>\n",
       "    <tr>\n",
       "      <th>13</th>\n",
       "      <td>3.638748</td>\n",
       "      <td>209</td>\n",
       "    </tr>\n",
       "    <tr>\n",
       "      <th>14</th>\n",
       "      <td>3.638748</td>\n",
       "      <td>209</td>\n",
       "    </tr>\n",
       "    <tr>\n",
       "      <th>15</th>\n",
       "      <td>1.513259</td>\n",
       "      <td>125</td>\n",
       "    </tr>\n",
       "    <tr>\n",
       "      <th>16</th>\n",
       "      <td>-0.001586</td>\n",
       "      <td>29</td>\n",
       "    </tr>\n",
       "    <tr>\n",
       "      <th>17</th>\n",
       "      <td>3.679226</td>\n",
       "      <td>107</td>\n",
       "    </tr>\n",
       "    <tr>\n",
       "      <th>18</th>\n",
       "      <td>-0.780321</td>\n",
       "      <td>52</td>\n",
       "    </tr>\n",
       "    <tr>\n",
       "      <th>19</th>\n",
       "      <td>0.725884</td>\n",
       "      <td>402</td>\n",
       "    </tr>\n",
       "    <tr>\n",
       "      <th>20</th>\n",
       "      <td>0.725884</td>\n",
       "      <td>402</td>\n",
       "    </tr>\n",
       "    <tr>\n",
       "      <th>21</th>\n",
       "      <td>2.138796</td>\n",
       "      <td>115</td>\n",
       "    </tr>\n",
       "    <tr>\n",
       "      <th>22</th>\n",
       "      <td>1.964357</td>\n",
       "      <td>58</td>\n",
       "    </tr>\n",
       "    <tr>\n",
       "      <th>23</th>\n",
       "      <td>1.964357</td>\n",
       "      <td>58</td>\n",
       "    </tr>\n",
       "    <tr>\n",
       "      <th>24</th>\n",
       "      <td>-1.393137</td>\n",
       "      <td>151</td>\n",
       "    </tr>\n",
       "    <tr>\n",
       "      <th>25</th>\n",
       "      <td>2.500467</td>\n",
       "      <td>177</td>\n",
       "    </tr>\n",
       "    <tr>\n",
       "      <th>26</th>\n",
       "      <td>1.468581</td>\n",
       "      <td>119</td>\n",
       "    </tr>\n",
       "  </tbody>\n",
       "</table>\n",
       "</div>"
      ],
      "text/plain": [
       "    residual    x\n",
       "0  -0.450703  385\n",
       "1  -0.212254   88\n",
       "2   0.836576  296\n",
       "3  -2.308054  196\n",
       "4  -2.308054  196\n",
       "5  -2.680345   99\n",
       "6  -3.035763  293\n",
       "7  -3.444211  171\n",
       "8  -3.444211  171\n",
       "9  -3.444211  171\n",
       "10 -3.444211  171\n",
       "11 -0.150583  150\n",
       "12  3.638748  209\n",
       "13  3.638748  209\n",
       "14  3.638748  209\n",
       "15  1.513259  125\n",
       "16 -0.001586   29\n",
       "17  3.679226  107\n",
       "18 -0.780321   52\n",
       "19  0.725884  402\n",
       "20  0.725884  402\n",
       "21  2.138796  115\n",
       "22  1.964357   58\n",
       "23  1.964357   58\n",
       "24 -1.393137  151\n",
       "25  2.500467  177\n",
       "26  1.468581  119"
      ]
     },
     "execution_count": 22,
     "metadata": {},
     "output_type": "execute_result"
    }
   ],
   "source": [
    "r_i=np.random.choice(residual,len(residual),replace=True)\n",
    "df_aux = pd.DataFrame(r_i,\n",
    "                 columns=['residual'])\n",
    "df_aux=pd.merge(df_aux, df, how=\"inner\", on=[\"residual\"])\n",
    "df_aux"
   ]
  },
  {
   "cell_type": "code",
   "execution_count": 23,
   "metadata": {},
   "outputs": [
    {
     "data": {
      "text/plain": [
       "0.004598029889189415"
      ]
     },
     "execution_count": 23,
     "metadata": {},
     "output_type": "execute_result"
    }
   ],
   "source": [
    "x_j=df_aux[[\"x\"]].to_numpy().reshape(-1)\n",
    "den=sum((x_j-np.mean(x_j))**2)\n",
    "num=sum(r_i**2)/(n)\n",
    "err=np.sqrt(num/den)\n",
    "err"
   ]
  },
  {
   "cell_type": "code",
   "execution_count": 24,
   "metadata": {},
   "outputs": [],
   "source": [
    "simul=1000\n",
    "res_boost= np.array( [ ])\n",
    "for i in range(0,simul):\n",
    "    r_i=np.random.choice(residual,len(residual),replace=True)\n",
    "    df_aux = pd.DataFrame(r_i,\n",
    "                 columns=['residual'])\n",
    "    df_aux=pd.merge(df_aux, df, how=\"inner\", on=[\"residual\"])\n",
    "    df_aux\n",
    "    x_i=df_aux[[\"x\"]].to_numpy().reshape(-1)\n",
    "    den=sum((x_i-np.mean(x_i))**2)\n",
    "    num=sum(r_i**2)/(n)\n",
    "    err=np.sqrt(num/den)\n",
    "    res_boost = np.append(res_boost,err)"
   ]
  },
  {
   "cell_type": "code",
   "execution_count": 25,
   "metadata": {
    "scrolled": false
   },
   "outputs": [],
   "source": [
    "#res_boost"
   ]
  },
  {
   "cell_type": "code",
   "execution_count": 26,
   "metadata": {},
   "outputs": [
    {
     "data": {
      "image/png": "[encoded data removed]",
      "text/plain": [
       "<Figure size 648x432 with 1 Axes>"
      ]
     },
     "metadata": {
      "needs_background": "light"
     },
     "output_type": "display_data"
    },
    {
     "name": "stdout",
     "output_type": "stream",
     "text": [
      "Error Estándar sin Bootsrap: 0.004295652626358282\n",
      "Promedio de Error Estándar de la muestras Bootstrap: 0.004502892210748172\n",
      "Promedio de Error Estándar de la muestras Bootstrap: 0.004502892210748172\n",
      "( 0.003076118260693777 , 0.006698013828298562 )\n"
     ]
    }
   ],
   "source": [
    "fig, ax = plt.subplots(figsize=(9,6))\n",
    "hist(res_boost,bins=50,alpha=0.5,edgecolor=\"white\",label=\"Error estándar Boostrap\")\n",
    "axvline(x=err_reg,color='green', linestyle='--',linewidth=3,label=\"Error Estándar de b_1 con regresión$\")\n",
    "axvline(x=np.mean(res_boost),color='black', linestyle='--',linewidth=3,label=\"Promedio error estándar de b_1 con  Boostrap$\")\n",
    "\n",
    "axvline(percentile(res_boost,2.5),color=\"blue\",linestyle=\"--\",linewidth=2)                                                                                                                                                    \n",
    "axvline(percentile(res_boost,97.5),color=\"blue\",linestyle=\"--\",linewidth=2) \n",
    "show()\n",
    "print(\"Error Estándar sin Bootsrap:\", err_reg)\n",
    "print(\"Promedio de Error Estándar de la muestras Bootstrap:\", np.mean(res_boost))\n",
    "print(\"Promedio de Error Estándar de la muestras Bootstrap:\", np.mean(res_boost))\n",
    "print(\"(\", percentile(res_boost,2.5),\",\",percentile(res_boost,97.5),\")\")"
   ]
  },
  {
   "cell_type": "markdown",
   "metadata": {},
   "source": [
    "## Calculo del error estándar de las betas del modelo lineal"
   ]
  },
  {
   "cell_type": "markdown",
   "metadata": {},
   "source": [
    "Hacemos un bootstrap sobre la variable de respuesta $ y $ de forma que en cada iteración se generará un modelo lineal y en cada iteración se calculara el error estandar de ese modelo y se comparará con el que hizo el profesor arriba, ¿Cual tiene mejor presición?, ¿Cual se ve mejor?, ¿Que ganamos al hacer eso?, entonces procedemos a hacer 1000 modelos con las $ y $ remuestreadas "
   ]
  },
  {
   "cell_type": "code",
   "execution_count": 27,
   "metadata": {},
   "outputs": [],
   "source": [
    "# Primero remuestreamos las y\n",
    "\n",
    "multiples_regresiones = linear_model.LinearRegression()\n",
    "regresiones_y = []\n",
    "\n",
    "#Con la y remuestreadas podremos hacer multiples modelos de regresion lineal\n",
    "\n",
    "simulaciones = 10000\n",
    "for i in range(0,simulaciones):\n",
    "    nueva_y = np.random.choice(bd_horm['monto'] ,len(bd_horm), replace=True)\n",
    "    regresiones_y.append([nueva_y])\n",
    "\n",
    "#Estas son las y's\n",
    "# cada array son 27 nuevas y's para un modelo diferente \n",
    "# Quitar el asterisco de regresiones_y para ver las 10,000 muestras b\n",
    "# regresiones_y"
   ]
  },
  {
   "cell_type": "code",
   "execution_count": 28,
   "metadata": {},
   "outputs": [
    {
     "data": {
      "text/plain": [
       "array([28.8, 25.8, 28.5, 31.1, 20.9, 32.5, 31.7, 30.4, 32.5, 30.4, 20.5,\n",
       "       22. , 32.5, 25.8, 20.9, 31.7, 14.3, 25.4, 22. , 11.8, 24.1, 29.7,\n",
       "       32.5, 20.9, 18. , 20.9, 28.8])"
      ]
     },
     "execution_count": 28,
     "metadata": {},
     "output_type": "execute_result"
    }
   ],
   "source": [
    "# Por ejemplo si queremos acceder a la 5 hacemos esto\n",
    "\n",
    "regresiones_y[4][0]"
   ]
  },
  {
   "cell_type": "code",
   "execution_count": 29,
   "metadata": {},
   "outputs": [],
   "source": [
    "# Ahora lo que haremos será que para cada 27 y's que nosotros simulamos obtendremos 1 modelo por lo que\n",
    "# podremos obtener un gran número de modelos \n",
    "\n",
    "las_regresiones = []\n",
    "las_betas = []\n",
    "\n",
    "for i in range(0,simulaciones):\n",
    "    multiples_regresiones.fit(X,regresiones_y[i][0]) # es una lista indexada no un array\n",
    "    las_regresiones.append(multiples_regresiones) # pasamos las regresiones a un array\n",
    "    las_betas.append(multiples_regresiones.coef_) #pasamos las betas a un array \n",
    "    \n",
    "las_regresiones \n",
    "final = np.array(las_regresiones) # pasamos las regresiones a un array \n",
    "\n",
    "# Observese obtendremos un array con todas las regresiones lineales \n",
    "# quitar el asterisco de final para ver las 10,000 regresiones lineales\n",
    "# final"
   ]
  },
  {
   "cell_type": "code",
   "execution_count": 31,
   "metadata": {},
   "outputs": [
    {
     "data": {
      "text/plain": [
       "array([-0.01001191,  0.00808938,  0.00336796, ..., -0.00322807,\n",
       "        0.0096613 ,  0.00274497])"
      ]
     },
     "execution_count": 31,
     "metadata": {},
     "output_type": "execute_result"
    }
   ],
   "source": [
    "# Se podría decir que todas las betas que simulamos estan en una lista y va a ser dificil acceder\n",
    "# a ella por lo que pasamos la lista a un array donde fucionamos todos los array's en uno solo\n",
    "# de modo que tengamos un solo array con todas las betas \n",
    "\n",
    "new_betas = np.concatenate(las_betas, axis=0 )\n",
    "new_betas "
   ]
  },
  {
   "cell_type": "code",
   "execution_count": 32,
   "metadata": {},
   "outputs": [
    {
     "data": {
      "text/plain": [
       "22.79522840411026"
      ]
     },
     "execution_count": 32,
     "metadata": {},
     "output_type": "execute_result"
    }
   ],
   "source": [
    "multiples_regresiones.intercept_"
   ]
  },
  {
   "cell_type": "code",
   "execution_count": 37,
   "metadata": {},
   "outputs": [],
   "source": [
    "Y_pred_2 = []\n",
    "\n",
    "for i in range(0,simulaciones):\n",
    "    Y_predictions = multiples_regresiones.predict(X)\n",
    "    Y_pred_2.append(Y_predictions)\n",
    "\n",
    "# Y_pred_2 quitar el asterisco para ver las 10,000"
   ]
  },
  {
   "cell_type": "code",
   "execution_count": 38,
   "metadata": {},
   "outputs": [],
   "source": [
    "y_real_2 = regresiones_y\n",
    "m = len(y_real_2)\n",
    "# y_real_2 uitar el asterisco para ver las 10,000"
   ]
  },
  {
   "cell_type": "code",
   "execution_count": 44,
   "metadata": {},
   "outputs": [],
   "source": [
    "Y_pred_2 = multiples_regresiones.predict(X)"
   ]
  },
  {
   "cell_type": "code",
   "execution_count": 45,
   "metadata": {},
   "outputs": [
    {
     "data": {
      "text/plain": [
       "array([23.06698025, 23.21246356, 23.59950407, 23.22069847, 23.33324216,\n",
       "       22.94071172, 23.30030254, 23.26461796, 22.93796675, 23.82733643,\n",
       "       23.85204114, 23.8987056 , 22.87483248, 23.00384598, 23.60773898,\n",
       "       23.20971859, 23.28108777, 23.36892675, 23.12187961, 23.31128242,\n",
       "       23.11089974, 23.0367856 , 22.95443656, 22.92973184, 23.20697363,\n",
       "       23.08894   , 23.13834942])"
      ]
     },
     "execution_count": 45,
     "metadata": {},
     "output_type": "execute_result"
    }
   ],
   "source": [
    "y_estim_2 = Y_pred_2.reshape(-1)\n",
    "y_estim_2"
   ]
  },
  {
   "cell_type": "code",
   "execution_count": 46,
   "metadata": {},
   "outputs": [
    {
     "data": {
      "text/plain": [
       "array([[  2.33301975,   5.68753644,   0.50049593, ...,  -6.90697363,\n",
       "         -2.18894   ,   8.86165058],\n",
       "       [  0.13301975,  -1.21246356,  -1.59950407, ...,   5.59302637,\n",
       "         -2.48894   ,  -8.83834942],\n",
       "       [  2.73301975,   0.88753644,   4.90049593, ...,   8.49302637,\n",
       "         -2.18894   ,   2.66165058],\n",
       "       ...,\n",
       "       [  8.63301975, -11.41246356,  -9.29950407, ...,  -6.90697363,\n",
       "          2.31106   ,  -2.23834942],\n",
       "       [ -1.06698025,  -2.31246356,   9.20049593, ...,  -2.60697363,\n",
       "          3.41106   ,  -6.83834942],\n",
       "       [  9.43301975, -11.41246356,   8.10049593, ...,   8.79302637,\n",
       "          8.61106   ,  -2.23834942]])"
      ]
     },
     "execution_count": 46,
     "metadata": {},
     "output_type": "execute_result"
    }
   ],
   "source": [
    "residuales = y_real_2 - y_estim_2\n",
    "new_residuales = np.concatenate(residuales, axis=0 )\n",
    "new_residuales"
   ]
  },
  {
   "cell_type": "code",
   "execution_count": 47,
   "metadata": {},
   "outputs": [],
   "source": [
    "# Ahora podemos sacarel error estandar de cada modelo "
   ]
  },
  {
   "cell_type": "markdown",
   "metadata": {},
   "source": [
    "Podemos obtener el error estándar del estimador de la siguiente manera \n",
    "\\\n",
    "\\\n",
    "\\\n",
    "$$\n",
    "\\begin{equation}\n",
    "\\hat{se}_{\\beta}=\\sqrt{\\frac{\\sum_{i} \\epsilon_{i}^{2}}{(n-2)\\sum_{i}(x-\\bar{x})^{2}}}\n",
    "\\end{equation}\n",
    "$$"
   ]
  },
  {
   "cell_type": "code",
   "execution_count": 48,
   "metadata": {},
   "outputs": [
    {
     "data": {
      "text/plain": [
       "1.2194747392594179"
      ]
     },
     "execution_count": 48,
     "metadata": {},
     "output_type": "execute_result"
    }
   ],
   "source": [
    "den=sum((x-np.mean(x))**2)\n",
    "num=sum(new_residuales**2)/(n)\n",
    "err_reg=np.sqrt(num/den)\n",
    "err_reg"
   ]
  },
  {
   "cell_type": "code",
   "execution_count": 49,
   "metadata": {},
   "outputs": [
    {
     "data": {
      "text/plain": [
       "1.2673153241664725"
      ]
     },
     "execution_count": 49,
     "metadata": {},
     "output_type": "execute_result"
    }
   ],
   "source": [
    "den=sum((x-np.mean(x))**2)\n",
    "num=sum(new_residuales**2)/(n-2)\n",
    "err=np.sqrt(num/den)\n",
    "err"
   ]
  },
  {
   "cell_type": "markdown",
   "metadata": {},
   "source": [
    "## Histograma de las betas "
   ]
  },
  {
   "cell_type": "code",
   "execution_count": 50,
   "metadata": {},
   "outputs": [
    {
     "name": "stdout",
     "output_type": "stream",
     "text": [
      "( -0.02410071460788183 , 0.022887458067880687 )\n"
     ]
    },
    {
     "data": {
      "image/png": "[encoded data removed]",
      "text/plain": [
       "<Figure size 576x360 with 1 Axes>"
      ]
     },
     "metadata": {
      "needs_background": "light"
     },
     "output_type": "display_data"
    }
   ],
   "source": [
    "    fig, ax=subplots(figsize=(8,5))\n",
    "    plt.hist(new_betas, bins=100, alpha=0.5)\n",
    "    ax.xaxis.set_tick_params(labelsize=18,labelcolor=\"black\")\n",
    "    ax.yaxis.set_tick_params(labelsize=18,labelcolor=\"black\")\n",
    "    axvline(mean(new_betas),linestyle=\"--\",color=\"black\",linewidth=2.5,alpha=0.6,\n",
    "            label=\"3.81\")\n",
    "    axvline(percentile(new_betas,2.5),color=\"blue\",linestyle=\"--\",linewidth=2)                                                                                                                                                    \n",
    "    axvline(percentile(new_betas,97.5),color=\"blue\",linestyle=\"--\",linewidth=2) \n",
    "    print(\"(\", percentile(new_betas,2.5),\",\",percentile(new_betas,97.5),\")\")\n",
    "    legend()\n",
    "    show()"
   ]
  },
  {
   "cell_type": "markdown",
   "metadata": {},
   "source": [
    "Las betas siguen un comportamiento normal como era esperado,y nuestros intervalos de confianza son\n",
    "cercanos, esto debido a que un calculo en la expresion de las betas de las muestras bootstrap nos permiete darnos cuenta que el estimador bootstrap del error estandar de las betas es el mismo que el estimador usual, de tal manera que estamos comprobando que el proceso bootstrap nos esta dando respuestas rasonables con lo que tenemos en la teoría normal sin bootstrap."
   ]
  }
 ],
 "metadata": {
  "kernelspec": {
   "display_name": "Python 3",
   "language": "python",
   "name": "python3"
  },
  "language_info": {
   "codemirror_mode": {
    "name": "ipython",
    "version": 3
   },
   "file_extension": ".py",
   "mimetype": "text/x-python",
   "name": "python",
   "nbconvert_exporter": "python",
   "pygments_lexer": "ipython3",
   "version": "3.8.8"
  }
 },
 "nbformat": 4,
 "nbformat_minor": 4
}
